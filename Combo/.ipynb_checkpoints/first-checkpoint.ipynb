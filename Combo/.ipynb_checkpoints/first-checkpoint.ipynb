{
 "cells": [
  {
   "cell_type": "markdown",
   "metadata": {
    "toc": true
   },
   "source": [
    "<h1>Table of Contents<span class=\"tocSkip\"></span></h1>\n",
    "<div class=\"toc\"><ul class=\"toc-item\"></ul></div>"
   ]
  },
  {
   "cell_type": "code",
   "execution_count": 1,
   "metadata": {},
   "outputs": [],
   "source": [
    "## load libz\n",
    "%run \"../../Utilz/load_envz.ipynb\"\n",
    "\n",
    "DATA_DIR = \"C:/Users/wairimu/Google Drive/xRepos/datasets\"\n",
    "\n",
    "sns.set_palette( \"husl\", 3)"
   ]
  },
  {
   "cell_type": "code",
   "execution_count": 2,
   "metadata": {},
   "outputs": [
    {
     "data": {
      "text/plain": [
       "array([1], dtype=int32)"
      ]
     },
     "execution_count": 2,
     "metadata": {},
     "output_type": "execute_result"
    }
   ],
   "source": [
    "%load_ext rpy2.ipython \n",
    "%R require(ggplot2); require(tidyr); require(dplyr) \n"
   ]
  },
  {
   "cell_type": "code",
   "execution_count": 3,
   "metadata": {},
   "outputs": [],
   "source": [
    "db = pd.read_csv( \"%s/KNBS_et_al/county-outpatient-morbidity-for-patients-below-5-years-of-age-in-2013-detailed.csv\" % DATA_DIR)"
   ]
  },
  {
   "cell_type": "code",
   "execution_count": 25,
   "metadata": {},
   "outputs": [
    {
     "data": {
      "text/html": [
       "<div>\n",
       "<style>\n",
       "    .dataframe thead tr:only-child th {\n",
       "        text-align: right;\n",
       "    }\n",
       "\n",
       "    .dataframe thead th {\n",
       "        text-align: left;\n",
       "    }\n",
       "\n",
       "    .dataframe tbody tr th {\n",
       "        vertical-align: top;\n",
       "    }\n",
       "</style>\n",
       "<table border=\"1\" class=\"dataframe\">\n",
       "  <thead>\n",
       "    <tr style=\"text-align: right;\">\n",
       "      <th></th>\n",
       "      <th>0</th>\n",
       "      <th>1</th>\n",
       "    </tr>\n",
       "  </thead>\n",
       "  <tbody>\n",
       "    <tr>\n",
       "      <th>County</th>\n",
       "      <td>Baringo</td>\n",
       "      <td>Bomet</td>\n",
       "    </tr>\n",
       "    <tr>\n",
       "      <th>Accidents - Fractures, injuries,etc.</th>\n",
       "      <td>1876</td>\n",
       "      <td>1483</td>\n",
       "    </tr>\n",
       "    <tr>\n",
       "      <th>All Others diseases</th>\n",
       "      <td>13945</td>\n",
       "      <td>51421</td>\n",
       "    </tr>\n",
       "    <tr>\n",
       "      <th>Aneamia</th>\n",
       "      <td>202</td>\n",
       "      <td>138</td>\n",
       "    </tr>\n",
       "    <tr>\n",
       "      <th>Bilharzia</th>\n",
       "      <td>25</td>\n",
       "      <td>6</td>\n",
       "    </tr>\n",
       "    <tr>\n",
       "      <th>Bites - Animal, Snake, etc</th>\n",
       "      <td>465</td>\n",
       "      <td>417</td>\n",
       "    </tr>\n",
       "    <tr>\n",
       "      <th>Brucellosis</th>\n",
       "      <td>16</td>\n",
       "      <td>67</td>\n",
       "    </tr>\n",
       "    <tr>\n",
       "      <th>Burns</th>\n",
       "      <td>1586</td>\n",
       "      <td>1704</td>\n",
       "    </tr>\n",
       "    <tr>\n",
       "      <th>Chicken Pox</th>\n",
       "      <td>864</td>\n",
       "      <td>1188</td>\n",
       "    </tr>\n",
       "    <tr>\n",
       "      <th>Clinical Malaria</th>\n",
       "      <td>41281</td>\n",
       "      <td>28194</td>\n",
       "    </tr>\n",
       "    <tr>\n",
       "      <th>Confirmed Malaria</th>\n",
       "      <td>7630</td>\n",
       "      <td>1583</td>\n",
       "    </tr>\n",
       "    <tr>\n",
       "      <th>Congenital Anomalies</th>\n",
       "      <td>120</td>\n",
       "      <td>24</td>\n",
       "    </tr>\n",
       "    <tr>\n",
       "      <th>Dental Disorders</th>\n",
       "      <td>252</td>\n",
       "      <td>443</td>\n",
       "    </tr>\n",
       "    <tr>\n",
       "      <th>Diabetes</th>\n",
       "      <td>1</td>\n",
       "      <td>18</td>\n",
       "    </tr>\n",
       "    <tr>\n",
       "      <th>Diarrhoea</th>\n",
       "      <td>24056</td>\n",
       "      <td>28708</td>\n",
       "    </tr>\n",
       "    <tr>\n",
       "      <th>Dis. of the skin (incl. wounds)</th>\n",
       "      <td>12300</td>\n",
       "      <td>26029</td>\n",
       "    </tr>\n",
       "    <tr>\n",
       "      <th>Dysentery</th>\n",
       "      <td>132</td>\n",
       "      <td>28</td>\n",
       "    </tr>\n",
       "    <tr>\n",
       "      <th>Ear Infections</th>\n",
       "      <td>3012</td>\n",
       "      <td>4015</td>\n",
       "    </tr>\n",
       "    <tr>\n",
       "      <th>Epilepsy</th>\n",
       "      <td>53</td>\n",
       "      <td>39</td>\n",
       "    </tr>\n",
       "    <tr>\n",
       "      <th>Eye Infections</th>\n",
       "      <td>4846</td>\n",
       "      <td>4232</td>\n",
       "    </tr>\n",
       "    <tr>\n",
       "      <th>Intestinal worms</th>\n",
       "      <td>3313</td>\n",
       "      <td>7565</td>\n",
       "    </tr>\n",
       "    <tr>\n",
       "      <th>Malnutrition</th>\n",
       "      <td>421</td>\n",
       "      <td>203</td>\n",
       "    </tr>\n",
       "    <tr>\n",
       "      <th>Measles</th>\n",
       "      <td>9</td>\n",
       "      <td>22</td>\n",
       "    </tr>\n",
       "    <tr>\n",
       "      <th>Mental Disorders</th>\n",
       "      <td>72</td>\n",
       "      <td>39</td>\n",
       "    </tr>\n",
       "    <tr>\n",
       "      <th>Mumps</th>\n",
       "      <td>1648</td>\n",
       "      <td>821</td>\n",
       "    </tr>\n",
       "    <tr>\n",
       "      <th>Other Dis. of Respiratory System</th>\n",
       "      <td>127177</td>\n",
       "      <td>151270</td>\n",
       "    </tr>\n",
       "    <tr>\n",
       "      <th>Pneumonia</th>\n",
       "      <td>7219</td>\n",
       "      <td>4966</td>\n",
       "    </tr>\n",
       "    <tr>\n",
       "      <th>Poisoning</th>\n",
       "      <td>137</td>\n",
       "      <td>72</td>\n",
       "    </tr>\n",
       "    <tr>\n",
       "      <th>Reporting rates (%)</th>\n",
       "      <td>85.5</td>\n",
       "      <td>84.7</td>\n",
       "    </tr>\n",
       "    <tr>\n",
       "      <th>Sexual Assault</th>\n",
       "      <td>74</td>\n",
       "      <td>46</td>\n",
       "    </tr>\n",
       "    <tr>\n",
       "      <th>Tuberculosis</th>\n",
       "      <td>30</td>\n",
       "      <td>25</td>\n",
       "    </tr>\n",
       "    <tr>\n",
       "      <th>Typhoid fever</th>\n",
       "      <td>88</td>\n",
       "      <td>184</td>\n",
       "    </tr>\n",
       "    <tr>\n",
       "      <th>Urinary Tract Infection</th>\n",
       "      <td>538</td>\n",
       "      <td>473</td>\n",
       "    </tr>\n",
       "    <tr>\n",
       "      <th>Is_Measles_Sever</th>\n",
       "      <td>0</td>\n",
       "      <td>0</td>\n",
       "    </tr>\n",
       "  </tbody>\n",
       "</table>\n",
       "</div>"
      ],
      "text/plain": [
       "                                            0       1\n",
       "County                                Baringo   Bomet\n",
       "Accidents - Fractures, injuries,etc.     1876    1483\n",
       "All Others diseases                     13945   51421\n",
       "Aneamia                                   202     138\n",
       "Bilharzia                                  25       6\n",
       "Bites - Animal, Snake, etc                465     417\n",
       "Brucellosis                                16      67\n",
       "Burns                                    1586    1704\n",
       "Chicken Pox                               864    1188\n",
       "Clinical Malaria                        41281   28194\n",
       "Confirmed Malaria                        7630    1583\n",
       "Congenital Anomalies                      120      24\n",
       "Dental Disorders                          252     443\n",
       "Diabetes                                    1      18\n",
       "Diarrhoea                               24056   28708\n",
       "Dis. of the skin (incl. wounds)         12300   26029\n",
       "Dysentery                                 132      28\n",
       "Ear Infections                           3012    4015\n",
       "Epilepsy                                   53      39\n",
       "Eye Infections                           4846    4232\n",
       "Intestinal worms                         3313    7565\n",
       "Malnutrition                              421     203\n",
       "Measles                                     9      22\n",
       "Mental Disorders                           72      39\n",
       "Mumps                                    1648     821\n",
       "Other Dis. of Respiratory System       127177  151270\n",
       "Pneumonia                                7219    4966\n",
       "Poisoning                                 137      72\n",
       "Reporting rates (%)                      85.5    84.7\n",
       "Sexual Assault                             74      46\n",
       "Tuberculosis                               30      25\n",
       "Typhoid fever                              88     184\n",
       "Urinary Tract Infection                   538     473\n",
       "Is_Measles_Sever                            0       0"
      ]
     },
     "execution_count": 25,
     "metadata": {},
     "output_type": "execute_result"
    }
   ],
   "source": [
    "db[\"Is_Measles_Sever\"] = np.where( db[\"Measles\"] > 100, 1, 0)\n",
    "## glimpse like view \n",
    "db[:2].T.head(50)"
   ]
  },
  {
   "cell_type": "code",
   "execution_count": 26,
   "metadata": {},
   "outputs": [
    {
     "data": {
      "image/png": "[encoded data removed]"
     },
     "metadata": {},
     "output_type": "display_data"
    }
   ],
   "source": [
    "%%R -i db\n",
    "\n",
    "ggplot( data=db)+geom_point(aes(x=`County`, y=`Is_Measles_Sever`))"
   ]
  },
  {
   "cell_type": "code",
   "execution_count": 66,
   "metadata": {},
   "outputs": [
    {
     "data": {
      "image/png": "[encoded data removed]"
     },
     "metadata": {},
     "output_type": "display_data"
    }
   ],
   "source": [
    "%%R -i db -o m1\n",
    "\n",
    "m1 = summary( lm( `Is_Measles_Sever` ~ `Pneumonia`,data=db) )\n",
    "\n",
    "c1 = coef( lm( `Pneumonia`~ `Tuberculosis`, data=db))\n",
    "par(mfrow=c(2,2))\n",
    "plot(c1)\n",
    "#plot( m1)"
   ]
  },
  {
   "cell_type": "code",
   "execution_count": 63,
   "metadata": {},
   "outputs": [
    {
     "name": "stdout",
     "output_type": "stream",
     "text": [
      "\n",
      "\r\n",
      "Call:\n",
      "\r\n",
      "lm(formula = Is_Measles_Sever ~ Pneumonia, data = db)\n",
      "\r\n",
      "\n",
      "\r\n",
      "Residuals:\n",
      "\r\n",
      "    Min      1Q  Median      3Q     Max \n",
      "\r\n",
      "-0.6792 -0.3767 -0.2476  0.5212  0.6949 \n",
      "\r\n",
      "\n",
      "\r\n",
      "Coefficients:\n",
      "\r\n",
      "             Estimate Std. Error t value Pr(>|t|)   \n",
      "\r\n",
      "(Intercept) 1.766e-01  1.260e-01   1.401  0.16797   \n",
      "\r\n",
      "Pneumonia   2.495e-05  9.035e-06   2.762  0.00829 **\n",
      "\r\n",
      "---\n",
      "\r\n",
      "Signif. codes:  0 '***' 0.001 '**' 0.01 '*' 0.05 '.' 0.1 ' ' 1\n",
      "\r\n",
      "\n",
      "\r\n",
      "Residual standard error: 0.4715 on 45 degrees of freedom\n",
      "\r\n",
      "Multiple R-squared:  0.1449,\tAdjusted R-squared:  0.1259 \n",
      "\r\n",
      "F-statistic: 7.628 on 1 and 45 DF,  p-value: 0.008292\n",
      "\r\n",
      "\n",
      "\n"
     ]
    }
   ],
   "source": [
    "print( m1 )"
   ]
  },
  {
   "cell_type": "code",
   "execution_count": 39,
   "metadata": {},
   "outputs": [],
   "source": [
    "import statsmodels.formula.api as smf\n",
    "import statsmodels.api as sm"
   ]
  },
  {
   "cell_type": "code",
   "execution_count": 45,
   "metadata": {},
   "outputs": [
    {
     "name": "stdout",
     "output_type": "stream",
     "text": [
      "<statsmodels.genmod.generalized_linear_model.GLMResultsWrapper object at 0x000001722E172B70>\n",
      " \n",
      "\n",
      "\n",
      "\n",
      "                 Generalized Linear Model Regression Results                  \n",
      "==============================================================================\n",
      "Dep. Variable:       Is_Measles_Sever   No. Observations:                   47\n",
      "Model:                            GLM   Df Residuals:                       45\n",
      "Model Family:                Gaussian   Df Model:                            1\n",
      "Link Function:               identity   Scale:                  0.222356207225\n",
      "Method:                          IRLS   Log-Likelihood:                -30.337\n",
      "Date:                Sun, 08 Apr 2018   Deviance:                       10.006\n",
      "Time:                        13:48:44   Pearson chi2:                     10.0\n",
      "No. Iterations:                     2                                         \n",
      "==============================================================================\n",
      "                 coef    std err          z      P>|z|      [0.025      0.975]\n",
      "------------------------------------------------------------------------------\n",
      "Intercept      0.1766      0.126      1.401      0.161      -0.070       0.423\n",
      "Pneumonia   2.495e-05   9.03e-06      2.762      0.006    7.24e-06    4.27e-05\n",
      "==============================================================================\n",
      " \n",
      "\n",
      "\n",
      "\n",
      "Intercept    0.161112\n",
      "Pneumonia    0.005747\n",
      "dtype: float64\n",
      " \n",
      "\n",
      "\n",
      "\n",
      "Dependent variables\n",
      "Is_Measles_Sever\n",
      " \n",
      "\n",
      "\n",
      "\n",
      "Intercept    0.176553\n",
      "Pneumonia    0.000025\n",
      "dtype: float64\n"
     ]
    }
   ],
   "source": [
    "m2 = smf.glm( \"Is_Measles_Sever ~ Pneumonia\", data = db).fit()\n",
    "print( m2 )\n",
    "print(\" \\n\\n\\n\")\n",
    "print( m2.summary())\n",
    "print(\" \\n\\n\\n\")\n",
    "print( m2.pvalues )\n",
    "print(\" \\n\\n\\n\")\n",
    "print(\"Dependent variables\")\n",
    "print(m2.model.endog_names)\n",
    "print(\" \\n\\n\\n\")\n",
    "print( m2.params )"
   ]
  },
  {
   "cell_type": "code",
   "execution_count": 54,
   "metadata": {},
   "outputs": [
    {
     "name": "stdout",
     "output_type": "stream",
     "text": [
      "\n",
      "\n",
      " PREDICTIONS \n",
      "[['Baringo' 0.357]\n",
      " ['Bomet' 0.3]\n",
      " ['Bungoma' 0.692]\n",
      " ['Busia' 0.482]\n",
      " ['Elgeyo-Marakwet' 0.37]\n",
      " ['Embu' 0.653]\n",
      " ['Garissa' 0.439]\n",
      " ['Homa Bay' 0.415]\n",
      " ['Isiolo' 0.24]\n",
      " ['Kajiado' 0.68]\n",
      " ['Kakamega' 0.692]\n",
      " ['Kericho' 0.331]\n",
      " ['Kiambu' 0.817]\n",
      " ['Kilifi' 0.679]\n",
      " ['Kirinyaga' 0.33]\n",
      " ['Kisii' 0.467]\n",
      " ['Kisumu' 0.349]\n",
      " ['Kitui' 0.31]\n",
      " ['Kwale' 0.587]\n",
      " ['Laikipia' 0.305]\n",
      " ['Lamu' 0.28]\n",
      " ['Machakos' 0.448]\n",
      " ['Makueni' 0.376]\n",
      " ['Mandera' 0.492]\n",
      " ['Marsabit' 0.331]\n",
      " ['Meru' 0.68]\n",
      " ['Migori' 0.475]\n",
      " ['Mombasa' 0.583]\n",
      " ['Muranga' 0.389]\n",
      " ['Nairobi' 1.248]\n",
      " ['Nakuru' 0.873]\n",
      " ['Nandi' 0.302]\n",
      " ['Narok' 0.512]\n",
      " ['Nyamira' 0.263]\n",
      " ['Nyandarua' 0.437]\n",
      " ['Nyeri' 0.554]\n",
      " ['Samburu' 0.405]\n",
      " ['Siaya' 0.396]\n",
      " ['Taita Taveta' 0.242]\n",
      " ['Tana River' 0.288]\n",
      " ['Tharaka Nithi' 0.43]\n",
      " ['Trans-Nzoia' 0.31]\n",
      " ['Turkana' 0.419]\n",
      " ['Uasin Gishu' 0.425]\n",
      " ['Vihiga' 0.574]\n",
      " ['Wajir' 0.377]\n",
      " ['West Pokot' 0.396]]\n"
     ]
    },
    {
     "data": {
      "text/plain": [
       "<matplotlib.axes._subplots.AxesSubplot at 0x17231e86898>"
      ]
     },
     "execution_count": 54,
     "metadata": {},
     "output_type": "execute_result"
    },
    {
     "data": {
      "image/png": "[encoded data removed]",
      "text/plain": [
       "<matplotlib.figure.Figure at 0x17231da79e8>"
      ]
     },
     "metadata": {},
     "output_type": "display_data"
    }
   ],
   "source": [
    "print(\"\\n\\n PREDICTIONS \")\n",
    "p = m2.predict()\n",
    "print( np.column_stack( (db.County, p.round(3)) ) ) \n",
    "dtmp = pd.DataFrame( {\"County\": db.County, \"p(x)\" : p.round(3)} )\n",
    "dtmp.sort_values( \"p(x)\").plot(kind=\"bar\", x=\"County\", y=\"p(x)\", figsize=(13,7))\n"
   ]
  },
  {
   "cell_type": "code",
   "execution_count": 67,
   "metadata": {},
   "outputs": [
    {
     "data": {
      "text/plain": [
       "<matplotlib.axes._subplots.AxesSubplot at 0x1722e351518>"
      ]
     },
     "execution_count": 67,
     "metadata": {},
     "output_type": "execute_result"
    },
    {
     "data": {
      "image/png": "[encoded data removed]",
      "text/plain": [
       "<matplotlib.figure.Figure at 0x17232dce278>"
      ]
     },
     "metadata": {},
     "output_type": "display_data"
    }
   ],
   "source": [
    "db[[\"County\", \"Pneumonia\"]].sort_values(\"Pneumonia\").plot(kind=\"bar\", x=\"County\", y=\"Pneumonia\", figsize=(13,7))"
   ]
  },
  {
   "cell_type": "code",
   "execution_count": 61,
   "metadata": {},
   "outputs": [
    {
     "name": "stdout",
     "output_type": "stream",
     "text": [
      "<statsmodels.genmod.generalized_linear_model.GLMResultsWrapper object at 0x000001722E1BEDD8>\n",
      " \n",
      "\n",
      "\n",
      "\n",
      "                 Generalized Linear Model Regression Results                  \n",
      "==============================================================================\n",
      "Dep. Variable:              Pneumonia   No. Observations:                   47\n",
      "Model:                            GLM   Df Residuals:                       43\n",
      "Model Family:                Gaussian   Df Model:                            3\n",
      "Link Function:               identity   Scale:                   26670963.7286\n",
      "Method:                          IRLS   Log-Likelihood:                -466.43\n",
      "Date:                Sun, 08 Apr 2018   Deviance:                   1.1469e+09\n",
      "Time:                        14:08:12   Pearson chi2:                 1.15e+09\n",
      "No. Iterations:                     2                                         \n",
      "==============================================================================\n",
      "                 coef    std err          z      P>|z|      [0.025      0.975]\n",
      "------------------------------------------------------------------------------\n",
      "Intercept   2902.0712   1372.106      2.115      0.034     212.794    5591.349\n",
      "Diarrhoea      0.3113      0.062      4.989      0.000       0.189       0.434\n",
      "Dysentery      0.6225      1.716      0.363      0.717      -2.741       3.986\n",
      "Aneamia        0.3939      1.187      0.332      0.740      -1.933       2.721\n",
      "==============================================================================\n",
      "<statsmodels.genmod.generalized_linear_model.GLMResultsWrapper object at 0x000001722E21D390>\n",
      " \n",
      "\n",
      "\n",
      "\n",
      "                 Generalized Linear Model Regression Results                  \n",
      "==============================================================================\n",
      "Dep. Variable:              Dysentery   No. Observations:                   47\n",
      "Model:                            GLM   Df Residuals:                       43\n",
      "Model Family:                Gaussian   Df Model:                            3\n",
      "Link Function:               identity   Scale:                   210021.622294\n",
      "Method:                          IRLS   Log-Likelihood:                -352.59\n",
      "Date:                Sun, 08 Apr 2018   Deviance:                   9.0309e+06\n",
      "Time:                        14:08:12   Pearson chi2:                 9.03e+06\n",
      "No. Iterations:                     2                                         \n",
      "==============================================================================\n",
      "                 coef    std err          z      P>|z|      [0.025      0.975]\n",
      "------------------------------------------------------------------------------\n",
      "Intercept     49.3583    127.714      0.386      0.699    -200.956     299.673\n",
      "Diarrhoea      0.0023      0.007      0.325      0.745      -0.011       0.016\n",
      "Pneumonia      0.0049      0.014      0.363      0.717      -0.022       0.031\n",
      "Aneamia        0.3345      0.092      3.623      0.000       0.154       0.516\n",
      "==============================================================================\n"
     ]
    }
   ],
   "source": [
    "m2 = smf.glm( \"Pneumonia ~ Diarrhoea +  Dysentery + Aneamia \", data = db).fit()\n",
    "print( m2 )\n",
    "print(\" \\n\\n\\n\")\n",
    "print( m2.summary()) \n",
    "\n",
    "m2 = smf.glm( \"Dysentery ~ Diarrhoea +  Pneumonia + Aneamia \", data = db).fit()\n",
    "print( m2 )\n",
    "print(\" \\n\\n\\n\")\n",
    "print( m2.summary()) "
   ]
  },
  {
   "cell_type": "code",
   "execution_count": null,
   "metadata": {},
   "outputs": [],
   "source": [
    "%%R -i db -o m2\n"
   ]
  }
 ],
 "metadata": {
  "anaconda-cloud": {},
  "hide_input": false,
  "kernelspec": {
   "display_name": "Python [default]",
   "language": "python",
   "name": "python3"
  },
  "language_info": {
   "codemirror_mode": {
    "name": "ipython",
    "version": 3
   },
   "file_extension": ".py",
   "mimetype": "text/x-python",
   "name": "python",
   "nbconvert_exporter": "python",
   "pygments_lexer": "ipython3",
   "version": "3.6.2"
  },
  "toc": {
   "nav_menu": {},
   "number_sections": true,
   "sideBar": true,
   "skip_h1_title": false,
   "title_cell": "Table of Contents",
   "title_sidebar": "Contents",
   "toc_cell": true,
   "toc_position": {},
   "toc_section_display": true,
   "toc_window_display": false
  }
 },
 "nbformat": 4,
 "nbformat_minor": 2
}
