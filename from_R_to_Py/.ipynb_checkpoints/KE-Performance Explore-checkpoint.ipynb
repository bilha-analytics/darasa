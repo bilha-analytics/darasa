{
 "cells": [
  {
   "cell_type": "markdown",
   "metadata": {
    "toc": true
   },
   "source": [
    "<h1>Table of Contents<span class=\"tocSkip\"></span></h1>\n",
    "<div class=\"toc\"><ul class=\"toc-item\"><li><span><a href=\"#Potential-questions\" data-toc-modified-id=\"Potential-questions-1\"><span class=\"toc-item-num\">1&nbsp;&nbsp;</span>Potential questions</a></span><ul class=\"toc-item\"><li><span><a href=\"#Operations\" data-toc-modified-id=\"Operations-1.1\"><span class=\"toc-item-num\">1.1&nbsp;&nbsp;</span>Operations</a></span></li></ul></li><li><span><a href=\"#Probable-associations\" data-toc-modified-id=\"Probable-associations-2\"><span class=\"toc-item-num\">2&nbsp;&nbsp;</span>Probable associations</a></span></li><li><span><a href=\"#Why-Outliers?\" data-toc-modified-id=\"Why-Outliers?-3\"><span class=\"toc-item-num\">3&nbsp;&nbsp;</span>Why Outliers?</a></span><ul class=\"toc-item\"><li><ul class=\"toc-item\"><li><span><a href=\"#Correlations-within-outliers\" data-toc-modified-id=\"Correlations-within-outliers-3.0.1\"><span class=\"toc-item-num\">3.0.1&nbsp;&nbsp;</span>Correlations within outliers</a></span></li></ul></li></ul></li></ul></div>"
   ]
  },
  {
   "cell_type": "markdown",
   "metadata": {},
   "source": [
    "# Introduction\n",
    "\n",
    "Getting to learn about this organization. \n",
    "- Two main priorities: sales and health care service delivery to mother and child. \n",
    "    - Sales is secondary and intended to boost income and, therefore, motivation for volunteers\n",
    "    \n",
    "## Potential questions\n",
    "### Operations \n",
    "- Which product mix to prioritize? \n",
    "- Are volunteers motivated by the sales component?\n",
    "- Is the sales component hindering the care component? \n",
    "- \n",
    "    "
   ]
  },
  {
   "cell_type": "markdown",
   "metadata": {},
   "source": [
    "## Probable associations \n",
    "- Community events --> Child care\n",
    "- Child care --> pregnancy registration \n",
    "- Community events !->|weak-> Sales, Pregnancy \n",
    "- U1 care --> child care \n",
    "- Strong correlations within malarai compared to other services\n",
    "- Weak associations within pregnancy/PNC \n",
    "\n",
    "\n",
    "**SO**\n",
    "- Everything revolves around child care delivery; No discovery of new opportunities unless visible in a child care context? \n",
    "- Sales made during community events and pregnancy registration \n",
    "- New households discovered if already have children for care \n",
    "- U1s are most attended to w/r/t child care \n",
    "- Malaria is main disease \n",
    "- Diarrhoea is mainly for kids over 1 yrs. \n",
    "    - U1s get care for malaria and pneomonia mainly. \n",
    "- Malaria we do well? \n",
    "\n",
    "**Questions** \n",
    "- How do CHPs grow their individual reach after the initial HH registration at graduation? \n",
    "    - How are new/first-time mothers/families/households discovered?\n",
    "- Can Malaria grow reach and impact? \n",
    "    - If we do do malaria well, can we scale malaria activity faster and wider than child care?\n",
    "        - Open it up to (and record) care to (pregnant) mothers and to the rest of the household \n",
    "        - Prices respond to change in market but are not by default subsidized, for both impact and sustainability. \n",
    "            - E.G. if govt subsidises then we do else we don't \n",
    "            - We've got both demand/need and systems for adoption. Price doesn't ought to be about market development \n",
    "            - Looks like we can deliver impact without having to compromise much on sustainability \n",
    "    - If CHPs are not actively recruiting outside of care delivery,  then may be expanding opportunities for care delivery gives us access to more HHs?\n",
    "    \n",
    "- Record more data on \n",
    "    - Pregnancy and ANC: Looks like the child gets more attention and so may be that behaviour could drive care seeking behaviour for other conditions and other members of the household?? \n",
    "    \n"
   ]
  },
  {
   "cell_type": "code",
   "execution_count": 5,
   "metadata": {},
   "outputs": [],
   "source": [
    "## Setup\n",
    "# load libs/modules\n",
    "%run \"../utils/load_envz.ipynb\"\n",
    "\n",
    "# Load data set \n",
    "DATA_DIR = \"../dataset\"\n",
    "DATA_FILE = \"all_KE_CHVs_data_1493.csv\" \n",
    "dataset = pd.read_csv( \"%s/%s\" % (DATA_DIR, DATA_FILE) )"
   ]
  },
  {
   "cell_type": "markdown",
   "metadata": {},
   "source": [
    "# Exploring the data\n",
    "- Variable types \n",
    "- Missing data\n",
    "- Outliers \n",
    "\n",
    "Assumptions\n",
    "- CHP is the study unit. \n",
    "- All other activities are pegged on household (HH) registration --> implies what is normal "
   ]
  },
  {
   "cell_type": "code",
   "execution_count": 6,
   "metadata": {},
   "outputs": [
    {
     "name": "stdout",
     "output_type": "stream",
     "text": [
      "<class 'pandas.core.frame.DataFrame'>\n",
      "RangeIndex: 1493 entries, 0 to 1492\n",
      "Data columns (total 21 columns):\n",
      "CHP ID                               1493 non-null object\n",
      "Pregnancy                            1493 non-null int64\n",
      "PNC Visit Rate                       1493 non-null float64\n",
      "PNC Visit Missed - #                 1493 non-null int64\n",
      "Total U1 Assessments                 1493 non-null int64\n",
      "Total U1 Treatments                  1493 non-null int64\n",
      "Total U5 Assessments                 1493 non-null int64\n",
      "Total U5 Treatments                  1493 non-null int64\n",
      "U5 Malaria                           1493 non-null int64\n",
      "U5 Diarrhea                          1493 non-null int64\n",
      "U5 Pneumonia                         1493 non-null int64\n",
      "On Time Referral f/u Treatment U5    1493 non-null float64\n",
      "Missed Visits                        1493 non-null int64\n",
      "%mRDT                                1493 non-null float64\n",
      "All Malaria Assessments              1493 non-null int64\n",
      "All Malaria Treatments               1493 non-null int64\n",
      "Act 6pack Issue                      1493 non-null int64\n",
      "mRDT Used                            1493 non-null int64\n",
      "Sales                                1493 non-null float64\n",
      "Community Events                     1493 non-null int64\n",
      "Households Registered                1493 non-null int64\n",
      "dtypes: float64(4), int64(16), object(1)\n",
      "memory usage: 245.0+ KB\n"
     ]
    }
   ],
   "source": [
    "# shape of the data set \n",
    "dt1 = dataset.shape \n",
    "\n",
    "# datatypes\n",
    "dt2 = dataset.dtypes\n",
    "\n",
    "#paranoia\n",
    "dataset.info()"
   ]
  },
  {
   "cell_type": "markdown",
   "metadata": {
    "variables": {
     "dt1": "(1493, 21)",
     "dt2": "CHP ID                                object\nPregnancy                              int64\nPNC Visit Rate                       float64\nPNC Visit Missed - #                   int64\nTotal U1 Assessments                   int64\nTotal U1 Treatments                    int64\nTotal U5 Assessments                   int64\nTotal U5 Treatments                    int64\nU5 Malaria                             int64\nU5 Diarrhea                            int64\nU5 Pneumonia                           int64\nOn Time Referral f/u Treatment U5    float64\nMissed Visits                          int64\n%mRDT                                float64\nAll Malaria Assessments                int64\nAll Malaria Treatments                 int64\nAct 6pack Issue                        int64\nmRDT Used                              int64\nSales                                float64\nCommunity Events                       int64\nHouseholds Registered                  int64\ndtype: object"
    }
   },
   "source": [
    "- #records, #variabes = {{dt1}}\n",
    "- Variable data types = {{dt2}}"
   ]
  },
  {
   "cell_type": "code",
   "execution_count": 7,
   "metadata": {},
   "outputs": [],
   "source": [
    "## themes | variable - outcome mapping\n",
    "argz_Units = [\"CHP ID\", \"Households Registered\"] \n",
    "argz_Ops = [ \"Sales\", \"Community Events\"]\n",
    "argz_pregoz = [ \"Pregnancy\", \"PNC Visit Rate\", \"PNC Visit Missed - #\"]\n",
    "argz_U1_care = [\"Total U1 Assessments\", \"Total U1 Treatments\"]\n",
    "argz_malaria = [ \"All Malaria Assessments\", \"All Malaria Treatments\", \"Act 6pack Issue\", \"mRDT Used\", \"%mRDT\"]\n",
    "argz_U5_diseases = [\"U5 Malaria\", \"U5 Diarrhea\", \"U5 Pneumonia\"]\n",
    "argz_U5_care = [\"Total U5 Assessments\", \"Total U5 Treatments\", \"On Time Referral f/u Treatment U5\", \"Missed Visits\"] \n",
    "\n",
    "argz_EPMs = [ \"Total U5 Assessments\", \"Total U1 Assessments\", \"Pregnancy\"]\n",
    "\n",
    "## Additional Columns\n",
    "dataset[\"Country\"] = \"KE\""
   ]
  },
  {
   "cell_type": "code",
   "execution_count": 8,
   "metadata": {
    "scrolled": true
   },
   "outputs": [
    {
     "data": {
      "text/plain": [
       "CHP ID                               0\n",
       "Pregnancy                            0\n",
       "PNC Visit Rate                       0\n",
       "PNC Visit Missed - #                 0\n",
       "Total U1 Assessments                 0\n",
       "Total U1 Treatments                  0\n",
       "Total U5 Assessments                 0\n",
       "Total U5 Treatments                  0\n",
       "U5 Malaria                           0\n",
       "U5 Diarrhea                          0\n",
       "U5 Pneumonia                         0\n",
       "On Time Referral f/u Treatment U5    0\n",
       "Missed Visits                        0\n",
       "%mRDT                                0\n",
       "All Malaria Assessments              0\n",
       "All Malaria Treatments               0\n",
       "Act 6pack Issue                      0\n",
       "mRDT Used                            0\n",
       "Sales                                0\n",
       "Community Events                     0\n",
       "Households Registered                0\n",
       "Country                              0\n",
       "dtype: int64"
      ]
     },
     "execution_count": 8,
     "metadata": {},
     "output_type": "execute_result"
    }
   ],
   "source": [
    "# missing values \n",
    "dataset.apply( lambda x: sum( x.isnull() ) , axis=0)\n",
    "#print( \">> Missing Values Counts \\n %s \\n\\n\\n >> Households Registered Ditribution \\n %s\" % (dt1, dt2))"
   ]
  },
  {
   "cell_type": "code",
   "execution_count": 9,
   "metadata": {},
   "outputs": [
    {
     "data": {
      "text/plain": [
       "<matplotlib.axes._subplots.AxesSubplot at 0x26458310160>"
      ]
     },
     "execution_count": 9,
     "metadata": {},
     "output_type": "execute_result"
    },
    {
     "data": {
      "image/png": "[encoded data removed]",
      "text/plain": [
       "<matplotlib.figure.Figure at 0x26458310c50>"
      ]
     },
     "metadata": {},
     "output_type": "display_data"
    }
   ],
   "source": [
    "# outlier based on distribution of household registration \n",
    "sns.distplot( dataset[\"Households Registered\"])\n"
   ]
  },
  {
   "cell_type": "markdown",
   "metadata": {},
   "source": [
    "- No variables with missing records \n",
    "- HH distribution is not normal; it's bi. Trimming off the left tail at about 15-20"
   ]
  },
  {
   "cell_type": "code",
   "execution_count": 10,
   "metadata": {},
   "outputs": [],
   "source": [
    "## \n",
    "argz = { \n",
    "    \"CHP ID\": {\"# CHPs\": \"count\"},\n",
    "    \"Households Registered\": { \"# HHs\": \"sum\", \"Avg.CHP.Size\": \"mean\"},\n",
    "    \"Pregnancy\" : { \"# Pregoz Cases\": \"sum\"},\n",
    "    \"All Malaria Assessments\" : { \"# Malaria Cases\": \"sum\"},\n",
    "    \"Total U5 Assessments\" : { \"# Child Cases\": \"sum\"},\n",
    "    \"Total U1 Assessments\" : { \"# U1 Cases\": \"sum\"}\n",
    "}\n",
    "\n",
    "b4_normz = dataset.groupby(\"Country\").agg( argz).round(0)"
   ]
  },
  {
   "cell_type": "code",
   "execution_count": 15,
   "metadata": {
    "scrolled": true
   },
   "outputs": [
    {
     "data": {
      "text/plain": [
       "array([[<matplotlib.axes._subplots.AxesSubplot object at 0x0000026457D357B8>,\n",
       "        <matplotlib.axes._subplots.AxesSubplot object at 0x00000264588B7F98>],\n",
       "       [<matplotlib.axes._subplots.AxesSubplot object at 0x00000264589343C8>,\n",
       "        <matplotlib.axes._subplots.AxesSubplot object at 0x0000026458986710>],\n",
       "       [<matplotlib.axes._subplots.AxesSubplot object at 0x00000264589A7748>,\n",
       "        <matplotlib.axes._subplots.AxesSubplot object at 0x00000264589A7780>]], dtype=object)"
      ]
     },
     "execution_count": 15,
     "metadata": {},
     "output_type": "execute_result"
    },
    {
     "data": {
      "image/png": "[encoded data removed]",
      "text/plain": [
       "<matplotlib.figure.Figure at 0x264577a2da0>"
      ]
     },
     "metadata": {},
     "output_type": "display_data"
    }
   ],
   "source": [
    "# Some other distributions\n",
    "fig, ax = plt.subplots( figsize=(15,15))\n",
    "dataset.hist( argz_EPMs+argz_Ops+[\"Households Registered\"], ax=ax)"
   ]
  },
  {
   "cell_type": "code",
   "execution_count": 12,
   "metadata": {
    "scrolled": true
   },
   "outputs": [
    {
     "name": "stdout",
     "output_type": "stream",
     "text": [
      " >> New shape \n",
      " (1353, 22) \t down by 140 records \n",
      "\n",
      "\n",
      "  >> New Households Registered Ditribution \n",
      " Axes(0.125,0.125;0.775x0.755)\n"
     ]
    },
    {
     "data": {
      "image/png": "[encoded data removed]",
      "text/plain": [
       "<matplotlib.figure.Figure at 0x26457bb26d8>"
      ]
     },
     "metadata": {},
     "output_type": "display_data"
    }
   ],
   "source": [
    "# updating dataset to HH > 20 and < 250 \n",
    "dt_outliers = dataset[ (dataset[\"Households Registered\"] < 20) | (dataset[\"Households Registered\"] > 250) ]\n",
    "dataset.drop( dt_outliers.index, inplace=True) #<< TODO: go back to boolean indexing\n",
    "dt1 = dataset.shape\n",
    "dt2 = sns.distplot( dataset[\"Households Registered\"]) \n",
    "\n",
    "print( \" >> New shape \\n %s \\t down by %d records \\n\\n\\n  >> New Households Registered Ditribution \\n %s\" % (dt1, (1493-dt1[0]), dt2))"
   ]
  },
  {
   "cell_type": "code",
   "execution_count": 13,
   "metadata": {},
   "outputs": [
    {
     "data": {
      "text/plain": [
       "array([[<matplotlib.axes._subplots.AxesSubplot object at 0x000002645811C518>,\n",
       "        <matplotlib.axes._subplots.AxesSubplot object at 0x00000264582107F0>],\n",
       "       [<matplotlib.axes._subplots.AxesSubplot object at 0x000002645827F5C0>,\n",
       "        <matplotlib.axes._subplots.AxesSubplot object at 0x00000264585EC6A0>],\n",
       "       [<matplotlib.axes._subplots.AxesSubplot object at 0x0000026458628BE0>,\n",
       "        <matplotlib.axes._subplots.AxesSubplot object at 0x0000026458628908>]], dtype=object)"
      ]
     },
     "execution_count": 13,
     "metadata": {},
     "output_type": "execute_result"
    },
    {
     "data": {
      "image/png": "[encoded data removed]",
      "text/plain": [
       "<matplotlib.figure.Figure at 0x2645812ec88>"
      ]
     },
     "metadata": {},
     "output_type": "display_data"
    }
   ],
   "source": [
    "# Some other distributions after removing HH outliers \n",
    "fig, ax = plt.subplots( figsize=(15,15))\n",
    "dataset.hist( argz_EPMs+argz_Ops+[\"Households Registered\"], ax=ax)"
   ]
  },
  {
   "cell_type": "markdown",
   "metadata": {
    "variables": {
     "dt_outliers.shape": "<p><strong>NameError</strong>: name &#39;dt_outliers&#39; is not defined</p>\n"
    }
   },
   "source": [
    "## Why Outliers?\n",
    "- shape  = {{dt_outliers.shape}}"
   ]
  },
  {
   "cell_type": "code",
   "execution_count": 10,
   "metadata": {},
   "outputs": [
    {
     "data": {
      "text/html": [
       "<div>\n",
       "<style>\n",
       "    .dataframe thead tr:only-child th {\n",
       "        text-align: right;\n",
       "    }\n",
       "\n",
       "    .dataframe thead th {\n",
       "        text-align: left;\n",
       "    }\n",
       "\n",
       "    .dataframe tbody tr th {\n",
       "        vertical-align: top;\n",
       "    }\n",
       "</style>\n",
       "<table border=\"1\" class=\"dataframe\">\n",
       "  <thead>\n",
       "    <tr style=\"text-align: right;\">\n",
       "      <th></th>\n",
       "      <th>Pregnancy</th>\n",
       "      <th>PNC Visit Rate</th>\n",
       "      <th>PNC Visit Missed - #</th>\n",
       "      <th>Total U1 Assessments</th>\n",
       "      <th>Total U1 Treatments</th>\n",
       "      <th>Total U5 Assessments</th>\n",
       "      <th>Total U5 Treatments</th>\n",
       "      <th>U5 Malaria</th>\n",
       "      <th>U5 Diarrhea</th>\n",
       "      <th>U5 Pneumonia</th>\n",
       "      <th>On Time Referral f/u Treatment U5</th>\n",
       "      <th>Missed Visits</th>\n",
       "      <th>%mRDT</th>\n",
       "      <th>All Malaria Assessments</th>\n",
       "      <th>All Malaria Treatments</th>\n",
       "      <th>Act 6pack Issue</th>\n",
       "      <th>mRDT Used</th>\n",
       "      <th>Sales</th>\n",
       "      <th>Community Events</th>\n",
       "      <th>Households Registered</th>\n",
       "    </tr>\n",
       "  </thead>\n",
       "  <tbody>\n",
       "    <tr>\n",
       "      <th>count</th>\n",
       "      <td>140.000000</td>\n",
       "      <td>140.000000</td>\n",
       "      <td>140.000000</td>\n",
       "      <td>140.000000</td>\n",
       "      <td>140.000000</td>\n",
       "      <td>140.000000</td>\n",
       "      <td>140.000000</td>\n",
       "      <td>140.000000</td>\n",
       "      <td>140.000000</td>\n",
       "      <td>140.000000</td>\n",
       "      <td>140.000000</td>\n",
       "      <td>140.000000</td>\n",
       "      <td>140.000000</td>\n",
       "      <td>140.000000</td>\n",
       "      <td>140.000000</td>\n",
       "      <td>140.000000</td>\n",
       "      <td>140.000000</td>\n",
       "      <td>140.000000</td>\n",
       "      <td>140.000000</td>\n",
       "      <td>140.000000</td>\n",
       "    </tr>\n",
       "    <tr>\n",
       "      <th>mean</th>\n",
       "      <td>0.014286</td>\n",
       "      <td>0.004762</td>\n",
       "      <td>0.035714</td>\n",
       "      <td>0.107143</td>\n",
       "      <td>0.064286</td>\n",
       "      <td>0.435714</td>\n",
       "      <td>0.271429</td>\n",
       "      <td>0.242857</td>\n",
       "      <td>0.014286</td>\n",
       "      <td>0.014286</td>\n",
       "      <td>0.014286</td>\n",
       "      <td>0.007143</td>\n",
       "      <td>0.034821</td>\n",
       "      <td>0.700000</td>\n",
       "      <td>0.585714</td>\n",
       "      <td>1.442857</td>\n",
       "      <td>0.700000</td>\n",
       "      <td>26.728071</td>\n",
       "      <td>0.021429</td>\n",
       "      <td>16.164286</td>\n",
       "    </tr>\n",
       "    <tr>\n",
       "      <th>std</th>\n",
       "      <td>0.119092</td>\n",
       "      <td>0.056344</td>\n",
       "      <td>0.186243</td>\n",
       "      <td>0.642572</td>\n",
       "      <td>0.435984</td>\n",
       "      <td>2.564873</td>\n",
       "      <td>2.045676</td>\n",
       "      <td>1.853914</td>\n",
       "      <td>0.119092</td>\n",
       "      <td>0.169031</td>\n",
       "      <td>0.119092</td>\n",
       "      <td>0.084515</td>\n",
       "      <td>0.181835</td>\n",
       "      <td>4.787123</td>\n",
       "      <td>4.177683</td>\n",
       "      <td>10.111089</td>\n",
       "      <td>4.787123</td>\n",
       "      <td>227.023640</td>\n",
       "      <td>0.253546</td>\n",
       "      <td>66.297847</td>\n",
       "    </tr>\n",
       "    <tr>\n",
       "      <th>min</th>\n",
       "      <td>0.000000</td>\n",
       "      <td>0.000000</td>\n",
       "      <td>0.000000</td>\n",
       "      <td>0.000000</td>\n",
       "      <td>0.000000</td>\n",
       "      <td>0.000000</td>\n",
       "      <td>0.000000</td>\n",
       "      <td>0.000000</td>\n",
       "      <td>0.000000</td>\n",
       "      <td>0.000000</td>\n",
       "      <td>0.000000</td>\n",
       "      <td>0.000000</td>\n",
       "      <td>0.000000</td>\n",
       "      <td>0.000000</td>\n",
       "      <td>0.000000</td>\n",
       "      <td>0.000000</td>\n",
       "      <td>0.000000</td>\n",
       "      <td>0.000000</td>\n",
       "      <td>0.000000</td>\n",
       "      <td>0.000000</td>\n",
       "    </tr>\n",
       "    <tr>\n",
       "      <th>25%</th>\n",
       "      <td>0.000000</td>\n",
       "      <td>0.000000</td>\n",
       "      <td>0.000000</td>\n",
       "      <td>0.000000</td>\n",
       "      <td>0.000000</td>\n",
       "      <td>0.000000</td>\n",
       "      <td>0.000000</td>\n",
       "      <td>0.000000</td>\n",
       "      <td>0.000000</td>\n",
       "      <td>0.000000</td>\n",
       "      <td>0.000000</td>\n",
       "      <td>0.000000</td>\n",
       "      <td>0.000000</td>\n",
       "      <td>0.000000</td>\n",
       "      <td>0.000000</td>\n",
       "      <td>0.000000</td>\n",
       "      <td>0.000000</td>\n",
       "      <td>0.000000</td>\n",
       "      <td>0.000000</td>\n",
       "      <td>0.000000</td>\n",
       "    </tr>\n",
       "    <tr>\n",
       "      <th>50%</th>\n",
       "      <td>0.000000</td>\n",
       "      <td>0.000000</td>\n",
       "      <td>0.000000</td>\n",
       "      <td>0.000000</td>\n",
       "      <td>0.000000</td>\n",
       "      <td>0.000000</td>\n",
       "      <td>0.000000</td>\n",
       "      <td>0.000000</td>\n",
       "      <td>0.000000</td>\n",
       "      <td>0.000000</td>\n",
       "      <td>0.000000</td>\n",
       "      <td>0.000000</td>\n",
       "      <td>0.000000</td>\n",
       "      <td>0.000000</td>\n",
       "      <td>0.000000</td>\n",
       "      <td>0.000000</td>\n",
       "      <td>0.000000</td>\n",
       "      <td>0.000000</td>\n",
       "      <td>0.000000</td>\n",
       "      <td>0.000000</td>\n",
       "    </tr>\n",
       "    <tr>\n",
       "      <th>75%</th>\n",
       "      <td>0.000000</td>\n",
       "      <td>0.000000</td>\n",
       "      <td>0.000000</td>\n",
       "      <td>0.000000</td>\n",
       "      <td>0.000000</td>\n",
       "      <td>0.000000</td>\n",
       "      <td>0.000000</td>\n",
       "      <td>0.000000</td>\n",
       "      <td>0.000000</td>\n",
       "      <td>0.000000</td>\n",
       "      <td>0.000000</td>\n",
       "      <td>0.000000</td>\n",
       "      <td>0.000000</td>\n",
       "      <td>0.000000</td>\n",
       "      <td>0.000000</td>\n",
       "      <td>0.000000</td>\n",
       "      <td>0.000000</td>\n",
       "      <td>0.000000</td>\n",
       "      <td>0.000000</td>\n",
       "      <td>0.000000</td>\n",
       "    </tr>\n",
       "    <tr>\n",
       "      <th>max</th>\n",
       "      <td>1.000000</td>\n",
       "      <td>0.666667</td>\n",
       "      <td>1.000000</td>\n",
       "      <td>5.000000</td>\n",
       "      <td>4.000000</td>\n",
       "      <td>21.000000</td>\n",
       "      <td>19.000000</td>\n",
       "      <td>16.000000</td>\n",
       "      <td>1.000000</td>\n",
       "      <td>2.000000</td>\n",
       "      <td>1.000000</td>\n",
       "      <td>1.000000</td>\n",
       "      <td>1.000000</td>\n",
       "      <td>41.000000</td>\n",
       "      <td>38.000000</td>\n",
       "      <td>99.000000</td>\n",
       "      <td>41.000000</td>\n",
       "      <td>2484.000000</td>\n",
       "      <td>3.000000</td>\n",
       "      <td>356.000000</td>\n",
       "    </tr>\n",
       "  </tbody>\n",
       "</table>\n",
       "</div>"
      ],
      "text/plain": [
       "        Pregnancy  PNC Visit Rate  PNC Visit Missed - #  Total U1 Assessments  \\\n",
       "count  140.000000      140.000000            140.000000            140.000000   \n",
       "mean     0.014286        0.004762              0.035714              0.107143   \n",
       "std      0.119092        0.056344              0.186243              0.642572   \n",
       "min      0.000000        0.000000              0.000000              0.000000   \n",
       "25%      0.000000        0.000000              0.000000              0.000000   \n",
       "50%      0.000000        0.000000              0.000000              0.000000   \n",
       "75%      0.000000        0.000000              0.000000              0.000000   \n",
       "max      1.000000        0.666667              1.000000              5.000000   \n",
       "\n",
       "       Total U1 Treatments  Total U5 Assessments  Total U5 Treatments  \\\n",
       "count           140.000000            140.000000           140.000000   \n",
       "mean              0.064286              0.435714             0.271429   \n",
       "std               0.435984              2.564873             2.045676   \n",
       "min               0.000000              0.000000             0.000000   \n",
       "25%               0.000000              0.000000             0.000000   \n",
       "50%               0.000000              0.000000             0.000000   \n",
       "75%               0.000000              0.000000             0.000000   \n",
       "max               4.000000             21.000000            19.000000   \n",
       "\n",
       "       U5 Malaria  U5 Diarrhea  U5 Pneumonia  \\\n",
       "count  140.000000   140.000000    140.000000   \n",
       "mean     0.242857     0.014286      0.014286   \n",
       "std      1.853914     0.119092      0.169031   \n",
       "min      0.000000     0.000000      0.000000   \n",
       "25%      0.000000     0.000000      0.000000   \n",
       "50%      0.000000     0.000000      0.000000   \n",
       "75%      0.000000     0.000000      0.000000   \n",
       "max     16.000000     1.000000      2.000000   \n",
       "\n",
       "       On Time Referral f/u Treatment U5  Missed Visits       %mRDT  \\\n",
       "count                         140.000000     140.000000  140.000000   \n",
       "mean                            0.014286       0.007143    0.034821   \n",
       "std                             0.119092       0.084515    0.181835   \n",
       "min                             0.000000       0.000000    0.000000   \n",
       "25%                             0.000000       0.000000    0.000000   \n",
       "50%                             0.000000       0.000000    0.000000   \n",
       "75%                             0.000000       0.000000    0.000000   \n",
       "max                             1.000000       1.000000    1.000000   \n",
       "\n",
       "       All Malaria Assessments  All Malaria Treatments  Act 6pack Issue  \\\n",
       "count               140.000000              140.000000       140.000000   \n",
       "mean                  0.700000                0.585714         1.442857   \n",
       "std                   4.787123                4.177683        10.111089   \n",
       "min                   0.000000                0.000000         0.000000   \n",
       "25%                   0.000000                0.000000         0.000000   \n",
       "50%                   0.000000                0.000000         0.000000   \n",
       "75%                   0.000000                0.000000         0.000000   \n",
       "max                  41.000000               38.000000        99.000000   \n",
       "\n",
       "        mRDT Used        Sales  Community Events  Households Registered  \n",
       "count  140.000000   140.000000        140.000000             140.000000  \n",
       "mean     0.700000    26.728071          0.021429              16.164286  \n",
       "std      4.787123   227.023640          0.253546              66.297847  \n",
       "min      0.000000     0.000000          0.000000               0.000000  \n",
       "25%      0.000000     0.000000          0.000000               0.000000  \n",
       "50%      0.000000     0.000000          0.000000               0.000000  \n",
       "75%      0.000000     0.000000          0.000000               0.000000  \n",
       "max     41.000000  2484.000000          3.000000             356.000000  "
      ]
     },
     "execution_count": 10,
     "metadata": {},
     "output_type": "execute_result"
    }
   ],
   "source": [
    "dt_outliers.describe()"
   ]
  },
  {
   "cell_type": "code",
   "execution_count": 26,
   "metadata": {},
   "outputs": [
    {
     "data": {
      "text/plain": [
       "array([[<matplotlib.axes._subplots.AxesSubplot object at 0x000002645D06BBA8>,\n",
       "        <matplotlib.axes._subplots.AxesSubplot object at 0x000002645D133DD8>],\n",
       "       [<matplotlib.axes._subplots.AxesSubplot object at 0x000002645D428668>,\n",
       "        <matplotlib.axes._subplots.AxesSubplot object at 0x000002645D479E48>],\n",
       "       [<matplotlib.axes._subplots.AxesSubplot object at 0x000002645D4E6B38>,\n",
       "        <matplotlib.axes._subplots.AxesSubplot object at 0x000002645D4E6B70>]], dtype=object)"
      ]
     },
     "execution_count": 26,
     "metadata": {},
     "output_type": "execute_result"
    },
    {
     "data": {
      "image/png": "[encoded data removed]",
      "text/plain": [
       "<matplotlib.figure.Figure at 0x2645d06bd30>"
      ]
     },
     "metadata": {},
     "output_type": "display_data"
    }
   ],
   "source": [
    "fig, ax = plt.subplots( figsize=(10,10))\n",
    "dt_outliers.hist( argz_EPMs+argz_Ops+[\"Households Registered\"], ax=ax)"
   ]
  },
  {
   "cell_type": "markdown",
   "metadata": {},
   "source": [
    "# Sample Structure\n",
    "- Units = households, CHP, region << TODO: merge with region mapping \n",
    "- "
   ]
  },
  {
   "cell_type": "code",
   "execution_count": 12,
   "metadata": {},
   "outputs": [
    {
     "data": {
      "text/html": [
       "<div>\n",
       "<style>\n",
       "    .dataframe thead tr:only-child th {\n",
       "        text-align: right;\n",
       "    }\n",
       "\n",
       "    .dataframe thead th {\n",
       "        text-align: left;\n",
       "    }\n",
       "\n",
       "    .dataframe tbody tr th {\n",
       "        vertical-align: top;\n",
       "    }\n",
       "</style>\n",
       "<table border=\"1\" class=\"dataframe\">\n",
       "  <thead>\n",
       "    <tr>\n",
       "      <th></th>\n",
       "      <th>CHP ID</th>\n",
       "      <th colspan=\"2\" halign=\"left\">Households Registered</th>\n",
       "      <th>Pregnancy</th>\n",
       "      <th>All Malaria Assessments</th>\n",
       "      <th>Total U5 Assessments</th>\n",
       "      <th>Total U1 Assessments</th>\n",
       "    </tr>\n",
       "    <tr>\n",
       "      <th></th>\n",
       "      <th># CHPs</th>\n",
       "      <th># HHs</th>\n",
       "      <th>Avg.CHP.Size</th>\n",
       "      <th># Pregoz Cases</th>\n",
       "      <th># Malaria Cases</th>\n",
       "      <th># Child Cases</th>\n",
       "      <th># U1 Cases</th>\n",
       "    </tr>\n",
       "    <tr>\n",
       "      <th>Country</th>\n",
       "      <th></th>\n",
       "      <th></th>\n",
       "      <th></th>\n",
       "      <th></th>\n",
       "      <th></th>\n",
       "      <th></th>\n",
       "      <th></th>\n",
       "    </tr>\n",
       "  </thead>\n",
       "  <tbody>\n",
       "    <tr>\n",
       "      <th>KE</th>\n",
       "      <td>1493</td>\n",
       "      <td>147956</td>\n",
       "      <td>99.0</td>\n",
       "      <td>408</td>\n",
       "      <td>2986</td>\n",
       "      <td>5393</td>\n",
       "      <td>1216</td>\n",
       "    </tr>\n",
       "  </tbody>\n",
       "</table>\n",
       "</div>"
      ],
      "text/plain": [
       "        CHP ID Households Registered                   Pregnancy  \\\n",
       "        # CHPs                 # HHs Avg.CHP.Size # Pregoz Cases   \n",
       "Country                                                            \n",
       "KE        1493                147956         99.0            408   \n",
       "\n",
       "        All Malaria Assessments Total U5 Assessments Total U1 Assessments  \n",
       "                # Malaria Cases        # Child Cases           # U1 Cases  \n",
       "Country                                                                    \n",
       "KE                         2986                 5393                 1216  "
      ]
     },
     "execution_count": 12,
     "metadata": {},
     "output_type": "execute_result"
    }
   ],
   "source": [
    "b4_normz"
   ]
  },
  {
   "cell_type": "code",
   "execution_count": 13,
   "metadata": {},
   "outputs": [
    {
     "data": {
      "text/html": [
       "<div>\n",
       "<style>\n",
       "    .dataframe thead tr:only-child th {\n",
       "        text-align: right;\n",
       "    }\n",
       "\n",
       "    .dataframe thead th {\n",
       "        text-align: left;\n",
       "    }\n",
       "\n",
       "    .dataframe tbody tr th {\n",
       "        vertical-align: top;\n",
       "    }\n",
       "</style>\n",
       "<table border=\"1\" class=\"dataframe\">\n",
       "  <thead>\n",
       "    <tr>\n",
       "      <th></th>\n",
       "      <th>CHP ID</th>\n",
       "      <th colspan=\"2\" halign=\"left\">Households Registered</th>\n",
       "      <th>Pregnancy</th>\n",
       "      <th>All Malaria Assessments</th>\n",
       "      <th>Total U5 Assessments</th>\n",
       "      <th>Total U1 Assessments</th>\n",
       "    </tr>\n",
       "    <tr>\n",
       "      <th></th>\n",
       "      <th># CHPs</th>\n",
       "      <th># HHs</th>\n",
       "      <th>Avg.CHP.Size</th>\n",
       "      <th># Pregoz Cases</th>\n",
       "      <th># Malaria Cases</th>\n",
       "      <th># Child Cases</th>\n",
       "      <th># U1 Cases</th>\n",
       "    </tr>\n",
       "    <tr>\n",
       "      <th>Country</th>\n",
       "      <th></th>\n",
       "      <th></th>\n",
       "      <th></th>\n",
       "      <th></th>\n",
       "      <th></th>\n",
       "      <th></th>\n",
       "      <th></th>\n",
       "    </tr>\n",
       "  </thead>\n",
       "  <tbody>\n",
       "    <tr>\n",
       "      <th>KE</th>\n",
       "      <td>1353</td>\n",
       "      <td>145693</td>\n",
       "      <td>108.0</td>\n",
       "      <td>406</td>\n",
       "      <td>2888</td>\n",
       "      <td>5332</td>\n",
       "      <td>1201</td>\n",
       "    </tr>\n",
       "  </tbody>\n",
       "</table>\n",
       "</div>"
      ],
      "text/plain": [
       "        CHP ID Households Registered                   Pregnancy  \\\n",
       "        # CHPs                 # HHs Avg.CHP.Size # Pregoz Cases   \n",
       "Country                                                            \n",
       "KE        1353                145693        108.0            406   \n",
       "\n",
       "        All Malaria Assessments Total U5 Assessments Total U1 Assessments  \n",
       "                # Malaria Cases        # Child Cases           # U1 Cases  \n",
       "Country                                                                    \n",
       "KE                         2888                 5332                 1201  "
      ]
     },
     "execution_count": 13,
     "metadata": {},
     "output_type": "execute_result"
    }
   ],
   "source": [
    "argz = { \n",
    "    \"CHP ID\": {\"# CHPs\": \"count\"},\n",
    "    \"Households Registered\": { \"# HHs\": \"sum\", \"Avg.CHP.Size\": \"mean\"},\n",
    "    \"Pregnancy\" : { \"# Pregoz Cases\": \"sum\"},\n",
    "    \"All Malaria Assessments\" : { \"# Malaria Cases\": \"sum\"},\n",
    "    \"Total U5 Assessments\" : { \"# Child Cases\": \"sum\"},\n",
    "    \"Total U1 Assessments\" : { \"# U1 Cases\": \"sum\"}\n",
    "}\n",
    "\n",
    "#dt1 = \n",
    "dataset.groupby(\"Country\").agg( argz).round(0)\n",
    "\n",
    "#print( \" >> B4 cleaning up \\n%s \\n\\n\\n >> After \\n%s\" % (b4_normz, dt1 ))"
   ]
  },
  {
   "cell_type": "markdown",
   "metadata": {},
   "source": [
    "# Summary Stats"
   ]
  },
  {
   "cell_type": "code",
   "execution_count": 14,
   "metadata": {},
   "outputs": [
    {
     "data": {
      "text/html": [
       "<div>\n",
       "<style>\n",
       "    .dataframe thead tr:only-child th {\n",
       "        text-align: right;\n",
       "    }\n",
       "\n",
       "    .dataframe thead th {\n",
       "        text-align: left;\n",
       "    }\n",
       "\n",
       "    .dataframe tbody tr th {\n",
       "        vertical-align: top;\n",
       "    }\n",
       "</style>\n",
       "<table border=\"1\" class=\"dataframe\">\n",
       "  <thead>\n",
       "    <tr style=\"text-align: right;\">\n",
       "      <th></th>\n",
       "      <th>Pregnancy</th>\n",
       "      <th>PNC Visit Rate</th>\n",
       "      <th>PNC Visit Missed - #</th>\n",
       "      <th>Total U1 Assessments</th>\n",
       "      <th>Total U1 Treatments</th>\n",
       "      <th>Total U5 Assessments</th>\n",
       "      <th>Total U5 Treatments</th>\n",
       "      <th>U5 Malaria</th>\n",
       "      <th>U5 Diarrhea</th>\n",
       "      <th>U5 Pneumonia</th>\n",
       "      <th>On Time Referral f/u Treatment U5</th>\n",
       "      <th>Missed Visits</th>\n",
       "      <th>%mRDT</th>\n",
       "      <th>All Malaria Assessments</th>\n",
       "      <th>All Malaria Treatments</th>\n",
       "      <th>Act 6pack Issue</th>\n",
       "      <th>mRDT Used</th>\n",
       "      <th>Sales</th>\n",
       "      <th>Community Events</th>\n",
       "      <th>Households Registered</th>\n",
       "    </tr>\n",
       "  </thead>\n",
       "  <tbody>\n",
       "    <tr>\n",
       "      <th>count</th>\n",
       "      <td>1353.00</td>\n",
       "      <td>1353.00</td>\n",
       "      <td>1353.00</td>\n",
       "      <td>1353.00</td>\n",
       "      <td>1353.00</td>\n",
       "      <td>1353.00</td>\n",
       "      <td>1353.00</td>\n",
       "      <td>1353.00</td>\n",
       "      <td>1353.00</td>\n",
       "      <td>1353.00</td>\n",
       "      <td>1353.00</td>\n",
       "      <td>1353.00</td>\n",
       "      <td>1353.00</td>\n",
       "      <td>1353.00</td>\n",
       "      <td>1353.00</td>\n",
       "      <td>1353.00</td>\n",
       "      <td>1353.00</td>\n",
       "      <td>1353.00</td>\n",
       "      <td>1353.00</td>\n",
       "      <td>1353.00</td>\n",
       "    </tr>\n",
       "    <tr>\n",
       "      <th>mean</th>\n",
       "      <td>0.30</td>\n",
       "      <td>0.14</td>\n",
       "      <td>0.16</td>\n",
       "      <td>0.89</td>\n",
       "      <td>0.36</td>\n",
       "      <td>3.94</td>\n",
       "      <td>1.84</td>\n",
       "      <td>1.08</td>\n",
       "      <td>0.37</td>\n",
       "      <td>0.39</td>\n",
       "      <td>0.18</td>\n",
       "      <td>0.17</td>\n",
       "      <td>0.44</td>\n",
       "      <td>2.13</td>\n",
       "      <td>1.44</td>\n",
       "      <td>2.83</td>\n",
       "      <td>2.13</td>\n",
       "      <td>337.56</td>\n",
       "      <td>0.28</td>\n",
       "      <td>107.68</td>\n",
       "    </tr>\n",
       "    <tr>\n",
       "      <th>std</th>\n",
       "      <td>0.65</td>\n",
       "      <td>0.34</td>\n",
       "      <td>0.41</td>\n",
       "      <td>1.33</td>\n",
       "      <td>0.82</td>\n",
       "      <td>4.43</td>\n",
       "      <td>2.85</td>\n",
       "      <td>2.17</td>\n",
       "      <td>0.84</td>\n",
       "      <td>0.98</td>\n",
       "      <td>0.37</td>\n",
       "      <td>0.59</td>\n",
       "      <td>0.47</td>\n",
       "      <td>3.71</td>\n",
       "      <td>3.02</td>\n",
       "      <td>6.61</td>\n",
       "      <td>3.71</td>\n",
       "      <td>1109.23</td>\n",
       "      <td>0.72</td>\n",
       "      <td>36.74</td>\n",
       "    </tr>\n",
       "    <tr>\n",
       "      <th>min</th>\n",
       "      <td>0.00</td>\n",
       "      <td>0.00</td>\n",
       "      <td>0.00</td>\n",
       "      <td>0.00</td>\n",
       "      <td>0.00</td>\n",
       "      <td>0.00</td>\n",
       "      <td>0.00</td>\n",
       "      <td>0.00</td>\n",
       "      <td>0.00</td>\n",
       "      <td>0.00</td>\n",
       "      <td>0.00</td>\n",
       "      <td>0.00</td>\n",
       "      <td>0.00</td>\n",
       "      <td>0.00</td>\n",
       "      <td>0.00</td>\n",
       "      <td>0.00</td>\n",
       "      <td>0.00</td>\n",
       "      <td>0.00</td>\n",
       "      <td>0.00</td>\n",
       "      <td>22.00</td>\n",
       "    </tr>\n",
       "    <tr>\n",
       "      <th>25%</th>\n",
       "      <td>0.00</td>\n",
       "      <td>0.00</td>\n",
       "      <td>0.00</td>\n",
       "      <td>0.00</td>\n",
       "      <td>0.00</td>\n",
       "      <td>0.00</td>\n",
       "      <td>0.00</td>\n",
       "      <td>0.00</td>\n",
       "      <td>0.00</td>\n",
       "      <td>0.00</td>\n",
       "      <td>0.00</td>\n",
       "      <td>0.00</td>\n",
       "      <td>0.00</td>\n",
       "      <td>0.00</td>\n",
       "      <td>0.00</td>\n",
       "      <td>0.00</td>\n",
       "      <td>0.00</td>\n",
       "      <td>0.00</td>\n",
       "      <td>0.00</td>\n",
       "      <td>81.00</td>\n",
       "    </tr>\n",
       "    <tr>\n",
       "      <th>50%</th>\n",
       "      <td>0.00</td>\n",
       "      <td>0.00</td>\n",
       "      <td>0.00</td>\n",
       "      <td>0.00</td>\n",
       "      <td>0.00</td>\n",
       "      <td>3.00</td>\n",
       "      <td>1.00</td>\n",
       "      <td>0.00</td>\n",
       "      <td>0.00</td>\n",
       "      <td>0.00</td>\n",
       "      <td>0.00</td>\n",
       "      <td>0.00</td>\n",
       "      <td>0.00</td>\n",
       "      <td>0.00</td>\n",
       "      <td>0.00</td>\n",
       "      <td>0.00</td>\n",
       "      <td>0.00</td>\n",
       "      <td>0.00</td>\n",
       "      <td>0.00</td>\n",
       "      <td>103.00</td>\n",
       "    </tr>\n",
       "    <tr>\n",
       "      <th>75%</th>\n",
       "      <td>0.00</td>\n",
       "      <td>0.00</td>\n",
       "      <td>0.00</td>\n",
       "      <td>1.00</td>\n",
       "      <td>0.00</td>\n",
       "      <td>7.00</td>\n",
       "      <td>3.00</td>\n",
       "      <td>1.00</td>\n",
       "      <td>0.00</td>\n",
       "      <td>0.00</td>\n",
       "      <td>0.00</td>\n",
       "      <td>0.00</td>\n",
       "      <td>1.00</td>\n",
       "      <td>3.00</td>\n",
       "      <td>2.00</td>\n",
       "      <td>3.00</td>\n",
       "      <td>3.00</td>\n",
       "      <td>195.00</td>\n",
       "      <td>0.00</td>\n",
       "      <td>127.00</td>\n",
       "    </tr>\n",
       "    <tr>\n",
       "      <th>max</th>\n",
       "      <td>4.00</td>\n",
       "      <td>1.00</td>\n",
       "      <td>3.00</td>\n",
       "      <td>9.00</td>\n",
       "      <td>6.00</td>\n",
       "      <td>25.00</td>\n",
       "      <td>23.00</td>\n",
       "      <td>18.00</td>\n",
       "      <td>10.00</td>\n",
       "      <td>10.00</td>\n",
       "      <td>1.00</td>\n",
       "      <td>7.00</td>\n",
       "      <td>1.00</td>\n",
       "      <td>32.00</td>\n",
       "      <td>26.00</td>\n",
       "      <td>63.00</td>\n",
       "      <td>32.00</td>\n",
       "      <td>18032.34</td>\n",
       "      <td>7.00</td>\n",
       "      <td>243.00</td>\n",
       "    </tr>\n",
       "  </tbody>\n",
       "</table>\n",
       "</div>"
      ],
      "text/plain": [
       "       Pregnancy  PNC Visit Rate  PNC Visit Missed - #  Total U1 Assessments  \\\n",
       "count    1353.00         1353.00               1353.00               1353.00   \n",
       "mean        0.30            0.14                  0.16                  0.89   \n",
       "std         0.65            0.34                  0.41                  1.33   \n",
       "min         0.00            0.00                  0.00                  0.00   \n",
       "25%         0.00            0.00                  0.00                  0.00   \n",
       "50%         0.00            0.00                  0.00                  0.00   \n",
       "75%         0.00            0.00                  0.00                  1.00   \n",
       "max         4.00            1.00                  3.00                  9.00   \n",
       "\n",
       "       Total U1 Treatments  Total U5 Assessments  Total U5 Treatments  \\\n",
       "count              1353.00               1353.00              1353.00   \n",
       "mean                  0.36                  3.94                 1.84   \n",
       "std                   0.82                  4.43                 2.85   \n",
       "min                   0.00                  0.00                 0.00   \n",
       "25%                   0.00                  0.00                 0.00   \n",
       "50%                   0.00                  3.00                 1.00   \n",
       "75%                   0.00                  7.00                 3.00   \n",
       "max                   6.00                 25.00                23.00   \n",
       "\n",
       "       U5 Malaria  U5 Diarrhea  U5 Pneumonia  \\\n",
       "count     1353.00      1353.00       1353.00   \n",
       "mean         1.08         0.37          0.39   \n",
       "std          2.17         0.84          0.98   \n",
       "min          0.00         0.00          0.00   \n",
       "25%          0.00         0.00          0.00   \n",
       "50%          0.00         0.00          0.00   \n",
       "75%          1.00         0.00          0.00   \n",
       "max         18.00        10.00         10.00   \n",
       "\n",
       "       On Time Referral f/u Treatment U5  Missed Visits    %mRDT  \\\n",
       "count                            1353.00        1353.00  1353.00   \n",
       "mean                                0.18           0.17     0.44   \n",
       "std                                 0.37           0.59     0.47   \n",
       "min                                 0.00           0.00     0.00   \n",
       "25%                                 0.00           0.00     0.00   \n",
       "50%                                 0.00           0.00     0.00   \n",
       "75%                                 0.00           0.00     1.00   \n",
       "max                                 1.00           7.00     1.00   \n",
       "\n",
       "       All Malaria Assessments  All Malaria Treatments  Act 6pack Issue  \\\n",
       "count                  1353.00                 1353.00          1353.00   \n",
       "mean                      2.13                    1.44             2.83   \n",
       "std                       3.71                    3.02             6.61   \n",
       "min                       0.00                    0.00             0.00   \n",
       "25%                       0.00                    0.00             0.00   \n",
       "50%                       0.00                    0.00             0.00   \n",
       "75%                       3.00                    2.00             3.00   \n",
       "max                      32.00                   26.00            63.00   \n",
       "\n",
       "       mRDT Used     Sales  Community Events  Households Registered  \n",
       "count    1353.00   1353.00           1353.00                1353.00  \n",
       "mean        2.13    337.56              0.28                 107.68  \n",
       "std         3.71   1109.23              0.72                  36.74  \n",
       "min         0.00      0.00              0.00                  22.00  \n",
       "25%         0.00      0.00              0.00                  81.00  \n",
       "50%         0.00      0.00              0.00                 103.00  \n",
       "75%         3.00    195.00              0.00                 127.00  \n",
       "max        32.00  18032.34              7.00                 243.00  "
      ]
     },
     "execution_count": 14,
     "metadata": {},
     "output_type": "execute_result"
    }
   ],
   "source": [
    "dataset.describe().round(2)"
   ]
  },
  {
   "cell_type": "code",
   "execution_count": 22,
   "metadata": {},
   "outputs": [
    {
     "data": {
      "text/plain": [
       "CHP ID                               042d8caa-5ff0-4b35-8aac-80e7015a76e931ac0ec5-b...\n",
       "Pregnancy                                                                          406\n",
       "PNC Visit Rate                                                                 191.667\n",
       "PNC Visit Missed - #                                                               215\n",
       "Total U1 Assessments                                                              1201\n",
       "Total U1 Treatments                                                                488\n",
       "Total U5 Assessments                                                              5332\n",
       "Total U5 Treatments                                                               2493\n",
       "U5 Malaria                                                                        1466\n",
       "U5 Diarrhea                                                                        497\n",
       "U5 Pneumonia                                                                       530\n",
       "On Time Referral f/u Treatment U5                                              240.877\n",
       "Missed Visits                                                                      229\n",
       "%mRDT                                                                          590.537\n",
       "All Malaria Assessments                                                           2888\n",
       "All Malaria Treatments                                                            1951\n",
       "Act 6pack Issue                                                                   3826\n",
       "mRDT Used                                                                         2888\n",
       "Sales                                                                           456714\n",
       "Community Events                                                                   381\n",
       "Households Registered                                                           145693\n",
       "Country                              KEKEKEKEKEKEKEKEKEKEKEKEKEKEKEKEKEKEKEKEKEKEKE...\n",
       "dtype: object"
      ]
     },
     "execution_count": 22,
     "metadata": {},
     "output_type": "execute_result"
    }
   ],
   "source": [
    "dataset.sum()"
   ]
  },
  {
   "cell_type": "code",
   "execution_count": 15,
   "metadata": {},
   "outputs": [
    {
     "data": {
      "text/plain": [
       "0    Axes(0.125,0.125;0.775x0.755)\n",
       "1    Axes(0.125,0.125;0.775x0.755)\n",
       "2    Axes(0.125,0.125;0.775x0.755)\n",
       "dtype: object"
      ]
     },
     "execution_count": 15,
     "metadata": {},
     "output_type": "execute_result"
    },
    {
     "data": {
      "image/png": "[encoded data removed]",
      "text/plain": [
       "<matplotlib.figure.Figure at 0x1eeb3f0a400>"
      ]
     },
     "metadata": {},
     "output_type": "display_data"
    }
   ],
   "source": [
    "## Box plots\n",
    "pd.Series(argz_EPMs).apply( lambda x: sns.boxplot( dataset[x] ) )"
   ]
  },
  {
   "cell_type": "code",
   "execution_count": 16,
   "metadata": {},
   "outputs": [
    {
     "data": {
      "text/plain": [
       "<matplotlib.axes._subplots.AxesSubplot at 0x1eeb3c84a90>"
      ]
     },
     "execution_count": 16,
     "metadata": {},
     "output_type": "execute_result"
    },
    {
     "data": {
      "image/png": "[encoded data removed]",
      "text/plain": [
       "<matplotlib.figure.Figure at 0x1eeb3d1d128>"
      ]
     },
     "metadata": {},
     "output_type": "display_data"
    }
   ],
   "source": [
    "sns.boxplot( dataset[argz_EPMs])"
   ]
  },
  {
   "cell_type": "code",
   "execution_count": 20,
   "metadata": {},
   "outputs": [
    {
     "data": {
      "text/plain": [
       "array([<matplotlib.axes._subplots.AxesSubplot object at 0x0000026459BD7AC8>,\n",
       "       <matplotlib.axes._subplots.AxesSubplot object at 0x000002645B19AC18>,\n",
       "       <matplotlib.axes._subplots.AxesSubplot object at 0x000002645B1CA898>], dtype=object)"
      ]
     },
     "execution_count": 20,
     "metadata": {},
     "output_type": "execute_result"
    },
    {
     "data": {
      "image/png": "[encoded data removed]",
      "text/plain": [
       "<matplotlib.figure.Figure at 0x2645bf5e6a0>"
      ]
     },
     "metadata": {},
     "output_type": "display_data"
    }
   ],
   "source": [
    "fig, ax = plt.subplots( figsize=(15,15), ncols=3)\n",
    "dataset.boxplot( argz_EPMs,\"Country\", ax)"
   ]
  },
  {
   "cell_type": "code",
   "execution_count": 18,
   "metadata": {},
   "outputs": [
    {
     "data": {
      "text/plain": [
       "<matplotlib.axes._subplots.AxesSubplot at 0x1eeb54b7c88>"
      ]
     },
     "execution_count": 18,
     "metadata": {},
     "output_type": "execute_result"
    },
    {
     "data": {
      "image/png": "[encoded data removed]",
      "text/plain": [
       "<matplotlib.figure.Figure at 0x1eeb3c6cb00>"
      ]
     },
     "metadata": {},
     "output_type": "display_data"
    }
   ],
   "source": [
    "\n",
    "sns.boxplot( dataset[\"Households Registered\"])"
   ]
  },
  {
   "cell_type": "code",
   "execution_count": 19,
   "metadata": {},
   "outputs": [
    {
     "data": {
      "text/plain": [
       "<matplotlib.axes._subplots.AxesSubplot at 0x1eeb54a3eb8>"
      ]
     },
     "execution_count": 19,
     "metadata": {},
     "output_type": "execute_result"
    },
    {
     "data": {
      "image/png": "[encoded data removed]",
      "text/plain": [
       "<matplotlib.figure.Figure at 0x1eeb3ebee48>"
      ]
     },
     "metadata": {},
     "output_type": "display_data"
    }
   ],
   "source": [
    "sns.boxplot( dataset[\"Sales\"])"
   ]
  },
  {
   "cell_type": "code",
   "execution_count": 20,
   "metadata": {},
   "outputs": [
    {
     "data": {
      "text/plain": [
       "<matplotlib.axes._subplots.AxesSubplot at 0x1eeb52beda0>"
      ]
     },
     "execution_count": 20,
     "metadata": {},
     "output_type": "execute_result"
    },
    {
     "data": {
      "image/png": "[encoded data removed]",
      "text/plain": [
       "<matplotlib.figure.Figure at 0x1eeb52e11d0>"
      ]
     },
     "metadata": {},
     "output_type": "display_data"
    }
   ],
   "source": [
    "sns.boxplot( dataset[\"Total U5 Assessments\"])"
   ]
  },
  {
   "cell_type": "code",
   "execution_count": 21,
   "metadata": {},
   "outputs": [
    {
     "data": {
      "text/plain": [
       "<matplotlib.axes._subplots.AxesSubplot at 0x1eeb5387828>"
      ]
     },
     "execution_count": 21,
     "metadata": {},
     "output_type": "execute_result"
    },
    {
     "data": {
      "image/png": "[encoded data removed]",
      "text/plain": [
       "<matplotlib.figure.Figure at 0x1eeb36c8c88>"
      ]
     },
     "metadata": {},
     "output_type": "display_data"
    }
   ],
   "source": [
    "sns.barplot( dataset[ argz_U1_care] )"
   ]
  },
  {
   "cell_type": "markdown",
   "metadata": {},
   "source": [
    "# Correlations "
   ]
  },
  {
   "cell_type": "code",
   "execution_count": 22,
   "metadata": {},
   "outputs": [
    {
     "data": {
      "text/html": [
       "<div>\n",
       "<style>\n",
       "    .dataframe thead tr:only-child th {\n",
       "        text-align: right;\n",
       "    }\n",
       "\n",
       "    .dataframe thead th {\n",
       "        text-align: left;\n",
       "    }\n",
       "\n",
       "    .dataframe tbody tr th {\n",
       "        vertical-align: top;\n",
       "    }\n",
       "</style>\n",
       "<table border=\"1\" class=\"dataframe\">\n",
       "  <thead>\n",
       "    <tr style=\"text-align: right;\">\n",
       "      <th></th>\n",
       "      <th>Total U5 Assessments</th>\n",
       "      <th>Total U1 Assessments</th>\n",
       "      <th>Pregnancy</th>\n",
       "      <th>Sales</th>\n",
       "      <th>Community Events</th>\n",
       "    </tr>\n",
       "  </thead>\n",
       "  <tbody>\n",
       "    <tr>\n",
       "      <th>Total U5 Assessments</th>\n",
       "      <td>1.000</td>\n",
       "      <td>0.757</td>\n",
       "      <td>0.241</td>\n",
       "      <td>0.080</td>\n",
       "      <td>0.300</td>\n",
       "    </tr>\n",
       "    <tr>\n",
       "      <th>Total U1 Assessments</th>\n",
       "      <td>0.757</td>\n",
       "      <td>1.000</td>\n",
       "      <td>0.243</td>\n",
       "      <td>0.088</td>\n",
       "      <td>0.250</td>\n",
       "    </tr>\n",
       "    <tr>\n",
       "      <th>Pregnancy</th>\n",
       "      <td>0.241</td>\n",
       "      <td>0.243</td>\n",
       "      <td>1.000</td>\n",
       "      <td>0.110</td>\n",
       "      <td>0.087</td>\n",
       "    </tr>\n",
       "    <tr>\n",
       "      <th>Sales</th>\n",
       "      <td>0.080</td>\n",
       "      <td>0.088</td>\n",
       "      <td>0.110</td>\n",
       "      <td>1.000</td>\n",
       "      <td>0.135</td>\n",
       "    </tr>\n",
       "    <tr>\n",
       "      <th>Community Events</th>\n",
       "      <td>0.300</td>\n",
       "      <td>0.250</td>\n",
       "      <td>0.087</td>\n",
       "      <td>0.135</td>\n",
       "      <td>1.000</td>\n",
       "    </tr>\n",
       "  </tbody>\n",
       "</table>\n",
       "</div>"
      ],
      "text/plain": [
       "                      Total U5 Assessments  Total U1 Assessments  Pregnancy  \\\n",
       "Total U5 Assessments                 1.000                 0.757      0.241   \n",
       "Total U1 Assessments                 0.757                 1.000      0.243   \n",
       "Pregnancy                            0.241                 0.243      1.000   \n",
       "Sales                                0.080                 0.088      0.110   \n",
       "Community Events                     0.300                 0.250      0.087   \n",
       "\n",
       "                      Sales  Community Events  \n",
       "Total U5 Assessments  0.080             0.300  \n",
       "Total U1 Assessments  0.088             0.250  \n",
       "Pregnancy             0.110             0.087  \n",
       "Sales                 1.000             0.135  \n",
       "Community Events      0.135             1.000  "
      ]
     },
     "execution_count": 22,
     "metadata": {},
     "output_type": "execute_result"
    }
   ],
   "source": [
    "# Operations and EPMs\n",
    "dataset[ argz_EPMs + argz_Ops].corr().round(3)"
   ]
  },
  {
   "cell_type": "code",
   "execution_count": 23,
   "metadata": {
    "scrolled": true
   },
   "outputs": [
    {
     "data": {
      "text/html": [
       "<div>\n",
       "<style>\n",
       "    .dataframe thead tr:only-child th {\n",
       "        text-align: right;\n",
       "    }\n",
       "\n",
       "    .dataframe thead th {\n",
       "        text-align: left;\n",
       "    }\n",
       "\n",
       "    .dataframe tbody tr th {\n",
       "        vertical-align: top;\n",
       "    }\n",
       "</style>\n",
       "<table border=\"1\" class=\"dataframe\">\n",
       "  <thead>\n",
       "    <tr style=\"text-align: right;\">\n",
       "      <th></th>\n",
       "      <th>Pregnancy</th>\n",
       "      <th>PNC Visit Rate</th>\n",
       "      <th>PNC Visit Missed - #</th>\n",
       "      <th>Total U5 Assessments</th>\n",
       "      <th>Total U5 Treatments</th>\n",
       "      <th>On Time Referral f/u Treatment U5</th>\n",
       "      <th>Missed Visits</th>\n",
       "      <th>Sales</th>\n",
       "      <th>Community Events</th>\n",
       "    </tr>\n",
       "  </thead>\n",
       "  <tbody>\n",
       "    <tr>\n",
       "      <th>Pregnancy</th>\n",
       "      <td>1.000</td>\n",
       "      <td>0.143</td>\n",
       "      <td>-0.021</td>\n",
       "      <td>0.241</td>\n",
       "      <td>0.215</td>\n",
       "      <td>0.215</td>\n",
       "      <td>0.110</td>\n",
       "      <td>0.110</td>\n",
       "      <td>0.087</td>\n",
       "    </tr>\n",
       "    <tr>\n",
       "      <th>PNC Visit Rate</th>\n",
       "      <td>0.143</td>\n",
       "      <td>1.000</td>\n",
       "      <td>-0.098</td>\n",
       "      <td>0.263</td>\n",
       "      <td>0.190</td>\n",
       "      <td>0.149</td>\n",
       "      <td>0.047</td>\n",
       "      <td>0.049</td>\n",
       "      <td>0.133</td>\n",
       "    </tr>\n",
       "    <tr>\n",
       "      <th>PNC Visit Missed - #</th>\n",
       "      <td>-0.021</td>\n",
       "      <td>-0.098</td>\n",
       "      <td>1.000</td>\n",
       "      <td>-0.081</td>\n",
       "      <td>-0.078</td>\n",
       "      <td>-0.071</td>\n",
       "      <td>-0.010</td>\n",
       "      <td>0.034</td>\n",
       "      <td>-0.076</td>\n",
       "    </tr>\n",
       "    <tr>\n",
       "      <th>Total U5 Assessments</th>\n",
       "      <td>0.241</td>\n",
       "      <td>0.263</td>\n",
       "      <td>-0.081</td>\n",
       "      <td>1.000</td>\n",
       "      <td>0.678</td>\n",
       "      <td>0.375</td>\n",
       "      <td>0.221</td>\n",
       "      <td>0.080</td>\n",
       "      <td>0.300</td>\n",
       "    </tr>\n",
       "    <tr>\n",
       "      <th>Total U5 Treatments</th>\n",
       "      <td>0.215</td>\n",
       "      <td>0.190</td>\n",
       "      <td>-0.078</td>\n",
       "      <td>0.678</td>\n",
       "      <td>1.000</td>\n",
       "      <td>0.309</td>\n",
       "      <td>0.222</td>\n",
       "      <td>0.069</td>\n",
       "      <td>0.173</td>\n",
       "    </tr>\n",
       "    <tr>\n",
       "      <th>On Time Referral f/u Treatment U5</th>\n",
       "      <td>0.215</td>\n",
       "      <td>0.149</td>\n",
       "      <td>-0.071</td>\n",
       "      <td>0.375</td>\n",
       "      <td>0.309</td>\n",
       "      <td>1.000</td>\n",
       "      <td>0.031</td>\n",
       "      <td>0.050</td>\n",
       "      <td>0.176</td>\n",
       "    </tr>\n",
       "    <tr>\n",
       "      <th>Missed Visits</th>\n",
       "      <td>0.110</td>\n",
       "      <td>0.047</td>\n",
       "      <td>-0.010</td>\n",
       "      <td>0.221</td>\n",
       "      <td>0.222</td>\n",
       "      <td>0.031</td>\n",
       "      <td>1.000</td>\n",
       "      <td>0.018</td>\n",
       "      <td>0.041</td>\n",
       "    </tr>\n",
       "    <tr>\n",
       "      <th>Sales</th>\n",
       "      <td>0.110</td>\n",
       "      <td>0.049</td>\n",
       "      <td>0.034</td>\n",
       "      <td>0.080</td>\n",
       "      <td>0.069</td>\n",
       "      <td>0.050</td>\n",
       "      <td>0.018</td>\n",
       "      <td>1.000</td>\n",
       "      <td>0.135</td>\n",
       "    </tr>\n",
       "    <tr>\n",
       "      <th>Community Events</th>\n",
       "      <td>0.087</td>\n",
       "      <td>0.133</td>\n",
       "      <td>-0.076</td>\n",
       "      <td>0.300</td>\n",
       "      <td>0.173</td>\n",
       "      <td>0.176</td>\n",
       "      <td>0.041</td>\n",
       "      <td>0.135</td>\n",
       "      <td>1.000</td>\n",
       "    </tr>\n",
       "  </tbody>\n",
       "</table>\n",
       "</div>"
      ],
      "text/plain": [
       "                                   Pregnancy  PNC Visit Rate  \\\n",
       "Pregnancy                              1.000           0.143   \n",
       "PNC Visit Rate                         0.143           1.000   \n",
       "PNC Visit Missed - #                  -0.021          -0.098   \n",
       "Total U5 Assessments                   0.241           0.263   \n",
       "Total U5 Treatments                    0.215           0.190   \n",
       "On Time Referral f/u Treatment U5      0.215           0.149   \n",
       "Missed Visits                          0.110           0.047   \n",
       "Sales                                  0.110           0.049   \n",
       "Community Events                       0.087           0.133   \n",
       "\n",
       "                                   PNC Visit Missed - #  Total U5 Assessments  \\\n",
       "Pregnancy                                        -0.021                 0.241   \n",
       "PNC Visit Rate                                   -0.098                 0.263   \n",
       "PNC Visit Missed - #                              1.000                -0.081   \n",
       "Total U5 Assessments                             -0.081                 1.000   \n",
       "Total U5 Treatments                              -0.078                 0.678   \n",
       "On Time Referral f/u Treatment U5                -0.071                 0.375   \n",
       "Missed Visits                                    -0.010                 0.221   \n",
       "Sales                                             0.034                 0.080   \n",
       "Community Events                                 -0.076                 0.300   \n",
       "\n",
       "                                   Total U5 Treatments  \\\n",
       "Pregnancy                                        0.215   \n",
       "PNC Visit Rate                                   0.190   \n",
       "PNC Visit Missed - #                            -0.078   \n",
       "Total U5 Assessments                             0.678   \n",
       "Total U5 Treatments                              1.000   \n",
       "On Time Referral f/u Treatment U5                0.309   \n",
       "Missed Visits                                    0.222   \n",
       "Sales                                            0.069   \n",
       "Community Events                                 0.173   \n",
       "\n",
       "                                   On Time Referral f/u Treatment U5  \\\n",
       "Pregnancy                                                      0.215   \n",
       "PNC Visit Rate                                                 0.149   \n",
       "PNC Visit Missed - #                                          -0.071   \n",
       "Total U5 Assessments                                           0.375   \n",
       "Total U5 Treatments                                            0.309   \n",
       "On Time Referral f/u Treatment U5                              1.000   \n",
       "Missed Visits                                                  0.031   \n",
       "Sales                                                          0.050   \n",
       "Community Events                                               0.176   \n",
       "\n",
       "                                   Missed Visits  Sales  Community Events  \n",
       "Pregnancy                                  0.110  0.110             0.087  \n",
       "PNC Visit Rate                             0.047  0.049             0.133  \n",
       "PNC Visit Missed - #                      -0.010  0.034            -0.076  \n",
       "Total U5 Assessments                       0.221  0.080             0.300  \n",
       "Total U5 Treatments                        0.222  0.069             0.173  \n",
       "On Time Referral f/u Treatment U5          0.031  0.050             0.176  \n",
       "Missed Visits                              1.000  0.018             0.041  \n",
       "Sales                                      0.018  1.000             0.135  \n",
       "Community Events                           0.041  0.135             1.000  "
      ]
     },
     "execution_count": 23,
     "metadata": {},
     "output_type": "execute_result"
    }
   ],
   "source": [
    "# Ops + Pregnancies & Child care\n",
    "dataset[ argz_pregoz + argz_U5_care + argz_Ops].corr().round(3)\n"
   ]
  },
  {
   "cell_type": "code",
   "execution_count": 24,
   "metadata": {},
   "outputs": [
    {
     "data": {
      "text/plain": [
       "<matplotlib.axes._subplots.AxesSubplot at 0x1eeb540e438>"
      ]
     },
     "execution_count": 24,
     "metadata": {},
     "output_type": "execute_result"
    },
    {
     "data": {
      "image/png": "[encoded data removed]",
      "text/plain": [
       "<matplotlib.figure.Figure at 0x1eeb5427d68>"
      ]
     },
     "metadata": {},
     "output_type": "display_data"
    }
   ],
   "source": [
    "## Plot it \n",
    "cor_outz = dataset[ [\"Sales\", \"Community Events\", \"Pregnancy\", \"Total U5 Assessments\", \"On Time Referral f/u Treatment U5\"]].corr().round(3)\n",
    "# Generate a mask for the upper triangle\n",
    "mask = np.zeros_like(cor_outz, dtype=np.bool)\n",
    "mask[np.triu_indices_from(mask)] = True\n",
    "\n",
    "# Set up the matplotlib figure\n",
    "f, ax = plt.subplots(figsize=(11, 9))\n",
    "\n",
    "# Generate a custom diverging colormap\n",
    "cmap = sns.diverging_palette(220, 10, as_cmap=True)\n",
    "\n",
    "# Draw the heatmap with the mask and correct aspect ratio\n",
    "sns.heatmap(cor_outz, mask=mask, cmap=cmap, vmax=.3, center=0,\n",
    "            square=True, linewidths=.5, cbar_kws={\"shrink\": .5})"
   ]
  },
  {
   "cell_type": "code",
   "execution_count": 25,
   "metadata": {},
   "outputs": [
    {
     "data": {
      "text/html": [
       "<div>\n",
       "<style>\n",
       "    .dataframe thead tr:only-child th {\n",
       "        text-align: right;\n",
       "    }\n",
       "\n",
       "    .dataframe thead th {\n",
       "        text-align: left;\n",
       "    }\n",
       "\n",
       "    .dataframe tbody tr th {\n",
       "        vertical-align: top;\n",
       "    }\n",
       "</style>\n",
       "<table border=\"1\" class=\"dataframe\">\n",
       "  <thead>\n",
       "    <tr style=\"text-align: right;\">\n",
       "      <th></th>\n",
       "      <th>Pregnancy</th>\n",
       "      <th>PNC Visit Rate</th>\n",
       "      <th>PNC Visit Missed - #</th>\n",
       "      <th>Total U5 Assessments</th>\n",
       "      <th>Total U5 Treatments</th>\n",
       "      <th>On Time Referral f/u Treatment U5</th>\n",
       "      <th>Missed Visits</th>\n",
       "      <th>Sales</th>\n",
       "      <th>Community Events</th>\n",
       "    </tr>\n",
       "  </thead>\n",
       "  <tbody>\n",
       "    <tr>\n",
       "      <th>Pregnancy</th>\n",
       "      <td>1.000</td>\n",
       "      <td>-0.010</td>\n",
       "      <td>-0.023</td>\n",
       "      <td>0.592</td>\n",
       "      <td>0.456</td>\n",
       "      <td>-0.014</td>\n",
       "      <td>0.705</td>\n",
       "      <td>0.257</td>\n",
       "      <td>0.705</td>\n",
       "    </tr>\n",
       "    <tr>\n",
       "      <th>PNC Visit Rate</th>\n",
       "      <td>-0.010</td>\n",
       "      <td>1.000</td>\n",
       "      <td>0.441</td>\n",
       "      <td>0.351</td>\n",
       "      <td>0.030</td>\n",
       "      <td>0.705</td>\n",
       "      <td>-0.007</td>\n",
       "      <td>0.080</td>\n",
       "      <td>-0.007</td>\n",
       "    </tr>\n",
       "    <tr>\n",
       "      <th>PNC Visit Missed - #</th>\n",
       "      <td>-0.023</td>\n",
       "      <td>0.441</td>\n",
       "      <td>1.000</td>\n",
       "      <td>0.449</td>\n",
       "      <td>0.352</td>\n",
       "      <td>0.626</td>\n",
       "      <td>-0.016</td>\n",
       "      <td>0.441</td>\n",
       "      <td>-0.016</td>\n",
       "    </tr>\n",
       "    <tr>\n",
       "      <th>Total U5 Assessments</th>\n",
       "      <td>0.592</td>\n",
       "      <td>0.351</td>\n",
       "      <td>0.449</td>\n",
       "      <td>1.000</td>\n",
       "      <td>0.910</td>\n",
       "      <td>0.733</td>\n",
       "      <td>0.550</td>\n",
       "      <td>0.770</td>\n",
       "      <td>0.284</td>\n",
       "    </tr>\n",
       "    <tr>\n",
       "      <th>Total U5 Treatments</th>\n",
       "      <td>0.456</td>\n",
       "      <td>0.030</td>\n",
       "      <td>0.352</td>\n",
       "      <td>0.910</td>\n",
       "      <td>1.000</td>\n",
       "      <td>0.575</td>\n",
       "      <td>0.613</td>\n",
       "      <td>0.735</td>\n",
       "      <td>0.030</td>\n",
       "    </tr>\n",
       "    <tr>\n",
       "      <th>On Time Referral f/u Treatment U5</th>\n",
       "      <td>-0.014</td>\n",
       "      <td>0.705</td>\n",
       "      <td>0.626</td>\n",
       "      <td>0.733</td>\n",
       "      <td>0.575</td>\n",
       "      <td>1.000</td>\n",
       "      <td>-0.010</td>\n",
       "      <td>0.711</td>\n",
       "      <td>-0.010</td>\n",
       "    </tr>\n",
       "    <tr>\n",
       "      <th>Missed Visits</th>\n",
       "      <td>0.705</td>\n",
       "      <td>-0.007</td>\n",
       "      <td>-0.016</td>\n",
       "      <td>0.550</td>\n",
       "      <td>0.613</td>\n",
       "      <td>-0.010</td>\n",
       "      <td>1.000</td>\n",
       "      <td>-0.010</td>\n",
       "      <td>-0.007</td>\n",
       "    </tr>\n",
       "    <tr>\n",
       "      <th>Sales</th>\n",
       "      <td>0.257</td>\n",
       "      <td>0.080</td>\n",
       "      <td>0.441</td>\n",
       "      <td>0.770</td>\n",
       "      <td>0.735</td>\n",
       "      <td>0.711</td>\n",
       "      <td>-0.010</td>\n",
       "      <td>1.000</td>\n",
       "      <td>0.372</td>\n",
       "    </tr>\n",
       "    <tr>\n",
       "      <th>Community Events</th>\n",
       "      <td>0.705</td>\n",
       "      <td>-0.007</td>\n",
       "      <td>-0.016</td>\n",
       "      <td>0.284</td>\n",
       "      <td>0.030</td>\n",
       "      <td>-0.010</td>\n",
       "      <td>-0.007</td>\n",
       "      <td>0.372</td>\n",
       "      <td>1.000</td>\n",
       "    </tr>\n",
       "  </tbody>\n",
       "</table>\n",
       "</div>"
      ],
      "text/plain": [
       "                                   Pregnancy  PNC Visit Rate  \\\n",
       "Pregnancy                              1.000          -0.010   \n",
       "PNC Visit Rate                        -0.010           1.000   \n",
       "PNC Visit Missed - #                  -0.023           0.441   \n",
       "Total U5 Assessments                   0.592           0.351   \n",
       "Total U5 Treatments                    0.456           0.030   \n",
       "On Time Referral f/u Treatment U5     -0.014           0.705   \n",
       "Missed Visits                          0.705          -0.007   \n",
       "Sales                                  0.257           0.080   \n",
       "Community Events                       0.705          -0.007   \n",
       "\n",
       "                                   PNC Visit Missed - #  Total U5 Assessments  \\\n",
       "Pregnancy                                        -0.023                 0.592   \n",
       "PNC Visit Rate                                    0.441                 0.351   \n",
       "PNC Visit Missed - #                              1.000                 0.449   \n",
       "Total U5 Assessments                              0.449                 1.000   \n",
       "Total U5 Treatments                               0.352                 0.910   \n",
       "On Time Referral f/u Treatment U5                 0.626                 0.733   \n",
       "Missed Visits                                    -0.016                 0.550   \n",
       "Sales                                             0.441                 0.770   \n",
       "Community Events                                 -0.016                 0.284   \n",
       "\n",
       "                                   Total U5 Treatments  \\\n",
       "Pregnancy                                        0.456   \n",
       "PNC Visit Rate                                   0.030   \n",
       "PNC Visit Missed - #                             0.352   \n",
       "Total U5 Assessments                             0.910   \n",
       "Total U5 Treatments                              1.000   \n",
       "On Time Referral f/u Treatment U5                0.575   \n",
       "Missed Visits                                    0.613   \n",
       "Sales                                            0.735   \n",
       "Community Events                                 0.030   \n",
       "\n",
       "                                   On Time Referral f/u Treatment U5  \\\n",
       "Pregnancy                                                     -0.014   \n",
       "PNC Visit Rate                                                 0.705   \n",
       "PNC Visit Missed - #                                           0.626   \n",
       "Total U5 Assessments                                           0.733   \n",
       "Total U5 Treatments                                            0.575   \n",
       "On Time Referral f/u Treatment U5                              1.000   \n",
       "Missed Visits                                                 -0.010   \n",
       "Sales                                                          0.711   \n",
       "Community Events                                              -0.010   \n",
       "\n",
       "                                   Missed Visits  Sales  Community Events  \n",
       "Pregnancy                                  0.705  0.257             0.705  \n",
       "PNC Visit Rate                            -0.007  0.080            -0.007  \n",
       "PNC Visit Missed - #                      -0.016  0.441            -0.016  \n",
       "Total U5 Assessments                       0.550  0.770             0.284  \n",
       "Total U5 Treatments                        0.613  0.735             0.030  \n",
       "On Time Referral f/u Treatment U5         -0.010  0.711            -0.010  \n",
       "Missed Visits                              1.000 -0.010            -0.007  \n",
       "Sales                                     -0.010  1.000             0.372  \n",
       "Community Events                          -0.007  0.372             1.000  "
      ]
     },
     "execution_count": 25,
     "metadata": {},
     "output_type": "execute_result"
    }
   ],
   "source": [
    "dt_outliers[ argz_pregoz + argz_U5_care + argz_Ops].corr().round(3)"
   ]
  },
  {
   "cell_type": "code",
   "execution_count": 26,
   "metadata": {},
   "outputs": [
    {
     "data": {
      "text/plain": [
       "<matplotlib.axes._subplots.AxesSubplot at 0x1eeb5a3b5f8>"
      ]
     },
     "execution_count": 26,
     "metadata": {},
     "output_type": "execute_result"
    },
    {
     "data": {
      "image/png": "[encoded data removed]",
      "text/plain": [
       "<matplotlib.figure.Figure at 0x1eeb54279b0>"
      ]
     },
     "metadata": {},
     "output_type": "display_data"
    }
   ],
   "source": [
    "## Plot it \n",
    "cor_outz = dt_outliers[ [\"Sales\", \"Community Events\", \"Pregnancy\", \"Total U5 Assessments\", \"On Time Referral f/u Treatment U5\"]].corr().round(3)\n",
    "\n",
    "# Generate a mask for the upper triangle\n",
    "mask = np.zeros_like(cor_outz, dtype=np.bool)\n",
    "mask[np.triu_indices_from(mask)] = True\n",
    "\n",
    "# Set up the matplotlib figure\n",
    "f, ax = plt.subplots(figsize=(11, 9))\n",
    "\n",
    "# Generate a custom diverging colormap\n",
    "cmap = sns.diverging_palette(220, 10, as_cmap=True)\n",
    "\n",
    "# Draw the heatmap with the mask and correct aspect ratio\n",
    "sns.heatmap(cor_outz, mask=mask, cmap=cmap, vmax=.3, center=0,\n",
    "            square=True, linewidths=.5, cbar_kws={\"shrink\": .5})"
   ]
  },
  {
   "cell_type": "markdown",
   "metadata": {},
   "source": [
    "#### Correlations within outliers\n",
    "- TODO: Classify by HH registration quintiles "
   ]
  },
  {
   "cell_type": "code",
   "execution_count": 27,
   "metadata": {},
   "outputs": [
    {
     "data": {
      "text/html": [
       "<div>\n",
       "<style>\n",
       "    .dataframe thead tr:only-child th {\n",
       "        text-align: right;\n",
       "    }\n",
       "\n",
       "    .dataframe thead th {\n",
       "        text-align: left;\n",
       "    }\n",
       "\n",
       "    .dataframe tbody tr th {\n",
       "        vertical-align: top;\n",
       "    }\n",
       "</style>\n",
       "<table border=\"1\" class=\"dataframe\">\n",
       "  <thead>\n",
       "    <tr style=\"text-align: right;\">\n",
       "      <th></th>\n",
       "      <th>U5 Malaria</th>\n",
       "      <th>U5 Diarrhea</th>\n",
       "      <th>U5 Pneumonia</th>\n",
       "      <th>Total U5 Assessments</th>\n",
       "      <th>Total U1 Assessments</th>\n",
       "      <th>Pregnancy</th>\n",
       "    </tr>\n",
       "  </thead>\n",
       "  <tbody>\n",
       "    <tr>\n",
       "      <th>U5 Malaria</th>\n",
       "      <td>1.000</td>\n",
       "      <td>0.172</td>\n",
       "      <td>0.155</td>\n",
       "      <td>0.583</td>\n",
       "      <td>0.405</td>\n",
       "      <td>0.149</td>\n",
       "    </tr>\n",
       "    <tr>\n",
       "      <th>U5 Diarrhea</th>\n",
       "      <td>0.172</td>\n",
       "      <td>1.000</td>\n",
       "      <td>0.273</td>\n",
       "      <td>0.371</td>\n",
       "      <td>0.289</td>\n",
       "      <td>0.162</td>\n",
       "    </tr>\n",
       "    <tr>\n",
       "      <th>U5 Pneumonia</th>\n",
       "      <td>0.155</td>\n",
       "      <td>0.273</td>\n",
       "      <td>1.000</td>\n",
       "      <td>0.362</td>\n",
       "      <td>0.317</td>\n",
       "      <td>0.158</td>\n",
       "    </tr>\n",
       "    <tr>\n",
       "      <th>Total U5 Assessments</th>\n",
       "      <td>0.583</td>\n",
       "      <td>0.371</td>\n",
       "      <td>0.362</td>\n",
       "      <td>1.000</td>\n",
       "      <td>0.757</td>\n",
       "      <td>0.241</td>\n",
       "    </tr>\n",
       "    <tr>\n",
       "      <th>Total U1 Assessments</th>\n",
       "      <td>0.405</td>\n",
       "      <td>0.289</td>\n",
       "      <td>0.317</td>\n",
       "      <td>0.757</td>\n",
       "      <td>1.000</td>\n",
       "      <td>0.243</td>\n",
       "    </tr>\n",
       "    <tr>\n",
       "      <th>Pregnancy</th>\n",
       "      <td>0.149</td>\n",
       "      <td>0.162</td>\n",
       "      <td>0.158</td>\n",
       "      <td>0.241</td>\n",
       "      <td>0.243</td>\n",
       "      <td>1.000</td>\n",
       "    </tr>\n",
       "  </tbody>\n",
       "</table>\n",
       "</div>"
      ],
      "text/plain": [
       "                      U5 Malaria  U5 Diarrhea  U5 Pneumonia  \\\n",
       "U5 Malaria                 1.000        0.172         0.155   \n",
       "U5 Diarrhea                0.172        1.000         0.273   \n",
       "U5 Pneumonia               0.155        0.273         1.000   \n",
       "Total U5 Assessments       0.583        0.371         0.362   \n",
       "Total U1 Assessments       0.405        0.289         0.317   \n",
       "Pregnancy                  0.149        0.162         0.158   \n",
       "\n",
       "                      Total U5 Assessments  Total U1 Assessments  Pregnancy  \n",
       "U5 Malaria                           0.583                 0.405      0.149  \n",
       "U5 Diarrhea                          0.371                 0.289      0.162  \n",
       "U5 Pneumonia                         0.362                 0.317      0.158  \n",
       "Total U5 Assessments                 1.000                 0.757      0.241  \n",
       "Total U1 Assessments                 0.757                 1.000      0.243  \n",
       "Pregnancy                            0.241                 0.243      1.000  "
      ]
     },
     "execution_count": 27,
     "metadata": {},
     "output_type": "execute_result"
    }
   ],
   "source": [
    "\n",
    "cor_outz = dataset[ argz_U5_diseases + argz_EPMs].corr().round(3)\n",
    "cor_outz"
   ]
  },
  {
   "cell_type": "code",
   "execution_count": 28,
   "metadata": {},
   "outputs": [
    {
     "data": {
      "text/plain": [
       "<matplotlib.axes._subplots.AxesSubplot at 0x1eeb5905ac8>"
      ]
     },
     "execution_count": 28,
     "metadata": {},
     "output_type": "execute_result"
    },
    {
     "data": {
      "image/png": "[encoded data removed]",
      "text/plain": [
       "<matplotlib.figure.Figure at 0x1eeb58f57b8>"
      ]
     },
     "metadata": {},
     "output_type": "display_data"
    }
   ],
   "source": [
    "## Plot it \n",
    "# Generate a mask for the upper triangle\n",
    "mask = np.zeros_like(cor_outz, dtype=np.bool)\n",
    "mask[np.triu_indices_from(mask)] = True\n",
    "\n",
    "# Set up the matplotlib figure\n",
    "f, ax = plt.subplots(figsize=(11, 9))\n",
    "\n",
    "# Generate a custom diverging colormap\n",
    "cmap = sns.diverging_palette(220, 10, as_cmap=True)\n",
    "\n",
    "# Draw the heatmap with the mask and correct aspect ratio\n",
    "sns.heatmap(cor_outz, mask=mask, cmap=cmap, vmax=.3, center=0,\n",
    "            square=True, linewidths=.5, cbar_kws={\"shrink\": .5})"
   ]
  },
  {
   "cell_type": "code",
   "execution_count": 29,
   "metadata": {},
   "outputs": [
    {
     "data": {
      "text/html": [
       "<div>\n",
       "<style>\n",
       "    .dataframe thead tr:only-child th {\n",
       "        text-align: right;\n",
       "    }\n",
       "\n",
       "    .dataframe thead th {\n",
       "        text-align: left;\n",
       "    }\n",
       "\n",
       "    .dataframe tbody tr th {\n",
       "        vertical-align: top;\n",
       "    }\n",
       "</style>\n",
       "<table border=\"1\" class=\"dataframe\">\n",
       "  <thead>\n",
       "    <tr style=\"text-align: right;\">\n",
       "      <th></th>\n",
       "      <th>All Malaria Assessments</th>\n",
       "      <th>All Malaria Treatments</th>\n",
       "      <th>Act 6pack Issue</th>\n",
       "      <th>mRDT Used</th>\n",
       "      <th>%mRDT</th>\n",
       "    </tr>\n",
       "  </thead>\n",
       "  <tbody>\n",
       "    <tr>\n",
       "      <th>All Malaria Assessments</th>\n",
       "      <td>1.000</td>\n",
       "      <td>0.933</td>\n",
       "      <td>0.883</td>\n",
       "      <td>1.000</td>\n",
       "      <td>0.610</td>\n",
       "    </tr>\n",
       "    <tr>\n",
       "      <th>All Malaria Treatments</th>\n",
       "      <td>0.933</td>\n",
       "      <td>1.000</td>\n",
       "      <td>0.950</td>\n",
       "      <td>0.933</td>\n",
       "      <td>0.517</td>\n",
       "    </tr>\n",
       "    <tr>\n",
       "      <th>Act 6pack Issue</th>\n",
       "      <td>0.883</td>\n",
       "      <td>0.950</td>\n",
       "      <td>1.000</td>\n",
       "      <td>0.883</td>\n",
       "      <td>0.459</td>\n",
       "    </tr>\n",
       "    <tr>\n",
       "      <th>mRDT Used</th>\n",
       "      <td>1.000</td>\n",
       "      <td>0.933</td>\n",
       "      <td>0.883</td>\n",
       "      <td>1.000</td>\n",
       "      <td>0.610</td>\n",
       "    </tr>\n",
       "    <tr>\n",
       "      <th>%mRDT</th>\n",
       "      <td>0.610</td>\n",
       "      <td>0.517</td>\n",
       "      <td>0.459</td>\n",
       "      <td>0.610</td>\n",
       "      <td>1.000</td>\n",
       "    </tr>\n",
       "  </tbody>\n",
       "</table>\n",
       "</div>"
      ],
      "text/plain": [
       "                         All Malaria Assessments  All Malaria Treatments  \\\n",
       "All Malaria Assessments                    1.000                   0.933   \n",
       "All Malaria Treatments                     0.933                   1.000   \n",
       "Act 6pack Issue                            0.883                   0.950   \n",
       "mRDT Used                                  1.000                   0.933   \n",
       "%mRDT                                      0.610                   0.517   \n",
       "\n",
       "                         Act 6pack Issue  mRDT Used  %mRDT  \n",
       "All Malaria Assessments            0.883      1.000  0.610  \n",
       "All Malaria Treatments             0.950      0.933  0.517  \n",
       "Act 6pack Issue                    1.000      0.883  0.459  \n",
       "mRDT Used                          0.883      1.000  0.610  \n",
       "%mRDT                              0.459      0.610  1.000  "
      ]
     },
     "execution_count": 29,
     "metadata": {},
     "output_type": "execute_result"
    }
   ],
   "source": [
    "dataset[ argz_malaria].corr().round(3) "
   ]
  },
  {
   "cell_type": "code",
   "execution_count": 30,
   "metadata": {},
   "outputs": [
    {
     "data": {
      "text/html": [
       "<div>\n",
       "<style>\n",
       "    .dataframe thead tr:only-child th {\n",
       "        text-align: right;\n",
       "    }\n",
       "\n",
       "    .dataframe thead th {\n",
       "        text-align: left;\n",
       "    }\n",
       "\n",
       "    .dataframe tbody tr th {\n",
       "        vertical-align: top;\n",
       "    }\n",
       "</style>\n",
       "<table border=\"1\" class=\"dataframe\">\n",
       "  <thead>\n",
       "    <tr style=\"text-align: right;\">\n",
       "      <th></th>\n",
       "      <th>Pregnancy</th>\n",
       "      <th>PNC Visit Rate</th>\n",
       "      <th>PNC Visit Missed - #</th>\n",
       "    </tr>\n",
       "  </thead>\n",
       "  <tbody>\n",
       "    <tr>\n",
       "      <th>Pregnancy</th>\n",
       "      <td>1.000</td>\n",
       "      <td>0.143</td>\n",
       "      <td>-0.021</td>\n",
       "    </tr>\n",
       "    <tr>\n",
       "      <th>PNC Visit Rate</th>\n",
       "      <td>0.143</td>\n",
       "      <td>1.000</td>\n",
       "      <td>-0.098</td>\n",
       "    </tr>\n",
       "    <tr>\n",
       "      <th>PNC Visit Missed - #</th>\n",
       "      <td>-0.021</td>\n",
       "      <td>-0.098</td>\n",
       "      <td>1.000</td>\n",
       "    </tr>\n",
       "  </tbody>\n",
       "</table>\n",
       "</div>"
      ],
      "text/plain": [
       "                      Pregnancy  PNC Visit Rate  PNC Visit Missed - #\n",
       "Pregnancy                 1.000           0.143                -0.021\n",
       "PNC Visit Rate            0.143           1.000                -0.098\n",
       "PNC Visit Missed - #     -0.021          -0.098                 1.000"
      ]
     },
     "execution_count": 30,
     "metadata": {},
     "output_type": "execute_result"
    }
   ],
   "source": [
    "dataset[ argz_pregoz].corr().round(3) "
   ]
  },
  {
   "cell_type": "markdown",
   "metadata": {},
   "source": [
    "# Regressions\n",
    "- TODO: add grouping types OR get population means for Ho testing \n"
   ]
  },
  {
   "cell_type": "markdown",
   "metadata": {},
   "source": [
    "# When HH Quintile Classified\n",
    "- Classifying CHPs based on how many HHs they've registered. \n",
    "    - Q1 is a low registration group while Q5 is highest. "
   ]
  },
  {
   "cell_type": "code",
   "execution_count": 31,
   "metadata": {},
   "outputs": [
    {
     "data": {
      "text/plain": [
       "Quint_1    286\n",
       "Quint_3    272\n",
       "Quint_5    268\n",
       "Quint_4    267\n",
       "Quint_2    260\n",
       "Name: HHQuintiles, dtype: int64"
      ]
     },
     "execution_count": 31,
     "metadata": {},
     "output_type": "execute_result"
    }
   ],
   "source": [
    "dataset[\"HHQuintiles\"] = pd.qcut( dataset[\"Households Registered\"], 5, labels=[\"Quint_1\", \"Quint_2\", \"Quint_3\", \"Quint_4\", \"Quint_5\"]) \n",
    "\n",
    "dataset.HHQuintiles.value_counts()"
   ]
  },
  {
   "cell_type": "code",
   "execution_count": 32,
   "metadata": {},
   "outputs": [
    {
     "data": {
      "text/html": [
       "<div>\n",
       "<style>\n",
       "    .dataframe thead tr:only-child th {\n",
       "        text-align: right;\n",
       "    }\n",
       "\n",
       "    .dataframe thead th {\n",
       "        text-align: left;\n",
       "    }\n",
       "\n",
       "    .dataframe tbody tr th {\n",
       "        vertical-align: top;\n",
       "    }\n",
       "</style>\n",
       "<table border=\"1\" class=\"dataframe\">\n",
       "  <thead>\n",
       "    <tr>\n",
       "      <th></th>\n",
       "      <th>CHP ID</th>\n",
       "      <th colspan=\"2\" halign=\"left\">Households Registered</th>\n",
       "      <th>Pregnancy</th>\n",
       "      <th>All Malaria Assessments</th>\n",
       "      <th>Total U5 Assessments</th>\n",
       "      <th>Total U1 Assessments</th>\n",
       "    </tr>\n",
       "    <tr>\n",
       "      <th></th>\n",
       "      <th># CHPs</th>\n",
       "      <th># HHs</th>\n",
       "      <th>Avg.CHP.Size</th>\n",
       "      <th># Pregoz Cases</th>\n",
       "      <th># Malaria Cases</th>\n",
       "      <th># Child Cases</th>\n",
       "      <th># U1 Cases</th>\n",
       "    </tr>\n",
       "    <tr>\n",
       "      <th>HHQuintiles</th>\n",
       "      <th></th>\n",
       "      <th></th>\n",
       "      <th></th>\n",
       "      <th></th>\n",
       "      <th></th>\n",
       "      <th></th>\n",
       "      <th></th>\n",
       "    </tr>\n",
       "  </thead>\n",
       "  <tbody>\n",
       "    <tr>\n",
       "      <th>Quint_1</th>\n",
       "      <td>286</td>\n",
       "      <td>18252</td>\n",
       "      <td>64.0</td>\n",
       "      <td>39</td>\n",
       "      <td>481</td>\n",
       "      <td>901</td>\n",
       "      <td>192</td>\n",
       "    </tr>\n",
       "    <tr>\n",
       "      <th>Quint_2</th>\n",
       "      <td>260</td>\n",
       "      <td>22420</td>\n",
       "      <td>86.0</td>\n",
       "      <td>80</td>\n",
       "      <td>475</td>\n",
       "      <td>1118</td>\n",
       "      <td>248</td>\n",
       "    </tr>\n",
       "    <tr>\n",
       "      <th>Quint_3</th>\n",
       "      <td>272</td>\n",
       "      <td>28231</td>\n",
       "      <td>104.0</td>\n",
       "      <td>83</td>\n",
       "      <td>569</td>\n",
       "      <td>1133</td>\n",
       "      <td>235</td>\n",
       "    </tr>\n",
       "    <tr>\n",
       "      <th>Quint_4</th>\n",
       "      <td>267</td>\n",
       "      <td>32757</td>\n",
       "      <td>123.0</td>\n",
       "      <td>83</td>\n",
       "      <td>672</td>\n",
       "      <td>1048</td>\n",
       "      <td>243</td>\n",
       "    </tr>\n",
       "    <tr>\n",
       "      <th>Quint_5</th>\n",
       "      <td>268</td>\n",
       "      <td>44033</td>\n",
       "      <td>164.0</td>\n",
       "      <td>121</td>\n",
       "      <td>691</td>\n",
       "      <td>1132</td>\n",
       "      <td>283</td>\n",
       "    </tr>\n",
       "  </tbody>\n",
       "</table>\n",
       "</div>"
      ],
      "text/plain": [
       "            CHP ID Households Registered                   Pregnancy  \\\n",
       "            # CHPs                 # HHs Avg.CHP.Size # Pregoz Cases   \n",
       "HHQuintiles                                                            \n",
       "Quint_1        286                 18252         64.0             39   \n",
       "Quint_2        260                 22420         86.0             80   \n",
       "Quint_3        272                 28231        104.0             83   \n",
       "Quint_4        267                 32757        123.0             83   \n",
       "Quint_5        268                 44033        164.0            121   \n",
       "\n",
       "            All Malaria Assessments Total U5 Assessments Total U1 Assessments  \n",
       "                    # Malaria Cases        # Child Cases           # U1 Cases  \n",
       "HHQuintiles                                                                    \n",
       "Quint_1                         481                  901                  192  \n",
       "Quint_2                         475                 1118                  248  \n",
       "Quint_3                         569                 1133                  235  \n",
       "Quint_4                         672                 1048                  243  \n",
       "Quint_5                         691                 1132                  283  "
      ]
     },
     "execution_count": 32,
     "metadata": {},
     "output_type": "execute_result"
    }
   ],
   "source": [
    "## Sample Structure\n",
    "\n",
    "argz = { \n",
    "    \"CHP ID\": {\"# CHPs\": \"count\"},\n",
    "    \"Households Registered\": { \"# HHs\": \"sum\", \"Avg.CHP.Size\": \"mean\"},\n",
    "    \"Pregnancy\" : { \"# Pregoz Cases\": \"sum\"},\n",
    "    \"All Malaria Assessments\" : { \"# Malaria Cases\": \"sum\"},\n",
    "    \"Total U5 Assessments\" : { \"# Child Cases\": \"sum\"},\n",
    "    \"Total U1 Assessments\" : { \"# U1 Cases\": \"sum\"}\n",
    "}\n",
    "\n",
    "#dt1 = \n",
    "dataset.groupby(\"HHQuintiles\").agg( argz).round(0)\n"
   ]
  },
  {
   "cell_type": "code",
   "execution_count": 33,
   "metadata": {
    "collapsed": true,
    "scrolled": false
   },
   "outputs": [],
   "source": [
    "## Plot their distributions \n",
    "#fig, ax = plt.subplots( figsize=(10,10))\n",
    "#dataset.hist( argz_EPMs+argz_Ops+[\"Households Registered\"], by=\"HHQuintiles\", ax=ax)\n",
    "#g = sns.FacetGrid(dataset, col=\"Sales\", hue=\"HHQuintile\", palette=\"Set1\", col_wrap=2)\n",
    "#g.map(plt.hist, 'value', ec=\"k\")\n",
    "\n",
    "#g.axes[-1].legend()\n",
    "#plt.show()"
   ]
  },
  {
   "cell_type": "code",
   "execution_count": 34,
   "metadata": {},
   "outputs": [
    {
     "ename": "ValueError",
     "evalue": "Could not interpret input 'HHQuintile'",
     "output_type": "error",
     "traceback": [
      "\u001b[1;31m---------------------------------------------------------------------------\u001b[0m",
      "\u001b[1;31mValueError\u001b[0m                                Traceback (most recent call last)",
      "\u001b[1;32m<ipython-input-34-70fc925fa3f1>\u001b[0m in \u001b[0;36m<module>\u001b[1;34m()\u001b[0m\n\u001b[1;32m----> 1\u001b[1;33m \u001b[0mpd\u001b[0m\u001b[1;33m.\u001b[0m\u001b[0mSeries\u001b[0m\u001b[1;33m(\u001b[0m \u001b[0margz_EPMs\u001b[0m\u001b[1;33m+\u001b[0m\u001b[0margz_Ops\u001b[0m\u001b[1;33m+\u001b[0m\u001b[1;33m[\u001b[0m\u001b[1;34m\"Households Registered\"\u001b[0m\u001b[1;33m]\u001b[0m\u001b[1;33m)\u001b[0m\u001b[1;33m.\u001b[0m\u001b[0mapply\u001b[0m\u001b[1;33m(\u001b[0m \u001b[1;32mlambda\u001b[0m \u001b[0mx\u001b[0m\u001b[1;33m:\u001b[0m \u001b[0msns\u001b[0m\u001b[1;33m.\u001b[0m\u001b[0mfactorplot\u001b[0m\u001b[1;33m(\u001b[0m \u001b[0mkind\u001b[0m\u001b[1;33m=\u001b[0m\u001b[1;34m\"box\"\u001b[0m\u001b[1;33m,\u001b[0m \u001b[0my\u001b[0m\u001b[1;33m=\u001b[0m\u001b[0mx\u001b[0m\u001b[1;33m,\u001b[0m \u001b[0mx\u001b[0m\u001b[1;33m=\u001b[0m\u001b[1;34m\"HHQuintile\"\u001b[0m\u001b[1;33m,\u001b[0m \u001b[0mdata\u001b[0m\u001b[1;33m=\u001b[0m\u001b[0mdataset\u001b[0m \u001b[1;33m)\u001b[0m \u001b[1;33m)\u001b[0m\u001b[1;33m\u001b[0m\u001b[0m\n\u001b[0m",
      "\u001b[1;32m~\\Anaconda3\\lib\\site-packages\\pandas\\core\\series.py\u001b[0m in \u001b[0;36mapply\u001b[1;34m(self, func, convert_dtype, args, **kwds)\u001b[0m\n\u001b[0;32m   2353\u001b[0m             \u001b[1;32melse\u001b[0m\u001b[1;33m:\u001b[0m\u001b[1;33m\u001b[0m\u001b[0m\n\u001b[0;32m   2354\u001b[0m                 \u001b[0mvalues\u001b[0m \u001b[1;33m=\u001b[0m \u001b[0mself\u001b[0m\u001b[1;33m.\u001b[0m\u001b[0masobject\u001b[0m\u001b[1;33m\u001b[0m\u001b[0m\n\u001b[1;32m-> 2355\u001b[1;33m                 \u001b[0mmapped\u001b[0m \u001b[1;33m=\u001b[0m \u001b[0mlib\u001b[0m\u001b[1;33m.\u001b[0m\u001b[0mmap_infer\u001b[0m\u001b[1;33m(\u001b[0m\u001b[0mvalues\u001b[0m\u001b[1;33m,\u001b[0m \u001b[0mf\u001b[0m\u001b[1;33m,\u001b[0m \u001b[0mconvert\u001b[0m\u001b[1;33m=\u001b[0m\u001b[0mconvert_dtype\u001b[0m\u001b[1;33m)\u001b[0m\u001b[1;33m\u001b[0m\u001b[0m\n\u001b[0m\u001b[0;32m   2356\u001b[0m \u001b[1;33m\u001b[0m\u001b[0m\n\u001b[0;32m   2357\u001b[0m         \u001b[1;32mif\u001b[0m \u001b[0mlen\u001b[0m\u001b[1;33m(\u001b[0m\u001b[0mmapped\u001b[0m\u001b[1;33m)\u001b[0m \u001b[1;32mand\u001b[0m \u001b[0misinstance\u001b[0m\u001b[1;33m(\u001b[0m\u001b[0mmapped\u001b[0m\u001b[1;33m[\u001b[0m\u001b[1;36m0\u001b[0m\u001b[1;33m]\u001b[0m\u001b[1;33m,\u001b[0m \u001b[0mSeries\u001b[0m\u001b[1;33m)\u001b[0m\u001b[1;33m:\u001b[0m\u001b[1;33m\u001b[0m\u001b[0m\n",
      "\u001b[1;32mpandas/_libs/src\\inference.pyx\u001b[0m in \u001b[0;36mpandas._libs.lib.map_infer\u001b[1;34m()\u001b[0m\n",
      "\u001b[1;32m<ipython-input-34-70fc925fa3f1>\u001b[0m in \u001b[0;36m<lambda>\u001b[1;34m(x)\u001b[0m\n\u001b[1;32m----> 1\u001b[1;33m \u001b[0mpd\u001b[0m\u001b[1;33m.\u001b[0m\u001b[0mSeries\u001b[0m\u001b[1;33m(\u001b[0m \u001b[0margz_EPMs\u001b[0m\u001b[1;33m+\u001b[0m\u001b[0margz_Ops\u001b[0m\u001b[1;33m+\u001b[0m\u001b[1;33m[\u001b[0m\u001b[1;34m\"Households Registered\"\u001b[0m\u001b[1;33m]\u001b[0m\u001b[1;33m)\u001b[0m\u001b[1;33m.\u001b[0m\u001b[0mapply\u001b[0m\u001b[1;33m(\u001b[0m \u001b[1;32mlambda\u001b[0m \u001b[0mx\u001b[0m\u001b[1;33m:\u001b[0m \u001b[0msns\u001b[0m\u001b[1;33m.\u001b[0m\u001b[0mfactorplot\u001b[0m\u001b[1;33m(\u001b[0m \u001b[0mkind\u001b[0m\u001b[1;33m=\u001b[0m\u001b[1;34m\"box\"\u001b[0m\u001b[1;33m,\u001b[0m \u001b[0my\u001b[0m\u001b[1;33m=\u001b[0m\u001b[0mx\u001b[0m\u001b[1;33m,\u001b[0m \u001b[0mx\u001b[0m\u001b[1;33m=\u001b[0m\u001b[1;34m\"HHQuintile\"\u001b[0m\u001b[1;33m,\u001b[0m \u001b[0mdata\u001b[0m\u001b[1;33m=\u001b[0m\u001b[0mdataset\u001b[0m \u001b[1;33m)\u001b[0m \u001b[1;33m)\u001b[0m\u001b[1;33m\u001b[0m\u001b[0m\n\u001b[0m",
      "\u001b[1;32m~\\Anaconda3\\lib\\site-packages\\seaborn\\categorical.py\u001b[0m in \u001b[0;36mfactorplot\u001b[1;34m(x, y, hue, data, row, col, col_wrap, estimator, ci, n_boot, units, order, hue_order, row_order, col_order, kind, size, aspect, orient, color, palette, legend, legend_out, sharex, sharey, margin_titles, facet_kws, **kwargs)\u001b[0m\n\u001b[0;32m   3470\u001b[0m     \u001b[1;31m# facets to ensure representation of all data in the final plot\u001b[0m\u001b[1;33m\u001b[0m\u001b[1;33m\u001b[0m\u001b[0m\n\u001b[0;32m   3471\u001b[0m     \u001b[0mp\u001b[0m \u001b[1;33m=\u001b[0m \u001b[0m_CategoricalPlotter\u001b[0m\u001b[1;33m(\u001b[0m\u001b[1;33m)\u001b[0m\u001b[1;33m\u001b[0m\u001b[0m\n\u001b[1;32m-> 3472\u001b[1;33m     \u001b[0mp\u001b[0m\u001b[1;33m.\u001b[0m\u001b[0mestablish_variables\u001b[0m\u001b[1;33m(\u001b[0m\u001b[0mx_\u001b[0m\u001b[1;33m,\u001b[0m \u001b[0my_\u001b[0m\u001b[1;33m,\u001b[0m \u001b[0mhue\u001b[0m\u001b[1;33m,\u001b[0m \u001b[0mdata\u001b[0m\u001b[1;33m,\u001b[0m \u001b[0morient\u001b[0m\u001b[1;33m,\u001b[0m \u001b[0morder\u001b[0m\u001b[1;33m,\u001b[0m \u001b[0mhue_order\u001b[0m\u001b[1;33m)\u001b[0m\u001b[1;33m\u001b[0m\u001b[0m\n\u001b[0m\u001b[0;32m   3473\u001b[0m     \u001b[0morder\u001b[0m \u001b[1;33m=\u001b[0m \u001b[0mp\u001b[0m\u001b[1;33m.\u001b[0m\u001b[0mgroup_names\u001b[0m\u001b[1;33m\u001b[0m\u001b[0m\n\u001b[0;32m   3474\u001b[0m     \u001b[0mhue_order\u001b[0m \u001b[1;33m=\u001b[0m \u001b[0mp\u001b[0m\u001b[1;33m.\u001b[0m\u001b[0mhue_names\u001b[0m\u001b[1;33m\u001b[0m\u001b[0m\n",
      "\u001b[1;32m~\\Anaconda3\\lib\\site-packages\\seaborn\\categorical.py\u001b[0m in \u001b[0;36mestablish_variables\u001b[1;34m(self, x, y, hue, data, orient, order, hue_order, units)\u001b[0m\n\u001b[0;32m    149\u001b[0m                 \u001b[1;32mif\u001b[0m \u001b[0misinstance\u001b[0m\u001b[1;33m(\u001b[0m\u001b[0minput\u001b[0m\u001b[1;33m,\u001b[0m \u001b[0mstring_types\u001b[0m\u001b[1;33m)\u001b[0m\u001b[1;33m:\u001b[0m\u001b[1;33m\u001b[0m\u001b[0m\n\u001b[0;32m    150\u001b[0m                     \u001b[0merr\u001b[0m \u001b[1;33m=\u001b[0m \u001b[1;34m\"Could not interpret input '{}'\"\u001b[0m\u001b[1;33m.\u001b[0m\u001b[0mformat\u001b[0m\u001b[1;33m(\u001b[0m\u001b[0minput\u001b[0m\u001b[1;33m)\u001b[0m\u001b[1;33m\u001b[0m\u001b[0m\n\u001b[1;32m--> 151\u001b[1;33m                     \u001b[1;32mraise\u001b[0m \u001b[0mValueError\u001b[0m\u001b[1;33m(\u001b[0m\u001b[0merr\u001b[0m\u001b[1;33m)\u001b[0m\u001b[1;33m\u001b[0m\u001b[0m\n\u001b[0m\u001b[0;32m    152\u001b[0m \u001b[1;33m\u001b[0m\u001b[0m\n\u001b[0;32m    153\u001b[0m             \u001b[1;31m# Figure out the plotting orientation\u001b[0m\u001b[1;33m\u001b[0m\u001b[1;33m\u001b[0m\u001b[0m\n",
      "\u001b[1;31mValueError\u001b[0m: Could not interpret input 'HHQuintile'"
     ]
    }
   ],
   "source": [
    "pd.Series( argz_EPMs+argz_Ops+[\"Households Registered\"]).apply( lambda x: sns.factorplot( kind=\"box\", y=x, x=\"HHQuintile\", data=dataset ) )"
   ]
  },
  {
   "cell_type": "markdown",
   "metadata": {},
   "source": [
    "# Appendix "
   ]
  },
  {
   "cell_type": "code",
   "execution_count": 35,
   "metadata": {},
   "outputs": [
    {
     "data": {
      "text/html": [
       "<div>\n",
       "<style>\n",
       "    .dataframe thead tr:only-child th {\n",
       "        text-align: right;\n",
       "    }\n",
       "\n",
       "    .dataframe thead th {\n",
       "        text-align: left;\n",
       "    }\n",
       "\n",
       "    .dataframe tbody tr th {\n",
       "        vertical-align: top;\n",
       "    }\n",
       "</style>\n",
       "<table border=\"1\" class=\"dataframe\">\n",
       "  <thead>\n",
       "    <tr style=\"text-align: right;\">\n",
       "      <th></th>\n",
       "      <th>a</th>\n",
       "      <th>b</th>\n",
       "      <th>c</th>\n",
       "      <th>d</th>\n",
       "    </tr>\n",
       "  </thead>\n",
       "  <tbody>\n",
       "    <tr>\n",
       "      <th>count</th>\n",
       "      <td>10.00000</td>\n",
       "      <td>10.00000</td>\n",
       "      <td>10.000000</td>\n",
       "      <td>1.000000e+01</td>\n",
       "    </tr>\n",
       "    <tr>\n",
       "      <th>mean</th>\n",
       "      <td>5.50000</td>\n",
       "      <td>105.50000</td>\n",
       "      <td>111.000000</td>\n",
       "      <td>3.310394e+17</td>\n",
       "    </tr>\n",
       "    <tr>\n",
       "      <th>std</th>\n",
       "      <td>3.02765</td>\n",
       "      <td>3.02765</td>\n",
       "      <td>6.055301</td>\n",
       "      <td>7.360261e+17</td>\n",
       "    </tr>\n",
       "    <tr>\n",
       "      <th>min</th>\n",
       "      <td>1.00000</td>\n",
       "      <td>101.00000</td>\n",
       "      <td>102.000000</td>\n",
       "      <td>1.010000e+02</td>\n",
       "    </tr>\n",
       "    <tr>\n",
       "      <th>25%</th>\n",
       "      <td>3.25000</td>\n",
       "      <td>103.25000</td>\n",
       "      <td>106.500000</td>\n",
       "      <td>3.006601e+07</td>\n",
       "    </tr>\n",
       "    <tr>\n",
       "      <th>50%</th>\n",
       "      <td>5.50000</td>\n",
       "      <td>105.50000</td>\n",
       "      <td>111.000000</td>\n",
       "      <td>7.156410e+11</td>\n",
       "    </tr>\n",
       "    <tr>\n",
       "      <th>75%</th>\n",
       "      <td>7.75000</td>\n",
       "      <td>107.75000</td>\n",
       "      <td>115.500000</td>\n",
       "      <td>1.392212e+16</td>\n",
       "    </tr>\n",
       "    <tr>\n",
       "      <th>max</th>\n",
       "      <td>10.00000</td>\n",
       "      <td>110.00000</td>\n",
       "      <td>120.000000</td>\n",
       "      <td>2.171893e+18</td>\n",
       "    </tr>\n",
       "  </tbody>\n",
       "</table>\n",
       "</div>"
      ],
      "text/plain": [
       "              a          b           c             d\n",
       "count  10.00000   10.00000   10.000000  1.000000e+01\n",
       "mean    5.50000  105.50000  111.000000  3.310394e+17\n",
       "std     3.02765    3.02765    6.055301  7.360261e+17\n",
       "min     1.00000  101.00000  102.000000  1.010000e+02\n",
       "25%     3.25000  103.25000  106.500000  3.006601e+07\n",
       "50%     5.50000  105.50000  111.000000  7.156410e+11\n",
       "75%     7.75000  107.75000  115.500000  1.392212e+16\n",
       "max    10.00000  110.00000  120.000000  2.171893e+18"
      ]
     },
     "execution_count": 35,
     "metadata": {},
     "output_type": "execute_result"
    }
   ],
   "source": [
    "ab = pd.DataFrame( {\n",
    "    \"a\": [1,2,3,7,8,4,5,6,9,10],\n",
    "    \"b\": [101,102,103,107,108,104,105,106,109,110]\n",
    "})\n",
    "ab[\"c\"] = ab.a + ab.b \n",
    "ab[\"d\"] = ab.b**ab.a\n",
    "ab.describe()"
   ]
  },
  {
   "cell_type": "code",
   "execution_count": 36,
   "metadata": {},
   "outputs": [
    {
     "data": {
      "text/html": [
       "<div>\n",
       "<style>\n",
       "    .dataframe thead tr:only-child th {\n",
       "        text-align: right;\n",
       "    }\n",
       "\n",
       "    .dataframe thead th {\n",
       "        text-align: left;\n",
       "    }\n",
       "\n",
       "    .dataframe tbody tr th {\n",
       "        vertical-align: top;\n",
       "    }\n",
       "</style>\n",
       "<table border=\"1\" class=\"dataframe\">\n",
       "  <thead>\n",
       "    <tr style=\"text-align: right;\">\n",
       "      <th></th>\n",
       "      <th>a</th>\n",
       "      <th>b</th>\n",
       "      <th>c</th>\n",
       "      <th>d</th>\n",
       "      <th>Qs</th>\n",
       "    </tr>\n",
       "  </thead>\n",
       "  <tbody>\n",
       "    <tr>\n",
       "      <th>0</th>\n",
       "      <td>1</td>\n",
       "      <td>101</td>\n",
       "      <td>102</td>\n",
       "      <td>101</td>\n",
       "      <td>Q1</td>\n",
       "    </tr>\n",
       "    <tr>\n",
       "      <th>1</th>\n",
       "      <td>2</td>\n",
       "      <td>102</td>\n",
       "      <td>104</td>\n",
       "      <td>10404</td>\n",
       "      <td>Q1</td>\n",
       "    </tr>\n",
       "    <tr>\n",
       "      <th>2</th>\n",
       "      <td>3</td>\n",
       "      <td>103</td>\n",
       "      <td>106</td>\n",
       "      <td>1092727</td>\n",
       "      <td>Q1</td>\n",
       "    </tr>\n",
       "    <tr>\n",
       "      <th>3</th>\n",
       "      <td>7</td>\n",
       "      <td>107</td>\n",
       "      <td>114</td>\n",
       "      <td>160578147647843</td>\n",
       "      <td>Q3</td>\n",
       "    </tr>\n",
       "    <tr>\n",
       "      <th>4</th>\n",
       "      <td>8</td>\n",
       "      <td>108</td>\n",
       "      <td>116</td>\n",
       "      <td>18509302102818816</td>\n",
       "      <td>Q4</td>\n",
       "    </tr>\n",
       "    <tr>\n",
       "      <th>5</th>\n",
       "      <td>4</td>\n",
       "      <td>104</td>\n",
       "      <td>108</td>\n",
       "      <td>116985856</td>\n",
       "      <td>Q2</td>\n",
       "    </tr>\n",
       "    <tr>\n",
       "      <th>6</th>\n",
       "      <td>5</td>\n",
       "      <td>105</td>\n",
       "      <td>110</td>\n",
       "      <td>12762815625</td>\n",
       "      <td>Q2</td>\n",
       "    </tr>\n",
       "    <tr>\n",
       "      <th>7</th>\n",
       "      <td>6</td>\n",
       "      <td>106</td>\n",
       "      <td>112</td>\n",
       "      <td>1418519112256</td>\n",
       "      <td>Q3</td>\n",
       "    </tr>\n",
       "    <tr>\n",
       "      <th>8</th>\n",
       "      <td>9</td>\n",
       "      <td>109</td>\n",
       "      <td>118</td>\n",
       "      <td>2171893279442309389</td>\n",
       "      <td>Q4</td>\n",
       "    </tr>\n",
       "    <tr>\n",
       "      <th>9</th>\n",
       "      <td>10</td>\n",
       "      <td>110</td>\n",
       "      <td>120</td>\n",
       "      <td>1119828978066277376</td>\n",
       "      <td>Q4</td>\n",
       "    </tr>\n",
       "  </tbody>\n",
       "</table>\n",
       "</div>"
      ],
      "text/plain": [
       "    a    b    c                    d  Qs\n",
       "0   1  101  102                  101  Q1\n",
       "1   2  102  104                10404  Q1\n",
       "2   3  103  106              1092727  Q1\n",
       "3   7  107  114      160578147647843  Q3\n",
       "4   8  108  116    18509302102818816  Q4\n",
       "5   4  104  108            116985856  Q2\n",
       "6   5  105  110          12762815625  Q2\n",
       "7   6  106  112        1418519112256  Q3\n",
       "8   9  109  118  2171893279442309389  Q4\n",
       "9  10  110  120  1119828978066277376  Q4"
      ]
     },
     "execution_count": 36,
     "metadata": {},
     "output_type": "execute_result"
    }
   ],
   "source": [
    "ab[\"Qs\"] = pd.qcut(ab[\"a\"], 4, labels=[\"Q1\", \"Q2\", \"Q3\", \"Q4\"])\n",
    "ab"
   ]
  },
  {
   "cell_type": "code",
   "execution_count": null,
   "metadata": {
    "collapsed": true
   },
   "outputs": [],
   "source": []
  },
  {
   "cell_type": "code",
   "execution_count": null,
   "metadata": {
    "collapsed": true
   },
   "outputs": [],
   "source": []
  },
  {
   "cell_type": "code",
   "execution_count": null,
   "metadata": {
    "collapsed": true
   },
   "outputs": [],
   "source": []
  }
 ],
 "metadata": {
  "hide_input": false,
  "kernelspec": {
   "display_name": "Python 3",
   "language": "python",
   "name": "python3"
  },
  "language_info": {
   "codemirror_mode": {
    "name": "ipython",
    "version": 3
   },
   "file_extension": ".py",
   "mimetype": "text/x-python",
   "name": "python",
   "nbconvert_exporter": "python",
   "pygments_lexer": "ipython3",
   "version": "3.6.2"
  },
  "toc": {
   "nav_menu": {},
   "number_sections": true,
   "sideBar": true,
   "skip_h1_title": true,
   "title_cell": "Table of Contents",
   "title_sidebar": "Contents",
   "toc_cell": true,
   "toc_position": {},
   "toc_section_display": true,
   "toc_window_display": false
  }
 },
 "nbformat": 4,
 "nbformat_minor": 2
}
