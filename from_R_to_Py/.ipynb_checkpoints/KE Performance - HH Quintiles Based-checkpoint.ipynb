{
 "cells": [
  {
   "cell_type": "markdown",
   "metadata": {},
   "source": [
    "# Introduction\n",
    "A look at KE CHP performance based on HH registration (site size) quintiles. "
   ]
  },
  {
   "cell_type": "code",
   "execution_count": 40,
   "metadata": {},
   "outputs": [
    {
     "data": {
      "text/plain": [
       "(1493, 21)"
      ]
     },
     "execution_count": 40,
     "metadata": {},
     "output_type": "execute_result"
    },
    {
     "data": {
      "text/plain": [
       "CHP ID                                object\n",
       "Pregnancy                              int64\n",
       "PNC Visit Rate                       float64\n",
       "PNC Visit Missed - #                   int64\n",
       "Total U1 Assessments                   int64\n",
       "Total U1 Treatments                    int64\n",
       "Total U5 Assessments                   int64\n",
       "Total U5 Treatments                    int64\n",
       "U5 Malaria                             int64\n",
       "U5 Diarrhea                            int64\n",
       "U5 Pneumonia                           int64\n",
       "On Time Referral f/u Treatment U5    float64\n",
       "Missed Visits                          int64\n",
       "%mRDT                                float64\n",
       "All Malaria Assessments                int64\n",
       "All Malaria Treatments                 int64\n",
       "Act 6pack Issue                        int64\n",
       "mRDT Used                              int64\n",
       "Sales                                float64\n",
       "Community Events                       int64\n",
       "Households Registered                  int64\n",
       "dtype: object"
      ]
     },
     "execution_count": 40,
     "metadata": {},
     "output_type": "execute_result"
    }
   ],
   "source": [
    "## Setup\n",
    "# load libs/modules\n",
    "%run \"../utils/load_envz.ipynb\"\n",
    "\n",
    "# Load data set \n",
    "DATA_DIR = \"../dataset\"\n",
    "DATA_FILE = \"all_KE_CHVs_data_1493.csv\" \n",
    "dataset = pd.read_csv( \"%s/%s\" % (DATA_DIR, DATA_FILE) )\n",
    "\n",
    "dataset.shape\n",
    "dataset.dtypes\n"
   ]
  },
  {
   "cell_type": "code",
   "execution_count": 36,
   "metadata": {
    "collapsed": true
   },
   "outputs": [],
   "source": [
    "## Functions \n",
    "def sampleStructure(dtset, grp):\n",
    "    argz = { \n",
    "        \"CHP ID\": {\"# CHPs\": \"count\"},\n",
    "        \"Households Registered\": { \"# HHs\": \"sum\", \"Avg.CHP.Size\": \"mean\"},\n",
    "        \"Pregnancy\" : { \"# Pregoz Cases\": \"sum\"},\n",
    "        \"All Malaria Assessments\" : { \"# Malaria Cases\": \"sum\"},\n",
    "        \"Total U5 Assessments\" : { \"# Child Cases\": \"sum\"},\n",
    "        \"Total U1 Assessments\" : { \"# U1 Cases\": \"sum\"}\n",
    "    }\n",
    "    return dtset.groupby(grp).agg( argz).round(0)\n",
    "\n",
    "\n",
    "def summarize(dtset): \n",
    "    return dtset.describe().round(2)\n",
    "\n",
    "def distributionz(dtset, colz):\n",
    "    fig, ax = plt.subplots( figsize=(10,10))\n",
    "    return dtset.hist( colz, ax=ax)\n",
    "\n",
    "def boxplotz(dtset, colz, grp):\n",
    "    fig, ax = plt.subplots( figsize=(10,10))\n",
    "    return dtset.boxplot( colz, grp, ax)\n",
    "\n",
    "def corrz(dtset, colz):\n",
    "    return dtset[colz].corr().round(3)\n",
    "    \n",
    "def plotCorrz( cor_outz ):\n",
    "    # Generate a mask for the upper triangle\n",
    "    mask = np.zeros_like(cor_outz, dtype=np.bool)\n",
    "    mask[np.triu_indices_from(mask)] = True\n",
    "\n",
    "    # Set up the matplotlib figure\n",
    "    f, ax = plt.subplots(figsize=(11, 9))\n",
    "\n",
    "    # Generate a custom diverging colormap\n",
    "    cmap = sns.diverging_palette(220, 10, as_cmap=True)\n",
    "\n",
    "    # Draw the heatmap with the mask and correct aspect ratio\n",
    "    return cor_outz, sns.heatmap(cor_outz, mask=mask, cmap=cmap, vmax=.3, center=0,\n",
    "                square=True, linewidths=.5, cbar_kws={\"shrink\": .5})\n",
    "\n",
    "def quintilize(dtset, col, nbGrpz=5, labelzPrefix=\"Quint\"):\n",
    "    labelz = []\n",
    "    for i in range(nbGrpz):\n",
    "        labelz.append( labelzPrefix+\"_\"+str(i+1))\n",
    "    return pd.qcut( dtset[col], nbGrpz, labels=labelz) "
   ]
  },
  {
   "cell_type": "code",
   "execution_count": 38,
   "metadata": {},
   "outputs": [],
   "source": [
    "\n",
    "## themes | variable - outcome mapping\n",
    "argz_Units = [\"CHP ID\", \"Households Registered\"] \n",
    "argz_Ops = [ \"Sales\", \"Community Events\"]\n",
    "argz_pregoz = [ \"Pregnancy\", \"PNC Visit Rate\", \"PNC Visit Missed - #\"]\n",
    "argz_U1_care = [\"Total U1 Assessments\", \"Total U1 Treatments\"]\n",
    "argz_malaria = [ \"All Malaria Assessments\", \"All Malaria Treatments\", \"Act 6pack Issue\", \"mRDT Used\", \"%mRDT\"]\n",
    "argz_U5_diseases = [\"U5 Malaria\", \"U5 Diarrhea\", \"U5 Pneumonia\"]\n",
    "argz_U5_care = [\"Total U5 Assessments\", \"Total U5 Treatments\", \"On Time Referral f/u Treatment U5\", \"Missed Visits\"] \n",
    "\n",
    "argz_EPMs = [\"Households Registered\", \"Sales\", \"Community Events\", \"Total U5 Assessments\", \"Total U1 Assessments\", \"Pregnancy\"]\n",
    "\n",
    "## Additional Columns\n",
    "dataset[\"Country\"] = \"KE\"\n",
    "#dataset[\"HHQuintiles\"] = pd.qcut( dataset[\"Households Registered\"], 5, labels=[\"HH_Quint_1\", \"HH_Quint_2\", \"HH_Quint_3\", \"HH_Quint_4\", \"HH_Quint_5\"])\n",
    "pd.Series( [\"Households Registered\"]).apply( lambda x: quintilize(dataset, x))\n",
    "\n",
    "dataset[\"Pct_Assessments_U1_in_U5\"] = dataset[\"Total U1 Assessments\"] / dataset[\"Total U5 Assessments\"]\n",
    "dataset[\"Pct_Treatments_U1_in_U5\"] = dataset[\"Total U1 Treatments\"] / dataset[\"Total U5 Treatments\"] \n"
   ]
  },
  {
   "cell_type": "code",
   "execution_count": 29,
   "metadata": {
    "scrolled": true
   },
   "outputs": [
    {
     "name": "stderr",
     "output_type": "stream",
     "text": [
      "C:\\Users\\BILHA\\Anaconda3\\lib\\site-packages\\pandas\\core\\groupby.py:4036: FutureWarning: using a dict with renaming is deprecated and will be removed in a future version\n",
      "  return super(DataFrameGroupBy, self).aggregate(arg, *args, **kwargs)\n"
     ]
    },
    {
     "data": {
      "text/html": [
       "<div>\n",
       "<style>\n",
       "    .dataframe thead tr:only-child th {\n",
       "        text-align: right;\n",
       "    }\n",
       "\n",
       "    .dataframe thead th {\n",
       "        text-align: left;\n",
       "    }\n",
       "\n",
       "    .dataframe tbody tr th {\n",
       "        vertical-align: top;\n",
       "    }\n",
       "</style>\n",
       "<table border=\"1\" class=\"dataframe\">\n",
       "  <thead>\n",
       "    <tr>\n",
       "      <th></th>\n",
       "      <th>CHP ID</th>\n",
       "      <th colspan=\"2\" halign=\"left\">Households Registered</th>\n",
       "      <th>Pregnancy</th>\n",
       "      <th>All Malaria Assessments</th>\n",
       "      <th>Total U5 Assessments</th>\n",
       "      <th>Total U1 Assessments</th>\n",
       "    </tr>\n",
       "    <tr>\n",
       "      <th></th>\n",
       "      <th># CHPs</th>\n",
       "      <th># HHs</th>\n",
       "      <th>Avg.CHP.Size</th>\n",
       "      <th># Pregoz Cases</th>\n",
       "      <th># Malaria Cases</th>\n",
       "      <th># Child Cases</th>\n",
       "      <th># U1 Cases</th>\n",
       "    </tr>\n",
       "    <tr>\n",
       "      <th>Country</th>\n",
       "      <th></th>\n",
       "      <th></th>\n",
       "      <th></th>\n",
       "      <th></th>\n",
       "      <th></th>\n",
       "      <th></th>\n",
       "      <th></th>\n",
       "    </tr>\n",
       "  </thead>\n",
       "  <tbody>\n",
       "    <tr>\n",
       "      <th>KE</th>\n",
       "      <td>1493</td>\n",
       "      <td>147956</td>\n",
       "      <td>99.0</td>\n",
       "      <td>408</td>\n",
       "      <td>2986</td>\n",
       "      <td>5393</td>\n",
       "      <td>1216</td>\n",
       "    </tr>\n",
       "  </tbody>\n",
       "</table>\n",
       "</div>"
      ],
      "text/plain": [
       "        CHP ID Households Registered                   Pregnancy  \\\n",
       "        # CHPs                 # HHs Avg.CHP.Size # Pregoz Cases   \n",
       "Country                                                            \n",
       "KE        1493                147956         99.0            408   \n",
       "\n",
       "        All Malaria Assessments Total U5 Assessments Total U1 Assessments  \n",
       "                # Malaria Cases        # Child Cases           # U1 Cases  \n",
       "Country                                                                    \n",
       "KE                         2986                 5393                 1216  "
      ]
     },
     "execution_count": 29,
     "metadata": {},
     "output_type": "execute_result"
    }
   ],
   "source": [
    "sampleStructure(dataset, \"Country\")"
   ]
  },
  {
   "cell_type": "code",
   "execution_count": 31,
   "metadata": {},
   "outputs": [
    {
     "name": "stdout",
     "output_type": "stream",
     "text": [
      "0\n",
      "1\n",
      "2\n",
      "3\n",
      "4\n"
     ]
    }
   ],
   "source": [
    "for i in range(5):\n",
    "    print(i)"
   ]
  },
  {
   "cell_type": "code",
   "execution_count": null,
   "metadata": {
    "collapsed": true
   },
   "outputs": [],
   "source": []
  }
 ],
 "metadata": {
  "kernelspec": {
   "display_name": "Python 3",
   "language": "python",
   "name": "python3"
  },
  "language_info": {
   "codemirror_mode": {
    "name": "ipython",
    "version": 3
   },
   "file_extension": ".py",
   "mimetype": "text/x-python",
   "name": "python",
   "nbconvert_exporter": "python",
   "pygments_lexer": "ipython3",
   "version": "3.6.3"
  }
 },
 "nbformat": 4,
 "nbformat_minor": 2
}
