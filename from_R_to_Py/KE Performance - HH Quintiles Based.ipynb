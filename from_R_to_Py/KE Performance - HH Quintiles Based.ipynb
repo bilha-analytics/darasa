{
 "cells": [
  {
   "cell_type": "raw",
   "metadata": {},
   "source": [
    "<script>\n",
    "  function code_toggle() {\n",
    "    if (code_shown){\n",
    "      $('div.input').hide('500');\n",
    "      $('#toggleButton').val('Show Code')\n",
    "    } else {\n",
    "      $('div.input').show('500');\n",
    "      $('#toggleButton').val('Hide Code')\n",
    "    }\n",
    "    code_shown = !code_shown\n",
    "  }\n",
    "\n",
    "  $( document ).ready(function(){\n",
    "    code_shown=false;\n",
    "    $('div.input').hide()\n",
    "  });\n",
    "</script>\n",
    "<form action=\"javascript:code_toggle()\"><input type=\"submit\" id=\"toggleButton\" value=\"Show Code\"></form>"
   ]
  },
  {
   "cell_type": "markdown",
   "metadata": {
    "toc": true
   },
   "source": [
    "<h1>Table of Contents<span class=\"tocSkip\"></span></h1>\n",
    "<div class=\"toc\"><ul class=\"toc-item\"></ul></div>"
   ]
  },
  {
   "cell_type": "markdown",
   "metadata": {},
   "source": [
    "# Introduction\n",
    "A look at KE CHP performance based on HH registration (site size) quintiles. "
   ]
  },
  {
   "cell_type": "code",
   "execution_count": 11,
   "metadata": {
    "collapsed": true
   },
   "outputs": [],
   "source": [
    "## Setup\n",
    "# load libs/modules\n",
    "%run \"../utils/load_envz.ipynb\""
   ]
  },
  {
   "cell_type": "code",
   "execution_count": 2,
   "metadata": {
    "collapsed": true
   },
   "outputs": [],
   "source": [
    "# Load data set \n",
    "DATA_DIR = \"../dataset\"\n",
    "DATA_FILE = \"all_KE_CHVs_data_1493.csv\" \n",
    "dataset = pd.read_csv( \"%s/%s\" % (DATA_DIR, DATA_FILE) )\n",
    "\n",
    "#dataset.shape\n",
    "#dataset.dtypes\n"
   ]
  },
  {
   "cell_type": "code",
   "execution_count": 3,
   "metadata": {},
   "outputs": [
    {
     "name": "stdout",
     "output_type": "stream",
     "text": [
      " The variables\n"
     ]
    },
    {
     "data": {
      "text/plain": [
       "CHP ID                                 object\n",
       "Pregnancy                               int64\n",
       "PNC Visit Rate                        float64\n",
       "PNC Visit Missed - #                    int64\n",
       "Total U1 Assessments                    int64\n",
       "Total U1 Treatments                     int64\n",
       "Total U5 Assessments                    int64\n",
       "Total U5 Treatments                     int64\n",
       "U5 Malaria                              int64\n",
       "U5 Diarrhea                             int64\n",
       "U5 Pneumonia                            int64\n",
       "On Time Referral f/u Treatment U5     float64\n",
       "Missed Visits                           int64\n",
       "%mRDT                                 float64\n",
       "All Malaria Assessments                 int64\n",
       "All Malaria Treatments                  int64\n",
       "Act 6pack Issue                         int64\n",
       "mRDT Used                               int64\n",
       "Sales                                 float64\n",
       "Community Events                        int64\n",
       "Households Registered                   int64\n",
       "Country                                object\n",
       "Quints_Households Registered         category\n",
       "Pct_Assessments_U1_in_U5              float64\n",
       "Pct_Treatments_U1_in_U5               float64\n",
       "Pct_U5Malaria_in_U5                   float64\n",
       "Pct_U5Diarrhoea_in_U5                 float64\n",
       "Pct_U5Pneumonia_in_U5                 float64\n",
       "Pct_U5Malaria_in_All                  float64\n",
       "Pct_Treated_in_Assessed_U5            float64\n",
       "Pct_Ontime_Refferal_U5                float64\n",
       "Pct_TreatedMalaria_in_All             float64\n",
       "Ratio_mRDT_to_ACT                     float64\n",
       "dtype: object"
      ]
     },
     "execution_count": 3,
     "metadata": {},
     "output_type": "execute_result"
    }
   ],
   "source": [
    "## themes | variable - outcome mapping\n",
    "argz_Units = [\"CHP ID\", \"Households Registered\"] \n",
    "argz_Ops = [ \"Sales\", \"Community Events\"]\n",
    "argz_pregoz = [ \"Pregnancy\", \"PNC Visit Rate\", \"PNC Visit Missed - #\"]\n",
    "argz_U1_care = [\"Total U1 Assessments\", \"Total U1 Treatments\"]\n",
    "argz_malaria = [ \"All Malaria Assessments\", \"All Malaria Treatments\", \"Act 6pack Issue\", \"mRDT Used\", \"%mRDT\"]\n",
    "argz_U5_diseases = [\"U5 Malaria\", \"U5 Diarrhea\", \"U5 Pneumonia\"]\n",
    "argz_U5_care = [\"Total U5 Assessments\", \"Total U5 Treatments\", \"On Time Referral f/u Treatment U5\", \"Missed Visits\"] \n",
    "\n",
    "argz_EPMs = [\"Households Registered\", \"Sales\", \"Community Events\", \"Total U5 Assessments\", \"Total U1 Assessments\", \"Pregnancy\"]\n",
    "\n",
    "## Additional Columns\n",
    "dataset[\"Country\"] = \"KE\"\n",
    "#dataset[\"HHQuintiles\"] = pd.qcut( dataset[\"Households Registered\"], 5, labels=[\"HH_Quint_1\", \"HH_Quint_2\", \"HH_Quint_3\", \"HH_Quint_4\", \"HH_Quint_5\"])\n",
    "dnul = pd.Series( [\"Households Registered\"]).apply( lambda x: quintilize(dataset, x, labelzPrefix=\"HH_Quints\" ) )\n",
    "\n",
    "dataset[\"Pct_Assessments_U1_in_U5\"] = np.nan_to_num( dataset[\"Total U1 Assessments\"] / dataset[\"Total U5 Assessments\"] )\n",
    "dataset[\"Pct_Treatments_U1_in_U5\"] = np.nan_to_num( dataset[\"Total U1 Treatments\"] / dataset[\"Total U5 Treatments\"]  ) \n",
    "dataset[\"Pct_U5Malaria_in_U5\"] = np.nan_to_num( dataset[\"U5 Malaria\"] / dataset[\"Total U5 Assessments\"] )\n",
    "dataset[\"Pct_U5Diarrhoea_in_U5\"] = np.nan_to_num( dataset[\"U5 Diarrhea\"] / dataset[\"Total U5 Assessments\"] ) \n",
    "dataset[\"Pct_U5Pneumonia_in_U5\"] = np.nan_to_num( dataset[\"U5 Pneumonia\"] / dataset[\"Total U5 Assessments\"] )\n",
    "dataset[\"Pct_U5Malaria_in_All\"] = np.nan_to_num( dataset[\"U5 Malaria\"] / dataset[\"All Malaria Assessments\"] )\n",
    "\n",
    "dataset[\"Pct_Treated_in_Assessed_U5\"] = np.nan_to_num( dataset[\"Total U5 Treatments\"] / dataset[\"Total U5 Assessments\"] )\n",
    "dataset[\"Pct_Ontime_Refferal_U5\"] = np.nan_to_num( dataset[\"On Time Referral f/u Treatment U5\"] / dataset[\"Total U5 Assessments\"] )\n",
    "dataset[\"Pct_TreatedMalaria_in_All\"] = np.nan_to_num( dataset[\"All Malaria Treatments\"] / dataset[\"All Malaria Assessments\"] )\n",
    "\n",
    "dataset[\"Ratio_mRDT_to_ACT\"] = np.nan_to_num( dataset[\"mRDT Used\"] / dataset[\"Act 6pack Issue\"] )\n",
    "\n",
    "dataset.replace([np.inf, -np.inf], 0, inplace=True)\n",
    "\n",
    "print( \" The variables\")\n",
    "dataset.dtypes \n"
   ]
  },
  {
   "cell_type": "markdown",
   "metadata": {},
   "source": [
    "# Exploring\n",
    "- Sample structure \n",
    "- Missing data \n",
    "- Distributions and outliers "
   ]
  },
  {
   "cell_type": "code",
   "execution_count": 4,
   "metadata": {
    "scrolled": true
   },
   "outputs": [
    {
     "data": {
      "text/html": [
       "<div>\n",
       "<style>\n",
       "    .dataframe thead tr:only-child th {\n",
       "        text-align: right;\n",
       "    }\n",
       "\n",
       "    .dataframe thead th {\n",
       "        text-align: left;\n",
       "    }\n",
       "\n",
       "    .dataframe tbody tr th {\n",
       "        vertical-align: top;\n",
       "    }\n",
       "</style>\n",
       "<table border=\"1\" class=\"dataframe\">\n",
       "  <thead>\n",
       "    <tr>\n",
       "      <th></th>\n",
       "      <th>CHP ID</th>\n",
       "      <th colspan=\"2\" halign=\"left\">Households Registered</th>\n",
       "      <th>Pregnancy</th>\n",
       "      <th>All Malaria Assessments</th>\n",
       "      <th>Total U5 Assessments</th>\n",
       "      <th>Total U1 Assessments</th>\n",
       "    </tr>\n",
       "    <tr>\n",
       "      <th></th>\n",
       "      <th># CHPs</th>\n",
       "      <th># HHs</th>\n",
       "      <th>Avg.CHP.Size</th>\n",
       "      <th># Pregoz Cases</th>\n",
       "      <th># Malaria Cases</th>\n",
       "      <th># Child Cases</th>\n",
       "      <th># U1 Cases</th>\n",
       "    </tr>\n",
       "    <tr>\n",
       "      <th>Country</th>\n",
       "      <th></th>\n",
       "      <th></th>\n",
       "      <th></th>\n",
       "      <th></th>\n",
       "      <th></th>\n",
       "      <th></th>\n",
       "      <th></th>\n",
       "    </tr>\n",
       "  </thead>\n",
       "  <tbody>\n",
       "    <tr>\n",
       "      <th>KE</th>\n",
       "      <td>1493</td>\n",
       "      <td>147956</td>\n",
       "      <td>99.0</td>\n",
       "      <td>408</td>\n",
       "      <td>2986</td>\n",
       "      <td>5393</td>\n",
       "      <td>1216</td>\n",
       "    </tr>\n",
       "  </tbody>\n",
       "</table>\n",
       "</div>"
      ],
      "text/plain": [
       "        CHP ID Households Registered                   Pregnancy  \\\n",
       "        # CHPs                 # HHs Avg.CHP.Size # Pregoz Cases   \n",
       "Country                                                            \n",
       "KE        1493                147956         99.0            408   \n",
       "\n",
       "        All Malaria Assessments Total U5 Assessments Total U1 Assessments  \n",
       "                # Malaria Cases        # Child Cases           # U1 Cases  \n",
       "Country                                                                    \n",
       "KE                         2986                 5393                 1216  "
      ]
     },
     "execution_count": 4,
     "metadata": {},
     "output_type": "execute_result"
    },
    {
     "data": {
      "text/html": [
       "<div>\n",
       "<style>\n",
       "    .dataframe thead tr:only-child th {\n",
       "        text-align: right;\n",
       "    }\n",
       "\n",
       "    .dataframe thead th {\n",
       "        text-align: left;\n",
       "    }\n",
       "\n",
       "    .dataframe tbody tr th {\n",
       "        vertical-align: top;\n",
       "    }\n",
       "</style>\n",
       "<table border=\"1\" class=\"dataframe\">\n",
       "  <thead>\n",
       "    <tr>\n",
       "      <th></th>\n",
       "      <th>CHP ID</th>\n",
       "      <th colspan=\"2\" halign=\"left\">Households Registered</th>\n",
       "      <th>Pregnancy</th>\n",
       "      <th>All Malaria Assessments</th>\n",
       "      <th>Total U5 Assessments</th>\n",
       "      <th>Total U1 Assessments</th>\n",
       "    </tr>\n",
       "    <tr>\n",
       "      <th></th>\n",
       "      <th># CHPs</th>\n",
       "      <th># HHs</th>\n",
       "      <th>Avg.CHP.Size</th>\n",
       "      <th># Pregoz Cases</th>\n",
       "      <th># Malaria Cases</th>\n",
       "      <th># Child Cases</th>\n",
       "      <th># U1 Cases</th>\n",
       "    </tr>\n",
       "    <tr>\n",
       "      <th>Quints_Households Registered</th>\n",
       "      <th></th>\n",
       "      <th></th>\n",
       "      <th></th>\n",
       "      <th></th>\n",
       "      <th></th>\n",
       "      <th></th>\n",
       "      <th></th>\n",
       "    </tr>\n",
       "  </thead>\n",
       "  <tbody>\n",
       "    <tr>\n",
       "      <th>HH_Quints_1</th>\n",
       "      <td>302</td>\n",
       "      <td>9763</td>\n",
       "      <td>32.0</td>\n",
       "      <td>19</td>\n",
       "      <td>236</td>\n",
       "      <td>474</td>\n",
       "      <td>100</td>\n",
       "    </tr>\n",
       "    <tr>\n",
       "      <th>HH_Quints_2</th>\n",
       "      <td>305</td>\n",
       "      <td>24417</td>\n",
       "      <td>80.0</td>\n",
       "      <td>84</td>\n",
       "      <td>588</td>\n",
       "      <td>1284</td>\n",
       "      <td>269</td>\n",
       "    </tr>\n",
       "    <tr>\n",
       "      <th>HH_Quints_3</th>\n",
       "      <td>300</td>\n",
       "      <td>29990</td>\n",
       "      <td>100.0</td>\n",
       "      <td>86</td>\n",
       "      <td>645</td>\n",
       "      <td>1182</td>\n",
       "      <td>257</td>\n",
       "    </tr>\n",
       "    <tr>\n",
       "      <th>HH_Quints_4</th>\n",
       "      <td>288</td>\n",
       "      <td>34575</td>\n",
       "      <td>120.0</td>\n",
       "      <td>89</td>\n",
       "      <td>670</td>\n",
       "      <td>1183</td>\n",
       "      <td>273</td>\n",
       "    </tr>\n",
       "    <tr>\n",
       "      <th>HH_Quints_5</th>\n",
       "      <td>298</td>\n",
       "      <td>49211</td>\n",
       "      <td>165.0</td>\n",
       "      <td>130</td>\n",
       "      <td>847</td>\n",
       "      <td>1270</td>\n",
       "      <td>317</td>\n",
       "    </tr>\n",
       "  </tbody>\n",
       "</table>\n",
       "</div>"
      ],
      "text/plain": [
       "                             CHP ID Households Registered               \\\n",
       "                             # CHPs                 # HHs Avg.CHP.Size   \n",
       "Quints_Households Registered                                             \n",
       "HH_Quints_1                     302                  9763         32.0   \n",
       "HH_Quints_2                     305                 24417         80.0   \n",
       "HH_Quints_3                     300                 29990        100.0   \n",
       "HH_Quints_4                     288                 34575        120.0   \n",
       "HH_Quints_5                     298                 49211        165.0   \n",
       "\n",
       "                                  Pregnancy All Malaria Assessments  \\\n",
       "                             # Pregoz Cases         # Malaria Cases   \n",
       "Quints_Households Registered                                          \n",
       "HH_Quints_1                              19                     236   \n",
       "HH_Quints_2                              84                     588   \n",
       "HH_Quints_3                              86                     645   \n",
       "HH_Quints_4                              89                     670   \n",
       "HH_Quints_5                             130                     847   \n",
       "\n",
       "                             Total U5 Assessments Total U1 Assessments  \n",
       "                                    # Child Cases           # U1 Cases  \n",
       "Quints_Households Registered                                            \n",
       "HH_Quints_1                                   474                  100  \n",
       "HH_Quints_2                                  1284                  269  \n",
       "HH_Quints_3                                  1182                  257  \n",
       "HH_Quints_4                                  1183                  273  \n",
       "HH_Quints_5                                  1270                  317  "
      ]
     },
     "execution_count": 4,
     "metadata": {},
     "output_type": "execute_result"
    }
   ],
   "source": [
    "## Sample Structures \n",
    "\n",
    "sampleStructure(dataset, \"Country\") \n",
    "sampleStructure(dataset, \"Quints_Households Registered\")"
   ]
  },
  {
   "cell_type": "code",
   "execution_count": 5,
   "metadata": {},
   "outputs": [
    {
     "name": "stdout",
     "output_type": "stream",
     "text": [
      " Checking Missing Data\n"
     ]
    },
    {
     "data": {
      "text/plain": [
       "('\\nShape # records, # variables',\n",
       " (1493, 33),\n",
       " '\\n\\n\\n Counts of Missing Values \\n',\n",
       " CHP ID                               0\n",
       " Pregnancy                            0\n",
       " PNC Visit Rate                       0\n",
       " PNC Visit Missed - #                 0\n",
       " Total U1 Assessments                 0\n",
       " Total U1 Treatments                  0\n",
       " Total U5 Assessments                 0\n",
       " Total U5 Treatments                  0\n",
       " U5 Malaria                           0\n",
       " U5 Diarrhea                          0\n",
       " U5 Pneumonia                         0\n",
       " On Time Referral f/u Treatment U5    0\n",
       " Missed Visits                        0\n",
       " %mRDT                                0\n",
       " All Malaria Assessments              0\n",
       " All Malaria Treatments               0\n",
       " Act 6pack Issue                      0\n",
       " mRDT Used                            0\n",
       " Sales                                0\n",
       " Community Events                     0\n",
       " Households Registered                0\n",
       " Country                              0\n",
       " Quints_Households Registered         0\n",
       " Pct_Assessments_U1_in_U5             0\n",
       " Pct_Treatments_U1_in_U5              0\n",
       " Pct_U5Malaria_in_U5                  0\n",
       " Pct_U5Diarrhoea_in_U5                0\n",
       " Pct_U5Pneumonia_in_U5                0\n",
       " Pct_U5Malaria_in_All                 0\n",
       " Pct_Treated_in_Assessed_U5           0\n",
       " Pct_Ontime_Refferal_U5               0\n",
       " Pct_TreatedMalaria_in_All            0\n",
       " Ratio_mRDT_to_ACT                    0\n",
       " dtype: int64)"
      ]
     },
     "execution_count": 5,
     "metadata": {},
     "output_type": "execute_result"
    }
   ],
   "source": [
    "print(\" Checking Missing Data\")\n",
    "checkMissing( dataset )"
   ]
  },
  {
   "cell_type": "code",
   "execution_count": 12,
   "metadata": {},
   "outputs": [
    {
     "name": "stdout",
     "output_type": "stream",
     "text": [
      "Distribution based on HH registration as base for normal\n"
     ]
    },
    {
     "data": {
      "text/plain": [
       "array([[<matplotlib.axes._subplots.AxesSubplot object at 0x0000025B8BD69828>,\n",
       "        <matplotlib.axes._subplots.AxesSubplot object at 0x0000025B8BEAE4E0>]], dtype=object)"
      ]
     },
     "execution_count": 12,
     "metadata": {},
     "output_type": "execute_result"
    },
    {
     "data": {
      "image/png": "[encoded data removed]",
      "text/plain": [
       "<matplotlib.figure.Figure at 0x25b8c092240>"
      ]
     },
     "metadata": {},
     "output_type": "display_data"
    }
   ],
   "source": [
    "print( \"Distribution based on HH registration as base for normal\")\n",
    "distributionz(dataset, [\"Households Registered\", \"Total U5 Assessments\"], \"Quints_Households Registered\")"
   ]
  },
  {
   "cell_type": "code",
   "execution_count": 7,
   "metadata": {},
   "outputs": [
    {
     "data": {
      "text/plain": [
       "<matplotlib.axes._subplots.AxesSubplot at 0x25b8b366be0>"
      ]
     },
     "execution_count": 7,
     "metadata": {},
     "output_type": "execute_result"
    },
    {
     "data": {
      "text/plain": [
       "<matplotlib.axes._subplots.AxesSubplot at 0x25b8b366be0>"
      ]
     },
     "execution_count": 7,
     "metadata": {},
     "output_type": "execute_result"
    },
    {
     "data": {
      "image/png": "[encoded data removed]",
      "text/plain": [
       "<matplotlib.figure.Figure at 0x25b8b3667f0>"
      ]
     },
     "metadata": {},
     "output_type": "display_data"
    }
   ],
   "source": [
    "sns.distplot( dataset[\"Households Registered\"])\n",
    "sns.distplot( dataset[\"Total U5 Assessments\"])"
   ]
  },
  {
   "cell_type": "markdown",
   "metadata": {},
   "source": [
    "# Before Outliers\n"
   ]
  },
  {
   "cell_type": "code",
   "execution_count": 13,
   "metadata": {},
   "outputs": [
    {
     "data": {
      "text/html": [
       "<div>\n",
       "<style>\n",
       "    .dataframe thead tr:only-child th {\n",
       "        text-align: right;\n",
       "    }\n",
       "\n",
       "    .dataframe thead th {\n",
       "        text-align: left;\n",
       "    }\n",
       "\n",
       "    .dataframe tbody tr th {\n",
       "        vertical-align: top;\n",
       "    }\n",
       "</style>\n",
       "<table border=\"1\" class=\"dataframe\">\n",
       "  <thead>\n",
       "    <tr style=\"text-align: right;\">\n",
       "      <th></th>\n",
       "      <th>Pregnancy</th>\n",
       "      <th>PNC Visit Rate</th>\n",
       "      <th>PNC Visit Missed - #</th>\n",
       "      <th>Total U1 Assessments</th>\n",
       "      <th>Total U1 Treatments</th>\n",
       "      <th>Total U5 Assessments</th>\n",
       "      <th>Total U5 Treatments</th>\n",
       "      <th>U5 Malaria</th>\n",
       "      <th>U5 Diarrhea</th>\n",
       "      <th>U5 Pneumonia</th>\n",
       "      <th>...</th>\n",
       "      <th>Pct_Assessments_U1_in_U5</th>\n",
       "      <th>Pct_Treatments_U1_in_U5</th>\n",
       "      <th>Pct_U5Malaria_in_U5</th>\n",
       "      <th>Pct_U5Diarrhoea_in_U5</th>\n",
       "      <th>Pct_U5Pneumonia_in_U5</th>\n",
       "      <th>Pct_U5Malaria_in_All</th>\n",
       "      <th>Pct_Treated_in_Assessed_U5</th>\n",
       "      <th>Pct_Ontime_Refferal_U5</th>\n",
       "      <th>Pct_TreatedMalaria_in_All</th>\n",
       "      <th>Ratio_mRDT_to_ACT</th>\n",
       "    </tr>\n",
       "  </thead>\n",
       "  <tbody>\n",
       "    <tr>\n",
       "      <th>count</th>\n",
       "      <td>1353.00</td>\n",
       "      <td>1353.00</td>\n",
       "      <td>1353.00</td>\n",
       "      <td>1353.00</td>\n",
       "      <td>1353.00</td>\n",
       "      <td>1353.00</td>\n",
       "      <td>1353.00</td>\n",
       "      <td>1353.00</td>\n",
       "      <td>1353.00</td>\n",
       "      <td>1353.00</td>\n",
       "      <td>...</td>\n",
       "      <td>1353.00</td>\n",
       "      <td>1353.00</td>\n",
       "      <td>1353.00</td>\n",
       "      <td>1353.00</td>\n",
       "      <td>1353.00</td>\n",
       "      <td>1353.00</td>\n",
       "      <td>1353.00</td>\n",
       "      <td>1353.00</td>\n",
       "      <td>1.353000e+03</td>\n",
       "      <td>1353.000000</td>\n",
       "    </tr>\n",
       "    <tr>\n",
       "      <th>mean</th>\n",
       "      <td>0.30</td>\n",
       "      <td>0.14</td>\n",
       "      <td>0.16</td>\n",
       "      <td>0.89</td>\n",
       "      <td>0.36</td>\n",
       "      <td>3.94</td>\n",
       "      <td>1.84</td>\n",
       "      <td>1.08</td>\n",
       "      <td>0.37</td>\n",
       "      <td>0.39</td>\n",
       "      <td>...</td>\n",
       "      <td>0.14</td>\n",
       "      <td>0.10</td>\n",
       "      <td>0.17</td>\n",
       "      <td>0.08</td>\n",
       "      <td>0.07</td>\n",
       "      <td>0.23</td>\n",
       "      <td>0.31</td>\n",
       "      <td>0.04</td>\n",
       "      <td>1.328672e+305</td>\n",
       "      <td>inf</td>\n",
       "    </tr>\n",
       "    <tr>\n",
       "      <th>std</th>\n",
       "      <td>0.65</td>\n",
       "      <td>0.34</td>\n",
       "      <td>0.41</td>\n",
       "      <td>1.33</td>\n",
       "      <td>0.82</td>\n",
       "      <td>4.43</td>\n",
       "      <td>2.85</td>\n",
       "      <td>2.17</td>\n",
       "      <td>0.84</td>\n",
       "      <td>0.98</td>\n",
       "      <td>...</td>\n",
       "      <td>0.21</td>\n",
       "      <td>0.22</td>\n",
       "      <td>0.28</td>\n",
       "      <td>0.18</td>\n",
       "      <td>0.17</td>\n",
       "      <td>0.36</td>\n",
       "      <td>0.41</td>\n",
       "      <td>0.11</td>\n",
       "      <td>inf</td>\n",
       "      <td>inf</td>\n",
       "    </tr>\n",
       "    <tr>\n",
       "      <th>min</th>\n",
       "      <td>0.00</td>\n",
       "      <td>0.00</td>\n",
       "      <td>0.00</td>\n",
       "      <td>0.00</td>\n",
       "      <td>0.00</td>\n",
       "      <td>0.00</td>\n",
       "      <td>0.00</td>\n",
       "      <td>0.00</td>\n",
       "      <td>0.00</td>\n",
       "      <td>0.00</td>\n",
       "      <td>...</td>\n",
       "      <td>0.00</td>\n",
       "      <td>0.00</td>\n",
       "      <td>0.00</td>\n",
       "      <td>0.00</td>\n",
       "      <td>0.00</td>\n",
       "      <td>0.00</td>\n",
       "      <td>0.00</td>\n",
       "      <td>0.00</td>\n",
       "      <td>0.000000e+00</td>\n",
       "      <td>0.000000</td>\n",
       "    </tr>\n",
       "    <tr>\n",
       "      <th>25%</th>\n",
       "      <td>0.00</td>\n",
       "      <td>0.00</td>\n",
       "      <td>0.00</td>\n",
       "      <td>0.00</td>\n",
       "      <td>0.00</td>\n",
       "      <td>0.00</td>\n",
       "      <td>0.00</td>\n",
       "      <td>0.00</td>\n",
       "      <td>0.00</td>\n",
       "      <td>0.00</td>\n",
       "      <td>...</td>\n",
       "      <td>0.00</td>\n",
       "      <td>0.00</td>\n",
       "      <td>0.00</td>\n",
       "      <td>0.00</td>\n",
       "      <td>0.00</td>\n",
       "      <td>0.00</td>\n",
       "      <td>0.00</td>\n",
       "      <td>0.00</td>\n",
       "      <td>0.000000e+00</td>\n",
       "      <td>0.000000</td>\n",
       "    </tr>\n",
       "    <tr>\n",
       "      <th>50%</th>\n",
       "      <td>0.00</td>\n",
       "      <td>0.00</td>\n",
       "      <td>0.00</td>\n",
       "      <td>0.00</td>\n",
       "      <td>0.00</td>\n",
       "      <td>3.00</td>\n",
       "      <td>1.00</td>\n",
       "      <td>0.00</td>\n",
       "      <td>0.00</td>\n",
       "      <td>0.00</td>\n",
       "      <td>...</td>\n",
       "      <td>0.00</td>\n",
       "      <td>0.00</td>\n",
       "      <td>0.00</td>\n",
       "      <td>0.00</td>\n",
       "      <td>0.00</td>\n",
       "      <td>0.00</td>\n",
       "      <td>0.07</td>\n",
       "      <td>0.00</td>\n",
       "      <td>0.000000e+00</td>\n",
       "      <td>0.000000</td>\n",
       "    </tr>\n",
       "    <tr>\n",
       "      <th>75%</th>\n",
       "      <td>0.00</td>\n",
       "      <td>0.00</td>\n",
       "      <td>0.00</td>\n",
       "      <td>1.00</td>\n",
       "      <td>0.00</td>\n",
       "      <td>7.00</td>\n",
       "      <td>3.00</td>\n",
       "      <td>1.00</td>\n",
       "      <td>0.00</td>\n",
       "      <td>0.00</td>\n",
       "      <td>...</td>\n",
       "      <td>0.25</td>\n",
       "      <td>0.00</td>\n",
       "      <td>0.25</td>\n",
       "      <td>0.00</td>\n",
       "      <td>0.00</td>\n",
       "      <td>0.50</td>\n",
       "      <td>0.57</td>\n",
       "      <td>0.00</td>\n",
       "      <td>6.700000e-01</td>\n",
       "      <td>1.000000</td>\n",
       "    </tr>\n",
       "    <tr>\n",
       "      <th>max</th>\n",
       "      <td>4.00</td>\n",
       "      <td>1.00</td>\n",
       "      <td>3.00</td>\n",
       "      <td>9.00</td>\n",
       "      <td>6.00</td>\n",
       "      <td>25.00</td>\n",
       "      <td>23.00</td>\n",
       "      <td>18.00</td>\n",
       "      <td>10.00</td>\n",
       "      <td>10.00</td>\n",
       "      <td>...</td>\n",
       "      <td>1.00</td>\n",
       "      <td>1.00</td>\n",
       "      <td>1.00</td>\n",
       "      <td>1.00</td>\n",
       "      <td>1.00</td>\n",
       "      <td>1.00</td>\n",
       "      <td>3.00</td>\n",
       "      <td>1.00</td>\n",
       "      <td>inf</td>\n",
       "      <td>inf</td>\n",
       "    </tr>\n",
       "  </tbody>\n",
       "</table>\n",
       "<p>8 rows × 30 columns</p>\n",
       "</div>"
      ],
      "text/plain": [
       "       Pregnancy  PNC Visit Rate  PNC Visit Missed - #  Total U1 Assessments  \\\n",
       "count    1353.00         1353.00               1353.00               1353.00   \n",
       "mean        0.30            0.14                  0.16                  0.89   \n",
       "std         0.65            0.34                  0.41                  1.33   \n",
       "min         0.00            0.00                  0.00                  0.00   \n",
       "25%         0.00            0.00                  0.00                  0.00   \n",
       "50%         0.00            0.00                  0.00                  0.00   \n",
       "75%         0.00            0.00                  0.00                  1.00   \n",
       "max         4.00            1.00                  3.00                  9.00   \n",
       "\n",
       "       Total U1 Treatments  Total U5 Assessments  Total U5 Treatments  \\\n",
       "count              1353.00               1353.00              1353.00   \n",
       "mean                  0.36                  3.94                 1.84   \n",
       "std                   0.82                  4.43                 2.85   \n",
       "min                   0.00                  0.00                 0.00   \n",
       "25%                   0.00                  0.00                 0.00   \n",
       "50%                   0.00                  3.00                 1.00   \n",
       "75%                   0.00                  7.00                 3.00   \n",
       "max                   6.00                 25.00                23.00   \n",
       "\n",
       "       U5 Malaria  U5 Diarrhea  U5 Pneumonia        ...          \\\n",
       "count     1353.00      1353.00       1353.00        ...           \n",
       "mean         1.08         0.37          0.39        ...           \n",
       "std          2.17         0.84          0.98        ...           \n",
       "min          0.00         0.00          0.00        ...           \n",
       "25%          0.00         0.00          0.00        ...           \n",
       "50%          0.00         0.00          0.00        ...           \n",
       "75%          1.00         0.00          0.00        ...           \n",
       "max         18.00        10.00         10.00        ...           \n",
       "\n",
       "       Pct_Assessments_U1_in_U5  Pct_Treatments_U1_in_U5  Pct_U5Malaria_in_U5  \\\n",
       "count                   1353.00                  1353.00              1353.00   \n",
       "mean                       0.14                     0.10                 0.17   \n",
       "std                        0.21                     0.22                 0.28   \n",
       "min                        0.00                     0.00                 0.00   \n",
       "25%                        0.00                     0.00                 0.00   \n",
       "50%                        0.00                     0.00                 0.00   \n",
       "75%                        0.25                     0.00                 0.25   \n",
       "max                        1.00                     1.00                 1.00   \n",
       "\n",
       "       Pct_U5Diarrhoea_in_U5  Pct_U5Pneumonia_in_U5  Pct_U5Malaria_in_All  \\\n",
       "count                1353.00                1353.00               1353.00   \n",
       "mean                    0.08                   0.07                  0.23   \n",
       "std                     0.18                   0.17                  0.36   \n",
       "min                     0.00                   0.00                  0.00   \n",
       "25%                     0.00                   0.00                  0.00   \n",
       "50%                     0.00                   0.00                  0.00   \n",
       "75%                     0.00                   0.00                  0.50   \n",
       "max                     1.00                   1.00                  1.00   \n",
       "\n",
       "       Pct_Treated_in_Assessed_U5  Pct_Ontime_Refferal_U5  \\\n",
       "count                     1353.00                 1353.00   \n",
       "mean                         0.31                    0.04   \n",
       "std                          0.41                    0.11   \n",
       "min                          0.00                    0.00   \n",
       "25%                          0.00                    0.00   \n",
       "50%                          0.07                    0.00   \n",
       "75%                          0.57                    0.00   \n",
       "max                          3.00                    1.00   \n",
       "\n",
       "       Pct_TreatedMalaria_in_All  Ratio_mRDT_to_ACT  \n",
       "count               1.353000e+03        1353.000000  \n",
       "mean               1.328672e+305                inf  \n",
       "std                          inf                inf  \n",
       "min                 0.000000e+00           0.000000  \n",
       "25%                 0.000000e+00           0.000000  \n",
       "50%                 0.000000e+00           0.000000  \n",
       "75%                 6.700000e-01           1.000000  \n",
       "max                          inf                inf  \n",
       "\n",
       "[8 rows x 30 columns]"
      ]
     },
     "execution_count": 13,
     "metadata": {},
     "output_type": "execute_result"
    },
    {
     "data": {
      "text/plain": [
       "<matplotlib.axes._subplots.AxesSubplot at 0x25b8c035438>"
      ]
     },
     "execution_count": 13,
     "metadata": {},
     "output_type": "execute_result"
    },
    {
     "data": {
      "image/png": "[encoded data removed]",
      "text/plain": [
       "<matplotlib.figure.Figure at 0x25b8c02deb8>"
      ]
     },
     "metadata": {},
     "output_type": "display_data"
    }
   ],
   "source": [
    "# summarize\n",
    "summarizer(dataset)\n",
    "\n",
    "dataset[argz_EPMs].boxplot()"
   ]
  },
  {
   "cell_type": "code",
   "execution_count": 9,
   "metadata": {},
   "outputs": [
    {
     "data": {
      "text/plain": [
       "(1353, 33)"
      ]
     },
     "execution_count": 9,
     "metadata": {},
     "output_type": "execute_result"
    },
    {
     "data": {
      "text/plain": [
       "<matplotlib.axes._subplots.AxesSubplot at 0x25b8b7a5ba8>"
      ]
     },
     "execution_count": 9,
     "metadata": {},
     "output_type": "execute_result"
    },
    {
     "data": {
      "image/png": "[encoded data removed]",
      "text/plain": [
       "<matplotlib.figure.Figure at 0x25b874dd898>"
      ]
     },
     "metadata": {},
     "output_type": "display_data"
    }
   ],
   "source": [
    "## Remove outliers\n",
    "# updating dataset to HH > 20 and < 250 \n",
    "dt_outliers = dataset[ (dataset[\"Households Registered\"] < 20) | (dataset[\"Households Registered\"] > 250) ]\n",
    "dataset.drop( dt_outliers.index, inplace=True) #<< TODO: go back to boolean indexing\n",
    "dataset.shape\n",
    "sns.distplot( dataset[\"Households Registered\"]) \n"
   ]
  },
  {
   "cell_type": "code",
   "execution_count": null,
   "metadata": {
    "collapsed": true
   },
   "outputs": [],
   "source": [
    " "
   ]
  }
 ],
 "metadata": {
  "hide_input": true,
  "kernelspec": {
   "display_name": "Python 3",
   "language": "python",
   "name": "python3"
  },
  "language_info": {
   "codemirror_mode": {
    "name": "ipython",
    "version": 3
   },
   "file_extension": ".py",
   "mimetype": "text/x-python",
   "name": "python",
   "nbconvert_exporter": "python",
   "pygments_lexer": "ipython3",
   "version": "3.6.3"
  },
  "toc": {
   "nav_menu": {},
   "number_sections": true,
   "sideBar": true,
   "skip_h1_title": true,
   "title_cell": "Table of Contents",
   "title_sidebar": "Contents",
   "toc_cell": true,
   "toc_position": {},
   "toc_section_display": true,
   "toc_window_display": false
  }
 },
 "nbformat": 4,
 "nbformat_minor": 2
}
