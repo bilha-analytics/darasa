{
 "cells": [
  {
   "cell_type": "markdown",
   "metadata": {},
   "source": [
    "# Equity Lens Survey Participation \n",
    "\n",
    "Simple dataset - listing of enumerators and their surveying activity\n",
    "\n",
    "**Objective:** Py libs for data exploration and summary stats"
   ]
  },
  {
   "cell_type": "code",
   "execution_count": 2,
   "metadata": {
    "collapsed": true
   },
   "outputs": [],
   "source": [
    "%run \"../utils/load_envz.ipynb\""
   ]
  },
  {
   "cell_type": "code",
   "execution_count": 3,
   "metadata": {
    "collapsed": true
   },
   "outputs": [],
   "source": [
    "# Load data set \n",
    "\n",
    "DATA_DIR = \"../dataset\"\n",
    "DATA_FILE = \"OG_equity_lens_pilot-20180313.csv\" \n",
    "\n",
    "dataset = pd.read_csv( \"%s/%s\" % (DATA_DIR, DATA_FILE) )\n",
    "                      "
   ]
  },
  {
   "cell_type": "markdown",
   "metadata": {
    "variables": {
     " dataset.shape ": {}
    }
   },
   "source": [
    "## Exploring the data\n",
    "\n",
    "- Number of records and variables  =  {{ dataset.shape }}\n",
    "- Variable types\n",
    "- Missing data \n",
    "- Outliers "
   ]
  },
  {
   "cell_type": "markdown",
   "metadata": {},
   "source": [
    "## Data Structure"
   ]
  },
  {
   "cell_type": "code",
   "execution_count": 4,
   "metadata": {},
   "outputs": [
    {
     "data": {
      "text/plain": [
       "(72, 5)"
      ]
     },
     "execution_count": 4,
     "metadata": {},
     "output_type": "execute_result"
    }
   ],
   "source": [
    "## \" Shape of the dataset - #records, #variables\"\n",
    "dataset.shape"
   ]
  },
  {
   "cell_type": "code",
   "execution_count": 5,
   "metadata": {},
   "outputs": [
    {
     "data": {
      "text/plain": [
       "CHP.ID                        object\n",
       "Nmb.Households.Registered      int64\n",
       "Nmb.HH.Done.FamilySurvey       int64\n",
       "Pct.HH.Done.FamilySurvey     float64\n",
       "Branch.Name                   object\n",
       "dtype: object"
      ]
     },
     "execution_count": 5,
     "metadata": {},
     "output_type": "execute_result"
    }
   ],
   "source": [
    "## \"Variable Data Types\"\n",
    "dataset.dtypes"
   ]
  },
  {
   "cell_type": "markdown",
   "metadata": {},
   "source": [
    "## Missing Data and Outliers\n",
    "\n",
    "### Missing Data "
   ]
  },
  {
   "cell_type": "code",
   "execution_count": 6,
   "metadata": {},
   "outputs": [
    {
     "data": {
      "text/plain": [
       "CHP.ID                        0\n",
       "Nmb.Households.Registered     0\n",
       "Nmb.HH.Done.FamilySurvey      0\n",
       "Pct.HH.Done.FamilySurvey      0\n",
       "Branch.Name                  58\n",
       "dtype: int64"
      ]
     },
     "execution_count": 6,
     "metadata": {},
     "output_type": "execute_result"
    }
   ],
   "source": [
    "## Missing data\n",
    "dataset.apply( lambda x: sum(x.isnull() ), axis=0) "
   ]
  },
  {
   "cell_type": "markdown",
   "metadata": {},
   "source": [
    "- Branch.Name has 58 missing records. All other variables are okay. \n",
    "    - Will drop col Branch.Name. "
   ]
  },
  {
   "cell_type": "code",
   "execution_count": 7,
   "metadata": {},
   "outputs": [
    {
     "data": {
      "text/plain": [
       "CHP.ID                        object\n",
       "Nmb.Households.Registered      int64\n",
       "Nmb.HH.Done.FamilySurvey       int64\n",
       "Pct.HH.Done.FamilySurvey     float64\n",
       "dtype: object"
      ]
     },
     "execution_count": 7,
     "metadata": {},
     "output_type": "execute_result"
    }
   ],
   "source": [
    "dataset.drop( \"Branch.Name\",axis=1, inplace=True)\n",
    "dataset.dtypes"
   ]
  },
  {
   "cell_type": "markdown",
   "metadata": {},
   "source": [
    "### Outliers\n",
    "- Using distributions to identify outliers and clean up accordingly\n",
    "- Plus check for normality \n"
   ]
  },
  {
   "cell_type": "code",
   "execution_count": 8,
   "metadata": {},
   "outputs": [
    {
     "data": {
      "text/plain": [
       "Nmb.Households.Registered    Axes(0.125,0.125;0.775x0.755)\n",
       "Nmb.HH.Done.FamilySurvey     Axes(0.125,0.125;0.775x0.755)\n",
       "dtype: object"
      ]
     },
     "execution_count": 8,
     "metadata": {},
     "output_type": "execute_result"
    },
    {
     "data": {
      "image/png": "[encoded data removed]",
      "text/plain": [
       "<matplotlib.figure.Figure at 0x1817c26f198>"
      ]
     },
     "metadata": {},
     "output_type": "display_data"
    }
   ],
   "source": [
    "## We've got three numeric variable - easy to work with \n",
    "dataset.ix[:,1:3].apply( lambda x: sns.distplot(x), axis=0)  "
   ]
  },
  {
   "cell_type": "markdown",
   "metadata": {},
   "source": [
    "- Doesn't look so bad for HH registration and # HH surveyed"
   ]
  },
  {
   "cell_type": "markdown",
   "metadata": {},
   "source": [
    "## Calculated Fields\n",
    "\n",
    "- There's a Pct field in there but we don't need to store such fields\n",
    "    - recalculating it here and checking if it is different \n",
    "- Not much computation we can do here unless we're aggregating by some dimension\n",
    "    - will random assign CHP to a trial and control group and do some aggregation"
   ]
  },
  {
   "cell_type": "code",
   "execution_count": 9,
   "metadata": {},
   "outputs": [
    {
     "data": {
      "text/plain": [
       "True     61\n",
       "False    11\n",
       "Name: Diffs.In.Pcts, dtype: int64"
      ]
     },
     "execution_count": 9,
     "metadata": {},
     "output_type": "execute_result"
    }
   ],
   "source": [
    "## Pct HHs per CHV that have done the survey << TODO: Find better libs for this, including error handling. Dplyr in R equiv\n",
    "dataset[\"Pct.CHP.Group.HH.Surveyed\"] = dataset[\"Nmb.HH.Done.FamilySurvey\"] / dataset[\"Nmb.Households.Registered\"]\n",
    "dataset[\"Diffs.In.Pcts\"] = np.where( dataset[\"Pct.CHP.Group.HH.Surveyed\"] != dataset[\"Pct.HH.Done.FamilySurvey\"], True, False) \n",
    "dataset[\"Diffs.In.Pcts\"].value_counts()"
   ]
  },
  {
   "cell_type": "code",
   "execution_count": 10,
   "metadata": {},
   "outputs": [
    {
     "data": {
      "text/html": [
       "<div>\n",
       "<style>\n",
       "    .dataframe thead tr:only-child th {\n",
       "        text-align: right;\n",
       "    }\n",
       "\n",
       "    .dataframe thead th {\n",
       "        text-align: left;\n",
       "    }\n",
       "\n",
       "    .dataframe tbody tr th {\n",
       "        vertical-align: top;\n",
       "    }\n",
       "</style>\n",
       "<table border=\"1\" class=\"dataframe\">\n",
       "  <thead>\n",
       "    <tr style=\"text-align: right;\">\n",
       "      <th></th>\n",
       "      <th>CHP.ID</th>\n",
       "      <th>Nmb.Households.Registered</th>\n",
       "      <th>Nmb.HH.Done.FamilySurvey</th>\n",
       "      <th>Pct.HH.Done.FamilySurvey</th>\n",
       "      <th>Pct.CHP.Group.HH.Surveyed</th>\n",
       "      <th>Diffs.In.Pcts</th>\n",
       "    </tr>\n",
       "  </thead>\n",
       "  <tbody>\n",
       "    <tr>\n",
       "      <th>31</th>\n",
       "      <td>CHP.Og.32</td>\n",
       "      <td>135</td>\n",
       "      <td>122</td>\n",
       "      <td>0.903704</td>\n",
       "      <td>0.903704</td>\n",
       "      <td>True</td>\n",
       "    </tr>\n",
       "    <tr>\n",
       "      <th>53</th>\n",
       "      <td>CHP.Og.54</td>\n",
       "      <td>158</td>\n",
       "      <td>150</td>\n",
       "      <td>0.949367</td>\n",
       "      <td>0.949367</td>\n",
       "      <td>True</td>\n",
       "    </tr>\n",
       "    <tr>\n",
       "      <th>33</th>\n",
       "      <td>CHP.Og.34</td>\n",
       "      <td>85</td>\n",
       "      <td>29</td>\n",
       "      <td>0.341176</td>\n",
       "      <td>0.341176</td>\n",
       "      <td>True</td>\n",
       "    </tr>\n",
       "    <tr>\n",
       "      <th>66</th>\n",
       "      <td>CHP.Og.67</td>\n",
       "      <td>66</td>\n",
       "      <td>46</td>\n",
       "      <td>0.696970</td>\n",
       "      <td>0.696970</td>\n",
       "      <td>True</td>\n",
       "    </tr>\n",
       "    <tr>\n",
       "      <th>20</th>\n",
       "      <td>CHP.Og.21</td>\n",
       "      <td>85</td>\n",
       "      <td>46</td>\n",
       "      <td>0.541176</td>\n",
       "      <td>0.541176</td>\n",
       "      <td>True</td>\n",
       "    </tr>\n",
       "    <tr>\n",
       "      <th>22</th>\n",
       "      <td>CHP.Og.23</td>\n",
       "      <td>95</td>\n",
       "      <td>87</td>\n",
       "      <td>0.915789</td>\n",
       "      <td>0.915789</td>\n",
       "      <td>True</td>\n",
       "    </tr>\n",
       "  </tbody>\n",
       "</table>\n",
       "</div>"
      ],
      "text/plain": [
       "       CHP.ID  Nmb.Households.Registered  Nmb.HH.Done.FamilySurvey  \\\n",
       "31  CHP.Og.32                        135                       122   \n",
       "53  CHP.Og.54                        158                       150   \n",
       "33  CHP.Og.34                         85                        29   \n",
       "66  CHP.Og.67                         66                        46   \n",
       "20  CHP.Og.21                         85                        46   \n",
       "22  CHP.Og.23                         95                        87   \n",
       "\n",
       "    Pct.HH.Done.FamilySurvey  Pct.CHP.Group.HH.Surveyed  Diffs.In.Pcts  \n",
       "31                  0.903704                   0.903704           True  \n",
       "53                  0.949367                   0.949367           True  \n",
       "33                  0.341176                   0.341176           True  \n",
       "66                  0.696970                   0.696970           True  \n",
       "20                  0.541176                   0.541176           True  \n",
       "22                  0.915789                   0.915789           True  "
      ]
     },
     "execution_count": 10,
     "metadata": {},
     "output_type": "execute_result"
    }
   ],
   "source": [
    "## random view diffs \n",
    "dataset[ dataset[\"Diffs.In.Pcts\"] == True].sample(6)"
   ]
  },
  {
   "cell_type": "markdown",
   "metadata": {},
   "source": [
    "- There's really no problem with the calcuations \n",
    "    - TODO: column operations fail. Fix that!! << np.where is not a fix either so not about the logic but probably about precision \n",
    "    "
   ]
  },
  {
   "cell_type": "code",
   "execution_count": 11,
   "metadata": {},
   "outputs": [
    {
     "data": {
      "text/plain": [
       "Control    37\n",
       "Trial      35\n",
       "Name: TreatmentGroup, dtype: int64"
      ]
     },
     "execution_count": 11,
     "metadata": {},
     "output_type": "execute_result"
    }
   ],
   "source": [
    "## Now lets assign groups \n",
    "dataset[\"TreatmentGroup\"] = np.where( dataset[\"Nmb.HH.Done.FamilySurvey\"] % 2 == 0, \"Trial\", \"Control\")\n",
    "dataset[\"TreatmentGroup\"].value_counts()"
   ]
  },
  {
   "cell_type": "markdown",
   "metadata": {},
   "source": [
    "## Sample Structure\n",
    "- number of records and by grouping levels\n",
    "    - CHP as study unit\n",
    "    - grouping by treatment group"
   ]
  },
  {
   "cell_type": "code",
   "execution_count": 12,
   "metadata": {},
   "outputs": [
    {
     "data": {
      "text/html": [
       "<div>\n",
       "<style>\n",
       "    .dataframe thead tr:only-child th {\n",
       "        text-align: right;\n",
       "    }\n",
       "\n",
       "    .dataframe thead th {\n",
       "        text-align: left;\n",
       "    }\n",
       "\n",
       "    .dataframe tbody tr th {\n",
       "        vertical-align: top;\n",
       "    }\n",
       "</style>\n",
       "<table border=\"1\" class=\"dataframe\">\n",
       "  <thead>\n",
       "    <tr>\n",
       "      <th></th>\n",
       "      <th>CHP.ID</th>\n",
       "      <th colspan=\"2\" halign=\"left\">Nmb.Households.Registered</th>\n",
       "      <th colspan=\"2\" halign=\"left\">Nmb.HH.Done.FamilySurvey</th>\n",
       "      <th>Pct.CHP.Group.HH.Surveyed</th>\n",
       "    </tr>\n",
       "    <tr>\n",
       "      <th></th>\n",
       "      <th># CHPs</th>\n",
       "      <th># Households</th>\n",
       "      <th>Avg.HH Size</th>\n",
       "      <th># HH Surveyed</th>\n",
       "      <th>Avg.HH Surveyed Size</th>\n",
       "      <th>Avg.Pct HH Surveyed</th>\n",
       "    </tr>\n",
       "    <tr>\n",
       "      <th>TreatmentGroup</th>\n",
       "      <th></th>\n",
       "      <th></th>\n",
       "      <th></th>\n",
       "      <th></th>\n",
       "      <th></th>\n",
       "      <th></th>\n",
       "    </tr>\n",
       "  </thead>\n",
       "  <tbody>\n",
       "    <tr>\n",
       "      <th>Control</th>\n",
       "      <td>37</td>\n",
       "      <td>3891</td>\n",
       "      <td>105.162162</td>\n",
       "      <td>3025</td>\n",
       "      <td>81.756757</td>\n",
       "      <td>0.774784</td>\n",
       "    </tr>\n",
       "    <tr>\n",
       "      <th>Trial</th>\n",
       "      <td>35</td>\n",
       "      <td>3426</td>\n",
       "      <td>97.885714</td>\n",
       "      <td>2446</td>\n",
       "      <td>69.885714</td>\n",
       "      <td>0.708241</td>\n",
       "    </tr>\n",
       "  </tbody>\n",
       "</table>\n",
       "</div>"
      ],
      "text/plain": [
       "               CHP.ID Nmb.Households.Registered              \\\n",
       "               # CHPs              # Households Avg.HH Size   \n",
       "TreatmentGroup                                                \n",
       "Control            37                      3891  105.162162   \n",
       "Trial              35                      3426   97.885714   \n",
       "\n",
       "               Nmb.HH.Done.FamilySurvey                       \\\n",
       "                          # HH Surveyed Avg.HH Surveyed Size   \n",
       "TreatmentGroup                                                 \n",
       "Control                            3025            81.756757   \n",
       "Trial                              2446            69.885714   \n",
       "\n",
       "               Pct.CHP.Group.HH.Surveyed  \n",
       "                     Avg.Pct HH Surveyed  \n",
       "TreatmentGroup                            \n",
       "Control                         0.774784  \n",
       "Trial                           0.708241  "
      ]
     },
     "execution_count": 12,
     "metadata": {},
     "output_type": "execute_result"
    }
   ],
   "source": [
    "aggz = {\n",
    "    \"CHP.ID\" : { \"# CHPs\" : \"count\"},\n",
    "    \"Nmb.Households.Registered\": { \"# Households\" : \"sum\", \"Avg.HH Size\": \"mean\"},\n",
    "    \"Nmb.HH.Done.FamilySurvey\" : { \"# HH Surveyed\" : \"sum\", \"Avg.HH Surveyed Size\": \"mean\"}, \n",
    "    \"Pct.CHP.Group.HH.Surveyed\" : { \" Avg.Pct HH Surveyed\" : \"mean\" }\n",
    "}\n",
    "\n",
    "dataset.groupby( \"TreatmentGroup\", as_index=True ).agg( aggz )"
   ]
  },
  {
   "cell_type": "code",
   "execution_count": 13,
   "metadata": {},
   "outputs": [
    {
     "data": {
      "text/html": [
       "<div>\n",
       "<style>\n",
       "    .dataframe thead tr:only-child th {\n",
       "        text-align: right;\n",
       "    }\n",
       "\n",
       "    .dataframe thead th {\n",
       "        text-align: left;\n",
       "    }\n",
       "\n",
       "    .dataframe tbody tr th {\n",
       "        vertical-align: top;\n",
       "    }\n",
       "</style>\n",
       "<table border=\"1\" class=\"dataframe\">\n",
       "  <thead>\n",
       "    <tr>\n",
       "      <th></th>\n",
       "      <th>CHP.ID</th>\n",
       "      <th colspan=\"4\" halign=\"left\">Nmb.Households.Registered</th>\n",
       "    </tr>\n",
       "    <tr>\n",
       "      <th></th>\n",
       "      <th>count</th>\n",
       "      <th>min</th>\n",
       "      <th>max</th>\n",
       "      <th>sum</th>\n",
       "      <th>mean</th>\n",
       "    </tr>\n",
       "    <tr>\n",
       "      <th>TreatmentGroup</th>\n",
       "      <th></th>\n",
       "      <th></th>\n",
       "      <th></th>\n",
       "      <th></th>\n",
       "      <th></th>\n",
       "    </tr>\n",
       "  </thead>\n",
       "  <tbody>\n",
       "    <tr>\n",
       "      <th>Control</th>\n",
       "      <td>37</td>\n",
       "      <td>55</td>\n",
       "      <td>157</td>\n",
       "      <td>3891</td>\n",
       "      <td>105.162162</td>\n",
       "    </tr>\n",
       "    <tr>\n",
       "      <th>Trial</th>\n",
       "      <td>35</td>\n",
       "      <td>62</td>\n",
       "      <td>185</td>\n",
       "      <td>3426</td>\n",
       "      <td>97.885714</td>\n",
       "    </tr>\n",
       "  </tbody>\n",
       "</table>\n",
       "</div>"
      ],
      "text/plain": [
       "               CHP.ID Nmb.Households.Registered                       \n",
       "                count                       min  max   sum        mean\n",
       "TreatmentGroup                                                        \n",
       "Control            37                        55  157  3891  105.162162\n",
       "Trial              35                        62  185  3426   97.885714"
      ]
     },
     "execution_count": 13,
     "metadata": {},
     "output_type": "execute_result"
    }
   ],
   "source": [
    "gg = dataset.groupby( \"TreatmentGroup\").agg( { \"CHP.ID\": \"count\", \"Nmb.Households.Registered\": [min,max,sum, np.mean]})\n",
    "gg"
   ]
  },
  {
   "cell_type": "code",
   "execution_count": 14,
   "metadata": {},
   "outputs": [
    {
     "data": {
      "text/plain": [
       "<matplotlib.axes._subplots.AxesSubplot at 0x181007e7400>"
      ]
     },
     "execution_count": 14,
     "metadata": {},
     "output_type": "execute_result"
    },
    {
     "data": {
      "image/png": "[encoded data removed]",
      "text/plain": [
       "<matplotlib.figure.Figure at 0x181007d1f60>"
      ]
     },
     "metadata": {},
     "output_type": "display_data"
    }
   ],
   "source": [
    "sns.countplot( x=\"TreatmentGroup\", data=dataset )"
   ]
  },
  {
   "cell_type": "code",
   "execution_count": 15,
   "metadata": {},
   "outputs": [
    {
     "name": "stdout",
     "output_type": "stream",
     "text": [
      "<class 'pandas.core.frame.DataFrame'>\n",
      "Index: 2 entries, Control to Trial\n",
      "Data columns (total 5 columns):\n",
      "(CHP.ID, count)                      2 non-null int64\n",
      "(Nmb.Households.Registered, min)     2 non-null int64\n",
      "(Nmb.Households.Registered, max)     2 non-null int64\n",
      "(Nmb.Households.Registered, sum)     2 non-null int64\n",
      "(Nmb.Households.Registered, mean)    2 non-null float64\n",
      "dtypes: float64(1), int64(4)\n",
      "memory usage: 96.0+ bytes\n"
     ]
    }
   ],
   "source": [
    "gg.info()\n",
    "# sns.barplot( gg[[[]]]) << TODO: referencing indecies in a grouped frame/pivot tables "
   ]
  },
  {
   "cell_type": "code",
   "execution_count": 16,
   "metadata": {},
   "outputs": [
    {
     "data": {
      "text/plain": [
       "0    Axes(0.125,0.125;0.775x0.755)\n",
       "1    Axes(0.125,0.125;0.775x0.755)\n",
       "dtype: object"
      ]
     },
     "execution_count": 16,
     "metadata": {},
     "output_type": "execute_result"
    },
    {
     "data": {
      "image/png": "[encoded data removed]",
      "text/plain": [
       "<matplotlib.figure.Figure at 0x1817bb87160>"
      ]
     },
     "metadata": {},
     "output_type": "display_data"
    }
   ],
   "source": [
    "pd.Series(dataset.columns[1:3]).apply( lambda x: sns.violinplot( x, \"TreatmentGroup\", hue=\"TreatmentGroup\", data=dataset) )\n",
    "# TODO: stack it "
   ]
  },
  {
   "cell_type": "markdown",
   "metadata": {},
   "source": [
    "## Summary Stats & Statistical Tests"
   ]
  },
  {
   "cell_type": "code",
   "execution_count": 17,
   "metadata": {
    "scrolled": false
   },
   "outputs": [
    {
     "data": {
      "text/html": [
       "<div>\n",
       "<style>\n",
       "    .dataframe thead tr:only-child th {\n",
       "        text-align: right;\n",
       "    }\n",
       "\n",
       "    .dataframe thead th {\n",
       "        text-align: left;\n",
       "    }\n",
       "\n",
       "    .dataframe tbody tr th {\n",
       "        vertical-align: top;\n",
       "    }\n",
       "</style>\n",
       "<table border=\"1\" class=\"dataframe\">\n",
       "  <thead>\n",
       "    <tr style=\"text-align: right;\">\n",
       "      <th></th>\n",
       "      <th>Nmb.Households.Registered</th>\n",
       "      <th>Nmb.HH.Done.FamilySurvey</th>\n",
       "      <th>Pct.HH.Done.FamilySurvey</th>\n",
       "      <th>Pct.CHP.Group.HH.Surveyed</th>\n",
       "    </tr>\n",
       "  </thead>\n",
       "  <tbody>\n",
       "    <tr>\n",
       "      <th>count</th>\n",
       "      <td>72.000000</td>\n",
       "      <td>72.000000</td>\n",
       "      <td>72.000000</td>\n",
       "      <td>72.000000</td>\n",
       "    </tr>\n",
       "    <tr>\n",
       "      <th>mean</th>\n",
       "      <td>101.625000</td>\n",
       "      <td>75.986111</td>\n",
       "      <td>0.742437</td>\n",
       "      <td>0.742437</td>\n",
       "    </tr>\n",
       "    <tr>\n",
       "      <th>std</th>\n",
       "      <td>26.696752</td>\n",
       "      <td>36.570015</td>\n",
       "      <td>0.265242</td>\n",
       "      <td>0.265242</td>\n",
       "    </tr>\n",
       "    <tr>\n",
       "      <th>min</th>\n",
       "      <td>55.000000</td>\n",
       "      <td>8.000000</td>\n",
       "      <td>0.076190</td>\n",
       "      <td>0.076190</td>\n",
       "    </tr>\n",
       "    <tr>\n",
       "      <th>25%</th>\n",
       "      <td>85.000000</td>\n",
       "      <td>50.000000</td>\n",
       "      <td>0.553840</td>\n",
       "      <td>0.553840</td>\n",
       "    </tr>\n",
       "    <tr>\n",
       "      <th>50%</th>\n",
       "      <td>99.000000</td>\n",
       "      <td>72.000000</td>\n",
       "      <td>0.843870</td>\n",
       "      <td>0.843870</td>\n",
       "    </tr>\n",
       "    <tr>\n",
       "      <th>75%</th>\n",
       "      <td>116.250000</td>\n",
       "      <td>98.250000</td>\n",
       "      <td>0.962531</td>\n",
       "      <td>0.962531</td>\n",
       "    </tr>\n",
       "    <tr>\n",
       "      <th>max</th>\n",
       "      <td>185.000000</td>\n",
       "      <td>178.000000</td>\n",
       "      <td>1.000000</td>\n",
       "      <td>1.000000</td>\n",
       "    </tr>\n",
       "  </tbody>\n",
       "</table>\n",
       "</div>"
      ],
      "text/plain": [
       "       Nmb.Households.Registered  Nmb.HH.Done.FamilySurvey  \\\n",
       "count                  72.000000                 72.000000   \n",
       "mean                  101.625000                 75.986111   \n",
       "std                    26.696752                 36.570015   \n",
       "min                    55.000000                  8.000000   \n",
       "25%                    85.000000                 50.000000   \n",
       "50%                    99.000000                 72.000000   \n",
       "75%                   116.250000                 98.250000   \n",
       "max                   185.000000                178.000000   \n",
       "\n",
       "       Pct.HH.Done.FamilySurvey  Pct.CHP.Group.HH.Surveyed  \n",
       "count                 72.000000                  72.000000  \n",
       "mean                   0.742437                   0.742437  \n",
       "std                    0.265242                   0.265242  \n",
       "min                    0.076190                   0.076190  \n",
       "25%                    0.553840                   0.553840  \n",
       "50%                    0.843870                   0.843870  \n",
       "75%                    0.962531                   0.962531  \n",
       "max                    1.000000                   1.000000  "
      ]
     },
     "execution_count": 17,
     "metadata": {},
     "output_type": "execute_result"
    }
   ],
   "source": [
    "## Summarize with table and visuals  << TODO: pretty print tables \n",
    "## variable = % surveyed \n",
    "\n",
    "dataset.describe()"
   ]
  },
  {
   "cell_type": "markdown",
   "metadata": {},
   "source": [
    "### 1. Ho = Trial increased survey participation \n",
    "- survey participation = % of registered households that were surveyed. \n"
   ]
  },
  {
   "cell_type": "code",
   "execution_count": 18,
   "metadata": {
    "scrolled": true
   },
   "outputs": [
    {
     "data": {
      "text/plain": [
       "<matplotlib.axes._subplots.AxesSubplot at 0x181009afd68>"
      ]
     },
     "execution_count": 18,
     "metadata": {},
     "output_type": "execute_result"
    },
    {
     "data": {
      "image/png": "[encoded data removed]",
      "text/plain": [
       "<matplotlib.figure.Figure at 0x18100620710>"
      ]
     },
     "metadata": {},
     "output_type": "display_data"
    }
   ],
   "source": [
    "sns.barplot( x=\"Pct.CHP.Group.HH.Surveyed\", y=\"TreatmentGroup\", data=dataset ) \n"
   ]
  },
  {
   "cell_type": "code",
   "execution_count": 19,
   "metadata": {},
   "outputs": [
    {
     "data": {
      "text/plain": [
       "<matplotlib.axes._subplots.AxesSubplot at 0x181009e6438>"
      ]
     },
     "execution_count": 19,
     "metadata": {},
     "output_type": "execute_result"
    },
    {
     "data": {
      "image/png": "[encoded data removed]",
      "text/plain": [
       "<matplotlib.figure.Figure at 0x1810095f400>"
      ]
     },
     "metadata": {},
     "output_type": "display_data"
    }
   ],
   "source": [
    "sns.violinplot( dataset[\"Pct.CHP.Group.HH.Surveyed\"], dataset[\"TreatmentGroup\"]) "
   ]
  },
  {
   "cell_type": "code",
   "execution_count": 20,
   "metadata": {
    "scrolled": true
   },
   "outputs": [
    {
     "data": {
      "text/plain": [
       "<matplotlib.axes._subplots.AxesSubplot at 0x18100a634a8>"
      ]
     },
     "execution_count": 20,
     "metadata": {},
     "output_type": "execute_result"
    },
    {
     "data": {
      "image/png": "[encoded data removed]",
      "text/plain": [
       "<matplotlib.figure.Figure at 0x18100aebd30>"
      ]
     },
     "metadata": {},
     "output_type": "display_data"
    }
   ],
   "source": [
    "sns.distplot( dataset[\"Pct.CHP.Group.HH.Surveyed\"])\n",
    "\n",
    "## TODO: grid plots"
   ]
  },
  {
   "cell_type": "code",
   "execution_count": 21,
   "metadata": {},
   "outputs": [
    {
     "data": {
      "text/html": [
       "<div>\n",
       "<style>\n",
       "    .dataframe thead tr:only-child th {\n",
       "        text-align: right;\n",
       "    }\n",
       "\n",
       "    .dataframe thead th {\n",
       "        text-align: left;\n",
       "    }\n",
       "\n",
       "    .dataframe tbody tr th {\n",
       "        vertical-align: top;\n",
       "    }\n",
       "</style>\n",
       "<table border=\"1\" class=\"dataframe\">\n",
       "  <thead>\n",
       "    <tr style=\"text-align: right;\">\n",
       "      <th></th>\n",
       "      <th>Pct.CHP.Group.HH.Surveyed</th>\n",
       "      <th>Dummy.Treatment</th>\n",
       "      <th>Nmb.Households.Registered</th>\n",
       "      <th>Nmb.HH.Done.FamilySurvey</th>\n",
       "    </tr>\n",
       "  </thead>\n",
       "  <tbody>\n",
       "    <tr>\n",
       "      <th>Pct.CHP.Group.HH.Surveyed</th>\n",
       "      <td>1.000000</td>\n",
       "      <td>-0.126270</td>\n",
       "      <td>0.076754</td>\n",
       "      <td>0.780232</td>\n",
       "    </tr>\n",
       "    <tr>\n",
       "      <th>Dummy.Treatment</th>\n",
       "      <td>-0.126270</td>\n",
       "      <td>1.000000</td>\n",
       "      <td>-0.137183</td>\n",
       "      <td>-0.163382</td>\n",
       "    </tr>\n",
       "    <tr>\n",
       "      <th>Nmb.Households.Registered</th>\n",
       "      <td>0.076754</td>\n",
       "      <td>-0.137183</td>\n",
       "      <td>1.000000</td>\n",
       "      <td>0.666278</td>\n",
       "    </tr>\n",
       "    <tr>\n",
       "      <th>Nmb.HH.Done.FamilySurvey</th>\n",
       "      <td>0.780232</td>\n",
       "      <td>-0.163382</td>\n",
       "      <td>0.666278</td>\n",
       "      <td>1.000000</td>\n",
       "    </tr>\n",
       "  </tbody>\n",
       "</table>\n",
       "</div>"
      ],
      "text/plain": [
       "                           Pct.CHP.Group.HH.Surveyed  Dummy.Treatment  \\\n",
       "Pct.CHP.Group.HH.Surveyed                   1.000000        -0.126270   \n",
       "Dummy.Treatment                            -0.126270         1.000000   \n",
       "Nmb.Households.Registered                   0.076754        -0.137183   \n",
       "Nmb.HH.Done.FamilySurvey                    0.780232        -0.163382   \n",
       "\n",
       "                           Nmb.Households.Registered  Nmb.HH.Done.FamilySurvey  \n",
       "Pct.CHP.Group.HH.Surveyed                   0.076754                  0.780232  \n",
       "Dummy.Treatment                            -0.137183                 -0.163382  \n",
       "Nmb.Households.Registered                   1.000000                  0.666278  \n",
       "Nmb.HH.Done.FamilySurvey                    0.666278                  1.000000  "
      ]
     },
     "execution_count": 21,
     "metadata": {},
     "output_type": "execute_result"
    }
   ],
   "source": [
    "## Correlations <<< TODO: wrong to correlate % to treatment??? \n",
    "dataset[\"Dummy.Treatment\"] = np.where( dataset[\"TreatmentGroup\"] == \"Trial\", 1, 0)\n",
    "dataset[[ \"Pct.CHP.Group.HH.Surveyed\", \"Dummy.Treatment\", \"Nmb.Households.Registered\", \"Nmb.HH.Done.FamilySurvey\"] ].corr() "
   ]
  },
  {
   "cell_type": "code",
   "execution_count": 22,
   "metadata": {},
   "outputs": [
    {
     "data": {
      "text/html": [
       "<div>\n",
       "<style>\n",
       "    .dataframe thead tr:only-child th {\n",
       "        text-align: right;\n",
       "    }\n",
       "\n",
       "    .dataframe thead th {\n",
       "        text-align: left;\n",
       "    }\n",
       "\n",
       "    .dataframe tbody tr th {\n",
       "        vertical-align: top;\n",
       "    }\n",
       "</style>\n",
       "<table border=\"1\" class=\"dataframe\">\n",
       "  <thead>\n",
       "    <tr style=\"text-align: right;\">\n",
       "      <th></th>\n",
       "      <th>Pct.CHP.Group.HH.Surveyed</th>\n",
       "      <th>Dummy.Treatment</th>\n",
       "      <th>Nmb.Households.Registered</th>\n",
       "      <th>Nmb.HH.Done.FamilySurvey</th>\n",
       "    </tr>\n",
       "  </thead>\n",
       "  <tbody>\n",
       "    <tr>\n",
       "      <th>Pct.CHP.Group.HH.Surveyed</th>\n",
       "      <td>1.000000</td>\n",
       "      <td>-0.157217</td>\n",
       "      <td>0.028447</td>\n",
       "      <td>0.756797</td>\n",
       "    </tr>\n",
       "    <tr>\n",
       "      <th>Dummy.Treatment</th>\n",
       "      <td>-0.157217</td>\n",
       "      <td>1.000000</td>\n",
       "      <td>-0.172545</td>\n",
       "      <td>-0.186550</td>\n",
       "    </tr>\n",
       "    <tr>\n",
       "      <th>Nmb.Households.Registered</th>\n",
       "      <td>0.028447</td>\n",
       "      <td>-0.172545</td>\n",
       "      <td>1.000000</td>\n",
       "      <td>0.578699</td>\n",
       "    </tr>\n",
       "    <tr>\n",
       "      <th>Nmb.HH.Done.FamilySurvey</th>\n",
       "      <td>0.756797</td>\n",
       "      <td>-0.186550</td>\n",
       "      <td>0.578699</td>\n",
       "      <td>1.000000</td>\n",
       "    </tr>\n",
       "  </tbody>\n",
       "</table>\n",
       "</div>"
      ],
      "text/plain": [
       "                           Pct.CHP.Group.HH.Surveyed  Dummy.Treatment  \\\n",
       "Pct.CHP.Group.HH.Surveyed                   1.000000        -0.157217   \n",
       "Dummy.Treatment                            -0.157217         1.000000   \n",
       "Nmb.Households.Registered                   0.028447        -0.172545   \n",
       "Nmb.HH.Done.FamilySurvey                    0.756797        -0.186550   \n",
       "\n",
       "                           Nmb.Households.Registered  Nmb.HH.Done.FamilySurvey  \n",
       "Pct.CHP.Group.HH.Surveyed                   0.028447                  0.756797  \n",
       "Dummy.Treatment                            -0.172545                 -0.186550  \n",
       "Nmb.Households.Registered                   1.000000                  0.578699  \n",
       "Nmb.HH.Done.FamilySurvey                    0.578699                  1.000000  "
      ]
     },
     "execution_count": 22,
     "metadata": {},
     "output_type": "execute_result"
    }
   ],
   "source": [
    "cor_outz = dataset[[ \"Pct.CHP.Group.HH.Surveyed\", \"Dummy.Treatment\", \"Nmb.Households.Registered\", \"Nmb.HH.Done.FamilySurvey\"] ].corr(method=\"spearman\")\n",
    "cor_outz"
   ]
  },
  {
   "cell_type": "code",
   "execution_count": 23,
   "metadata": {},
   "outputs": [
    {
     "data": {
      "text/plain": [
       "<matplotlib.axes._subplots.AxesSubplot at 0x18100b03e10>"
      ]
     },
     "execution_count": 23,
     "metadata": {},
     "output_type": "execute_result"
    },
    {
     "data": {
      "image/png": "[encoded data removed]",
      "text/plain": [
       "<matplotlib.figure.Figure at 0x18100b1be80>"
      ]
     },
     "metadata": {},
     "output_type": "display_data"
    }
   ],
   "source": [
    "## Plot it \n",
    "# Generate a mask for the upper triangle\n",
    "mask = np.zeros_like(cor_outz, dtype=np.bool)\n",
    "mask[np.triu_indices_from(mask)] = True\n",
    "\n",
    "# Set up the matplotlib figure\n",
    "f, ax = plt.subplots(figsize=(11, 9))\n",
    "\n",
    "# Generate a custom diverging colormap\n",
    "cmap = sns.diverging_palette(220, 10, as_cmap=True)\n",
    "\n",
    "# Draw the heatmap with the mask and correct aspect ratio\n",
    "sns.heatmap(cor_outz, mask=mask, cmap=cmap, vmax=.3, center=0,\n",
    "            square=True, linewidths=.5, cbar_kws={\"shrink\": .5})"
   ]
  },
  {
   "cell_type": "code",
   "execution_count": 24,
   "metadata": {
    "scrolled": true
   },
   "outputs": [
    {
     "data": {
      "text/plain": [
       "<matplotlib.axes._subplots.AxesSubplot at 0x18100ca5fd0>"
      ]
     },
     "execution_count": 24,
     "metadata": {},
     "output_type": "execute_result"
    },
    {
     "data": {
      "text/plain": [
       "<matplotlib.axes._subplots.AxesSubplot at 0x18100d0f470>"
      ]
     },
     "execution_count": 24,
     "metadata": {},
     "output_type": "execute_result"
    },
    {
     "data": {
      "image/png": "[encoded data removed]",
      "text/plain": [
       "<matplotlib.figure.Figure at 0x18100be14a8>"
      ]
     },
     "metadata": {},
     "output_type": "display_data"
    },
    {
     "data": {
      "image/png": "[encoded data removed]",
      "text/plain": [
       "<matplotlib.figure.Figure at 0x18100cdbdd8>"
      ]
     },
     "metadata": {},
     "output_type": "display_data"
    }
   ],
   "source": [
    "## scatter plotting it\n",
    "sns.stripplot(x=\"Dummy.Treatment\", y=\"Pct.CHP.Group.HH.Surveyed\", data=dataset)  \n",
    "dataset.plot.scatter( x= \"Nmb.Households.Registered\", y=\"Nmb.HH.Done.FamilySurvey\")"
   ]
  },
  {
   "cell_type": "code",
   "execution_count": 25,
   "metadata": {},
   "outputs": [
    {
     "name": "stderr",
     "output_type": "stream",
     "text": [
      "ERROR:root:Cell magic `%%R` not found.\n"
     ]
    }
   ],
   "source": [
    "%%R -i dataset\n",
    "ggplot( dataset)+geom_point( aes(     "
   ]
  },
  {
   "cell_type": "code",
   "execution_count": 26,
   "metadata": {
    "collapsed": true
   },
   "outputs": [],
   "source": [
    "#smf.glm( formula=\"Pct.CHP.Group.HH.Surveyed ~ TreatmentGroup\", data=dataset).fit()"
   ]
  },
  {
   "cell_type": "markdown",
   "metadata": {},
   "source": [
    "**Correlation Output** \n",
    "- Being in treatment group is negatively correlated with increased surveying rates. Treatment has decreasing surveying rates \n",
    "    - being in treatment also associated with lower \n",
    "    registraion. So it may follow that\n",
    "    - magnitude is less than 0.3\n",
    "    \n",
    " \n",
    "- Doesn't make to correlate doing survey and being registered -- can't do survey unless you're registered, so of course they are associated. \n",
    "\n",
    "- Should we correlate to dummy variable?? but can regress on it so?? just do Ho: testing b/c one var so the glm = Ho t-test, si"
   ]
  },
  {
   "cell_type": "markdown",
   "metadata": {},
   "source": [
    "## Statistical Tests\n",
    "- Ho t-test \n"
   ]
  },
  {
   "cell_type": "code",
   "execution_count": 27,
   "metadata": {
    "collapsed": true,
    "scrolled": true
   },
   "outputs": [],
   "source": [
    "## Using t.test methods Vs using glm methods <<< find the py equivs for R << Can't wait to get some R in here \n",
    "\n",
    "## Using smf on glm model \n",
    "# x,y = dmatrices( \"'Pct.CHP.Group.HH.Surveyed' ~ 'TreatmentGroup'\", data=dataset, return_type=\"dataframe\")\n"
   ]
  },
  {
   "cell_type": "code",
   "execution_count": 28,
   "metadata": {},
   "outputs": [
    {
     "data": {
      "text/plain": [
       "Ttest_indResult(statistic=-1.0649787248863229, pvalue=0.29054532318513066)"
      ]
     },
     "execution_count": 28,
     "metadata": {},
     "output_type": "execute_result"
    }
   ],
   "source": [
    "## Using scipy\n",
    "lm = sci.ttest_ind(dataset[dataset[\"Dummy.Treatment\"]==1][\"Pct.CHP.Group.HH.Surveyed\"], dataset[dataset[\"Dummy.Treatment\"]==0][\"Pct.CHP.Group.HH.Surveyed\"])\n",
    "lm"
   ]
  },
  {
   "cell_type": "markdown",
   "metadata": {
    "collapsed": true
   },
   "source": [
    "- The two populations are not different\n",
    "    - p-value = 0.29 "
   ]
  },
  {
   "cell_type": "code",
   "execution_count": null,
   "metadata": {
    "collapsed": true
   },
   "outputs": [],
   "source": []
  }
 ],
 "metadata": {
  "kernelspec": {
   "display_name": "Python 3",
   "language": "python",
   "name": "python3"
  },
  "language_info": {
   "codemirror_mode": {
    "name": "ipython",
    "version": 3
   },
   "file_extension": ".py",
   "mimetype": "text/x-python",
   "name": "python",
   "nbconvert_exporter": "python",
   "pygments_lexer": "ipython3",
   "version": "3.6.2"
  }
 },
 "nbformat": 4,
 "nbformat_minor": 2
}
