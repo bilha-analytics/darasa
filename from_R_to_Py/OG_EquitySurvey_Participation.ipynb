{
 "cells": [
  {
   "cell_type": "markdown",
   "metadata": {},
   "source": [
    "# Equity Lens Survey Participation \n",
    "\n",
    "Simple dataset - listing of enumerators and their surveying activity\n",
    "\n",
    "**Objective:** Py libs for data exploration and summary stats"
   ]
  },
  {
   "cell_type": "code",
   "execution_count": 57,
   "metadata": {
    "collapsed": true
   },
   "outputs": [],
   "source": [
    "%run \"../utils/load_envz.ipynb\""
   ]
  },
  {
   "cell_type": "code",
   "execution_count": 2,
   "metadata": {
    "collapsed": true
   },
   "outputs": [],
   "source": [
    "# Load data set \n",
    "\n",
    "DATA_DIR = \"../dataset\"\n",
    "DATA_FILE = \"OG_equity_lens_pilot-20180313.csv\" \n",
    "\n",
    "dataset = pd.read_csv( \"%s/%s\" % (DATA_DIR, DATA_FILE) )\n",
    "                      "
   ]
  },
  {
   "cell_type": "markdown",
   "metadata": {
    "variables": {
     " dataset.shape ": {}
    }
   },
   "source": [
    "## Exploring the data\n",
    "\n",
    "- Number of records and variables  =  {{ dataset.shape }}\n",
    "- Variable types\n",
    "- Missing data \n",
    "- Outliers "
   ]
  },
  {
   "cell_type": "markdown",
   "metadata": {},
   "source": [
    "## Data Structure"
   ]
  },
  {
   "cell_type": "code",
   "execution_count": 3,
   "metadata": {},
   "outputs": [
    {
     "data": {
      "text/plain": [
       "(72, 5)"
      ]
     },
     "execution_count": 3,
     "metadata": {},
     "output_type": "execute_result"
    }
   ],
   "source": [
    "## \" Shape of the dataset - #records, #variables\"\n",
    "dataset.shape"
   ]
  },
  {
   "cell_type": "code",
   "execution_count": 4,
   "metadata": {},
   "outputs": [
    {
     "data": {
      "text/plain": [
       "CHP.ID                        object\n",
       "Nmb.Households.Registered      int64\n",
       "Nmb.HH.Done.FamilySurvey       int64\n",
       "Pct.HH.Done.FamilySurvey     float64\n",
       "Branch.Name                   object\n",
       "dtype: object"
      ]
     },
     "execution_count": 4,
     "metadata": {},
     "output_type": "execute_result"
    }
   ],
   "source": [
    "## \"Variable Data Types\"\n",
    "dataset.dtypes"
   ]
  },
  {
   "cell_type": "markdown",
   "metadata": {},
   "source": [
    "## Missing Data and Outliers\n",
    "\n",
    "### Missing Data "
   ]
  },
  {
   "cell_type": "code",
   "execution_count": 5,
   "metadata": {},
   "outputs": [
    {
     "data": {
      "text/plain": [
       "CHP.ID                        0\n",
       "Nmb.Households.Registered     0\n",
       "Nmb.HH.Done.FamilySurvey      0\n",
       "Pct.HH.Done.FamilySurvey      0\n",
       "Branch.Name                  58\n",
       "dtype: int64"
      ]
     },
     "execution_count": 5,
     "metadata": {},
     "output_type": "execute_result"
    }
   ],
   "source": [
    "## Missing data\n",
    "dataset.apply( lambda x: sum(x.isnull() ), axis=0) "
   ]
  },
  {
   "cell_type": "markdown",
   "metadata": {},
   "source": [
    "- Branch.Name has 58 missing records. All other variables are okay. \n",
    "    - Will drop col Branch.Name. "
   ]
  },
  {
   "cell_type": "code",
   "execution_count": 6,
   "metadata": {},
   "outputs": [
    {
     "data": {
      "text/plain": [
       "CHP.ID                        object\n",
       "Nmb.Households.Registered      int64\n",
       "Nmb.HH.Done.FamilySurvey       int64\n",
       "Pct.HH.Done.FamilySurvey     float64\n",
       "dtype: object"
      ]
     },
     "execution_count": 6,
     "metadata": {},
     "output_type": "execute_result"
    }
   ],
   "source": [
    "dataset.drop( \"Branch.Name\",axis=1, inplace=True)\n",
    "dataset.dtypes"
   ]
  },
  {
   "cell_type": "markdown",
   "metadata": {},
   "source": [
    "### Outliers\n",
    "- Using distributions to identify outliers and clean up accordingly\n",
    "- Plus check for normality \n"
   ]
  },
  {
   "cell_type": "code",
   "execution_count": 7,
   "metadata": {},
   "outputs": [
    {
     "name": "stderr",
     "output_type": "stream",
     "text": [
      "C:\\Users\\BILHA\\Anaconda3\\lib\\site-packages\\ipykernel_launcher.py:2: DeprecationWarning: \n",
      ".ix is deprecated. Please use\n",
      ".loc for label based indexing or\n",
      ".iloc for positional indexing\n",
      "\n",
      "See the documentation here:\n",
      "http://pandas.pydata.org/pandas-docs/stable/indexing.html#ix-indexer-is-deprecated\n",
      "  \n"
     ]
    },
    {
     "data": {
      "text/plain": [
       "Nmb.Households.Registered    AxesSubplot(0.125,0.125;0.775x0.755)\n",
       "Nmb.HH.Done.FamilySurvey     AxesSubplot(0.125,0.125;0.775x0.755)\n",
       "dtype: object"
      ]
     },
     "execution_count": 7,
     "metadata": {},
     "output_type": "execute_result"
    },
    {
     "data": {
      "image/png": "[encoded data removed]",
      "text/plain": [
       "<matplotlib.figure.Figure at 0x13d70151ac8>"
      ]
     },
     "metadata": {},
     "output_type": "display_data"
    }
   ],
   "source": [
    "## We've got three numeric variable - easy to work with \n",
    "dataset.ix[:,1:3].apply( lambda x: sns.distplot(x), axis=0)  "
   ]
  },
  {
   "cell_type": "markdown",
   "metadata": {},
   "source": [
    "- Doesn't look so bad for HH registration and # HH surveyed"
   ]
  },
  {
   "cell_type": "markdown",
   "metadata": {},
   "source": [
    "## Calculated Fields\n",
    "\n",
    "- There's a Pct field in there but we don't need to store such fields\n",
    "    - recalculating it here and checking if it is different \n",
    "- Not much computation we can do here unless we're aggregating by some dimension\n",
    "    - will random assign CHP to a trial and control group and do some aggregation"
   ]
  },
  {
   "cell_type": "code",
   "execution_count": 37,
   "metadata": {},
   "outputs": [
    {
     "data": {
      "text/plain": [
       "True     61\n",
       "False    11\n",
       "Name: Diffs.In.Pcts, dtype: int64"
      ]
     },
     "execution_count": 37,
     "metadata": {},
     "output_type": "execute_result"
    }
   ],
   "source": [
    "## Pct HHs per CHV that have done the survey << TODO: Find better libs for this, including error handling. Dplyr in R equiv\n",
    "dataset[\"Pct.CHP.Group.HH.Surveyed\"] = dataset[\"Nmb.HH.Done.FamilySurvey\"] / dataset[\"Nmb.Households.Registered\"]\n",
    "dataset[\"Diffs.In.Pcts\"] = np.where( dataset[\"Pct.CHP.Group.HH.Surveyed\"] != dataset[\"Pct.HH.Done.FamilySurvey\"], True, False) \n",
    "dataset[\"Diffs.In.Pcts\"].value_counts()"
   ]
  },
  {
   "cell_type": "code",
   "execution_count": 9,
   "metadata": {},
   "outputs": [
    {
     "data": {
      "text/html": [
       "<div>\n",
       "<style>\n",
       "    .dataframe thead tr:only-child th {\n",
       "        text-align: right;\n",
       "    }\n",
       "\n",
       "    .dataframe thead th {\n",
       "        text-align: left;\n",
       "    }\n",
       "\n",
       "    .dataframe tbody tr th {\n",
       "        vertical-align: top;\n",
       "    }\n",
       "</style>\n",
       "<table border=\"1\" class=\"dataframe\">\n",
       "  <thead>\n",
       "    <tr style=\"text-align: right;\">\n",
       "      <th></th>\n",
       "      <th>CHP.ID</th>\n",
       "      <th>Nmb.Households.Registered</th>\n",
       "      <th>Nmb.HH.Done.FamilySurvey</th>\n",
       "      <th>Pct.HH.Done.FamilySurvey</th>\n",
       "      <th>Pct.CHP.Group.HH.Surveyed</th>\n",
       "      <th>Diffs.In.Pcts</th>\n",
       "    </tr>\n",
       "  </thead>\n",
       "  <tbody>\n",
       "    <tr>\n",
       "      <th>60</th>\n",
       "      <td>CHP.Og.61</td>\n",
       "      <td>75</td>\n",
       "      <td>50</td>\n",
       "      <td>0.666667</td>\n",
       "      <td>0.666667</td>\n",
       "      <td>True</td>\n",
       "    </tr>\n",
       "    <tr>\n",
       "      <th>71</th>\n",
       "      <td>CHP.Og.72</td>\n",
       "      <td>105</td>\n",
       "      <td>33</td>\n",
       "      <td>0.314286</td>\n",
       "      <td>0.314286</td>\n",
       "      <td>True</td>\n",
       "    </tr>\n",
       "    <tr>\n",
       "      <th>68</th>\n",
       "      <td>CHP.Og.69</td>\n",
       "      <td>117</td>\n",
       "      <td>107</td>\n",
       "      <td>0.914530</td>\n",
       "      <td>0.914530</td>\n",
       "      <td>True</td>\n",
       "    </tr>\n",
       "    <tr>\n",
       "      <th>0</th>\n",
       "      <td>CHP.Og.1</td>\n",
       "      <td>88</td>\n",
       "      <td>47</td>\n",
       "      <td>0.534091</td>\n",
       "      <td>0.534091</td>\n",
       "      <td>True</td>\n",
       "    </tr>\n",
       "    <tr>\n",
       "      <th>41</th>\n",
       "      <td>CHP.Og.42</td>\n",
       "      <td>95</td>\n",
       "      <td>54</td>\n",
       "      <td>0.568421</td>\n",
       "      <td>0.568421</td>\n",
       "      <td>True</td>\n",
       "    </tr>\n",
       "    <tr>\n",
       "      <th>14</th>\n",
       "      <td>CHP.Og.15</td>\n",
       "      <td>85</td>\n",
       "      <td>65</td>\n",
       "      <td>0.764706</td>\n",
       "      <td>0.764706</td>\n",
       "      <td>True</td>\n",
       "    </tr>\n",
       "  </tbody>\n",
       "</table>\n",
       "</div>"
      ],
      "text/plain": [
       "       CHP.ID  Nmb.Households.Registered  Nmb.HH.Done.FamilySurvey  \\\n",
       "60  CHP.Og.61                         75                        50   \n",
       "71  CHP.Og.72                        105                        33   \n",
       "68  CHP.Og.69                        117                       107   \n",
       "0    CHP.Og.1                         88                        47   \n",
       "41  CHP.Og.42                         95                        54   \n",
       "14  CHP.Og.15                         85                        65   \n",
       "\n",
       "    Pct.HH.Done.FamilySurvey  Pct.CHP.Group.HH.Surveyed  Diffs.In.Pcts  \n",
       "60                  0.666667                   0.666667           True  \n",
       "71                  0.314286                   0.314286           True  \n",
       "68                  0.914530                   0.914530           True  \n",
       "0                   0.534091                   0.534091           True  \n",
       "41                  0.568421                   0.568421           True  \n",
       "14                  0.764706                   0.764706           True  "
      ]
     },
     "execution_count": 9,
     "metadata": {},
     "output_type": "execute_result"
    }
   ],
   "source": [
    "## random view diffs \n",
    "dataset[ dataset[\"Diffs.In.Pcts\"] == True].sample(6)"
   ]
  },
  {
   "cell_type": "markdown",
   "metadata": {},
   "source": [
    "- There's really no problem with the calcuations \n",
    "    - TODO: column operations fail. Fix that!! << np.where is not a fix either so not about the logic but probably about precision \n",
    "    "
   ]
  },
  {
   "cell_type": "code",
   "execution_count": 10,
   "metadata": {},
   "outputs": [
    {
     "data": {
      "text/plain": [
       "Control    37\n",
       "Trial      35\n",
       "Name: TreatmentGroup, dtype: int64"
      ]
     },
     "execution_count": 10,
     "metadata": {},
     "output_type": "execute_result"
    }
   ],
   "source": [
    "## Now lets assign groups \n",
    "dataset[\"TreatmentGroup\"] = np.where( dataset[\"Nmb.HH.Done.FamilySurvey\"] % 2 == 0, \"Trial\", \"Control\")\n",
    "dataset[\"TreatmentGroup\"].value_counts()"
   ]
  },
  {
   "cell_type": "markdown",
   "metadata": {},
   "source": [
    "## Sample Structure\n",
    "- number of records and by grouping levels\n",
    "    - CHP as study unit\n",
    "    - grouping by treatment group"
   ]
  },
  {
   "cell_type": "code",
   "execution_count": 36,
   "metadata": {},
   "outputs": [
    {
     "name": "stderr",
     "output_type": "stream",
     "text": [
      "C:\\Users\\BILHA\\Anaconda3\\lib\\site-packages\\pandas\\core\\groupby.py:4036: FutureWarning: using a dict with renaming is deprecated and will be removed in a future version\n",
      "  return super(DataFrameGroupBy, self).aggregate(arg, *args, **kwargs)\n"
     ]
    },
    {
     "data": {
      "text/html": [
       "<div>\n",
       "<style>\n",
       "    .dataframe thead tr:only-child th {\n",
       "        text-align: right;\n",
       "    }\n",
       "\n",
       "    .dataframe thead th {\n",
       "        text-align: left;\n",
       "    }\n",
       "\n",
       "    .dataframe tbody tr th {\n",
       "        vertical-align: top;\n",
       "    }\n",
       "</style>\n",
       "<table border=\"1\" class=\"dataframe\">\n",
       "  <thead>\n",
       "    <tr>\n",
       "      <th></th>\n",
       "      <th>CHP.ID</th>\n",
       "      <th colspan=\"2\" halign=\"left\">Nmb.Households.Registered</th>\n",
       "      <th colspan=\"2\" halign=\"left\">Nmb.HH.Done.FamilySurvey</th>\n",
       "      <th>Pct.CHP.Group.HH.Surveyed</th>\n",
       "    </tr>\n",
       "    <tr>\n",
       "      <th></th>\n",
       "      <th># CHPs</th>\n",
       "      <th># Households</th>\n",
       "      <th>Avg.HH Size</th>\n",
       "      <th># HH Surveyed</th>\n",
       "      <th>Avg.HH Surveyed Size</th>\n",
       "      <th>Avg.Pct HH Surveyed</th>\n",
       "    </tr>\n",
       "    <tr>\n",
       "      <th>TreatmentGroup</th>\n",
       "      <th></th>\n",
       "      <th></th>\n",
       "      <th></th>\n",
       "      <th></th>\n",
       "      <th></th>\n",
       "      <th></th>\n",
       "    </tr>\n",
       "  </thead>\n",
       "  <tbody>\n",
       "    <tr>\n",
       "      <th>Control</th>\n",
       "      <td>37</td>\n",
       "      <td>3891</td>\n",
       "      <td>105.162162</td>\n",
       "      <td>3025</td>\n",
       "      <td>81.756757</td>\n",
       "      <td>0.774784</td>\n",
       "    </tr>\n",
       "    <tr>\n",
       "      <th>Trial</th>\n",
       "      <td>35</td>\n",
       "      <td>3426</td>\n",
       "      <td>97.885714</td>\n",
       "      <td>2446</td>\n",
       "      <td>69.885714</td>\n",
       "      <td>0.708241</td>\n",
       "    </tr>\n",
       "  </tbody>\n",
       "</table>\n",
       "</div>"
      ],
      "text/plain": [
       "               CHP.ID Nmb.Households.Registered              \\\n",
       "               # CHPs              # Households Avg.HH Size   \n",
       "TreatmentGroup                                                \n",
       "Control            37                      3891  105.162162   \n",
       "Trial              35                      3426   97.885714   \n",
       "\n",
       "               Nmb.HH.Done.FamilySurvey                       \\\n",
       "                          # HH Surveyed Avg.HH Surveyed Size   \n",
       "TreatmentGroup                                                 \n",
       "Control                            3025            81.756757   \n",
       "Trial                              2446            69.885714   \n",
       "\n",
       "               Pct.CHP.Group.HH.Surveyed  \n",
       "                     Avg.Pct HH Surveyed  \n",
       "TreatmentGroup                            \n",
       "Control                         0.774784  \n",
       "Trial                           0.708241  "
      ]
     },
     "execution_count": 36,
     "metadata": {},
     "output_type": "execute_result"
    }
   ],
   "source": [
    "aggz = {\n",
    "    \"CHP.ID\" : { \"# CHPs\" : \"count\"},\n",
    "    \"Nmb.Households.Registered\": { \"# Households\" : \"sum\", \"Avg.HH Size\": \"mean\"},\n",
    "    \"Nmb.HH.Done.FamilySurvey\" : { \"# HH Surveyed\" : \"sum\", \"Avg.HH Surveyed Size\": \"mean\"}, \n",
    "    \"Pct.CHP.Group.HH.Surveyed\" : { \" Avg.Pct HH Surveyed\" : \"mean\" }\n",
    "}\n",
    "\n",
    "dataset.groupby( \"TreatmentGroup\", as_index=True ).agg( aggz )"
   ]
  },
  {
   "cell_type": "code",
   "execution_count": 12,
   "metadata": {},
   "outputs": [
    {
     "data": {
      "text/html": [
       "<div>\n",
       "<style>\n",
       "    .dataframe thead tr:only-child th {\n",
       "        text-align: right;\n",
       "    }\n",
       "\n",
       "    .dataframe thead th {\n",
       "        text-align: left;\n",
       "    }\n",
       "\n",
       "    .dataframe tbody tr th {\n",
       "        vertical-align: top;\n",
       "    }\n",
       "</style>\n",
       "<table border=\"1\" class=\"dataframe\">\n",
       "  <thead>\n",
       "    <tr>\n",
       "      <th></th>\n",
       "      <th>CHP.ID</th>\n",
       "      <th colspan=\"4\" halign=\"left\">Nmb.Households.Registered</th>\n",
       "    </tr>\n",
       "    <tr>\n",
       "      <th></th>\n",
       "      <th>count</th>\n",
       "      <th>min</th>\n",
       "      <th>max</th>\n",
       "      <th>sum</th>\n",
       "      <th>mean</th>\n",
       "    </tr>\n",
       "    <tr>\n",
       "      <th>TreatmentGroup</th>\n",
       "      <th></th>\n",
       "      <th></th>\n",
       "      <th></th>\n",
       "      <th></th>\n",
       "      <th></th>\n",
       "    </tr>\n",
       "  </thead>\n",
       "  <tbody>\n",
       "    <tr>\n",
       "      <th>Control</th>\n",
       "      <td>37</td>\n",
       "      <td>55</td>\n",
       "      <td>157</td>\n",
       "      <td>3891</td>\n",
       "      <td>105.162162</td>\n",
       "    </tr>\n",
       "    <tr>\n",
       "      <th>Trial</th>\n",
       "      <td>35</td>\n",
       "      <td>62</td>\n",
       "      <td>185</td>\n",
       "      <td>3426</td>\n",
       "      <td>97.885714</td>\n",
       "    </tr>\n",
       "  </tbody>\n",
       "</table>\n",
       "</div>"
      ],
      "text/plain": [
       "               CHP.ID Nmb.Households.Registered                       \n",
       "                count                       min  max   sum        mean\n",
       "TreatmentGroup                                                        \n",
       "Control            37                        55  157  3891  105.162162\n",
       "Trial              35                        62  185  3426   97.885714"
      ]
     },
     "execution_count": 12,
     "metadata": {},
     "output_type": "execute_result"
    }
   ],
   "source": [
    "gg = dataset.groupby( \"TreatmentGroup\").agg( { \"CHP.ID\": \"count\", \"Nmb.Households.Registered\": [min,max,sum, np.mean]})\n",
    "gg"
   ]
  },
  {
   "cell_type": "code",
   "execution_count": 13,
   "metadata": {},
   "outputs": [
    {
     "data": {
      "text/plain": [
       "<matplotlib.axes._subplots.AxesSubplot at 0x13d74602240>"
      ]
     },
     "execution_count": 13,
     "metadata": {},
     "output_type": "execute_result"
    },
    {
     "data": {
      "image/png": "[encoded data removed]",
      "text/plain": [
       "<matplotlib.figure.Figure at 0x13d70151a20>"
      ]
     },
     "metadata": {},
     "output_type": "display_data"
    }
   ],
   "source": [
    "sns.countplot( x=\"TreatmentGroup\", data=dataset )"
   ]
  },
  {
   "cell_type": "code",
   "execution_count": 14,
   "metadata": {},
   "outputs": [
    {
     "name": "stdout",
     "output_type": "stream",
     "text": [
      "<class 'pandas.core.frame.DataFrame'>\n",
      "Index: 2 entries, Control to Trial\n",
      "Data columns (total 5 columns):\n",
      "(CHP.ID, count)                      2 non-null int64\n",
      "(Nmb.Households.Registered, min)     2 non-null int64\n",
      "(Nmb.Households.Registered, max)     2 non-null int64\n",
      "(Nmb.Households.Registered, sum)     2 non-null int64\n",
      "(Nmb.Households.Registered, mean)    2 non-null float64\n",
      "dtypes: float64(1), int64(4)\n",
      "memory usage: 96.0+ bytes\n"
     ]
    }
   ],
   "source": [
    "gg.info()\n",
    "# sns.barplot( gg[[[]]]) << TODO: referencing indecies in a grouped frame/pivot tables "
   ]
  },
  {
   "cell_type": "code",
   "execution_count": 15,
   "metadata": {},
   "outputs": [
    {
     "data": {
      "text/plain": [
       "0    AxesSubplot(0.125,0.125;0.775x0.755)\n",
       "1    AxesSubplot(0.125,0.125;0.775x0.755)\n",
       "dtype: object"
      ]
     },
     "execution_count": 15,
     "metadata": {},
     "output_type": "execute_result"
    },
    {
     "data": {
      "image/png": "[encoded data removed]",
      "text/plain": [
       "<matplotlib.figure.Figure at 0x13d74840358>"
      ]
     },
     "metadata": {},
     "output_type": "display_data"
    }
   ],
   "source": [
    "pd.Series(dataset.columns[1:3]).apply( lambda x: sns.violinplot( x, \"TreatmentGroup\", hue=\"TreatmentGroup\", data=dataset) )\n",
    "# TODO: stack it "
   ]
  },
  {
   "cell_type": "markdown",
   "metadata": {},
   "source": [
    "## Summary Stats & Statistical Tests"
   ]
  },
  {
   "cell_type": "code",
   "execution_count": 16,
   "metadata": {
    "scrolled": false
   },
   "outputs": [
    {
     "data": {
      "text/html": [
       "<div>\n",
       "<style>\n",
       "    .dataframe thead tr:only-child th {\n",
       "        text-align: right;\n",
       "    }\n",
       "\n",
       "    .dataframe thead th {\n",
       "        text-align: left;\n",
       "    }\n",
       "\n",
       "    .dataframe tbody tr th {\n",
       "        vertical-align: top;\n",
       "    }\n",
       "</style>\n",
       "<table border=\"1\" class=\"dataframe\">\n",
       "  <thead>\n",
       "    <tr style=\"text-align: right;\">\n",
       "      <th></th>\n",
       "      <th>Nmb.Households.Registered</th>\n",
       "      <th>Nmb.HH.Done.FamilySurvey</th>\n",
       "      <th>Pct.HH.Done.FamilySurvey</th>\n",
       "      <th>Pct.CHP.Group.HH.Surveyed</th>\n",
       "    </tr>\n",
       "  </thead>\n",
       "  <tbody>\n",
       "    <tr>\n",
       "      <th>count</th>\n",
       "      <td>72.000000</td>\n",
       "      <td>72.000000</td>\n",
       "      <td>72.000000</td>\n",
       "      <td>72.000000</td>\n",
       "    </tr>\n",
       "    <tr>\n",
       "      <th>mean</th>\n",
       "      <td>101.625000</td>\n",
       "      <td>75.986111</td>\n",
       "      <td>0.742437</td>\n",
       "      <td>0.742437</td>\n",
       "    </tr>\n",
       "    <tr>\n",
       "      <th>std</th>\n",
       "      <td>26.696752</td>\n",
       "      <td>36.570015</td>\n",
       "      <td>0.265242</td>\n",
       "      <td>0.265242</td>\n",
       "    </tr>\n",
       "    <tr>\n",
       "      <th>min</th>\n",
       "      <td>55.000000</td>\n",
       "      <td>8.000000</td>\n",
       "      <td>0.076190</td>\n",
       "      <td>0.076190</td>\n",
       "    </tr>\n",
       "    <tr>\n",
       "      <th>25%</th>\n",
       "      <td>85.000000</td>\n",
       "      <td>50.000000</td>\n",
       "      <td>0.553840</td>\n",
       "      <td>0.553840</td>\n",
       "    </tr>\n",
       "    <tr>\n",
       "      <th>50%</th>\n",
       "      <td>99.000000</td>\n",
       "      <td>72.000000</td>\n",
       "      <td>0.843870</td>\n",
       "      <td>0.843870</td>\n",
       "    </tr>\n",
       "    <tr>\n",
       "      <th>75%</th>\n",
       "      <td>116.250000</td>\n",
       "      <td>98.250000</td>\n",
       "      <td>0.962531</td>\n",
       "      <td>0.962531</td>\n",
       "    </tr>\n",
       "    <tr>\n",
       "      <th>max</th>\n",
       "      <td>185.000000</td>\n",
       "      <td>178.000000</td>\n",
       "      <td>1.000000</td>\n",
       "      <td>1.000000</td>\n",
       "    </tr>\n",
       "  </tbody>\n",
       "</table>\n",
       "</div>"
      ],
      "text/plain": [
       "       Nmb.Households.Registered  Nmb.HH.Done.FamilySurvey  \\\n",
       "count                  72.000000                 72.000000   \n",
       "mean                  101.625000                 75.986111   \n",
       "std                    26.696752                 36.570015   \n",
       "min                    55.000000                  8.000000   \n",
       "25%                    85.000000                 50.000000   \n",
       "50%                    99.000000                 72.000000   \n",
       "75%                   116.250000                 98.250000   \n",
       "max                   185.000000                178.000000   \n",
       "\n",
       "       Pct.HH.Done.FamilySurvey  Pct.CHP.Group.HH.Surveyed  \n",
       "count                 72.000000                  72.000000  \n",
       "mean                   0.742437                   0.742437  \n",
       "std                    0.265242                   0.265242  \n",
       "min                    0.076190                   0.076190  \n",
       "25%                    0.553840                   0.553840  \n",
       "50%                    0.843870                   0.843870  \n",
       "75%                    0.962531                   0.962531  \n",
       "max                    1.000000                   1.000000  "
      ]
     },
     "execution_count": 16,
     "metadata": {},
     "output_type": "execute_result"
    }
   ],
   "source": [
    "## Summarize with table and visuals  << TODO: pretty print tables \n",
    "## variable = % surveyed \n",
    "\n",
    "dataset.describe()"
   ]
  },
  {
   "cell_type": "markdown",
   "metadata": {},
   "source": [
    "### 1. Ho = Trial increased survey participation \n",
    "- survey participation = % of registered households that were surveyed. \n"
   ]
  },
  {
   "cell_type": "code",
   "execution_count": 17,
   "metadata": {
    "scrolled": true
   },
   "outputs": [
    {
     "data": {
      "text/plain": [
       "<matplotlib.axes._subplots.AxesSubplot at 0x13d7455af98>"
      ]
     },
     "execution_count": 17,
     "metadata": {},
     "output_type": "execute_result"
    },
    {
     "data": {
      "image/png": "[encoded data removed]",
      "text/plain": [
       "<matplotlib.figure.Figure at 0x13d7082f2b0>"
      ]
     },
     "metadata": {},
     "output_type": "display_data"
    }
   ],
   "source": [
    "sns.barplot( x=\"Pct.CHP.Group.HH.Surveyed\", y=\"TreatmentGroup\", data=dataset ) \n"
   ]
  },
  {
   "cell_type": "code",
   "execution_count": 18,
   "metadata": {},
   "outputs": [
    {
     "data": {
      "text/plain": [
       "<matplotlib.axes._subplots.AxesSubplot at 0x13d7496ed68>"
      ]
     },
     "execution_count": 18,
     "metadata": {},
     "output_type": "execute_result"
    },
    {
     "data": {
      "image/png": "[encoded data removed]",
      "text/plain": [
       "<matplotlib.figure.Figure at 0x13d749440b8>"
      ]
     },
     "metadata": {},
     "output_type": "display_data"
    }
   ],
   "source": [
    "sns.violinplot( dataset[\"Pct.CHP.Group.HH.Surveyed\"], dataset[\"TreatmentGroup\"]) "
   ]
  },
  {
   "cell_type": "code",
   "execution_count": 19,
   "metadata": {
    "scrolled": true
   },
   "outputs": [
    {
     "data": {
      "text/plain": [
       "<matplotlib.axes._subplots.AxesSubplot at 0x13d749ba9b0>"
      ]
     },
     "execution_count": 19,
     "metadata": {},
     "output_type": "execute_result"
    },
    {
     "data": {
      "image/png": "[encoded data removed]",
      "text/plain": [
       "<matplotlib.figure.Figure at 0x13d74944470>"
      ]
     },
     "metadata": {},
     "output_type": "display_data"
    }
   ],
   "source": [
    "sns.distplot( dataset[\"Pct.CHP.Group.HH.Surveyed\"])\n",
    "\n",
    "## TODO: grid plots"
   ]
  },
  {
   "cell_type": "code",
   "execution_count": 20,
   "metadata": {},
   "outputs": [
    {
     "data": {
      "text/html": [
       "<div>\n",
       "<style>\n",
       "    .dataframe thead tr:only-child th {\n",
       "        text-align: right;\n",
       "    }\n",
       "\n",
       "    .dataframe thead th {\n",
       "        text-align: left;\n",
       "    }\n",
       "\n",
       "    .dataframe tbody tr th {\n",
       "        vertical-align: top;\n",
       "    }\n",
       "</style>\n",
       "<table border=\"1\" class=\"dataframe\">\n",
       "  <thead>\n",
       "    <tr style=\"text-align: right;\">\n",
       "      <th></th>\n",
       "      <th>Pct.CHP.Group.HH.Surveyed</th>\n",
       "      <th>Dummy.Treatment</th>\n",
       "      <th>Nmb.Households.Registered</th>\n",
       "      <th>Nmb.HH.Done.FamilySurvey</th>\n",
       "    </tr>\n",
       "  </thead>\n",
       "  <tbody>\n",
       "    <tr>\n",
       "      <th>Pct.CHP.Group.HH.Surveyed</th>\n",
       "      <td>1.000000</td>\n",
       "      <td>-0.126270</td>\n",
       "      <td>0.076754</td>\n",
       "      <td>0.780232</td>\n",
       "    </tr>\n",
       "    <tr>\n",
       "      <th>Dummy.Treatment</th>\n",
       "      <td>-0.126270</td>\n",
       "      <td>1.000000</td>\n",
       "      <td>-0.137183</td>\n",
       "      <td>-0.163382</td>\n",
       "    </tr>\n",
       "    <tr>\n",
       "      <th>Nmb.Households.Registered</th>\n",
       "      <td>0.076754</td>\n",
       "      <td>-0.137183</td>\n",
       "      <td>1.000000</td>\n",
       "      <td>0.666278</td>\n",
       "    </tr>\n",
       "    <tr>\n",
       "      <th>Nmb.HH.Done.FamilySurvey</th>\n",
       "      <td>0.780232</td>\n",
       "      <td>-0.163382</td>\n",
       "      <td>0.666278</td>\n",
       "      <td>1.000000</td>\n",
       "    </tr>\n",
       "  </tbody>\n",
       "</table>\n",
       "</div>"
      ],
      "text/plain": [
       "                           Pct.CHP.Group.HH.Surveyed  Dummy.Treatment  \\\n",
       "Pct.CHP.Group.HH.Surveyed                   1.000000        -0.126270   \n",
       "Dummy.Treatment                            -0.126270         1.000000   \n",
       "Nmb.Households.Registered                   0.076754        -0.137183   \n",
       "Nmb.HH.Done.FamilySurvey                    0.780232        -0.163382   \n",
       "\n",
       "                           Nmb.Households.Registered  Nmb.HH.Done.FamilySurvey  \n",
       "Pct.CHP.Group.HH.Surveyed                   0.076754                  0.780232  \n",
       "Dummy.Treatment                            -0.137183                 -0.163382  \n",
       "Nmb.Households.Registered                   1.000000                  0.666278  \n",
       "Nmb.HH.Done.FamilySurvey                    0.666278                  1.000000  "
      ]
     },
     "execution_count": 20,
     "metadata": {},
     "output_type": "execute_result"
    }
   ],
   "source": [
    "## Correlations <<< TODO: wrong to correlate % to treatment??? \n",
    "dataset[\"Dummy.Treatment\"] = np.where( dataset[\"TreatmentGroup\"] == \"Trial\", 1, 0)\n",
    "dataset[[ \"Pct.CHP.Group.HH.Surveyed\", \"Dummy.Treatment\", \"Nmb.Households.Registered\", \"Nmb.HH.Done.FamilySurvey\"] ].corr() "
   ]
  },
  {
   "cell_type": "code",
   "execution_count": 21,
   "metadata": {},
   "outputs": [
    {
     "data": {
      "text/html": [
       "<div>\n",
       "<style>\n",
       "    .dataframe thead tr:only-child th {\n",
       "        text-align: right;\n",
       "    }\n",
       "\n",
       "    .dataframe thead th {\n",
       "        text-align: left;\n",
       "    }\n",
       "\n",
       "    .dataframe tbody tr th {\n",
       "        vertical-align: top;\n",
       "    }\n",
       "</style>\n",
       "<table border=\"1\" class=\"dataframe\">\n",
       "  <thead>\n",
       "    <tr style=\"text-align: right;\">\n",
       "      <th></th>\n",
       "      <th>Pct.CHP.Group.HH.Surveyed</th>\n",
       "      <th>Dummy.Treatment</th>\n",
       "      <th>Nmb.Households.Registered</th>\n",
       "      <th>Nmb.HH.Done.FamilySurvey</th>\n",
       "    </tr>\n",
       "  </thead>\n",
       "  <tbody>\n",
       "    <tr>\n",
       "      <th>Pct.CHP.Group.HH.Surveyed</th>\n",
       "      <td>1.000000</td>\n",
       "      <td>-0.157217</td>\n",
       "      <td>0.028447</td>\n",
       "      <td>0.756797</td>\n",
       "    </tr>\n",
       "    <tr>\n",
       "      <th>Dummy.Treatment</th>\n",
       "      <td>-0.157217</td>\n",
       "      <td>1.000000</td>\n",
       "      <td>-0.172545</td>\n",
       "      <td>-0.186550</td>\n",
       "    </tr>\n",
       "    <tr>\n",
       "      <th>Nmb.Households.Registered</th>\n",
       "      <td>0.028447</td>\n",
       "      <td>-0.172545</td>\n",
       "      <td>1.000000</td>\n",
       "      <td>0.578699</td>\n",
       "    </tr>\n",
       "    <tr>\n",
       "      <th>Nmb.HH.Done.FamilySurvey</th>\n",
       "      <td>0.756797</td>\n",
       "      <td>-0.186550</td>\n",
       "      <td>0.578699</td>\n",
       "      <td>1.000000</td>\n",
       "    </tr>\n",
       "  </tbody>\n",
       "</table>\n",
       "</div>"
      ],
      "text/plain": [
       "                           Pct.CHP.Group.HH.Surveyed  Dummy.Treatment  \\\n",
       "Pct.CHP.Group.HH.Surveyed                   1.000000        -0.157217   \n",
       "Dummy.Treatment                            -0.157217         1.000000   \n",
       "Nmb.Households.Registered                   0.028447        -0.172545   \n",
       "Nmb.HH.Done.FamilySurvey                    0.756797        -0.186550   \n",
       "\n",
       "                           Nmb.Households.Registered  Nmb.HH.Done.FamilySurvey  \n",
       "Pct.CHP.Group.HH.Surveyed                   0.028447                  0.756797  \n",
       "Dummy.Treatment                            -0.172545                 -0.186550  \n",
       "Nmb.Households.Registered                   1.000000                  0.578699  \n",
       "Nmb.HH.Done.FamilySurvey                    0.578699                  1.000000  "
      ]
     },
     "execution_count": 21,
     "metadata": {},
     "output_type": "execute_result"
    }
   ],
   "source": [
    "dataset[[ \"Pct.CHP.Group.HH.Surveyed\", \"Dummy.Treatment\", \"Nmb.Households.Registered\", \"Nmb.HH.Done.FamilySurvey\"] ].corr(method=\"spearman\")"
   ]
  },
  {
   "cell_type": "code",
   "execution_count": 22,
   "metadata": {
    "scrolled": true
   },
   "outputs": [
    {
     "data": {
      "text/plain": [
       "<matplotlib.axes._subplots.AxesSubplot at 0x13d74a89940>"
      ]
     },
     "execution_count": 22,
     "metadata": {},
     "output_type": "execute_result"
    },
    {
     "data": {
      "image/png": "[encoded data removed]",
      "text/plain": [
       "<matplotlib.figure.Figure at 0x13d74914a58>"
      ]
     },
     "metadata": {},
     "output_type": "display_data"
    },
    {
     "data": {
      "image/png": "[encoded data removed]",
      "text/plain": [
       "<matplotlib.figure.Figure at 0x13d74a5ce80>"
      ]
     },
     "metadata": {},
     "output_type": "display_data"
    }
   ],
   "source": [
    "## scatter plotting it\n",
    "sns.stripplot(x=\"Dummy.Treatment\", y=\"Pct.CHP.Group.HH.Surveyed\", data=dataset)  \n",
    "dataset.plot.scatter( x= \"Nmb.Households.Registered\", y=\"Nmb.HH.Done.FamilySurvey\")"
   ]
  },
  {
   "cell_type": "code",
   "execution_count": 23,
   "metadata": {},
   "outputs": [
    {
     "name": "stderr",
     "output_type": "stream",
     "text": [
      "ERROR:root:Cell magic `%%R` not found.\n"
     ]
    }
   ],
   "source": [
    "%%R -i dataset\n",
    "ggplot( dataset)+geom_point( aes(     "
   ]
  },
  {
   "cell_type": "code",
   "execution_count": 73,
   "metadata": {},
   "outputs": [
    {
     "ename": "PatsyError",
     "evalue": "Error evaluating factor: NameError: name 'Pct' is not defined\n    Pct.CHP.Group.HH.Surveyed ~ TreatmentGroup\n    ^^^^^^^^^^^^^^^^^^^^^^^^^",
     "output_type": "error",
     "traceback": [
      "\u001b[1;31m---------------------------------------------------------------------------\u001b[0m",
      "\u001b[1;31mNameError\u001b[0m                                 Traceback (most recent call last)",
      "\u001b[1;32m~\\Anaconda3\\lib\\site-packages\\patsy\\compat.py\u001b[0m in \u001b[0;36mcall_and_wrap_exc\u001b[1;34m(msg, origin, f, *args, **kwargs)\u001b[0m\n\u001b[0;32m    116\u001b[0m     \u001b[1;32mtry\u001b[0m\u001b[1;33m:\u001b[0m\u001b[1;33m\u001b[0m\u001b[0m\n\u001b[1;32m--> 117\u001b[1;33m         \u001b[1;32mreturn\u001b[0m \u001b[0mf\u001b[0m\u001b[1;33m(\u001b[0m\u001b[1;33m*\u001b[0m\u001b[0margs\u001b[0m\u001b[1;33m,\u001b[0m \u001b[1;33m**\u001b[0m\u001b[0mkwargs\u001b[0m\u001b[1;33m)\u001b[0m\u001b[1;33m\u001b[0m\u001b[0m\n\u001b[0m\u001b[0;32m    118\u001b[0m     \u001b[1;32mexcept\u001b[0m \u001b[0mException\u001b[0m \u001b[1;32mas\u001b[0m \u001b[0me\u001b[0m\u001b[1;33m:\u001b[0m\u001b[1;33m\u001b[0m\u001b[0m\n",
      "\u001b[1;32m~\\Anaconda3\\lib\\site-packages\\patsy\\eval.py\u001b[0m in \u001b[0;36meval\u001b[1;34m(self, expr, source_name, inner_namespace)\u001b[0m\n\u001b[0;32m    165\u001b[0m         return eval(code, {}, VarLookupDict([inner_namespace]\n\u001b[1;32m--> 166\u001b[1;33m                                             + self._namespaces))\n\u001b[0m\u001b[0;32m    167\u001b[0m \u001b[1;33m\u001b[0m\u001b[0m\n",
      "\u001b[1;32m<string>\u001b[0m in \u001b[0;36m<module>\u001b[1;34m()\u001b[0m\n",
      "\u001b[1;31mNameError\u001b[0m: name 'Pct' is not defined",
      "\nThe above exception was the direct cause of the following exception:\n",
      "\u001b[1;31mPatsyError\u001b[0m                                Traceback (most recent call last)",
      "\u001b[1;32m<ipython-input-73-cf33d7ad40a4>\u001b[0m in \u001b[0;36m<module>\u001b[1;34m()\u001b[0m\n\u001b[1;32m----> 1\u001b[1;33m \u001b[0msmf\u001b[0m\u001b[1;33m.\u001b[0m\u001b[0mglm\u001b[0m\u001b[1;33m(\u001b[0m \u001b[0mformula\u001b[0m\u001b[1;33m=\u001b[0m\u001b[1;34m\"Pct.CHP.Group.HH.Surveyed ~ TreatmentGroup\"\u001b[0m\u001b[1;33m,\u001b[0m \u001b[0mdata\u001b[0m\u001b[1;33m=\u001b[0m\u001b[0mdataset\u001b[0m\u001b[1;33m)\u001b[0m\u001b[1;33m.\u001b[0m\u001b[0mfit\u001b[0m\u001b[1;33m(\u001b[0m\u001b[1;33m)\u001b[0m\u001b[1;33m\u001b[0m\u001b[0m\n\u001b[0m",
      "\u001b[1;32m~\\Anaconda3\\lib\\site-packages\\statsmodels\\base\\model.py\u001b[0m in \u001b[0;36mfrom_formula\u001b[1;34m(cls, formula, data, subset, drop_cols, *args, **kwargs)\u001b[0m\n\u001b[0;32m    153\u001b[0m \u001b[1;33m\u001b[0m\u001b[0m\n\u001b[0;32m    154\u001b[0m         tmp = handle_formula_data(data, None, formula, depth=eval_env,\n\u001b[1;32m--> 155\u001b[1;33m                                   missing=missing)\n\u001b[0m\u001b[0;32m    156\u001b[0m         \u001b[1;33m(\u001b[0m\u001b[1;33m(\u001b[0m\u001b[0mendog\u001b[0m\u001b[1;33m,\u001b[0m \u001b[0mexog\u001b[0m\u001b[1;33m)\u001b[0m\u001b[1;33m,\u001b[0m \u001b[0mmissing_idx\u001b[0m\u001b[1;33m,\u001b[0m \u001b[0mdesign_info\u001b[0m\u001b[1;33m)\u001b[0m \u001b[1;33m=\u001b[0m \u001b[0mtmp\u001b[0m\u001b[1;33m\u001b[0m\u001b[0m\n\u001b[0;32m    157\u001b[0m \u001b[1;33m\u001b[0m\u001b[0m\n",
      "\u001b[1;32m~\\Anaconda3\\lib\\site-packages\\statsmodels\\formula\\formulatools.py\u001b[0m in \u001b[0;36mhandle_formula_data\u001b[1;34m(Y, X, formula, depth, missing)\u001b[0m\n\u001b[0;32m     63\u001b[0m         \u001b[1;32mif\u001b[0m \u001b[0mdata_util\u001b[0m\u001b[1;33m.\u001b[0m\u001b[0m_is_using_pandas\u001b[0m\u001b[1;33m(\u001b[0m\u001b[0mY\u001b[0m\u001b[1;33m,\u001b[0m \u001b[1;32mNone\u001b[0m\u001b[1;33m)\u001b[0m\u001b[1;33m:\u001b[0m\u001b[1;33m\u001b[0m\u001b[0m\n\u001b[0;32m     64\u001b[0m             result = dmatrices(formula, Y, depth, return_type='dataframe',\n\u001b[1;32m---> 65\u001b[1;33m                                NA_action=na_action)\n\u001b[0m\u001b[0;32m     66\u001b[0m         \u001b[1;32melse\u001b[0m\u001b[1;33m:\u001b[0m\u001b[1;33m\u001b[0m\u001b[0m\n\u001b[0;32m     67\u001b[0m             result = dmatrices(formula, Y, depth, return_type='dataframe',\n",
      "\u001b[1;32m~\\Anaconda3\\lib\\site-packages\\patsy\\highlevel.py\u001b[0m in \u001b[0;36mdmatrices\u001b[1;34m(formula_like, data, eval_env, NA_action, return_type)\u001b[0m\n\u001b[0;32m    308\u001b[0m     \u001b[0meval_env\u001b[0m \u001b[1;33m=\u001b[0m \u001b[0mEvalEnvironment\u001b[0m\u001b[1;33m.\u001b[0m\u001b[0mcapture\u001b[0m\u001b[1;33m(\u001b[0m\u001b[0meval_env\u001b[0m\u001b[1;33m,\u001b[0m \u001b[0mreference\u001b[0m\u001b[1;33m=\u001b[0m\u001b[1;36m1\u001b[0m\u001b[1;33m)\u001b[0m\u001b[1;33m\u001b[0m\u001b[0m\n\u001b[0;32m    309\u001b[0m     (lhs, rhs) = _do_highlevel_design(formula_like, data, eval_env,\n\u001b[1;32m--> 310\u001b[1;33m                                       NA_action, return_type)\n\u001b[0m\u001b[0;32m    311\u001b[0m     \u001b[1;32mif\u001b[0m \u001b[0mlhs\u001b[0m\u001b[1;33m.\u001b[0m\u001b[0mshape\u001b[0m\u001b[1;33m[\u001b[0m\u001b[1;36m1\u001b[0m\u001b[1;33m]\u001b[0m \u001b[1;33m==\u001b[0m \u001b[1;36m0\u001b[0m\u001b[1;33m:\u001b[0m\u001b[1;33m\u001b[0m\u001b[0m\n\u001b[0;32m    312\u001b[0m         \u001b[1;32mraise\u001b[0m \u001b[0mPatsyError\u001b[0m\u001b[1;33m(\u001b[0m\u001b[1;34m\"model is missing required outcome variables\"\u001b[0m\u001b[1;33m)\u001b[0m\u001b[1;33m\u001b[0m\u001b[0m\n",
      "\u001b[1;32m~\\Anaconda3\\lib\\site-packages\\patsy\\highlevel.py\u001b[0m in \u001b[0;36m_do_highlevel_design\u001b[1;34m(formula_like, data, eval_env, NA_action, return_type)\u001b[0m\n\u001b[0;32m    163\u001b[0m         \u001b[1;32mreturn\u001b[0m \u001b[0miter\u001b[0m\u001b[1;33m(\u001b[0m\u001b[1;33m[\u001b[0m\u001b[0mdata\u001b[0m\u001b[1;33m]\u001b[0m\u001b[1;33m)\u001b[0m\u001b[1;33m\u001b[0m\u001b[0m\n\u001b[0;32m    164\u001b[0m     design_infos = _try_incr_builders(formula_like, data_iter_maker, eval_env,\n\u001b[1;32m--> 165\u001b[1;33m                                       NA_action)\n\u001b[0m\u001b[0;32m    166\u001b[0m     \u001b[1;32mif\u001b[0m \u001b[0mdesign_infos\u001b[0m \u001b[1;32mis\u001b[0m \u001b[1;32mnot\u001b[0m \u001b[1;32mNone\u001b[0m\u001b[1;33m:\u001b[0m\u001b[1;33m\u001b[0m\u001b[0m\n\u001b[0;32m    167\u001b[0m         return build_design_matrices(design_infos, data,\n",
      "\u001b[1;32m~\\Anaconda3\\lib\\site-packages\\patsy\\highlevel.py\u001b[0m in \u001b[0;36m_try_incr_builders\u001b[1;34m(formula_like, data_iter_maker, eval_env, NA_action)\u001b[0m\n\u001b[0;32m     68\u001b[0m                                       \u001b[0mdata_iter_maker\u001b[0m\u001b[1;33m,\u001b[0m\u001b[1;33m\u001b[0m\u001b[0m\n\u001b[0;32m     69\u001b[0m                                       \u001b[0meval_env\u001b[0m\u001b[1;33m,\u001b[0m\u001b[1;33m\u001b[0m\u001b[0m\n\u001b[1;32m---> 70\u001b[1;33m                                       NA_action)\n\u001b[0m\u001b[0;32m     71\u001b[0m     \u001b[1;32melse\u001b[0m\u001b[1;33m:\u001b[0m\u001b[1;33m\u001b[0m\u001b[0m\n\u001b[0;32m     72\u001b[0m         \u001b[1;32mreturn\u001b[0m \u001b[1;32mNone\u001b[0m\u001b[1;33m\u001b[0m\u001b[0m\n",
      "\u001b[1;32m~\\Anaconda3\\lib\\site-packages\\patsy\\build.py\u001b[0m in \u001b[0;36mdesign_matrix_builders\u001b[1;34m(termlists, data_iter_maker, eval_env, NA_action)\u001b[0m\n\u001b[0;32m    694\u001b[0m                                                    \u001b[0mfactor_states\u001b[0m\u001b[1;33m,\u001b[0m\u001b[1;33m\u001b[0m\u001b[0m\n\u001b[0;32m    695\u001b[0m                                                    \u001b[0mdata_iter_maker\u001b[0m\u001b[1;33m,\u001b[0m\u001b[1;33m\u001b[0m\u001b[0m\n\u001b[1;32m--> 696\u001b[1;33m                                                    NA_action)\n\u001b[0m\u001b[0;32m    697\u001b[0m     \u001b[1;31m# Now we need the factor infos, which encapsulate the knowledge of\u001b[0m\u001b[1;33m\u001b[0m\u001b[1;33m\u001b[0m\u001b[0m\n\u001b[0;32m    698\u001b[0m     \u001b[1;31m# how to turn any given factor into a chunk of data:\u001b[0m\u001b[1;33m\u001b[0m\u001b[1;33m\u001b[0m\u001b[0m\n",
      "\u001b[1;32m~\\Anaconda3\\lib\\site-packages\\patsy\\build.py\u001b[0m in \u001b[0;36m_examine_factor_types\u001b[1;34m(factors, factor_states, data_iter_maker, NA_action)\u001b[0m\n\u001b[0;32m    441\u001b[0m     \u001b[1;32mfor\u001b[0m \u001b[0mdata\u001b[0m \u001b[1;32min\u001b[0m \u001b[0mdata_iter_maker\u001b[0m\u001b[1;33m(\u001b[0m\u001b[1;33m)\u001b[0m\u001b[1;33m:\u001b[0m\u001b[1;33m\u001b[0m\u001b[0m\n\u001b[0;32m    442\u001b[0m         \u001b[1;32mfor\u001b[0m \u001b[0mfactor\u001b[0m \u001b[1;32min\u001b[0m \u001b[0mlist\u001b[0m\u001b[1;33m(\u001b[0m\u001b[0mexamine_needed\u001b[0m\u001b[1;33m)\u001b[0m\u001b[1;33m:\u001b[0m\u001b[1;33m\u001b[0m\u001b[0m\n\u001b[1;32m--> 443\u001b[1;33m             \u001b[0mvalue\u001b[0m \u001b[1;33m=\u001b[0m \u001b[0mfactor\u001b[0m\u001b[1;33m.\u001b[0m\u001b[0meval\u001b[0m\u001b[1;33m(\u001b[0m\u001b[0mfactor_states\u001b[0m\u001b[1;33m[\u001b[0m\u001b[0mfactor\u001b[0m\u001b[1;33m]\u001b[0m\u001b[1;33m,\u001b[0m \u001b[0mdata\u001b[0m\u001b[1;33m)\u001b[0m\u001b[1;33m\u001b[0m\u001b[0m\n\u001b[0m\u001b[0;32m    444\u001b[0m             \u001b[1;32mif\u001b[0m \u001b[0mfactor\u001b[0m \u001b[1;32min\u001b[0m \u001b[0mcat_sniffers\u001b[0m \u001b[1;32mor\u001b[0m \u001b[0mguess_categorical\u001b[0m\u001b[1;33m(\u001b[0m\u001b[0mvalue\u001b[0m\u001b[1;33m)\u001b[0m\u001b[1;33m:\u001b[0m\u001b[1;33m\u001b[0m\u001b[0m\n\u001b[0;32m    445\u001b[0m                 \u001b[1;32mif\u001b[0m \u001b[0mfactor\u001b[0m \u001b[1;32mnot\u001b[0m \u001b[1;32min\u001b[0m \u001b[0mcat_sniffers\u001b[0m\u001b[1;33m:\u001b[0m\u001b[1;33m\u001b[0m\u001b[0m\n",
      "\u001b[1;32m~\\Anaconda3\\lib\\site-packages\\patsy\\eval.py\u001b[0m in \u001b[0;36meval\u001b[1;34m(self, memorize_state, data)\u001b[0m\n\u001b[0;32m    564\u001b[0m         return self._eval(memorize_state[\"eval_code\"],\n\u001b[0;32m    565\u001b[0m                           \u001b[0mmemorize_state\u001b[0m\u001b[1;33m,\u001b[0m\u001b[1;33m\u001b[0m\u001b[0m\n\u001b[1;32m--> 566\u001b[1;33m                           data)\n\u001b[0m\u001b[0;32m    567\u001b[0m \u001b[1;33m\u001b[0m\u001b[0m\n\u001b[0;32m    568\u001b[0m     \u001b[0m__getstate__\u001b[0m \u001b[1;33m=\u001b[0m \u001b[0mno_pickling\u001b[0m\u001b[1;33m\u001b[0m\u001b[0m\n",
      "\u001b[1;32m~\\Anaconda3\\lib\\site-packages\\patsy\\eval.py\u001b[0m in \u001b[0;36m_eval\u001b[1;34m(self, code, memorize_state, data)\u001b[0m\n\u001b[0;32m    549\u001b[0m                                  \u001b[0mmemorize_state\u001b[0m\u001b[1;33m[\u001b[0m\u001b[1;34m\"eval_env\"\u001b[0m\u001b[1;33m]\u001b[0m\u001b[1;33m.\u001b[0m\u001b[0meval\u001b[0m\u001b[1;33m,\u001b[0m\u001b[1;33m\u001b[0m\u001b[0m\n\u001b[0;32m    550\u001b[0m                                  \u001b[0mcode\u001b[0m\u001b[1;33m,\u001b[0m\u001b[1;33m\u001b[0m\u001b[0m\n\u001b[1;32m--> 551\u001b[1;33m                                  inner_namespace=inner_namespace)\n\u001b[0m\u001b[0;32m    552\u001b[0m \u001b[1;33m\u001b[0m\u001b[0m\n\u001b[0;32m    553\u001b[0m     \u001b[1;32mdef\u001b[0m \u001b[0mmemorize_chunk\u001b[0m\u001b[1;33m(\u001b[0m\u001b[0mself\u001b[0m\u001b[1;33m,\u001b[0m \u001b[0mstate\u001b[0m\u001b[1;33m,\u001b[0m \u001b[0mwhich_pass\u001b[0m\u001b[1;33m,\u001b[0m \u001b[0mdata\u001b[0m\u001b[1;33m)\u001b[0m\u001b[1;33m:\u001b[0m\u001b[1;33m\u001b[0m\u001b[0m\n",
      "\u001b[1;32m~\\Anaconda3\\lib\\site-packages\\patsy\\compat.py\u001b[0m in \u001b[0;36mcall_and_wrap_exc\u001b[1;34m(msg, origin, f, *args, **kwargs)\u001b[0m\n\u001b[0;32m    122\u001b[0m                                  origin)\n\u001b[0;32m    123\u001b[0m             \u001b[1;31m# Use 'exec' to hide this syntax from the Python 2 parser:\u001b[0m\u001b[1;33m\u001b[0m\u001b[1;33m\u001b[0m\u001b[0m\n\u001b[1;32m--> 124\u001b[1;33m             \u001b[0mexec\u001b[0m\u001b[1;33m(\u001b[0m\u001b[1;34m\"raise new_exc from e\"\u001b[0m\u001b[1;33m)\u001b[0m\u001b[1;33m\u001b[0m\u001b[0m\n\u001b[0m\u001b[0;32m    125\u001b[0m         \u001b[1;32melse\u001b[0m\u001b[1;33m:\u001b[0m\u001b[1;33m\u001b[0m\u001b[0m\n\u001b[0;32m    126\u001b[0m             \u001b[1;31m# In python 2, we just let the original exception escape -- better\u001b[0m\u001b[1;33m\u001b[0m\u001b[1;33m\u001b[0m\u001b[0m\n",
      "\u001b[1;32m~\\Anaconda3\\lib\\site-packages\\patsy\\compat.py\u001b[0m in \u001b[0;36m<module>\u001b[1;34m()\u001b[0m\n",
      "\u001b[1;31mPatsyError\u001b[0m: Error evaluating factor: NameError: name 'Pct' is not defined\n    Pct.CHP.Group.HH.Surveyed ~ TreatmentGroup\n    ^^^^^^^^^^^^^^^^^^^^^^^^^"
     ]
    }
   ],
   "source": [
    "smf.glm( formula=\"Pct.CHP.Group.HH.Surveyed ~ TreatmentGroup\", data=dataset).fit()"
   ]
  },
  {
   "cell_type": "markdown",
   "metadata": {},
   "source": [
    "**Correlation Output** \n",
    "- Being in treatment group is negatively correlated with increased surveying rates. Treatment has decreasing surveying rates \n",
    "    - being in treatment also associated with lower \n",
    "    registraion. So it may follow that\n",
    "    - magnitude is less than 0.3\n",
    "    \n",
    " \n",
    "- Doesn't make to correlate doing survey and being registered -- can't do survey unless you're registered, so of course they are associated. \n",
    "\n",
    "- Should we correlate to dummy variable?? but can regress on it so?? just do Ho: testing b/c one var so the glm = Ho t-test, si"
   ]
  },
  {
   "cell_type": "markdown",
   "metadata": {},
   "source": [
    "## Statistical Tests\n",
    "- Ho t-test \n"
   ]
  },
  {
   "cell_type": "code",
   "execution_count": 52,
   "metadata": {
    "collapsed": true,
    "scrolled": true
   },
   "outputs": [],
   "source": [
    "## Using t.test methods Vs using glm methods <<< find the py equivs for R << Can't wait to get some R in here \n",
    "\n",
    "## Using smf on glm model \n",
    "# x,y = dmatrices( \"'Pct.CHP.Group.HH.Surveyed' ~ 'TreatmentGroup'\", data=dataset, return_type=\"dataframe\")\n"
   ]
  },
  {
   "cell_type": "code",
   "execution_count": 63,
   "metadata": {},
   "outputs": [
    {
     "data": {
      "text/plain": [
       "Ttest_indResult(statistic=-1.0649787248863229, pvalue=0.29054532318513066)"
      ]
     },
     "execution_count": 63,
     "metadata": {},
     "output_type": "execute_result"
    }
   ],
   "source": [
    "## Using scipy\n",
    "lm = sci.ttest_ind(dataset[dataset[\"Dummy.Treatment\"]==1][\"Pct.CHP.Group.HH.Surveyed\"], dataset[dataset[\"Dummy.Treatment\"]==0][\"Pct.CHP.Group.HH.Surveyed\"])\n",
    "lm"
   ]
  },
  {
   "cell_type": "markdown",
   "metadata": {
    "collapsed": true
   },
   "source": [
    "- The two populations are not different\n",
    "    - p-value = 0.29 "
   ]
  }
 ],
 "metadata": {
  "kernelspec": {
   "display_name": "Python 3",
   "language": "python",
   "name": "python3"
  },
  "language_info": {
   "codemirror_mode": {
    "name": "ipython",
    "version": 3
   },
   "file_extension": ".py",
   "mimetype": "text/x-python",
   "name": "python",
   "nbconvert_exporter": "python",
   "pygments_lexer": "ipython3",
   "version": "3.6.3"
  }
 },
 "nbformat": 4,
 "nbformat_minor": 2
}
