{
 "cells": [
  {
   "cell_type": "markdown",
   "metadata": {},
   "source": [
    "<script>\n",
    "  function code_toggle() {\n",
    "    if (code_shown){\n",
    "      $('div.input').hide('500');\n",
    "      $('#toggleButton').val('Show Code')\n",
    "    } else {\n",
    "      $('div.input').show('500');\n",
    "      $('#toggleButton').val('Hide Code')\n",
    "    }\n",
    "    code_shown = !code_shown\n",
    "  }\n",
    "\n",
    "  $( document ).ready(function(){\n",
    "    code_shown=false;\n",
    "    $('div.input').hide()\n",
    "  });\n",
    "</script>\n",
    "<form action=\"javascript:code_toggle()\"><input type=\"submit\" id=\"toggleButton\" value=\"Show Code\"></form>"
   ]
  },
  {
   "cell_type": "markdown",
   "metadata": {
    "toc": true
   },
   "source": [
    "<h1>Table of Contents<span class=\"tocSkip\"></span></h1>\n",
    "<div class=\"toc\"><ul class=\"toc-item\"><li><span><a href=\"#Introduction\" data-toc-modified-id=\"Introduction-1\"><span class=\"toc-item-num\">1&nbsp;&nbsp;</span>Introduction</a></span><ul class=\"toc-item\"><li><span><a href=\"#Ogembo-Last-90-Days\" data-toc-modified-id=\"Ogembo-Last-90-Days-1.1\"><span class=\"toc-item-num\">1.1&nbsp;&nbsp;</span>Ogembo Last 90 Days</a></span></li></ul></li><li><span><a href=\"#2015---2017-KE-Data\" data-toc-modified-id=\"2015---2017-KE-Data-2\"><span class=\"toc-item-num\">2&nbsp;&nbsp;</span>2015 - 2017 KE Data</a></span><ul class=\"toc-item\"><li><span><a href=\"#Ogembo-2015---2017\" data-toc-modified-id=\"Ogembo-2015---2017-2.1\"><span class=\"toc-item-num\">2.1&nbsp;&nbsp;</span>Ogembo 2015 - 2017</a></span></li></ul></li><li><span><a href=\"#Appendix\" data-toc-modified-id=\"Appendix-3\"><span class=\"toc-item-num\">3&nbsp;&nbsp;</span>Appendix</a></span><ul class=\"toc-item\"><li><span><a href=\"#Summary-Stats-for-Ogembo\" data-toc-modified-id=\"Summary-Stats-for-Ogembo-3.1\"><span class=\"toc-item-num\">3.1&nbsp;&nbsp;</span>Summary Stats for Ogembo</a></span></li></ul></li></ul></div>"
   ]
  },
  {
   "cell_type": "code",
   "execution_count": 1,
   "metadata": {},
   "outputs": [],
   "source": [
    "## load libz and configurations \n",
    "%run \"../../Utilz/load_envz.ipynb\"\n",
    "\n",
    "def CHWSummaries( dtset, colz, t, grp=None, rnd=2, plotit=True): \n",
    "    print( \"\\n\\n %s\" % t )\n",
    "    \n",
    "   # dtset = dtset.groupby(grp).stack() if grp else dtset\n",
    "    \n",
    "    if grp: \n",
    "        grpz = dtset[ grp ].unique()  \n",
    "        dtmp = pd.DataFrame( ) # index=[\"# Cases\", \"Avg. per CHW\",  \"Max per CHW\", \"Min per CHW\"], columns=colz)\n",
    "        \n",
    "        for g in grpz: \n",
    "            d =  pd.DataFrame( { \"Group\": g,\n",
    "                \"# Cases\": dtset[ dtset[grp]==g ][ colz  ].sum().round(rnd), \n",
    "               \"Avg. per CHW\": dtset[ dtset[grp]==g ][ colz  ].mean().round(rnd),\n",
    "               \"Min per CHW\": dtset[ dtset[grp]==g ][ colz  ].min().round(rnd),\n",
    "               \"Max per CHW\" : dtset[ dtset[grp]==g ][ colz  ].max().round(rnd),\n",
    "              }) \n",
    "            dtmp = dtmp.append( d )\n",
    "        #dtmp.set_index( dtmp[\"Group\"]+dtmp.index, inplace=True)\n",
    "        return (dtmp.T, dtmp[\"# Cases\"].T[grpz[0]].sort_values().plot( kind=\"bar\", figsize=(15,5)) ) if plotit else dtmp\n",
    "        \n",
    "    else: \n",
    "        dtmp = pd.DataFrame( { \"# Cases\": dtset[ colz  ].sum().round(rnd), \n",
    "           \"Avg. per CHW\": dtset[ colz  ].mean().round(rnd),\n",
    "           \"Min per CHW\": dtset[ colz  ].min().round(rnd),\n",
    "           \"Max per CHW\" : dtset[ colz  ].max().round(rnd),\n",
    "          })\n",
    "        return (dtmp.T, dtmp[\"# Cases\"].T.sort_values().plot( kind=\"bar\", figsize=(15,5)) ) if plotit else dtmp.T\n"
   ]
  },
  {
   "cell_type": "code",
   "execution_count": 2,
   "metadata": {},
   "outputs": [],
   "source": [
    "## load dataset OG\n",
    "og_only_dataset = pd.read_csv( \"%s/LG/Ogembo_targeted_chv_support_ke-20180326.csv\" % DATA_DIR )  \n",
    "\n",
    "#print(\"\\n1. OG Only Shape\")\n",
    "#og_only_dataset.shape\n",
    "#og_only_dataset.info()\n",
    "\n",
    "## load dataset KE\n",
    "KE_3yrs_dataset = pd.read_csv( \"%s/LG/Branch Data 2015-2017.csv\" % DATA_DIR )  \n",
    "\n",
    "#print(\"\\n2. KE 3 yrs Shape\")\n",
    "#KE_3yrs_dataset.shape\n",
    "#KE_3yrs_dataset.info()\n"
   ]
  },
  {
   "cell_type": "code",
   "execution_count": 3,
   "metadata": {},
   "outputs": [],
   "source": [
    "## rename colums \n",
    "#dataset.rename(columns={ \"old\": \"new\"}, inplace=True)\n",
    "## drop unwanted\n",
    "#dataset.drop( ['colz'], axis=1, inplace=True)\n",
    "## Remove Colums \n",
    "og_only_dataset.drop( \"Phone Number\", axis=1, inplace=True)"
   ]
  },
  {
   "cell_type": "code",
   "execution_count": 4,
   "metadata": {},
   "outputs": [],
   "source": [
    "#### Calculated Columns \n",
    "\n",
    "## OG data \n",
    "og_only_dataset[\"Country\"] = \"KE\"\n",
    "\n",
    "og_only_dataset[\"Total Assessments\"] = og_only_dataset[\"Total U1 Assessments\"] + og_only_dataset[\"Total U5 Assessments\"] \n",
    "og_only_dataset[\"Total Treatments\"] = og_only_dataset[\"Total U1 Treatments\"] + og_only_dataset[\"Total U5 Treatments\"] \n",
    "og_only_dataset[\"Total Referrals\"] = og_only_dataset[\"On Time Referral f/u Treatment U5\"] \n",
    "\n",
    "og_only_dataset[\"Pct_Treated in Assessed\"] = np.nan_to_num( og_only_dataset[\"Total Treatments\"]/og_only_dataset[\"Total Assessments\"] )\n",
    "og_only_dataset[\"Pct_Referral in Assessed\"] = og_only_dataset[\"Total Referrals\"]/og_only_dataset[\"Total Assessments\"]\n",
    "og_only_dataset[\"Pct_Malaria in Assessed\"] = og_only_dataset[\"All Malaria Assessments\"]/og_only_dataset[\"Total Assessments\"]\n",
    "\n",
    "og_only_dataset[\"Pct_Malaria in Treated\"] = og_only_dataset[\"All Malaria Treatments\"]/og_only_dataset[\"Total Treatments\"]\n",
    "og_only_dataset[\"Pct_U1 in Assessed\"] = og_only_dataset[\"Total U1 Assessments\"]/og_only_dataset[\"Total Assessments\"]\n",
    "og_only_dataset[\"Pct_U1 in Treated\"] = og_only_dataset[\"Total U1 Treatments\"]/og_only_dataset[\"Total Treatments\"]\n"
   ]
  },
  {
   "cell_type": "markdown",
   "metadata": {
    "variables": {
     " np.round(og_only_dataset[\"Total Referrals\"].mean(), decimals=3 ) ": "0.33800000000000002",
     " np.round(og_only_dataset[\"Total Referrals\"].sum() ) ": "48.0",
     " og_only_dataset[\"CHP ID\"].count() ": "143",
     " og_only_dataset[\"Households Registered\"].mean() ": "51.35664335664335",
     " og_only_dataset[\"Households Registered\"].sum() ": "7344"
    }
   },
   "source": [
    "# Introduction\n",
    "\n",
    "- Looking at Baseline data based\n",
    "\n",
    "- Combining data from Ogembo last 90 days (as at 26-Mar-2018), Kenya last 3 years, Kenya Data \n",
    "\n",
    "\n",
    "- **Questions**\n",
    "\n",
    "- Population/Sample size\n",
    "        - Individuals Vs Households Vs CHWs \n",
    "        - CUs Vs Branches Vs Country\n",
    "    - Demographics\n",
    "        - Gender \n",
    "        - Age groups\n",
    "        - Regions \n",
    "    - Disease incidence\n",
    "        - Totals Vs by LG core assessments \n",
    "    - Referral rates\n",
    "    -\n",
    "\n",
    "\n",
    "\n",
    "\n",
    "\n",
    "\n",
    "## Ogembo Last 90 Days\n",
    "\n",
    "- {{ og_only_dataset[\"CHP ID\"].count() }} CHPs with reasonable HHs registered , with a total of {{ og_only_dataset[\"Households Registered\"].sum() }} households \n",
    "\n",
    "- Average household size per CHW is {{ og_only_dataset[\"Households Registered\"].mean() }} \n",
    "\n",
    "- A total of {{ np.round(og_only_dataset[\"Total Referrals\"].sum() ) }} referrals with an average of about {{ np.round(og_only_dataset[\"Total Referrals\"].mean(), decimals=3 ) }} referrals per CHW\n",
    "\n",
    "\n",
    "**TODO**\n",
    "- CU mapping of CHWs <<--- CU = 10 - 20 CHWs"
   ]
  },
  {
   "cell_type": "code",
   "execution_count": 5,
   "metadata": {},
   "outputs": [],
   "source": [
    "## Variables\n",
    "argz_n = [\"CHP ID\"]\n",
    "argz_EPM = [\"Sales\", \"Community Events\", \"Pregnancy\",\"Total Assessments\", \"Total Referrals\", \"All Malaria Assessments\"]\n",
    "argz_malaria = [\"All Malaria Assessments\", \"All Malaria Treatments\", \"U5 Malaria\", \"Act 6pack Issue\", \"mRDT Used\"]\n",
    "argz_cases = [\"U5 Malaria\", \"U5 Pneumonia\", \"U5 Diarrhea\"]\n",
    "argz_axns = [\"Total Assessments\", \"Total Treatments\", \"Total Referrals\", \"All Malaria Assessments\", \"All Malaria Treatments\"]\n",
    "argz_pct = [\"Pct_Treated in Assessed\", \"Pct_Referral in Assessed\", \"Pct_Malaria in Assessed\"] \n",
    "argz_u1_u5 = [\"Total U1 Assessments\", \"Total U1 Treatments\",\"Total U5 Assessments\", \"Total U5 Treatments\"]\n",
    "\n",
    "## Missing Variables & normalize # updating dataset to HH > 20 and < 250 \n",
    "og_only_dataset.drop( og_only_dataset[ (og_only_dataset[\"Households Registered\"] < 20) | (og_only_dataset[\"Households Registered\"] > 250) ].index, inplace=True) #<< TODO: go back to boolean indexing\n"
   ]
  },
  {
   "cell_type": "code",
   "execution_count": 6,
   "metadata": {},
   "outputs": [
    {
     "name": "stdout",
     "output_type": "stream",
     "text": [
      "\n",
      "\n",
      " Summarizing Key Variables \n"
     ]
    },
    {
     "data": {
      "text/html": [
       "<div>\n",
       "<style>\n",
       "    .dataframe thead tr:only-child th {\n",
       "        text-align: right;\n",
       "    }\n",
       "\n",
       "    .dataframe thead th {\n",
       "        text-align: left;\n",
       "    }\n",
       "\n",
       "    .dataframe tbody tr th {\n",
       "        vertical-align: top;\n",
       "    }\n",
       "</style>\n",
       "<table border=\"1\" class=\"dataframe\">\n",
       "  <thead>\n",
       "    <tr style=\"text-align: right;\">\n",
       "      <th></th>\n",
       "      <th>Sales</th>\n",
       "      <th>Community Events</th>\n",
       "      <th>Pregnancy</th>\n",
       "      <th>Total Assessments</th>\n",
       "      <th>Total Referrals</th>\n",
       "      <th>All Malaria Assessments</th>\n",
       "    </tr>\n",
       "  </thead>\n",
       "  <tbody>\n",
       "    <tr>\n",
       "      <th># Cases</th>\n",
       "      <td>525323.29</td>\n",
       "      <td>448.00</td>\n",
       "      <td>243.00</td>\n",
       "      <td>4642.00</td>\n",
       "      <td>48.30</td>\n",
       "      <td>928.00</td>\n",
       "    </tr>\n",
       "    <tr>\n",
       "      <th>Avg. per CHW</th>\n",
       "      <td>7296.16</td>\n",
       "      <td>6.22</td>\n",
       "      <td>3.38</td>\n",
       "      <td>64.47</td>\n",
       "      <td>0.67</td>\n",
       "      <td>12.89</td>\n",
       "    </tr>\n",
       "    <tr>\n",
       "      <th>Max per CHW</th>\n",
       "      <td>59812.62</td>\n",
       "      <td>29.00</td>\n",
       "      <td>10.00</td>\n",
       "      <td>170.00</td>\n",
       "      <td>1.00</td>\n",
       "      <td>76.00</td>\n",
       "    </tr>\n",
       "    <tr>\n",
       "      <th>Min per CHW</th>\n",
       "      <td>-1040.00</td>\n",
       "      <td>0.00</td>\n",
       "      <td>0.00</td>\n",
       "      <td>0.00</td>\n",
       "      <td>0.00</td>\n",
       "      <td>0.00</td>\n",
       "    </tr>\n",
       "  </tbody>\n",
       "</table>\n",
       "</div>"
      ],
      "text/plain": [
       "                  Sales  Community Events  Pregnancy  Total Assessments  \\\n",
       "# Cases       525323.29            448.00     243.00            4642.00   \n",
       "Avg. per CHW    7296.16              6.22       3.38              64.47   \n",
       "Max per CHW    59812.62             29.00      10.00             170.00   \n",
       "Min per CHW    -1040.00              0.00       0.00               0.00   \n",
       "\n",
       "              Total Referrals  All Malaria Assessments  \n",
       "# Cases                 48.30                   928.00  \n",
       "Avg. per CHW             0.67                    12.89  \n",
       "Max per CHW              1.00                    76.00  \n",
       "Min per CHW              0.00                     0.00  "
      ]
     },
     "execution_count": 6,
     "metadata": {},
     "output_type": "execute_result"
    }
   ],
   "source": [
    "  CHWSummaries( og_only_dataset, argz_EPM , \"Summarizing Key Variables \", plotit=False)  "
   ]
  },
  {
   "cell_type": "code",
   "execution_count": 7,
   "metadata": {
    "scrolled": true
   },
   "outputs": [
    {
     "name": "stdout",
     "output_type": "stream",
     "text": [
      "\n",
      "\n",
      " Summarizing Key Variables \n"
     ]
    },
    {
     "data": {
      "text/plain": [
       "<matplotlib.axes._subplots.AxesSubplot at 0x24ea9eba128>"
      ]
     },
     "execution_count": 7,
     "metadata": {},
     "output_type": "execute_result"
    },
    {
     "data": {
      "text/plain": [
       "<matplotlib.axes._subplots.AxesSubplot at 0x24ea9eba128>"
      ]
     },
     "execution_count": 7,
     "metadata": {},
     "output_type": "execute_result"
    },
    {
     "data": {
      "image/png": "[encoded data removed]",
      "text/plain": [
       "<matplotlib.figure.Figure at 0x24ea9e8e978>"
      ]
     },
     "metadata": {},
     "output_type": "display_data"
    }
   ],
   "source": [
    "d, g = CHWSummaries( og_only_dataset, argz_EPM[1:] , \"Summarizing Key Variables \")\n",
    "g\n",
    "\n",
    "#summarizer( og_only_dataset, argz_EPM+argz_pct)\n",
    "sns.distplot( og_only_dataset[\"Households Registered\"])"
   ]
  },
  {
   "cell_type": "code",
   "execution_count": 8,
   "metadata": {
    "scrolled": true
   },
   "outputs": [
    {
     "name": "stdout",
     "output_type": "stream",
     "text": [
      "\n",
      "\n",
      " Summarizing Disease Cases \n"
     ]
    },
    {
     "data": {
      "text/html": [
       "<div>\n",
       "<style>\n",
       "    .dataframe thead tr:only-child th {\n",
       "        text-align: right;\n",
       "    }\n",
       "\n",
       "    .dataframe thead th {\n",
       "        text-align: left;\n",
       "    }\n",
       "\n",
       "    .dataframe tbody tr th {\n",
       "        vertical-align: top;\n",
       "    }\n",
       "</style>\n",
       "<table border=\"1\" class=\"dataframe\">\n",
       "  <thead>\n",
       "    <tr style=\"text-align: right;\">\n",
       "      <th></th>\n",
       "      <th>U5 Malaria</th>\n",
       "      <th>U5 Pneumonia</th>\n",
       "      <th>U5 Diarrhea</th>\n",
       "      <th>Total Assessments</th>\n",
       "      <th>Total Treatments</th>\n",
       "      <th>Total Referrals</th>\n",
       "      <th>All Malaria Assessments</th>\n",
       "      <th>All Malaria Treatments</th>\n",
       "    </tr>\n",
       "  </thead>\n",
       "  <tbody>\n",
       "    <tr>\n",
       "      <th># Cases</th>\n",
       "      <td>418.00</td>\n",
       "      <td>398.00</td>\n",
       "      <td>432.0</td>\n",
       "      <td>4642.00</td>\n",
       "      <td>1476.0</td>\n",
       "      <td>48.30</td>\n",
       "      <td>928.00</td>\n",
       "      <td>475.0</td>\n",
       "    </tr>\n",
       "    <tr>\n",
       "      <th>Avg. per CHW</th>\n",
       "      <td>5.81</td>\n",
       "      <td>5.53</td>\n",
       "      <td>6.0</td>\n",
       "      <td>64.47</td>\n",
       "      <td>20.5</td>\n",
       "      <td>0.67</td>\n",
       "      <td>12.89</td>\n",
       "      <td>6.6</td>\n",
       "    </tr>\n",
       "    <tr>\n",
       "      <th>Max per CHW</th>\n",
       "      <td>51.00</td>\n",
       "      <td>32.00</td>\n",
       "      <td>30.0</td>\n",
       "      <td>170.00</td>\n",
       "      <td>88.0</td>\n",
       "      <td>1.00</td>\n",
       "      <td>76.00</td>\n",
       "      <td>55.0</td>\n",
       "    </tr>\n",
       "    <tr>\n",
       "      <th>Min per CHW</th>\n",
       "      <td>0.00</td>\n",
       "      <td>0.00</td>\n",
       "      <td>0.0</td>\n",
       "      <td>0.00</td>\n",
       "      <td>0.0</td>\n",
       "      <td>0.00</td>\n",
       "      <td>0.00</td>\n",
       "      <td>0.0</td>\n",
       "    </tr>\n",
       "  </tbody>\n",
       "</table>\n",
       "</div>"
      ],
      "text/plain": [
       "              U5 Malaria  U5 Pneumonia  U5 Diarrhea  Total Assessments  \\\n",
       "# Cases           418.00        398.00        432.0            4642.00   \n",
       "Avg. per CHW        5.81          5.53          6.0              64.47   \n",
       "Max per CHW        51.00         32.00         30.0             170.00   \n",
       "Min per CHW         0.00          0.00          0.0               0.00   \n",
       "\n",
       "              Total Treatments  Total Referrals  All Malaria Assessments  \\\n",
       "# Cases                 1476.0            48.30                   928.00   \n",
       "Avg. per CHW              20.5             0.67                    12.89   \n",
       "Max per CHW               88.0             1.00                    76.00   \n",
       "Min per CHW                0.0             0.00                     0.00   \n",
       "\n",
       "              All Malaria Treatments  \n",
       "# Cases                        475.0  \n",
       "Avg. per CHW                     6.6  \n",
       "Max per CHW                     55.0  \n",
       "Min per CHW                      0.0  "
      ]
     },
     "execution_count": 8,
     "metadata": {},
     "output_type": "execute_result"
    },
    {
     "data": {
      "text/plain": [
       "<matplotlib.axes._subplots.AxesSubplot at 0x24eadc53b70>"
      ]
     },
     "execution_count": 8,
     "metadata": {},
     "output_type": "execute_result"
    },
    {
     "data": {
      "image/png": "[encoded data removed]",
      "text/plain": [
       "<matplotlib.figure.Figure at 0x24eadf95f98>"
      ]
     },
     "metadata": {},
     "output_type": "display_data"
    }
   ],
   "source": [
    "d, g = CHWSummaries( og_only_dataset, argz_cases+argz_axns , \"Summarizing Disease Cases \")\n",
    "pd.DataFrame( d )\n",
    "g"
   ]
  },
  {
   "cell_type": "code",
   "execution_count": 9,
   "metadata": {},
   "outputs": [
    {
     "name": "stdout",
     "output_type": "stream",
     "text": [
      "\n",
      "\n",
      " Comparing U1 and U5\n"
     ]
    },
    {
     "data": {
      "text/html": [
       "<div>\n",
       "<style>\n",
       "    .dataframe thead tr:only-child th {\n",
       "        text-align: right;\n",
       "    }\n",
       "\n",
       "    .dataframe thead th {\n",
       "        text-align: left;\n",
       "    }\n",
       "\n",
       "    .dataframe tbody tr th {\n",
       "        vertical-align: top;\n",
       "    }\n",
       "</style>\n",
       "<table border=\"1\" class=\"dataframe\">\n",
       "  <thead>\n",
       "    <tr style=\"text-align: right;\">\n",
       "      <th></th>\n",
       "      <th>Total U1 Assessments</th>\n",
       "      <th>Total U1 Treatments</th>\n",
       "      <th>Total U5 Assessments</th>\n",
       "      <th>Total U5 Treatments</th>\n",
       "    </tr>\n",
       "  </thead>\n",
       "  <tbody>\n",
       "    <tr>\n",
       "      <th># Cases</th>\n",
       "      <td>891.00</td>\n",
       "      <td>228.00</td>\n",
       "      <td>3751.0</td>\n",
       "      <td>1248.00</td>\n",
       "    </tr>\n",
       "    <tr>\n",
       "      <th>Avg. per CHW</th>\n",
       "      <td>12.38</td>\n",
       "      <td>3.17</td>\n",
       "      <td>52.1</td>\n",
       "      <td>17.33</td>\n",
       "    </tr>\n",
       "    <tr>\n",
       "      <th>Max per CHW</th>\n",
       "      <td>33.00</td>\n",
       "      <td>15.00</td>\n",
       "      <td>137.0</td>\n",
       "      <td>77.00</td>\n",
       "    </tr>\n",
       "    <tr>\n",
       "      <th>Min per CHW</th>\n",
       "      <td>0.00</td>\n",
       "      <td>0.00</td>\n",
       "      <td>0.0</td>\n",
       "      <td>0.00</td>\n",
       "    </tr>\n",
       "  </tbody>\n",
       "</table>\n",
       "</div>"
      ],
      "text/plain": [
       "              Total U1 Assessments  Total U1 Treatments  Total U5 Assessments  \\\n",
       "# Cases                     891.00               228.00                3751.0   \n",
       "Avg. per CHW                 12.38                 3.17                  52.1   \n",
       "Max per CHW                  33.00                15.00                 137.0   \n",
       "Min per CHW                   0.00                 0.00                   0.0   \n",
       "\n",
       "              Total U5 Treatments  \n",
       "# Cases                   1248.00  \n",
       "Avg. per CHW                17.33  \n",
       "Max per CHW                 77.00  \n",
       "Min per CHW                  0.00  "
      ]
     },
     "execution_count": 9,
     "metadata": {},
     "output_type": "execute_result"
    },
    {
     "data": {
      "text/plain": [
       "<matplotlib.axes._subplots.AxesSubplot at 0x24eae2c0400>"
      ]
     },
     "execution_count": 9,
     "metadata": {},
     "output_type": "execute_result"
    },
    {
     "data": {
      "image/png": "[encoded data removed]",
      "text/plain": [
       "<matplotlib.figure.Figure at 0x24eae29eef0>"
      ]
     },
     "metadata": {},
     "output_type": "display_data"
    }
   ],
   "source": [
    "d, g = CHWSummaries( og_only_dataset, argz_u1_u5, \"Comparing U1 and U5\")\n",
    "pd.DataFrame( d )\n",
    "g"
   ]
  },
  {
   "cell_type": "markdown",
   "metadata": {},
   "source": [
    "\n",
    "\n",
    "\n",
    "# 2015 - 2017 KE Data\n",
    "\n",
    "\n",
    "\n",
    "Looking at all of KE data in from 2015 to 2017\n",
    "\n",
    "\n"
   ]
  },
  {
   "cell_type": "code",
   "execution_count": 10,
   "metadata": {},
   "outputs": [],
   "source": [
    "\n",
    "## KE data\n",
    "KE_3yrs_dataset[\"Country\"] = \"KE\"\n",
    "\n",
    "KE_3yrs_dataset[\"Year\"] = pd.to_datetime(KE_3yrs_dataset[\"interval_start\"], dayfirst=True, errors='coerce').dt.year\n",
    "KE_3yrs_dataset[\"Month\"] = pd.to_datetime(KE_3yrs_dataset[\"interval_start\"], dayfirst=False, errors='coerce') .dt.month\n",
    "\n",
    "#KE_3yrs_dataset[[\"interval_start\", \"Year\", \"Month\"]].head(3)\n"
   ]
  },
  {
   "cell_type": "code",
   "execution_count": 11,
   "metadata": {},
   "outputs": [],
   "source": [
    "## KE Variables --  \n",
    "\n",
    "KE_3yrs_dataset[\"assess_child\"] = KE_3yrs_dataset[\"assess_u1\"]+KE_3yrs_dataset[\"assess_u5\"]\n",
    "KE_3yrs_dataset[\"treat_child\"] = KE_3yrs_dataset[\"treatments_u1\"]+KE_3yrs_dataset[\"treatments_u5\"]\n",
    "KE_3yrs_dataset[\"malaria_child\"] = KE_3yrs_dataset[\"malaria_u1\"]+KE_3yrs_dataset[\"malaria_u5\"]\n",
    "KE_3yrs_dataset[\"diarrhea_child\"] = KE_3yrs_dataset[\"diarrhea_u1\"]+KE_3yrs_dataset[\"diarrhea_u5\"]\n",
    "KE_3yrs_dataset[\"pneumonia_child\"] = KE_3yrs_dataset[\"pneumonia_u1\"]+KE_3yrs_dataset[\"pneumonia_u5\"]\n",
    "\n",
    "argz_KE_grpz = [\"Country\", \"branch_name\", \"Year\"]\n",
    "\n",
    "argz_KE_n1 = [\"branch_uuid\", \"supervisor_uuid\", \"chw_uuid\"]\n",
    "argz_KE_n2 = [\"active_chws_in_period\", \"families_registered\", \"population_served\", \"u5_population_served\"]\n",
    "\n",
    "argz_KE_EPM = [ \"families_registered\",\"pregnancies_registered\", \"community_events\"]\n",
    "\n",
    "argz_KE_malaria =  [\"mrdt_positive\", \"mrdt_negative\", \"mrdt_none\", \"malaria_all_ages\", \"malaria_all_ages_gave_al\", \"act_6packs_issued\", \"malaria_u5_mrtd_pos_treated\", \"malaria_o5_mrtd_pos_treated\", \"chps_treating_malaria\" ]\n",
    "argz_KE_U1_cases = [\"assess_u1\", \"treatments_u1\",\"malaria_u1\", \"diarrhea_u1\",\"pneumonia_u1\",  ]\n",
    "argz_KE_U5_cases = [\"assess_u5\", \"treatments_u5\" ,\"malaria_u5\", \"diarrhea_u5\",\"pneumonia_u5\", ]\n",
    "\n",
    "argz_KE_child_cases = [\"assess_any\", \"assess_child\", \"treat_child\", \"malaria_child\", \"diarrhea_child\", \"pneumonia_child\" ]\n",
    "agrz_KE_referral = [\"families_visited\", \"required_follow_ups\", \"on_time_follow_ups\", \"missed_visits\", \"on_time_pnc_visits_48h\", ]\n",
    "\n",
    "argz_KE_pregnancy_cases = [\"pregnancies_registered\", \"on_time_pnc_visits\", \"total_healthy_pnc_visits\", \"all_first_fu_pnc_visits\", \"anc_visits\", \"total_deliveries\", \"total_deliveries_at_hf\", \"underage_pregnancies\"]\n",
    "\n",
    "argz_KE_pct = []"
   ]
  },
  {
   "cell_type": "code",
   "execution_count": 12,
   "metadata": {
    "scrolled": true
   },
   "outputs": [
    {
     "name": "stdout",
     "output_type": "stream",
     "text": [
      "\n",
      "\n",
      " 1.Sample details\n",
      "\n",
      "\n",
      " KE Summaries\n"
     ]
    },
    {
     "data": {
      "text/html": [
       "<div>\n",
       "<style>\n",
       "    .dataframe thead tr:only-child th {\n",
       "        text-align: right;\n",
       "    }\n",
       "\n",
       "    .dataframe thead th {\n",
       "        text-align: left;\n",
       "    }\n",
       "\n",
       "    .dataframe tbody tr th {\n",
       "        vertical-align: top;\n",
       "    }\n",
       "</style>\n",
       "<table border=\"1\" class=\"dataframe\">\n",
       "  <thead>\n",
       "    <tr style=\"text-align: right;\">\n",
       "      <th></th>\n",
       "      <th>active_chws_in_period</th>\n",
       "      <th>families_registered</th>\n",
       "      <th>population_served</th>\n",
       "      <th>u5_population_served</th>\n",
       "    </tr>\n",
       "  </thead>\n",
       "  <tbody>\n",
       "    <tr>\n",
       "      <th># Cases</th>\n",
       "      <td>14646.0</td>\n",
       "      <td>143022.0</td>\n",
       "      <td>542198.0</td>\n",
       "      <td>95086.0</td>\n",
       "    </tr>\n",
       "    <tr>\n",
       "      <th>Avg. per CHW</th>\n",
       "      <td>29.1</td>\n",
       "      <td>283.8</td>\n",
       "      <td>1075.8</td>\n",
       "      <td>188.7</td>\n",
       "    </tr>\n",
       "    <tr>\n",
       "      <th>Max per CHW</th>\n",
       "      <td>150.0</td>\n",
       "      <td>8208.0</td>\n",
       "      <td>27871.0</td>\n",
       "      <td>3512.0</td>\n",
       "    </tr>\n",
       "    <tr>\n",
       "      <th>Min per CHW</th>\n",
       "      <td>0.0</td>\n",
       "      <td>0.0</td>\n",
       "      <td>0.0</td>\n",
       "      <td>0.0</td>\n",
       "    </tr>\n",
       "  </tbody>\n",
       "</table>\n",
       "</div>"
      ],
      "text/plain": [
       "              active_chws_in_period  families_registered  population_served  \\\n",
       "# Cases                     14646.0             143022.0           542198.0   \n",
       "Avg. per CHW                   29.1                283.8             1075.8   \n",
       "Max per CHW                   150.0               8208.0            27871.0   \n",
       "Min per CHW                     0.0                  0.0                0.0   \n",
       "\n",
       "              u5_population_served  \n",
       "# Cases                    95086.0  \n",
       "Avg. per CHW                 188.7  \n",
       "Max per CHW                 3512.0  \n",
       "Min per CHW                    0.0  "
      ]
     },
     "execution_count": 12,
     "metadata": {},
     "output_type": "execute_result"
    },
    {
     "data": {
      "text/plain": [
       "<matplotlib.axes._subplots.AxesSubplot at 0x24eae3b8908>"
      ]
     },
     "execution_count": 12,
     "metadata": {},
     "output_type": "execute_result"
    },
    {
     "data": {
      "image/png": "[encoded data removed]",
      "text/plain": [
       "<matplotlib.figure.Figure at 0x24eae36f978>"
      ]
     },
     "metadata": {},
     "output_type": "display_data"
    }
   ],
   "source": [
    "print(\"\\n\\n 1.Sample details\")\n",
    "d,g = CHWSummaries( KE_3yrs_dataset, argz_KE_n2, \"KE Summaries\", rnd=1)\n",
    "d\n",
    "g\n"
   ]
  },
  {
   "cell_type": "markdown",
   "metadata": {},
   "source": [
    "## Ogembo 2015 - 2017\n"
   ]
  },
  {
   "cell_type": "code",
   "execution_count": 13,
   "metadata": {},
   "outputs": [
    {
     "name": "stdout",
     "output_type": "stream",
     "text": [
      "\n",
      "\n",
      " Ogembo Summaries 2015 - 2017\n"
     ]
    },
    {
     "data": {
      "text/html": [
       "<div>\n",
       "<style>\n",
       "    .dataframe thead tr:only-child th {\n",
       "        text-align: right;\n",
       "    }\n",
       "\n",
       "    .dataframe thead th {\n",
       "        text-align: left;\n",
       "    }\n",
       "\n",
       "    .dataframe tbody tr th {\n",
       "        vertical-align: top;\n",
       "    }\n",
       "</style>\n",
       "<table border=\"1\" class=\"dataframe\">\n",
       "  <thead>\n",
       "    <tr style=\"text-align: right;\">\n",
       "      <th></th>\n",
       "      <th># Cases</th>\n",
       "      <th>Avg. per CHW</th>\n",
       "      <th>Group</th>\n",
       "      <th>Max per CHW</th>\n",
       "      <th>Min per CHW</th>\n",
       "    </tr>\n",
       "  </thead>\n",
       "  <tbody>\n",
       "    <tr>\n",
       "      <th>active_chws_in_period</th>\n",
       "      <td>0</td>\n",
       "      <td>0.0</td>\n",
       "      <td>2015</td>\n",
       "      <td>0</td>\n",
       "      <td>0</td>\n",
       "    </tr>\n",
       "    <tr>\n",
       "      <th>families_registered</th>\n",
       "      <td>0</td>\n",
       "      <td>0.0</td>\n",
       "      <td>2015</td>\n",
       "      <td>0</td>\n",
       "      <td>0</td>\n",
       "    </tr>\n",
       "    <tr>\n",
       "      <th>population_served</th>\n",
       "      <td>0</td>\n",
       "      <td>0.0</td>\n",
       "      <td>2015</td>\n",
       "      <td>0</td>\n",
       "      <td>0</td>\n",
       "    </tr>\n",
       "    <tr>\n",
       "      <th>u5_population_served</th>\n",
       "      <td>0</td>\n",
       "      <td>0.0</td>\n",
       "      <td>2015</td>\n",
       "      <td>0</td>\n",
       "      <td>0</td>\n",
       "    </tr>\n",
       "    <tr>\n",
       "      <th>active_chws_in_period</th>\n",
       "      <td>0</td>\n",
       "      <td>0.0</td>\n",
       "      <td>2016</td>\n",
       "      <td>0</td>\n",
       "      <td>0</td>\n",
       "    </tr>\n",
       "    <tr>\n",
       "      <th>families_registered</th>\n",
       "      <td>0</td>\n",
       "      <td>0.0</td>\n",
       "      <td>2016</td>\n",
       "      <td>0</td>\n",
       "      <td>0</td>\n",
       "    </tr>\n",
       "    <tr>\n",
       "      <th>population_served</th>\n",
       "      <td>0</td>\n",
       "      <td>0.0</td>\n",
       "      <td>2016</td>\n",
       "      <td>0</td>\n",
       "      <td>0</td>\n",
       "    </tr>\n",
       "    <tr>\n",
       "      <th>u5_population_served</th>\n",
       "      <td>0</td>\n",
       "      <td>0.0</td>\n",
       "      <td>2016</td>\n",
       "      <td>0</td>\n",
       "      <td>0</td>\n",
       "    </tr>\n",
       "    <tr>\n",
       "      <th>active_chws_in_period</th>\n",
       "      <td>557</td>\n",
       "      <td>46.4</td>\n",
       "      <td>2017</td>\n",
       "      <td>72</td>\n",
       "      <td>0</td>\n",
       "    </tr>\n",
       "    <tr>\n",
       "      <th>families_registered</th>\n",
       "      <td>7192</td>\n",
       "      <td>599.3</td>\n",
       "      <td>2017</td>\n",
       "      <td>6410</td>\n",
       "      <td>0</td>\n",
       "    </tr>\n",
       "    <tr>\n",
       "      <th>population_served</th>\n",
       "      <td>28737</td>\n",
       "      <td>2394.8</td>\n",
       "      <td>2017</td>\n",
       "      <td>25037</td>\n",
       "      <td>0</td>\n",
       "    </tr>\n",
       "    <tr>\n",
       "      <th>u5_population_served</th>\n",
       "      <td>4570</td>\n",
       "      <td>380.8</td>\n",
       "      <td>2017</td>\n",
       "      <td>3306</td>\n",
       "      <td>0</td>\n",
       "    </tr>\n",
       "  </tbody>\n",
       "</table>\n",
       "</div>"
      ],
      "text/plain": [
       "                       # Cases  Avg. per CHW  Group  Max per CHW  Min per CHW\n",
       "active_chws_in_period        0           0.0   2015            0            0\n",
       "families_registered          0           0.0   2015            0            0\n",
       "population_served            0           0.0   2015            0            0\n",
       "u5_population_served         0           0.0   2015            0            0\n",
       "active_chws_in_period        0           0.0   2016            0            0\n",
       "families_registered          0           0.0   2016            0            0\n",
       "population_served            0           0.0   2016            0            0\n",
       "u5_population_served         0           0.0   2016            0            0\n",
       "active_chws_in_period      557          46.4   2017           72            0\n",
       "families_registered       7192         599.3   2017         6410            0\n",
       "population_served        28737        2394.8   2017        25037            0\n",
       "u5_population_served      4570         380.8   2017         3306            0"
      ]
     },
     "execution_count": 13,
     "metadata": {},
     "output_type": "execute_result"
    },
    {
     "data": {
      "text/plain": [
       "<seaborn.axisgrid.FacetGrid at 0x24eae5ffc50>"
      ]
     },
     "execution_count": 13,
     "metadata": {},
     "output_type": "execute_result"
    },
    {
     "data": {
      "image/png": "[encoded data removed]",
      "text/plain": [
       "<matplotlib.figure.Figure at 0x24eae5ff4e0>"
      ]
     },
     "metadata": {},
     "output_type": "display_data"
    }
   ],
   "source": [
    "d = CHWSummaries( KE_3yrs_dataset[KE_3yrs_dataset[\"branch_name\"]==\"Ogembo\"], argz_KE_n2, \"Ogembo Summaries 2015 - 2017\", grp=\"Year\", rnd=1, plotit=False)\n",
    "d\n",
    "sns.factorplot( data=d, x=\"Group\")"
   ]
  },
  {
   "cell_type": "markdown",
   "metadata": {},
   "source": [
    "# Appendix\n"
   ]
  },
  {
   "cell_type": "markdown",
   "metadata": {},
   "source": [
    "## Summary Stats for Ogembo"
   ]
  },
  {
   "cell_type": "code",
   "execution_count": null,
   "metadata": {
    "collapsed": true
   },
   "outputs": [],
   "source": []
  }
 ],
 "metadata": {
  "anaconda-cloud": {},
  "hide_input": false,
  "kernelspec": {
   "display_name": "Python [default]",
   "language": "python",
   "name": "python3"
  },
  "language_info": {
   "codemirror_mode": {
    "name": "ipython",
    "version": 3
   },
   "file_extension": ".py",
   "mimetype": "text/x-python",
   "name": "python",
   "nbconvert_exporter": "python",
   "pygments_lexer": "ipython3",
   "version": "3.6.2"
  },
  "toc": {
   "nav_menu": {},
   "number_sections": true,
   "sideBar": true,
   "skip_h1_title": false,
   "title_cell": "Table of Contents",
   "title_sidebar": "Contents",
   "toc_cell": true,
   "toc_position": {},
   "toc_section_display": true,
   "toc_window_display": false
  }
 },
 "nbformat": 4,
 "nbformat_minor": 2
}
