{
 "cells": [
  {
   "cell_type": "markdown",
   "metadata": {
    "collapsed": true
   },
   "source": [
    "<script>\n",
    "  function code_toggle() {\n",
    "    if (code_shown){\n",
    "      $('div.input').hide('500');\n",
    "      $('#toggleButton').val('Show Code')\n",
    "    } else {\n",
    "      $('div.input').show('500');\n",
    "      $('#toggleButton').val('Hide Code')\n",
    "    }\n",
    "    code_shown = !code_shown\n",
    "  }\n",
    "\n",
    "  $( document ).ready(function(){\n",
    "    code_shown=false;\n",
    "    $('div.input').hide()\n",
    "  });\n",
    "</script>\n",
    "<form action=\"javascript:code_toggle()\"><input type=\"submit\" id=\"toggleButton\" value=\"Show Code\"></form>"
   ]
  },
  {
   "cell_type": "markdown",
   "metadata": {
    "toc": true
   },
   "source": [
    "<h1>Table of Contents<span class=\"tocSkip\"></span></h1>\n",
    "<div class=\"toc\"><ul class=\"toc-item\"><li><span><a href=\"#About-the-Data\" data-toc-modified-id=\"About-the-Data-1\"><span class=\"toc-item-num\">1&nbsp;&nbsp;</span>About the Data</a></span></li><li><span><a href=\"#Exploring-the-data\" data-toc-modified-id=\"Exploring-the-data-2\"><span class=\"toc-item-num\">2&nbsp;&nbsp;</span>Exploring the data</a></span><ul class=\"toc-item\"><li><span><a href=\"#Assumptions\" data-toc-modified-id=\"Assumptions-2.1\"><span class=\"toc-item-num\">2.1&nbsp;&nbsp;</span>Assumptions</a></span><ul class=\"toc-item\"><li><span><a href=\"#Something-something\" data-toc-modified-id=\"Something-something-2.1.1\"><span class=\"toc-item-num\">2.1.1&nbsp;&nbsp;</span>Something something</a></span></li></ul></li></ul></li></ul></div>"
   ]
  },
  {
   "cell_type": "code",
   "execution_count": 1,
   "metadata": {},
   "outputs": [],
   "source": [
    "## load libz\n",
    "%run \"../../Utilz/load_envz.ipynb\"\n",
    "\n",
    "DATA_DIR = \"C:/Users/wairimu/Google Drive/xRepos/datasets\"\n",
    "\n",
    "sns.set_palette( \"husl\", 3)"
   ]
  },
  {
   "cell_type": "code",
   "execution_count": null,
   "metadata": {},
   "outputs": [],
   "source": []
  }
 ],
 "metadata": {
  "anaconda-cloud": {},
  "hide_input": false,
  "kernelspec": {
   "display_name": "Python [default]",
   "language": "python",
   "name": "python3"
  },
  "language_info": {
   "codemirror_mode": {
    "name": "ipython",
    "version": 3
   },
   "file_extension": ".py",
   "mimetype": "text/x-python",
   "name": "python",
   "nbconvert_exporter": "python",
   "pygments_lexer": "ipython3",
   "version": "3.6.2"
  },
  "toc": {
   "nav_menu": {},
   "number_sections": true,
   "sideBar": true,
   "skip_h1_title": false,
   "title_cell": "Table of Contents",
   "title_sidebar": "Contents",
   "toc_cell": true,
   "toc_position": {},
   "toc_section_display": true,
   "toc_window_display": false
  }
 },
 "nbformat": 4,
 "nbformat_minor": 2
}
