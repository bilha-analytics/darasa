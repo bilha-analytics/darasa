{
 "cells": [
  {
   "cell_type": "raw",
   "metadata": {},
   "source": [
    "<script>\n",
    "  function code_toggle() {\n",
    "    if (code_shown){\n",
    "      $('div.input').hide('500');\n",
    "      $('#toggleButton').val('Show Code')\n",
    "    } else {\n",
    "      $('div.input').show('500');\n",
    "      $('#toggleButton').val('Hide Code')\n",
    "    }\n",
    "    code_shown = !code_shown\n",
    "  }\n",
    "\n",
    "  $( document ).ready(function(){\n",
    "    code_shown=false;\n",
    "    $('div.input').hide()\n",
    "  });\n",
    "</script>\n",
    "<form action=\"javascript:code_toggle()\"><input type=\"submit\" id=\"toggleButton\" value=\"Show Code\"></form>"
   ]
  },
  {
   "cell_type": "markdown",
   "metadata": {
    "toc": true
   },
   "source": [
    "<h1>Table of Contents<span class=\"tocSkip\"></span></h1>\n",
    "<div class=\"toc\"><ul class=\"toc-item\"><li><span><a href=\"#Summary-Stats\" data-toc-modified-id=\"Summary-Stats-1\"><span class=\"toc-item-num\">1&nbsp;&nbsp;</span>Summary Stats</a></span></li></ul></div>"
   ]
  },
  {
   "cell_type": "code",
   "execution_count": 12,
   "metadata": {
    "collapsed": true
   },
   "outputs": [],
   "source": [
    "## load libz and configurations \n",
    "%run \"../../Utilz/load_envz.ipynb\""
   ]
  },
  {
   "cell_type": "code",
   "execution_count": 13,
   "metadata": {
    "collapsed": true
   },
   "outputs": [],
   "source": [
    "## load dataset \n",
    "dataset = pd.read_csv( \"%s/KNBS_et_al/national-registered-medical-personnel-2000-to-2013.csv\" % DATA_DIR )  "
   ]
  },
  {
   "cell_type": "code",
   "execution_count": 26,
   "metadata": {},
   "outputs": [
    {
     "name": "stdout",
     "output_type": "stream",
     "text": [
      "\n",
      "1. Shape\n"
     ]
    },
    {
     "data": {
      "text/plain": [
       "(11, 15)"
      ]
     },
     "execution_count": 26,
     "metadata": {},
     "output_type": "execute_result"
    },
    {
     "name": "stdout",
     "output_type": "stream",
     "text": [
      "\n",
      "2. Dtypes\n",
      "<class 'pandas.core.frame.DataFrame'>\n",
      "RangeIndex: 11 entries, 0 to 10\n",
      "Data columns (total 15 columns):\n",
      "Type of Personnel Over the Years    11 non-null object\n",
      "2000                                11 non-null int64\n",
      "2001                                11 non-null int64\n",
      "2002                                11 non-null int64\n",
      "2003                                11 non-null int64\n",
      "2004                                11 non-null int64\n",
      "2005                                11 non-null int64\n",
      "2006                                11 non-null int64\n",
      "2007                                11 non-null int64\n",
      "2008                                11 non-null int64\n",
      "2009                                11 non-null int64\n",
      "2010                                11 non-null int64\n",
      "2011                                11 non-null int64\n",
      "2012                                11 non-null int64\n",
      "2013*                               11 non-null int64\n",
      "dtypes: int64(14), object(1)\n",
      "memory usage: 1.4+ KB\n",
      "\n",
      "3. Missing Values\n"
     ]
    },
    {
     "data": {
      "text/plain": [
       "('\\nShape # records, # variables',\n",
       " (11, 15),\n",
       " '\\n\\n\\n Counts of Missing Values \\n',\n",
       " Type of Personnel Over the Years    0\n",
       " 2000                                0\n",
       " 2001                                0\n",
       " 2002                                0\n",
       " 2003                                0\n",
       " 2004                                0\n",
       " 2005                                0\n",
       " 2006                                0\n",
       " 2007                                0\n",
       " 2008                                0\n",
       " 2009                                0\n",
       " 2010                                0\n",
       " 2011                                0\n",
       " 2012                                0\n",
       " 2013*                               0\n",
       " dtype: int64)"
      ]
     },
     "execution_count": 26,
     "metadata": {},
     "output_type": "execute_result"
    },
    {
     "name": "stdout",
     "output_type": "stream",
     "text": [
      "\n",
      "4. Glimpse head\n"
     ]
    },
    {
     "data": {
      "text/html": [
       "<div>\n",
       "<style>\n",
       "    .dataframe thead tr:only-child th {\n",
       "        text-align: right;\n",
       "    }\n",
       "\n",
       "    .dataframe thead th {\n",
       "        text-align: left;\n",
       "    }\n",
       "\n",
       "    .dataframe tbody tr th {\n",
       "        vertical-align: top;\n",
       "    }\n",
       "</style>\n",
       "<table border=\"1\" class=\"dataframe\">\n",
       "  <thead>\n",
       "    <tr style=\"text-align: right;\">\n",
       "      <th></th>\n",
       "      <th>Type of Personnel Over the Years</th>\n",
       "      <th>2000</th>\n",
       "      <th>2001</th>\n",
       "      <th>2002</th>\n",
       "      <th>2003</th>\n",
       "      <th>2004</th>\n",
       "      <th>2005</th>\n",
       "      <th>2006</th>\n",
       "      <th>2007</th>\n",
       "      <th>2008</th>\n",
       "      <th>2009</th>\n",
       "      <th>2010</th>\n",
       "      <th>2011</th>\n",
       "      <th>2012</th>\n",
       "      <th>2013*</th>\n",
       "    </tr>\n",
       "  </thead>\n",
       "  <tbody>\n",
       "    <tr>\n",
       "      <th>0</th>\n",
       "      <td>PharmTechnologist</td>\n",
       "      <td>1232</td>\n",
       "      <td>1321</td>\n",
       "      <td>1399</td>\n",
       "      <td>1405</td>\n",
       "      <td>1620</td>\n",
       "      <td>1656</td>\n",
       "      <td>1680</td>\n",
       "      <td>1680</td>\n",
       "      <td>1815</td>\n",
       "      <td>1950</td>\n",
       "      <td>2233</td>\n",
       "      <td>4436</td>\n",
       "      <td>5236</td>\n",
       "      <td>6204</td>\n",
       "    </tr>\n",
       "    <tr>\n",
       "      <th>1</th>\n",
       "      <td>Registered Nurses</td>\n",
       "      <td>9211</td>\n",
       "      <td>9392</td>\n",
       "      <td>9753</td>\n",
       "      <td>9869</td>\n",
       "      <td>10210</td>\n",
       "      <td>10657</td>\n",
       "      <td>10905</td>\n",
       "      <td>12198</td>\n",
       "      <td>14073</td>\n",
       "      <td>26988</td>\n",
       "      <td>29678</td>\n",
       "      <td>31719</td>\n",
       "      <td>35148</td>\n",
       "      <td>37907</td>\n",
       "    </tr>\n",
       "    <tr>\n",
       "      <th>2</th>\n",
       "      <td>Pharmacists</td>\n",
       "      <td>1682</td>\n",
       "      <td>1758</td>\n",
       "      <td>1866</td>\n",
       "      <td>1881</td>\n",
       "      <td>2570</td>\n",
       "      <td>2637</td>\n",
       "      <td>2697</td>\n",
       "      <td>2775</td>\n",
       "      <td>2860</td>\n",
       "      <td>2921</td>\n",
       "      <td>3097</td>\n",
       "      <td>2432</td>\n",
       "      <td>2076</td>\n",
       "      <td>2202</td>\n",
       "    </tr>\n",
       "  </tbody>\n",
       "</table>\n",
       "</div>"
      ],
      "text/plain": [
       "  Type of Personnel Over the Years  2000  2001  2002  2003   2004   2005  \\\n",
       "0                PharmTechnologist  1232  1321  1399  1405   1620   1656   \n",
       "1                Registered Nurses  9211  9392  9753  9869  10210  10657   \n",
       "2                      Pharmacists  1682  1758  1866  1881   2570   2637   \n",
       "\n",
       "    2006   2007   2008   2009   2010   2011   2012  2013*  \n",
       "0   1680   1680   1815   1950   2233   4436   5236   6204  \n",
       "1  10905  12198  14073  26988  29678  31719  35148  37907  \n",
       "2   2697   2775   2860   2921   3097   2432   2076   2202  "
      ]
     },
     "execution_count": 26,
     "metadata": {},
     "output_type": "execute_result"
    }
   ],
   "source": [
    "print(\"\\n1. Shape\")\n",
    "dataset.shape\n",
    "\n",
    "print(\"\\n2. Dtypes\")\n",
    "#dataset.dtypes\n",
    "dataset.info()\n",
    "\n",
    "print(\"\\n3. Missing Values\")\n",
    "checkMissing(dataset)\n",
    "\n",
    "print(\"\\n4. Glimpse head\")\n",
    "dataset.head(3)\n"
   ]
  },
  {
   "cell_type": "code",
   "execution_count": 15,
   "metadata": {},
   "outputs": [
    {
     "name": "stdout",
     "output_type": "stream",
     "text": [
      "\n",
      "5. Distribution by 2000 baseline\n"
     ]
    },
    {
     "data": {
      "text/plain": [
       "<matplotlib.axes._subplots.AxesSubplot at 0x15249675be0>"
      ]
     },
     "execution_count": 15,
     "metadata": {},
     "output_type": "execute_result"
    },
    {
     "data": {
      "image/png": "[encoded data removed]",
      "text/plain": [
       "<matplotlib.figure.Figure at 0x15249681780>"
      ]
     },
     "metadata": {},
     "output_type": "display_data"
    }
   ],
   "source": [
    "print(\"\\n5. Distribution by 2000 baseline\")\n",
    "sns.distplot( dataset[\"2000\"])"
   ]
  },
  {
   "cell_type": "code",
   "execution_count": 16,
   "metadata": {},
   "outputs": [
    {
     "name": "stdout",
     "output_type": "stream",
     "text": [
      "\n",
      "6. Distribution by 2013 Latest\n"
     ]
    },
    {
     "data": {
      "text/plain": [
       "<matplotlib.axes._subplots.AxesSubplot at 0x152497b9e10>"
      ]
     },
     "execution_count": 16,
     "metadata": {},
     "output_type": "execute_result"
    },
    {
     "data": {
      "image/png": "[encoded data removed]",
      "text/plain": [
       "<matplotlib.figure.Figure at 0x152497cad30>"
      ]
     },
     "metadata": {},
     "output_type": "display_data"
    }
   ],
   "source": [
    "print(\"\\n6. Distribution by 2013 Latest\")\n",
    "sns.distplot( dataset[\"2013*\"])"
   ]
  },
  {
   "cell_type": "markdown",
   "metadata": {},
   "source": [
    "# Summary Stats\n"
   ]
  },
  {
   "cell_type": "code",
   "execution_count": 17,
   "metadata": {},
   "outputs": [
    {
     "data": {
      "text/html": [
       "<div>\n",
       "<style>\n",
       "    .dataframe thead tr:only-child th {\n",
       "        text-align: right;\n",
       "    }\n",
       "\n",
       "    .dataframe thead th {\n",
       "        text-align: left;\n",
       "    }\n",
       "\n",
       "    .dataframe tbody tr th {\n",
       "        vertical-align: top;\n",
       "    }\n",
       "</style>\n",
       "<table border=\"1\" class=\"dataframe\">\n",
       "  <thead>\n",
       "    <tr style=\"text-align: right;\">\n",
       "      <th></th>\n",
       "      <th>2000</th>\n",
       "      <th>2001</th>\n",
       "      <th>2002</th>\n",
       "      <th>2003</th>\n",
       "      <th>2004</th>\n",
       "      <th>2005</th>\n",
       "      <th>2006</th>\n",
       "      <th>2007</th>\n",
       "      <th>2008</th>\n",
       "      <th>2009</th>\n",
       "      <th>2010</th>\n",
       "      <th>2011</th>\n",
       "      <th>2012</th>\n",
       "      <th>2013*</th>\n",
       "    </tr>\n",
       "  </thead>\n",
       "  <tbody>\n",
       "    <tr>\n",
       "      <th>count</th>\n",
       "      <td>11.00</td>\n",
       "      <td>11.00</td>\n",
       "      <td>11.00</td>\n",
       "      <td>11.0</td>\n",
       "      <td>11.00</td>\n",
       "      <td>11.00</td>\n",
       "      <td>11.00</td>\n",
       "      <td>11.00</td>\n",
       "      <td>11.00</td>\n",
       "      <td>11.00</td>\n",
       "      <td>11.00</td>\n",
       "      <td>11.00</td>\n",
       "      <td>11.00</td>\n",
       "      <td>11.00</td>\n",
       "    </tr>\n",
       "    <tr>\n",
       "      <th>mean</th>\n",
       "      <td>10133.09</td>\n",
       "      <td>10401.45</td>\n",
       "      <td>10736.18</td>\n",
       "      <td>11018.0</td>\n",
       "      <td>11929.09</td>\n",
       "      <td>11984.36</td>\n",
       "      <td>12213.64</td>\n",
       "      <td>13315.64</td>\n",
       "      <td>13978.73</td>\n",
       "      <td>17343.64</td>\n",
       "      <td>18256.55</td>\n",
       "      <td>17447.27</td>\n",
       "      <td>19075.09</td>\n",
       "      <td>20468.36</td>\n",
       "    </tr>\n",
       "    <tr>\n",
       "      <th>std</th>\n",
       "      <td>17063.16</td>\n",
       "      <td>17480.15</td>\n",
       "      <td>18008.92</td>\n",
       "      <td>18527.1</td>\n",
       "      <td>20473.83</td>\n",
       "      <td>19996.68</td>\n",
       "      <td>20299.48</td>\n",
       "      <td>21748.73</td>\n",
       "      <td>22681.33</td>\n",
       "      <td>28081.07</td>\n",
       "      <td>29505.80</td>\n",
       "      <td>27809.97</td>\n",
       "      <td>30454.41</td>\n",
       "      <td>32604.37</td>\n",
       "    </tr>\n",
       "    <tr>\n",
       "      <th>min</th>\n",
       "      <td>0.00</td>\n",
       "      <td>0.00</td>\n",
       "      <td>0.00</td>\n",
       "      <td>0.0</td>\n",
       "      <td>280.00</td>\n",
       "      <td>367.00</td>\n",
       "      <td>478.00</td>\n",
       "      <td>585.00</td>\n",
       "      <td>657.00</td>\n",
       "      <td>859.00</td>\n",
       "      <td>898.00</td>\n",
       "      <td>930.00</td>\n",
       "      <td>985.00</td>\n",
       "      <td>1045.00</td>\n",
       "    </tr>\n",
       "    <tr>\n",
       "      <th>25%</th>\n",
       "      <td>1080.50</td>\n",
       "      <td>1181.50</td>\n",
       "      <td>1286.50</td>\n",
       "      <td>1310.5</td>\n",
       "      <td>1467.00</td>\n",
       "      <td>1522.00</td>\n",
       "      <td>1568.50</td>\n",
       "      <td>2227.50</td>\n",
       "      <td>2337.50</td>\n",
       "      <td>2435.50</td>\n",
       "      <td>2665.00</td>\n",
       "      <td>3434.00</td>\n",
       "      <td>3656.00</td>\n",
       "      <td>4085.50</td>\n",
       "    </tr>\n",
       "    <tr>\n",
       "      <th>50%</th>\n",
       "      <td>4492.00</td>\n",
       "      <td>4610.00</td>\n",
       "      <td>4740.00</td>\n",
       "      <td>4804.0</td>\n",
       "      <td>4953.00</td>\n",
       "      <td>5059.00</td>\n",
       "      <td>5285.00</td>\n",
       "      <td>5969.00</td>\n",
       "      <td>5969.00</td>\n",
       "      <td>6800.00</td>\n",
       "      <td>7129.00</td>\n",
       "      <td>7549.00</td>\n",
       "      <td>8069.00</td>\n",
       "      <td>8637.00</td>\n",
       "    </tr>\n",
       "    <tr>\n",
       "      <th>75%</th>\n",
       "      <td>7121.50</td>\n",
       "      <td>7332.00</td>\n",
       "      <td>7618.50</td>\n",
       "      <td>7748.0</td>\n",
       "      <td>8035.50</td>\n",
       "      <td>8297.50</td>\n",
       "      <td>8437.00</td>\n",
       "      <td>9463.00</td>\n",
       "      <td>10516.50</td>\n",
       "      <td>17402.00</td>\n",
       "      <td>19193.00</td>\n",
       "      <td>17084.00</td>\n",
       "      <td>18903.00</td>\n",
       "      <td>20028.50</td>\n",
       "    </tr>\n",
       "    <tr>\n",
       "      <th>max</th>\n",
       "      <td>55732.00</td>\n",
       "      <td>57208.00</td>\n",
       "      <td>59049.00</td>\n",
       "      <td>60599.0</td>\n",
       "      <td>67993.00</td>\n",
       "      <td>65914.00</td>\n",
       "      <td>67175.00</td>\n",
       "      <td>73236.00</td>\n",
       "      <td>76883.00</td>\n",
       "      <td>95390.00</td>\n",
       "      <td>100411.00</td>\n",
       "      <td>95960.00</td>\n",
       "      <td>104913.00</td>\n",
       "      <td>112576.00</td>\n",
       "    </tr>\n",
       "  </tbody>\n",
       "</table>\n",
       "</div>"
      ],
      "text/plain": [
       "           2000      2001      2002     2003      2004      2005      2006  \\\n",
       "count     11.00     11.00     11.00     11.0     11.00     11.00     11.00   \n",
       "mean   10133.09  10401.45  10736.18  11018.0  11929.09  11984.36  12213.64   \n",
       "std    17063.16  17480.15  18008.92  18527.1  20473.83  19996.68  20299.48   \n",
       "min        0.00      0.00      0.00      0.0    280.00    367.00    478.00   \n",
       "25%     1080.50   1181.50   1286.50   1310.5   1467.00   1522.00   1568.50   \n",
       "50%     4492.00   4610.00   4740.00   4804.0   4953.00   5059.00   5285.00   \n",
       "75%     7121.50   7332.00   7618.50   7748.0   8035.50   8297.50   8437.00   \n",
       "max    55732.00  57208.00  59049.00  60599.0  67993.00  65914.00  67175.00   \n",
       "\n",
       "           2007      2008      2009       2010      2011       2012      2013*  \n",
       "count     11.00     11.00     11.00      11.00     11.00      11.00      11.00  \n",
       "mean   13315.64  13978.73  17343.64   18256.55  17447.27   19075.09   20468.36  \n",
       "std    21748.73  22681.33  28081.07   29505.80  27809.97   30454.41   32604.37  \n",
       "min      585.00    657.00    859.00     898.00    930.00     985.00    1045.00  \n",
       "25%     2227.50   2337.50   2435.50    2665.00   3434.00    3656.00    4085.50  \n",
       "50%     5969.00   5969.00   6800.00    7129.00   7549.00    8069.00    8637.00  \n",
       "75%     9463.00  10516.50  17402.00   19193.00  17084.00   18903.00   20028.50  \n",
       "max    73236.00  76883.00  95390.00  100411.00  95960.00  104913.00  112576.00  "
      ]
     },
     "execution_count": 17,
     "metadata": {},
     "output_type": "execute_result"
    }
   ],
   "source": [
    "## describe\n",
    "summarizer( dataset )"
   ]
  },
  {
   "cell_type": "code",
   "execution_count": 18,
   "metadata": {},
   "outputs": [
    {
     "data": {
      "text/plain": [
       "<matplotlib.axes._subplots.AxesSubplot at 0x1524985b048>"
      ]
     },
     "execution_count": 18,
     "metadata": {},
     "output_type": "execute_result"
    },
    {
     "data": {
      "image/png": "[encoded data removed]",
      "text/plain": [
       "<matplotlib.figure.Figure at 0x152497c0eb8>"
      ]
     },
     "metadata": {},
     "output_type": "display_data"
    }
   ],
   "source": [
    "dataset.mean().plot(kind=\"bar\") #groupby(\"Type of Personnel Over the Years\")\n"
   ]
  },
  {
   "cell_type": "code",
   "execution_count": 19,
   "metadata": {
    "scrolled": true
   },
   "outputs": [
    {
     "data": {
      "text/html": [
       "<div>\n",
       "<style>\n",
       "    .dataframe thead tr:only-child th {\n",
       "        text-align: right;\n",
       "    }\n",
       "\n",
       "    .dataframe thead th {\n",
       "        text-align: left;\n",
       "    }\n",
       "\n",
       "    .dataframe tbody tr th {\n",
       "        vertical-align: top;\n",
       "    }\n",
       "</style>\n",
       "<table border=\"1\" class=\"dataframe\">\n",
       "  <thead>\n",
       "    <tr style=\"text-align: right;\">\n",
       "      <th></th>\n",
       "      <th>Type of Personnel Over the Years</th>\n",
       "      <th>2000</th>\n",
       "      <th>2001</th>\n",
       "      <th>2002</th>\n",
       "      <th>2003</th>\n",
       "      <th>2004</th>\n",
       "      <th>2005</th>\n",
       "      <th>2006</th>\n",
       "      <th>2007</th>\n",
       "      <th>2008</th>\n",
       "      <th>2009</th>\n",
       "      <th>2010</th>\n",
       "      <th>2011</th>\n",
       "      <th>2012</th>\n",
       "      <th>2013*</th>\n",
       "    </tr>\n",
       "  </thead>\n",
       "  <tbody>\n",
       "    <tr>\n",
       "      <th>0</th>\n",
       "      <td>PharmTechnologist</td>\n",
       "      <td>1232</td>\n",
       "      <td>1321</td>\n",
       "      <td>1399</td>\n",
       "      <td>1405</td>\n",
       "      <td>1620</td>\n",
       "      <td>1656</td>\n",
       "      <td>1680</td>\n",
       "      <td>1680</td>\n",
       "      <td>1815</td>\n",
       "      <td>1950</td>\n",
       "      <td>2233</td>\n",
       "      <td>4436</td>\n",
       "      <td>5236</td>\n",
       "      <td>6204</td>\n",
       "    </tr>\n",
       "    <tr>\n",
       "      <th>1</th>\n",
       "      <td>Registered Nurses</td>\n",
       "      <td>9211</td>\n",
       "      <td>9392</td>\n",
       "      <td>9753</td>\n",
       "      <td>9869</td>\n",
       "      <td>10210</td>\n",
       "      <td>10657</td>\n",
       "      <td>10905</td>\n",
       "      <td>12198</td>\n",
       "      <td>14073</td>\n",
       "      <td>26988</td>\n",
       "      <td>29678</td>\n",
       "      <td>31719</td>\n",
       "      <td>35148</td>\n",
       "      <td>37907</td>\n",
       "    </tr>\n",
       "    <tr>\n",
       "      <th>2</th>\n",
       "      <td>Pharmacists</td>\n",
       "      <td>1682</td>\n",
       "      <td>1758</td>\n",
       "      <td>1866</td>\n",
       "      <td>1881</td>\n",
       "      <td>2570</td>\n",
       "      <td>2637</td>\n",
       "      <td>2697</td>\n",
       "      <td>2775</td>\n",
       "      <td>2860</td>\n",
       "      <td>2921</td>\n",
       "      <td>3097</td>\n",
       "      <td>2432</td>\n",
       "      <td>2076</td>\n",
       "      <td>2202</td>\n",
       "    </tr>\n",
       "    <tr>\n",
       "      <th>3</th>\n",
       "      <td>Enrolled Nurses</td>\n",
       "      <td>27902</td>\n",
       "      <td>28420</td>\n",
       "      <td>29094</td>\n",
       "      <td>30212</td>\n",
       "      <td>30562</td>\n",
       "      <td>31895</td>\n",
       "      <td>31917</td>\n",
       "      <td>31917</td>\n",
       "      <td>31917</td>\n",
       "      <td>34032</td>\n",
       "      <td>34282</td>\n",
       "      <td>24375</td>\n",
       "      <td>26621</td>\n",
       "      <td>26841</td>\n",
       "    </tr>\n",
       "    <tr>\n",
       "      <th>4</th>\n",
       "      <td>Clinical officers</td>\n",
       "      <td>4492</td>\n",
       "      <td>4610</td>\n",
       "      <td>4778</td>\n",
       "      <td>4804</td>\n",
       "      <td>4953</td>\n",
       "      <td>5059</td>\n",
       "      <td>5285</td>\n",
       "      <td>4182</td>\n",
       "      <td>5035</td>\n",
       "      <td>7816</td>\n",
       "      <td>8708</td>\n",
       "      <td>9793</td>\n",
       "      <td>11185</td>\n",
       "      <td>13216</td>\n",
       "    </tr>\n",
       "    <tr>\n",
       "      <th>5</th>\n",
       "      <td>Doctors</td>\n",
       "      <td>4506</td>\n",
       "      <td>4630</td>\n",
       "      <td>4740</td>\n",
       "      <td>4813</td>\n",
       "      <td>5016</td>\n",
       "      <td>5446</td>\n",
       "      <td>5889</td>\n",
       "      <td>6271</td>\n",
       "      <td>6623</td>\n",
       "      <td>6800</td>\n",
       "      <td>7129</td>\n",
       "      <td>7549</td>\n",
       "      <td>8092</td>\n",
       "      <td>8682</td>\n",
       "    </tr>\n",
       "    <tr>\n",
       "      <th>6</th>\n",
       "      <td>Public Health Technicians</td>\n",
       "      <td>5032</td>\n",
       "      <td>5272</td>\n",
       "      <td>5484</td>\n",
       "      <td>5627</td>\n",
       "      <td>5861</td>\n",
       "      <td>5938</td>\n",
       "      <td>5969</td>\n",
       "      <td>5969</td>\n",
       "      <td>5969</td>\n",
       "      <td>5969</td>\n",
       "      <td>5969</td>\n",
       "      <td>5969</td>\n",
       "      <td>5969</td>\n",
       "      <td>5969</td>\n",
       "    </tr>\n",
       "    <tr>\n",
       "      <th>7</th>\n",
       "      <td>Dentists</td>\n",
       "      <td>746</td>\n",
       "      <td>763</td>\n",
       "      <td>761</td>\n",
       "      <td>772</td>\n",
       "      <td>841</td>\n",
       "      <td>871</td>\n",
       "      <td>898</td>\n",
       "      <td>931</td>\n",
       "      <td>974</td>\n",
       "      <td>859</td>\n",
       "      <td>898</td>\n",
       "      <td>930</td>\n",
       "      <td>985</td>\n",
       "      <td>1045</td>\n",
       "    </tr>\n",
       "    <tr>\n",
       "      <th>8</th>\n",
       "      <td>Public Health Officers</td>\n",
       "      <td>929</td>\n",
       "      <td>1042</td>\n",
       "      <td>1174</td>\n",
       "      <td>1216</td>\n",
       "      <td>1314</td>\n",
       "      <td>1388</td>\n",
       "      <td>1457</td>\n",
       "      <td>6728</td>\n",
       "      <td>6960</td>\n",
       "      <td>7192</td>\n",
       "      <td>7429</td>\n",
       "      <td>7584</td>\n",
       "      <td>8069</td>\n",
       "      <td>8637</td>\n",
       "    </tr>\n",
       "    <tr>\n",
       "      <th>9</th>\n",
       "      <td>BSc. Nursing</td>\n",
       "      <td>0</td>\n",
       "      <td>0</td>\n",
       "      <td>0</td>\n",
       "      <td>0</td>\n",
       "      <td>280</td>\n",
       "      <td>367</td>\n",
       "      <td>478</td>\n",
       "      <td>585</td>\n",
       "      <td>657</td>\n",
       "      <td>863</td>\n",
       "      <td>988</td>\n",
       "      <td>1173</td>\n",
       "      <td>1532</td>\n",
       "      <td>1873</td>\n",
       "    </tr>\n",
       "    <tr>\n",
       "      <th>10</th>\n",
       "      <td>Total</td>\n",
       "      <td>55732</td>\n",
       "      <td>57208</td>\n",
       "      <td>59049</td>\n",
       "      <td>60599</td>\n",
       "      <td>67993</td>\n",
       "      <td>65914</td>\n",
       "      <td>67175</td>\n",
       "      <td>73236</td>\n",
       "      <td>76883</td>\n",
       "      <td>95390</td>\n",
       "      <td>100411</td>\n",
       "      <td>95960</td>\n",
       "      <td>104913</td>\n",
       "      <td>112576</td>\n",
       "    </tr>\n",
       "  </tbody>\n",
       "</table>\n",
       "</div>"
      ],
      "text/plain": [
       "   Type of Personnel Over the Years   2000   2001   2002   2003   2004   2005  \\\n",
       "0                 PharmTechnologist   1232   1321   1399   1405   1620   1656   \n",
       "1                 Registered Nurses   9211   9392   9753   9869  10210  10657   \n",
       "2                       Pharmacists   1682   1758   1866   1881   2570   2637   \n",
       "3                   Enrolled Nurses  27902  28420  29094  30212  30562  31895   \n",
       "4                 Clinical officers   4492   4610   4778   4804   4953   5059   \n",
       "5                           Doctors   4506   4630   4740   4813   5016   5446   \n",
       "6         Public Health Technicians   5032   5272   5484   5627   5861   5938   \n",
       "7                          Dentists    746    763    761    772    841    871   \n",
       "8            Public Health Officers    929   1042   1174   1216   1314   1388   \n",
       "9                      BSc. Nursing      0      0      0      0    280    367   \n",
       "10                            Total  55732  57208  59049  60599  67993  65914   \n",
       "\n",
       "     2006   2007   2008   2009    2010   2011    2012   2013*  \n",
       "0    1680   1680   1815   1950    2233   4436    5236    6204  \n",
       "1   10905  12198  14073  26988   29678  31719   35148   37907  \n",
       "2    2697   2775   2860   2921    3097   2432    2076    2202  \n",
       "3   31917  31917  31917  34032   34282  24375   26621   26841  \n",
       "4    5285   4182   5035   7816    8708   9793   11185   13216  \n",
       "5    5889   6271   6623   6800    7129   7549    8092    8682  \n",
       "6    5969   5969   5969   5969    5969   5969    5969    5969  \n",
       "7     898    931    974    859     898    930     985    1045  \n",
       "8    1457   6728   6960   7192    7429   7584    8069    8637  \n",
       "9     478    585    657    863     988   1173    1532    1873  \n",
       "10  67175  73236  76883  95390  100411  95960  104913  112576  "
      ]
     },
     "execution_count": 19,
     "metadata": {},
     "output_type": "execute_result"
    }
   ],
   "source": [
    "dataset"
   ]
  },
  {
   "cell_type": "code",
   "execution_count": 20,
   "metadata": {},
   "outputs": [
    {
     "name": "stdout",
     "output_type": "stream",
     "text": [
      "\n"
     ]
    },
    {
     "data": {
      "text/plain": [
       "0             PharmTechnologist\n",
       "1             Registered Nurses\n",
       "2                   Pharmacists\n",
       "3               Enrolled Nurses\n",
       "4             Clinical officers\n",
       "5                       Doctors\n",
       "6     Public Health Technicians\n",
       "7                      Dentists\n",
       "8        Public Health Officers\n",
       "9                  BSc. Nursing\n",
       "10                        Total\n",
       "Name: Type of Personnel Over the Years, dtype: object"
      ]
     },
     "execution_count": 20,
     "metadata": {},
     "output_type": "execute_result"
    },
    {
     "data": {
      "text/plain": [
       "0      2419.07\n",
       "1     18407.71\n",
       "2      2389.57\n",
       "3     29999.07\n",
       "4      6708.29\n",
       "5      6156.14\n",
       "6      5783.29\n",
       "7       876.71\n",
       "8      4365.64\n",
       "9       628.29\n",
       "10    78074.21\n",
       "dtype: float64"
      ]
     },
     "execution_count": 20,
     "metadata": {},
     "output_type": "execute_result"
    }
   ],
   "source": [
    "print()\n",
    "dataset[\"Type of Personnel Over the Years\"]\n",
    "dataset.mean(axis=1).round(2)"
   ]
  },
  {
   "cell_type": "code",
   "execution_count": 28,
   "metadata": {},
   "outputs": [],
   "source": [
    "## Flatten/Tidy\n",
    "dataset = pd.DataFrame( pd.melt(dataset, id_vars=\"Type of Personnel Over the Years\",\n",
    "             value_vars=[\"2000\", \"2001\", \"2002\", \"2003\", \"2004\", \"2005\", \"2006\", \"2007\", \"2008\", \"2009\", \"2010\", \"2011\", \"2012\", \"2013*\"], #range(2000,13), \n",
    "             var_name=\"Year\", value_name=\"Nmb.Persons\") )"
   ]
  },
  {
   "cell_type": "code",
   "execution_count": 29,
   "metadata": {},
   "outputs": [
    {
     "name": "stdout",
     "output_type": "stream",
     "text": [
      "\n",
      "1.Summarize\n"
     ]
    },
    {
     "data": {
      "text/html": [
       "<div>\n",
       "<style>\n",
       "    .dataframe thead tr:only-child th {\n",
       "        text-align: right;\n",
       "    }\n",
       "\n",
       "    .dataframe thead th {\n",
       "        text-align: left;\n",
       "    }\n",
       "\n",
       "    .dataframe tbody tr th {\n",
       "        vertical-align: top;\n",
       "    }\n",
       "</style>\n",
       "<table border=\"1\" class=\"dataframe\">\n",
       "  <thead>\n",
       "    <tr style=\"text-align: right;\">\n",
       "      <th></th>\n",
       "      <th>Nmb.Persons</th>\n",
       "    </tr>\n",
       "  </thead>\n",
       "  <tbody>\n",
       "    <tr>\n",
       "      <th>count</th>\n",
       "      <td>154.000000</td>\n",
       "    </tr>\n",
       "    <tr>\n",
       "      <th>mean</th>\n",
       "      <td>14164.363636</td>\n",
       "    </tr>\n",
       "    <tr>\n",
       "      <th>std</th>\n",
       "      <td>22995.508061</td>\n",
       "    </tr>\n",
       "    <tr>\n",
       "      <th>min</th>\n",
       "      <td>0.000000</td>\n",
       "    </tr>\n",
       "    <tr>\n",
       "      <th>25%</th>\n",
       "      <td>1629.000000</td>\n",
       "    </tr>\n",
       "    <tr>\n",
       "      <th>50%</th>\n",
       "      <td>5278.500000</td>\n",
       "    </tr>\n",
       "    <tr>\n",
       "      <th>75%</th>\n",
       "      <td>10545.250000</td>\n",
       "    </tr>\n",
       "    <tr>\n",
       "      <th>max</th>\n",
       "      <td>112576.000000</td>\n",
       "    </tr>\n",
       "  </tbody>\n",
       "</table>\n",
       "</div>"
      ],
      "text/plain": [
       "         Nmb.Persons\n",
       "count     154.000000\n",
       "mean    14164.363636\n",
       "std     22995.508061\n",
       "min         0.000000\n",
       "25%      1629.000000\n",
       "50%      5278.500000\n",
       "75%     10545.250000\n",
       "max    112576.000000"
      ]
     },
     "execution_count": 29,
     "metadata": {},
     "output_type": "execute_result"
    }
   ],
   "source": [
    "## Flattened data \n",
    "print(\"\\n1.Summarize\")\n",
    "dataset.describe()"
   ]
  },
  {
   "cell_type": "code",
   "execution_count": 33,
   "metadata": {},
   "outputs": [
    {
     "data": {
      "text/plain": [
       "<matplotlib.axes._subplots.AxesSubplot at 0x152499813c8>"
      ]
     },
     "execution_count": 33,
     "metadata": {},
     "output_type": "execute_result"
    },
    {
     "data": {
      "image/png": "[encoded data removed]",
      "text/plain": [
       "<matplotlib.figure.Figure at 0x152499455f8>"
      ]
     },
     "metadata": {},
     "output_type": "display_data"
    }
   ],
   "source": [
    "dataset.groupby(\"Year\").mean().plot(kind=\"line\")"
   ]
  },
  {
   "cell_type": "code",
   "execution_count": 36,
   "metadata": {},
   "outputs": [
    {
     "data": {
      "text/plain": [
       "<matplotlib.axes._subplots.AxesSubplot at 0x15249bc0908>"
      ]
     },
     "execution_count": 36,
     "metadata": {},
     "output_type": "execute_result"
    },
    {
     "data": {
      "image/png": "[encoded data removed]",
      "text/plain": [
       "<matplotlib.figure.Figure at 0x15249b350b8>"
      ]
     },
     "metadata": {},
     "output_type": "display_data"
    }
   ],
   "source": [
    "sns.barplot(x=\"Year\", y=\"Nmb.Persons\", hue=\"Type of Personnel Over the Years\", data=dataset)"
   ]
  },
  {
   "cell_type": "code",
   "execution_count": null,
   "metadata": {
    "collapsed": true
   },
   "outputs": [],
   "source": []
  }
 ],
 "metadata": {
  "anaconda-cloud": {},
  "hide_input": false,
  "kernelspec": {
   "display_name": "Python [default]",
   "language": "python",
   "name": "python3"
  },
  "language_info": {
   "codemirror_mode": {
    "name": "ipython",
    "version": 3
   },
   "file_extension": ".py",
   "mimetype": "text/x-python",
   "name": "python",
   "nbconvert_exporter": "python",
   "pygments_lexer": "ipython3",
   "version": "3.6.2"
  },
  "toc": {
   "nav_menu": {},
   "number_sections": true,
   "sideBar": true,
   "skip_h1_title": false,
   "title_cell": "Table of Contents",
   "title_sidebar": "Contents",
   "toc_cell": true,
   "toc_position": {},
   "toc_section_display": true,
   "toc_window_display": false
  }
 },
 "nbformat": 4,
 "nbformat_minor": 2
}
