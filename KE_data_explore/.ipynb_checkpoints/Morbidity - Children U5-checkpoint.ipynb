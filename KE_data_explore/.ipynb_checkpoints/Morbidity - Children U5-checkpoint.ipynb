{
 "cells": [
  {
   "cell_type": "code",
   "execution_count": null,
   "metadata": {
    "collapsed": true
   },
   "outputs": [],
   "source": [
    "<script>\n",
    "  function code_toggle() {\n",
    "    if (code_shown){\n",
    "      $('div.input').hide('500');\n",
    "      $('#toggleButton').val('Show Code')\n",
    "    } else {\n",
    "      $('div.input').show('500');\n",
    "      $('#toggleButton').val('Hide Code')\n",
    "    }\n",
    "    code_shown = !code_shown\n",
    "  }\n",
    "\n",
    "  $( document ).ready(function(){\n",
    "    code_shown=false;\n",
    "    $('div.input').hide()\n",
    "  });\n",
    "</script>\n",
    "<form action=\"javascript:code_toggle()\"><input type=\"submit\" id=\"toggleButton\" value=\"Show Code\"></form>"
   ]
  },
  {
   "cell_type": "markdown",
   "metadata": {
    "toc": true
   },
   "source": [
    "<h1>Table of Contents<span class=\"tocSkip\"></span></h1>\n",
    "<div class=\"toc\"><ul class=\"toc-item\"><li><span><a href=\"#Summary-Stats\" data-toc-modified-id=\"Summary-Stats-1\"><span class=\"toc-item-num\">1&nbsp;&nbsp;</span>Summary Stats</a></span></li><li><span><a href=\"#Correlations\" data-toc-modified-id=\"Correlations-2\"><span class=\"toc-item-num\">2&nbsp;&nbsp;</span>Correlations</a></span></li></ul></div>"
   ]
  },
  {
   "cell_type": "code",
   "execution_count": 2,
   "metadata": {
    "collapsed": true
   },
   "outputs": [],
   "source": [
    "## load libz\n",
    "%run \"../../Utilz/load_envz.ipynb\""
   ]
  },
  {
   "cell_type": "code",
   "execution_count": 42,
   "metadata": {
    "collapsed": true
   },
   "outputs": [],
   "source": [
    "## load dataset \n",
    "dataset = pd.read_csv( \"%s/KNBS_et_al/county-outpatient-morbidity-for-patients-below-5-years-of-age-in-2013-detailed.csv\" % DATA_DIR )  \n",
    "\n",
    "lg_dataset = pd.read_csv( \"%s/LG/targeted_chv_support_ke-20180320.csv\" % DATA_DIR)"
   ]
  },
  {
   "cell_type": "code",
   "execution_count": 44,
   "metadata": {},
   "outputs": [
    {
     "name": "stdout",
     "output_type": "stream",
     "text": [
      "1. Shape - KNBS, LG\n"
     ]
    },
    {
     "data": {
      "text/plain": [
       "(47, 33)"
      ]
     },
     "execution_count": 44,
     "metadata": {},
     "output_type": "execute_result"
    },
    {
     "data": {
      "text/plain": [
       "(1493, 23)"
      ]
     },
     "execution_count": 44,
     "metadata": {},
     "output_type": "execute_result"
    },
    {
     "name": "stdout",
     "output_type": "stream",
     "text": [
      "\n",
      "2. Dtypes - KNBS, LG\n"
     ]
    },
    {
     "data": {
      "text/plain": [
       "County                                   object\n",
       "Accidents - Fractures, injuries,etc.      int64\n",
       "All Others diseases                       int64\n",
       "Aneamia                                   int64\n",
       "Bilharzia                                 int64\n",
       "Bites - Animal, Snake, etc                int64\n",
       "Brucellosis                               int64\n",
       "Burns                                     int64\n",
       "Chicken Pox                               int64\n",
       "Clinical Malaria                          int64\n",
       "Confirmed Malaria                         int64\n",
       "Congenital Anomalies                      int64\n",
       "Dental Disorders                          int64\n",
       "Diabetes                                  int64\n",
       "Diarrhoea                                 int64\n",
       "Dis. of the skin (incl. wounds)           int64\n",
       "Dysentery                                 int64\n",
       "Ear Infections                            int64\n",
       "Epilepsy                                  int64\n",
       "Eye Infections                            int64\n",
       "Intestinal worms                          int64\n",
       "Malnutrition                              int64\n",
       "Measles                                   int64\n",
       "Mental Disorders                          int64\n",
       "Mumps                                     int64\n",
       "Other Dis. of Respiratory System          int64\n",
       "Pneumonia                                 int64\n",
       "Poisoning                                 int64\n",
       "Reporting rates (%)                     float64\n",
       "Sexual Assault                            int64\n",
       "Tuberculosis                              int64\n",
       "Typhoid fever                             int64\n",
       "Urinary Tract Infection                   int64\n",
       "dtype: object"
      ]
     },
     "execution_count": 44,
     "metadata": {},
     "output_type": "execute_result"
    },
    {
     "data": {
      "text/plain": [
       "CHP                                   object\n",
       "Phone Number                         float64\n",
       "CHP ID                                object\n",
       "Pregnancy                              int64\n",
       "PNC Visit Rate                       float64\n",
       "PNC Visit Missed - #                   int64\n",
       "Total U1 Assessments                   int64\n",
       "Total U1 Treatments                    int64\n",
       "Total U5 Assessments                   int64\n",
       "Total U5 Treatments                    int64\n",
       "U5 Malaria                             int64\n",
       "U5 Diarrhea                            int64\n",
       "U5 Pneumonia                           int64\n",
       "On Time Referral f/u Treatment U5    float64\n",
       "Missed Visits                          int64\n",
       "%mRDT                                float64\n",
       "All Malaria Assessments                int64\n",
       "All Malaria Treatments                 int64\n",
       "Act 6pack Issue                        int64\n",
       "mRDT Used                              int64\n",
       "Sales                                float64\n",
       "Community Events                       int64\n",
       "Households Registered                  int64\n",
       "dtype: object"
      ]
     },
     "execution_count": 44,
     "metadata": {},
     "output_type": "execute_result"
    },
    {
     "name": "stdout",
     "output_type": "stream",
     "text": [
      "\n",
      "3. Missing values - KNBS\n"
     ]
    },
    {
     "data": {
      "text/plain": [
       "('\\nShape # records, # variables',\n",
       " (47, 33),\n",
       " '\\n\\n\\n Counts of Missing Values \\n',\n",
       " County                                  0\n",
       " Accidents - Fractures, injuries,etc.    0\n",
       " All Others diseases                     0\n",
       " Aneamia                                 0\n",
       " Bilharzia                               0\n",
       " Bites - Animal, Snake, etc              0\n",
       " Brucellosis                             0\n",
       " Burns                                   0\n",
       " Chicken Pox                             0\n",
       " Clinical Malaria                        0\n",
       " Confirmed Malaria                       0\n",
       " Congenital Anomalies                    0\n",
       " Dental Disorders                        0\n",
       " Diabetes                                0\n",
       " Diarrhoea                               0\n",
       " Dis. of the skin (incl. wounds)         0\n",
       " Dysentery                               0\n",
       " Ear Infections                          0\n",
       " Epilepsy                                0\n",
       " Eye Infections                          0\n",
       " Intestinal worms                        0\n",
       " Malnutrition                            0\n",
       " Measles                                 0\n",
       " Mental Disorders                        0\n",
       " Mumps                                   0\n",
       " Other Dis. of Respiratory System        0\n",
       " Pneumonia                               0\n",
       " Poisoning                               0\n",
       " Reporting rates (%)                     0\n",
       " Sexual Assault                          0\n",
       " Tuberculosis                            0\n",
       " Typhoid fever                           0\n",
       " Urinary Tract Infection                 0\n",
       " dtype: int64)"
      ]
     },
     "execution_count": 44,
     "metadata": {},
     "output_type": "execute_result"
    },
    {
     "name": "stdout",
     "output_type": "stream",
     "text": [
      "\n",
      "4. Glimpse - KNBS, LG\n"
     ]
    },
    {
     "data": {
      "text/html": [
       "<div>\n",
       "<style>\n",
       "    .dataframe thead tr:only-child th {\n",
       "        text-align: right;\n",
       "    }\n",
       "\n",
       "    .dataframe thead th {\n",
       "        text-align: left;\n",
       "    }\n",
       "\n",
       "    .dataframe tbody tr th {\n",
       "        vertical-align: top;\n",
       "    }\n",
       "</style>\n",
       "<table border=\"1\" class=\"dataframe\">\n",
       "  <thead>\n",
       "    <tr style=\"text-align: right;\">\n",
       "      <th></th>\n",
       "      <th>County</th>\n",
       "      <th>Accidents - Fractures, injuries,etc.</th>\n",
       "      <th>All Others diseases</th>\n",
       "      <th>Aneamia</th>\n",
       "      <th>Bilharzia</th>\n",
       "      <th>Bites - Animal, Snake, etc</th>\n",
       "      <th>Brucellosis</th>\n",
       "      <th>Burns</th>\n",
       "      <th>Chicken Pox</th>\n",
       "      <th>Clinical Malaria</th>\n",
       "      <th>...</th>\n",
       "      <th>Mental Disorders</th>\n",
       "      <th>Mumps</th>\n",
       "      <th>Other Dis. of Respiratory System</th>\n",
       "      <th>Pneumonia</th>\n",
       "      <th>Poisoning</th>\n",
       "      <th>Reporting rates (%)</th>\n",
       "      <th>Sexual Assault</th>\n",
       "      <th>Tuberculosis</th>\n",
       "      <th>Typhoid fever</th>\n",
       "      <th>Urinary Tract Infection</th>\n",
       "    </tr>\n",
       "  </thead>\n",
       "  <tbody>\n",
       "    <tr>\n",
       "      <th>0</th>\n",
       "      <td>Baringo</td>\n",
       "      <td>1876</td>\n",
       "      <td>13945</td>\n",
       "      <td>202</td>\n",
       "      <td>25</td>\n",
       "      <td>465</td>\n",
       "      <td>16</td>\n",
       "      <td>1586</td>\n",
       "      <td>864</td>\n",
       "      <td>41281</td>\n",
       "      <td>...</td>\n",
       "      <td>72</td>\n",
       "      <td>1648</td>\n",
       "      <td>127177</td>\n",
       "      <td>7219</td>\n",
       "      <td>137</td>\n",
       "      <td>85.5</td>\n",
       "      <td>74</td>\n",
       "      <td>30</td>\n",
       "      <td>88</td>\n",
       "      <td>538</td>\n",
       "    </tr>\n",
       "    <tr>\n",
       "      <th>1</th>\n",
       "      <td>Bomet</td>\n",
       "      <td>1483</td>\n",
       "      <td>51421</td>\n",
       "      <td>138</td>\n",
       "      <td>6</td>\n",
       "      <td>417</td>\n",
       "      <td>67</td>\n",
       "      <td>1704</td>\n",
       "      <td>1188</td>\n",
       "      <td>28194</td>\n",
       "      <td>...</td>\n",
       "      <td>39</td>\n",
       "      <td>821</td>\n",
       "      <td>151270</td>\n",
       "      <td>4966</td>\n",
       "      <td>72</td>\n",
       "      <td>84.7</td>\n",
       "      <td>46</td>\n",
       "      <td>25</td>\n",
       "      <td>184</td>\n",
       "      <td>473</td>\n",
       "    </tr>\n",
       "  </tbody>\n",
       "</table>\n",
       "<p>2 rows × 33 columns</p>\n",
       "</div>"
      ],
      "text/plain": [
       "    County  Accidents - Fractures, injuries,etc.  All Others diseases  \\\n",
       "0  Baringo                                  1876                13945   \n",
       "1    Bomet                                  1483                51421   \n",
       "\n",
       "   Aneamia  Bilharzia  Bites - Animal, Snake, etc  Brucellosis  Burns  \\\n",
       "0      202         25                         465           16   1586   \n",
       "1      138          6                         417           67   1704   \n",
       "\n",
       "   Chicken Pox  Clinical Malaria           ...             Mental Disorders  \\\n",
       "0          864             41281           ...                           72   \n",
       "1         1188             28194           ...                           39   \n",
       "\n",
       "   Mumps  Other Dis. of Respiratory System  Pneumonia  Poisoning  \\\n",
       "0   1648                            127177       7219        137   \n",
       "1    821                            151270       4966         72   \n",
       "\n",
       "   Reporting rates (%)  Sexual Assault  Tuberculosis  Typhoid fever  \\\n",
       "0                 85.5              74            30             88   \n",
       "1                 84.7              46            25            184   \n",
       "\n",
       "   Urinary Tract Infection  \n",
       "0                      538  \n",
       "1                      473  \n",
       "\n",
       "[2 rows x 33 columns]"
      ]
     },
     "execution_count": 44,
     "metadata": {},
     "output_type": "execute_result"
    },
    {
     "data": {
      "text/html": [
       "<div>\n",
       "<style>\n",
       "    .dataframe thead tr:only-child th {\n",
       "        text-align: right;\n",
       "    }\n",
       "\n",
       "    .dataframe thead th {\n",
       "        text-align: left;\n",
       "    }\n",
       "\n",
       "    .dataframe tbody tr th {\n",
       "        vertical-align: top;\n",
       "    }\n",
       "</style>\n",
       "<table border=\"1\" class=\"dataframe\">\n",
       "  <thead>\n",
       "    <tr style=\"text-align: right;\">\n",
       "      <th></th>\n",
       "      <th>CHP</th>\n",
       "      <th>Phone Number</th>\n",
       "      <th>CHP ID</th>\n",
       "      <th>Pregnancy</th>\n",
       "      <th>PNC Visit Rate</th>\n",
       "      <th>PNC Visit Missed - #</th>\n",
       "      <th>Total U1 Assessments</th>\n",
       "      <th>Total U1 Treatments</th>\n",
       "      <th>Total U5 Assessments</th>\n",
       "      <th>Total U5 Treatments</th>\n",
       "      <th>...</th>\n",
       "      <th>On Time Referral f/u Treatment U5</th>\n",
       "      <th>Missed Visits</th>\n",
       "      <th>%mRDT</th>\n",
       "      <th>All Malaria Assessments</th>\n",
       "      <th>All Malaria Treatments</th>\n",
       "      <th>Act 6pack Issue</th>\n",
       "      <th>mRDT Used</th>\n",
       "      <th>Sales</th>\n",
       "      <th>Community Events</th>\n",
       "      <th>Households Registered</th>\n",
       "    </tr>\n",
       "  </thead>\n",
       "  <tbody>\n",
       "    <tr>\n",
       "      <th>0</th>\n",
       "      <td>Mary Asigo Lumwagi</td>\n",
       "      <td>2.547160e+11</td>\n",
       "      <td>042d8caa-5ff0-4b35-8aac-80e7015a76e9</td>\n",
       "      <td>0</td>\n",
       "      <td>1.0</td>\n",
       "      <td>0</td>\n",
       "      <td>2</td>\n",
       "      <td>1</td>\n",
       "      <td>5</td>\n",
       "      <td>4</td>\n",
       "      <td>...</td>\n",
       "      <td>0.0</td>\n",
       "      <td>0</td>\n",
       "      <td>1.0</td>\n",
       "      <td>2</td>\n",
       "      <td>2</td>\n",
       "      <td>3</td>\n",
       "      <td>2</td>\n",
       "      <td>204.00</td>\n",
       "      <td>0</td>\n",
       "      <td>88</td>\n",
       "    </tr>\n",
       "    <tr>\n",
       "      <th>1</th>\n",
       "      <td>Nancy Achesa</td>\n",
       "      <td>2.547430e+11</td>\n",
       "      <td>31ac0ec5-b051-46f8-87a5-70ea32470a7c</td>\n",
       "      <td>0</td>\n",
       "      <td>0.0</td>\n",
       "      <td>1</td>\n",
       "      <td>1</td>\n",
       "      <td>0</td>\n",
       "      <td>4</td>\n",
       "      <td>1</td>\n",
       "      <td>...</td>\n",
       "      <td>0.0</td>\n",
       "      <td>0</td>\n",
       "      <td>1.0</td>\n",
       "      <td>2</td>\n",
       "      <td>0</td>\n",
       "      <td>0</td>\n",
       "      <td>2</td>\n",
       "      <td>622.39</td>\n",
       "      <td>0</td>\n",
       "      <td>64</td>\n",
       "    </tr>\n",
       "  </tbody>\n",
       "</table>\n",
       "<p>2 rows × 23 columns</p>\n",
       "</div>"
      ],
      "text/plain": [
       "                  CHP  Phone Number                                CHP ID  \\\n",
       "0  Mary Asigo Lumwagi  2.547160e+11  042d8caa-5ff0-4b35-8aac-80e7015a76e9   \n",
       "1        Nancy Achesa  2.547430e+11  31ac0ec5-b051-46f8-87a5-70ea32470a7c   \n",
       "\n",
       "   Pregnancy  PNC Visit Rate  PNC Visit Missed - #  Total U1 Assessments  \\\n",
       "0          0             1.0                     0                     2   \n",
       "1          0             0.0                     1                     1   \n",
       "\n",
       "   Total U1 Treatments  Total U5 Assessments  Total U5 Treatments  \\\n",
       "0                    1                     5                    4   \n",
       "1                    0                     4                    1   \n",
       "\n",
       "           ...            On Time Referral f/u Treatment U5  Missed Visits  \\\n",
       "0          ...                                          0.0              0   \n",
       "1          ...                                          0.0              0   \n",
       "\n",
       "   %mRDT  All Malaria Assessments  All Malaria Treatments  Act 6pack Issue  \\\n",
       "0    1.0                        2                       2                3   \n",
       "1    1.0                        2                       0                0   \n",
       "\n",
       "   mRDT Used   Sales  Community Events  Households Registered  \n",
       "0          2  204.00                 0                     88  \n",
       "1          2  622.39                 0                     64  \n",
       "\n",
       "[2 rows x 23 columns]"
      ]
     },
     "execution_count": 44,
     "metadata": {},
     "output_type": "execute_result"
    },
    {
     "name": "stdout",
     "output_type": "stream",
     "text": [
      "\n",
      "5. Distribution by 'All Others diseases' - KNBS\n"
     ]
    },
    {
     "data": {
      "text/plain": [
       "<matplotlib.axes._subplots.AxesSubplot at 0x14bbdd45b38>"
      ]
     },
     "execution_count": 44,
     "metadata": {},
     "output_type": "execute_result"
    },
    {
     "data": {
      "image/png": "[encoded data removed]",
      "text/plain": [
       "<matplotlib.figure.Figure at 0x14bbd7a97b8>"
      ]
     },
     "metadata": {},
     "output_type": "display_data"
    }
   ],
   "source": [
    "print( \"1. Shape - KNBS, LG\")\n",
    "dataset.shape\n",
    "lg_dataset.shape\n",
    "\n",
    "print(\"\\n2. Dtypes - KNBS, LG\")\n",
    "dataset.dtypes\n",
    "lg_dataset.dtypes\n",
    "\n",
    "print(\"\\n3. Missing values - KNBS\")\n",
    "checkMissing( dataset)\n",
    "\n",
    "print(\"\\n4. Glimpse - KNBS, LG\")\n",
    "dataset.head(2)\n",
    "lg_dataset.head(2)\n",
    "\n",
    "print(\"\\n5. Distribution by 'All Others diseases' - KNBS\")\n",
    "sns.distplot( dataset[\"All Others diseases\"])"
   ]
  },
  {
   "cell_type": "code",
   "execution_count": 9,
   "metadata": {},
   "outputs": [
    {
     "name": "stdout",
     "output_type": "stream",
     "text": [
      "\n",
      "6.Distribution Reporting Rates\n"
     ]
    },
    {
     "data": {
      "text/plain": [
       "<matplotlib.axes._subplots.AxesSubplot at 0x14bbcc45c50>"
      ]
     },
     "execution_count": 9,
     "metadata": {},
     "output_type": "execute_result"
    },
    {
     "data": {
      "image/png": "[encoded data removed]",
      "text/plain": [
       "<matplotlib.figure.Figure at 0x14bbcc3ea90>"
      ]
     },
     "metadata": {},
     "output_type": "display_data"
    }
   ],
   "source": [
    "\n",
    "print(\"\\n6.Distribution Reporting Rates\")\n",
    "sns.distplot( dataset[\"Reporting rates (%)\"])"
   ]
  },
  {
   "cell_type": "markdown",
   "metadata": {},
   "source": [
    "# Summary Stats"
   ]
  },
  {
   "cell_type": "code",
   "execution_count": 54,
   "metadata": {
    "collapsed": true
   },
   "outputs": [],
   "source": [
    "argz_LG_cases = [\"Confirmed Malaria\", \"Diarrhoea\",  \"Malnutrition\", \"Pneumonia\" ]\n",
    "\n",
    "## Additional Computed Fields\n",
    "dataset[\"All_Cases\"] = dataset[\"Accidents - Fractures, injuries,etc.\"] + dataset[\"All Others diseases\"]\n",
    "dataset[\"All_LG_Cases\"] =  dataset[ argz_LG_cases ].sum(axis=1)\n",
    "\n",
    "lg_dataset[\"Country\"] = \"KE\"\n",
    "lg_dataset[\"All Child Treatments\"] = lg_dataset[\"Total U1 Treatments\"] + lg_dataset[\"Total U5 Treatments\"]\n",
    "\n",
    "## variables of interest\n",
    "argz_total = [\"All_Cases\", \"Accidents - Fractures, injuries,etc.\", \"All Others diseases\", \"All_LG_Cases\"]\n",
    "argz_LG_related = [\"Aneamia\", \"Clinical Malaria\", \"Intestinal worms\", \"Other Dis. of Respiratory System\"]\n",
    "argz_immunization = [\"Chicken Pox\", \"Measles\"]\n",
    "argz_something = [\"Bites - Animal, Snake, etc\", \"Burns\", \"Ear Infections\", \"Eye Infections\", \"Mumps\", \"Tuberculosis\"]\n",
    "argz_hygine =[\"Bilharzia\", \"Dis. of the skin (incl. wounds)\", \"Dysentery\", \"Poisoning\", \"Typhoid fever\", \"Urinary Tract Infection\"]\n",
    "\n",
    "argz_LG_assessments = [\"All Malaria Treatments\", \"U5 Malaria\", \"U5 Diarrhea\", \"U5 Pneumonia\"]"
   ]
  },
  {
   "cell_type": "code",
   "execution_count": 53,
   "metadata": {},
   "outputs": [
    {
     "data": {
      "text/html": [
       "<div>\n",
       "<style>\n",
       "    .dataframe thead tr:only-child th {\n",
       "        text-align: right;\n",
       "    }\n",
       "\n",
       "    .dataframe thead th {\n",
       "        text-align: left;\n",
       "    }\n",
       "\n",
       "    .dataframe tbody tr th {\n",
       "        vertical-align: top;\n",
       "    }\n",
       "</style>\n",
       "<table border=\"1\" class=\"dataframe\">\n",
       "  <thead>\n",
       "    <tr style=\"text-align: right;\">\n",
       "      <th></th>\n",
       "      <th>All_Cases</th>\n",
       "      <th>Accidents - Fractures, injuries,etc.</th>\n",
       "      <th>All Others diseases</th>\n",
       "      <th>All_LG_Cases</th>\n",
       "      <th>Confirmed Malaria</th>\n",
       "      <th>Diarrhoea</th>\n",
       "      <th>Malnutrition</th>\n",
       "      <th>Pneumonia</th>\n",
       "    </tr>\n",
       "  </thead>\n",
       "  <tbody>\n",
       "    <tr>\n",
       "      <th>0</th>\n",
       "      <td>15821</td>\n",
       "      <td>1876</td>\n",
       "      <td>13945</td>\n",
       "      <td>39326</td>\n",
       "      <td>7630</td>\n",
       "      <td>24056</td>\n",
       "      <td>421</td>\n",
       "      <td>7219</td>\n",
       "    </tr>\n",
       "    <tr>\n",
       "      <th>1</th>\n",
       "      <td>52904</td>\n",
       "      <td>1483</td>\n",
       "      <td>51421</td>\n",
       "      <td>35460</td>\n",
       "      <td>1583</td>\n",
       "      <td>28708</td>\n",
       "      <td>203</td>\n",
       "      <td>4966</td>\n",
       "    </tr>\n",
       "    <tr>\n",
       "      <th>2</th>\n",
       "      <td>30868</td>\n",
       "      <td>3310</td>\n",
       "      <td>27558</td>\n",
       "      <td>162494</td>\n",
       "      <td>106449</td>\n",
       "      <td>33482</td>\n",
       "      <td>1923</td>\n",
       "      <td>20640</td>\n",
       "    </tr>\n",
       "  </tbody>\n",
       "</table>\n",
       "</div>"
      ],
      "text/plain": [
       "   All_Cases  Accidents - Fractures, injuries,etc.  All Others diseases  \\\n",
       "0      15821                                  1876                13945   \n",
       "1      52904                                  1483                51421   \n",
       "2      30868                                  3310                27558   \n",
       "\n",
       "   All_LG_Cases  Confirmed Malaria  Diarrhoea  Malnutrition  Pneumonia  \n",
       "0         39326               7630      24056           421       7219  \n",
       "1         35460               1583      28708           203       4966  \n",
       "2        162494             106449      33482          1923      20640  "
      ]
     },
     "execution_count": 53,
     "metadata": {},
     "output_type": "execute_result"
    },
    {
     "data": {
      "text/html": [
       "<div>\n",
       "<style>\n",
       "    .dataframe thead tr:only-child th {\n",
       "        text-align: right;\n",
       "    }\n",
       "\n",
       "    .dataframe thead th {\n",
       "        text-align: left;\n",
       "    }\n",
       "\n",
       "    .dataframe tbody tr th {\n",
       "        vertical-align: top;\n",
       "    }\n",
       "</style>\n",
       "<table border=\"1\" class=\"dataframe\">\n",
       "  <thead>\n",
       "    <tr style=\"text-align: right;\">\n",
       "      <th></th>\n",
       "      <th>All Malaria Treatments</th>\n",
       "      <th>U5 Malaria</th>\n",
       "      <th>U5 Diarrhea</th>\n",
       "      <th>U5 Pneumonia</th>\n",
       "    </tr>\n",
       "  </thead>\n",
       "  <tbody>\n",
       "    <tr>\n",
       "      <th>0</th>\n",
       "      <td>2</td>\n",
       "      <td>2</td>\n",
       "      <td>2</td>\n",
       "      <td>0</td>\n",
       "    </tr>\n",
       "    <tr>\n",
       "      <th>1</th>\n",
       "      <td>0</td>\n",
       "      <td>0</td>\n",
       "      <td>0</td>\n",
       "      <td>1</td>\n",
       "    </tr>\n",
       "    <tr>\n",
       "      <th>2</th>\n",
       "      <td>0</td>\n",
       "      <td>0</td>\n",
       "      <td>1</td>\n",
       "      <td>6</td>\n",
       "    </tr>\n",
       "  </tbody>\n",
       "</table>\n",
       "</div>"
      ],
      "text/plain": [
       "   All Malaria Treatments  U5 Malaria  U5 Diarrhea  U5 Pneumonia\n",
       "0                       2           2            2             0\n",
       "1                       0           0            0             1\n",
       "2                       0           0            1             6"
      ]
     },
     "execution_count": 53,
     "metadata": {},
     "output_type": "execute_result"
    }
   ],
   "source": [
    "dataset[argz_total+argz_LG_cases].head(3)\n",
    "lg_dataset[argz_LG_assessments].head(3)"
   ]
  },
  {
   "cell_type": "code",
   "execution_count": 35,
   "metadata": {},
   "outputs": [
    {
     "data": {
      "text/plain": [
       "<matplotlib.axes._subplots.AxesSubplot at 0x14bbe1f5438>"
      ]
     },
     "execution_count": 35,
     "metadata": {},
     "output_type": "execute_result"
    },
    {
     "data": {
      "image/png": "[encoded data removed]",
      "text/plain": [
       "<matplotlib.figure.Figure at 0x14bbd7b9e48>"
      ]
     },
     "metadata": {},
     "output_type": "display_data"
    }
   ],
   "source": [
    "dataset[argz_total+argz_LG_cases+argz_immunization].plot(kind=\"box\", figsize=(17,10), ylim=(0,160000) )"
   ]
  },
  {
   "cell_type": "code",
   "execution_count": 66,
   "metadata": {},
   "outputs": [
    {
     "data": {
      "text/html": [
       "<div>\n",
       "<style>\n",
       "    .dataframe thead tr:only-child th {\n",
       "        text-align: right;\n",
       "    }\n",
       "\n",
       "    .dataframe thead th {\n",
       "        text-align: left;\n",
       "    }\n",
       "\n",
       "    .dataframe tbody tr th {\n",
       "        vertical-align: top;\n",
       "    }\n",
       "</style>\n",
       "<table border=\"1\" class=\"dataframe\">\n",
       "  <thead>\n",
       "    <tr style=\"text-align: right;\">\n",
       "      <th></th>\n",
       "      <th>All Malaria Treatments</th>\n",
       "      <th>U5 Malaria</th>\n",
       "      <th>U5 Diarrhea</th>\n",
       "      <th>U5 Pneumonia</th>\n",
       "      <th>All Child Treatments</th>\n",
       "    </tr>\n",
       "  </thead>\n",
       "  <tbody>\n",
       "    <tr>\n",
       "      <th>count</th>\n",
       "      <td>1493.00</td>\n",
       "      <td>1493.00</td>\n",
       "      <td>1493.00</td>\n",
       "      <td>1493.00</td>\n",
       "      <td>1493.00</td>\n",
       "    </tr>\n",
       "    <tr>\n",
       "      <th>mean</th>\n",
       "      <td>2.23</td>\n",
       "      <td>1.72</td>\n",
       "      <td>0.63</td>\n",
       "      <td>0.63</td>\n",
       "      <td>3.56</td>\n",
       "    </tr>\n",
       "    <tr>\n",
       "      <th>std</th>\n",
       "      <td>4.30</td>\n",
       "      <td>3.00</td>\n",
       "      <td>1.20</td>\n",
       "      <td>1.44</td>\n",
       "      <td>4.73</td>\n",
       "    </tr>\n",
       "    <tr>\n",
       "      <th>min</th>\n",
       "      <td>0.00</td>\n",
       "      <td>0.00</td>\n",
       "      <td>0.00</td>\n",
       "      <td>0.00</td>\n",
       "      <td>0.00</td>\n",
       "    </tr>\n",
       "    <tr>\n",
       "      <th>25%</th>\n",
       "      <td>0.00</td>\n",
       "      <td>0.00</td>\n",
       "      <td>0.00</td>\n",
       "      <td>0.00</td>\n",
       "      <td>0.00</td>\n",
       "    </tr>\n",
       "    <tr>\n",
       "      <th>50%</th>\n",
       "      <td>0.00</td>\n",
       "      <td>0.00</td>\n",
       "      <td>0.00</td>\n",
       "      <td>0.00</td>\n",
       "      <td>2.00</td>\n",
       "    </tr>\n",
       "    <tr>\n",
       "      <th>75%</th>\n",
       "      <td>3.00</td>\n",
       "      <td>2.00</td>\n",
       "      <td>1.00</td>\n",
       "      <td>1.00</td>\n",
       "      <td>5.00</td>\n",
       "    </tr>\n",
       "    <tr>\n",
       "      <th>max</th>\n",
       "      <td>51.00</td>\n",
       "      <td>22.00</td>\n",
       "      <td>11.00</td>\n",
       "      <td>22.00</td>\n",
       "      <td>33.00</td>\n",
       "    </tr>\n",
       "  </tbody>\n",
       "</table>\n",
       "</div>"
      ],
      "text/plain": [
       "       All Malaria Treatments  U5 Malaria  U5 Diarrhea  U5 Pneumonia  \\\n",
       "count                 1493.00     1493.00      1493.00       1493.00   \n",
       "mean                     2.23        1.72         0.63          0.63   \n",
       "std                      4.30        3.00         1.20          1.44   \n",
       "min                      0.00        0.00         0.00          0.00   \n",
       "25%                      0.00        0.00         0.00          0.00   \n",
       "50%                      0.00        0.00         0.00          0.00   \n",
       "75%                      3.00        2.00         1.00          1.00   \n",
       "max                     51.00       22.00        11.00         22.00   \n",
       "\n",
       "       All Child Treatments  \n",
       "count               1493.00  \n",
       "mean                   3.56  \n",
       "std                    4.73  \n",
       "min                    0.00  \n",
       "25%                    0.00  \n",
       "50%                    2.00  \n",
       "75%                    5.00  \n",
       "max                   33.00  "
      ]
     },
     "execution_count": 66,
     "metadata": {},
     "output_type": "execute_result"
    },
    {
     "data": {
      "text/plain": [
       "<matplotlib.axes._subplots.AxesSubplot at 0x14bc1776a20>"
      ]
     },
     "execution_count": 66,
     "metadata": {},
     "output_type": "execute_result"
    },
    {
     "data": {
      "image/png": "[encoded data removed]",
      "text/plain": [
       "<matplotlib.figure.Figure at 0x14bc1c91048>"
      ]
     },
     "metadata": {},
     "output_type": "display_data"
    }
   ],
   "source": [
    "lg_dataset[argz_LG_assessments+[\"All Child Treatments\"]].describe().round(2)\n",
    "lg_dataset[argz_LG_assessments+[\"All Child Treatments\"]].plot(kind=\"box\", figsize=(17,10), ylim=(-1,15) )"
   ]
  },
  {
   "cell_type": "markdown",
   "metadata": {},
   "source": [
    "# Correlations"
   ]
  },
  {
   "cell_type": "code",
   "execution_count": 41,
   "metadata": {},
   "outputs": [
    {
     "data": {
      "text/plain": [
       "<matplotlib.axes._subplots.AxesSubplot at 0x14bbd43f240>"
      ]
     },
     "execution_count": 41,
     "metadata": {},
     "output_type": "execute_result"
    },
    {
     "data": {
      "image/png": "[encoded data removed]",
      "text/plain": [
       "<matplotlib.figure.Figure at 0x14bbe39f9b0>"
      ]
     },
     "metadata": {},
     "output_type": "display_data"
    }
   ],
   "source": [
    "c1 = corrz( dataset, argz_LG_cases+argz_LG_related+argz_hygine )\n",
    "plotCorrz(c1)"
   ]
  },
  {
   "cell_type": "code",
   "execution_count": null,
   "metadata": {
    "collapsed": true
   },
   "outputs": [],
   "source": []
  }
 ],
 "metadata": {
  "kernelspec": {
   "display_name": "Python 3",
   "language": "python",
   "name": "python3"
  },
  "language_info": {
   "codemirror_mode": {
    "name": "ipython",
    "version": 3
   },
   "file_extension": ".py",
   "mimetype": "text/x-python",
   "name": "python",
   "nbconvert_exporter": "python",
   "pygments_lexer": "ipython3",
   "version": "3.6.3"
  },
  "toc": {
   "nav_menu": {},
   "number_sections": true,
   "sideBar": true,
   "skip_h1_title": false,
   "title_cell": "Table of Contents",
   "title_sidebar": "Contents",
   "toc_cell": true,
   "toc_position": {},
   "toc_section_display": true,
   "toc_window_display": false
  }
 },
 "nbformat": 4,
 "nbformat_minor": 2
}
