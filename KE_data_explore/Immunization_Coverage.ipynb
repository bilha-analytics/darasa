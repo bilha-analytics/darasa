{
 "cells": [
  {
   "cell_type": "raw",
   "metadata": {},
   "source": [
    "<script>\n",
    "  function code_toggle() {\n",
    "    if (code_shown){\n",
    "      $('div.input').hide('500');\n",
    "      $('#toggleButton').val('Show Code')\n",
    "    } else {\n",
    "      $('div.input').show('500');\n",
    "      $('#toggleButton').val('Hide Code')\n",
    "    }\n",
    "    code_shown = !code_shown\n",
    "  }\n",
    "  \n",
    "  $( document ).ready(function(){\n",
    "    code_shown=false;\n",
    "    $('div.input').hide()\n",
    "  });\n",
    "</script>\n",
    "<form action=\"javascript:code_toggle()\"><input type=\"submit\" id=\"toggleButton\" value=\"Show Code\"></form>"
   ]
  },
  {
   "cell_type": "markdown",
   "metadata": {
    "toc": true
   },
   "source": [
    "<h1>Table of Contents<span class=\"tocSkip\"></span></h1>\n",
    "<div class=\"toc\"><ul class=\"toc-item\"><li><span><a href=\"#KE-Immunization-Coverage-By-County\" data-toc-modified-id=\"KE-Immunization-Coverage-By-County-1\"><span class=\"toc-item-num\">1&nbsp;&nbsp;</span>KE Immunization Coverage By County</a></span><ul class=\"toc-item\"><li><span><a href=\"#Summary-Stats\" data-toc-modified-id=\"Summary-Stats-1.1\"><span class=\"toc-item-num\">1.1&nbsp;&nbsp;</span>Summary Stats</a></span></li><li><span><a href=\"#By-2011-Quintiles\" data-toc-modified-id=\"By-2011-Quintiles-1.2\"><span class=\"toc-item-num\">1.2&nbsp;&nbsp;</span>By 2011 Quintiles</a></span></li><li><span><a href=\"#Explore-Relationships\" data-toc-modified-id=\"Explore-Relationships-1.3\"><span class=\"toc-item-num\">1.3&nbsp;&nbsp;</span>Explore Relationships</a></span></li></ul></li></ul></div>"
   ]
  },
  {
   "cell_type": "code",
   "execution_count": 30,
   "metadata": {
    "collapsed": true
   },
   "outputs": [],
   "source": [
    "## load libz and configurations \n",
    "%run \"../../Utilz/load_envz.ipynb\""
   ]
  },
  {
   "cell_type": "code",
   "execution_count": 31,
   "metadata": {
    "collapsed": true
   },
   "outputs": [],
   "source": [
    "## load dataset \n",
    "dataset = pd.read_csv( \"%s/KNBS_et_al/county-full-immunization-coverage-rate-for-children-under-one-year-2011-to-2013.csv\" % DATA_DIR )  "
   ]
  },
  {
   "cell_type": "markdown",
   "metadata": {},
   "source": [
    "# KE Immunization Coverage By County\n",
    "\n",
    "What's in the data\n",
    "- Multiple years \n",
    "- % coverage of immunization by county \n"
   ]
  },
  {
   "cell_type": "code",
   "execution_count": 36,
   "metadata": {},
   "outputs": [
    {
     "name": "stdout",
     "output_type": "stream",
     "text": [
      "1. Shape\n"
     ]
    },
    {
     "data": {
      "text/plain": [
       "(47, 4)"
      ]
     },
     "execution_count": 36,
     "metadata": {},
     "output_type": "execute_result"
    },
    {
     "name": "stdout",
     "output_type": "stream",
     "text": [
      "\n",
      "2. Dtypes\n"
     ]
    },
    {
     "data": {
      "text/plain": [
       "County     object\n",
       "2011      float64\n",
       "2012      float64\n",
       "2013      float64\n",
       "dtype: object"
      ]
     },
     "execution_count": 36,
     "metadata": {},
     "output_type": "execute_result"
    },
    {
     "name": "stdout",
     "output_type": "stream",
     "text": [
      "\n",
      "3. Missing values\n"
     ]
    },
    {
     "data": {
      "text/plain": [
       "('\\nShape # records, # variables',\n",
       " (47, 4),\n",
       " '\\n\\n\\n Counts of Missing Values \\n',\n",
       " County    0\n",
       " 2011      0\n",
       " 2012      0\n",
       " 2013      0\n",
       " dtype: int64)"
      ]
     },
     "execution_count": 36,
     "metadata": {},
     "output_type": "execute_result"
    }
   ],
   "source": [
    "# explore data << TODO: glimpse equiv \n",
    "\n",
    "print( \"1. Shape\")\n",
    "dataset.shape\n",
    "\n",
    "print(\"\\n2. Dtypes\")\n",
    "dataset.dtypes\n",
    "\n",
    "print(\"\\n3. Missing values\")\n",
    "checkMissing(dataset)"
   ]
  },
  {
   "cell_type": "code",
   "execution_count": 54,
   "metadata": {
    "scrolled": false
   },
   "outputs": [
    {
     "name": "stdout",
     "output_type": "stream",
     "text": [
      "\n",
      "4. Outliers using 2011 as baseline\n"
     ]
    },
    {
     "data": {
      "text/plain": [
       "<matplotlib.axes._subplots.AxesSubplot at 0x1cb95e246d8>"
      ]
     },
     "execution_count": 54,
     "metadata": {},
     "output_type": "execute_result"
    },
    {
     "data": {
      "image/png": "[encoded data removed]",
      "text/plain": [
       "<matplotlib.figure.Figure at 0x1cb95dba6d8>"
      ]
     },
     "metadata": {},
     "output_type": "display_data"
    }
   ],
   "source": [
    "## distribution by 2011 baseline\n",
    "print(\"\\n4. Outliers using 2011 as baseline\")\n",
    "sns.distplot( dataset[\"2011\"])"
   ]
  },
  {
   "cell_type": "code",
   "execution_count": 71,
   "metadata": {},
   "outputs": [
    {
     "name": "stdout",
     "output_type": "stream",
     "text": [
      "\n",
      "\n",
      "5. Replacing values > 1 with group mean of non-outliers\n"
     ]
    },
    {
     "data": {
      "text/plain": [
       "2011    76.671554\n",
       "2012    79.704257\n",
       "2013    72.471436\n",
       "dtype: float64"
      ]
     },
     "execution_count": 71,
     "metadata": {},
     "output_type": "execute_result"
    },
    {
     "data": {
      "text/html": [
       "<div>\n",
       "<style>\n",
       "    .dataframe thead tr:only-child th {\n",
       "        text-align: right;\n",
       "    }\n",
       "\n",
       "    .dataframe thead th {\n",
       "        text-align: left;\n",
       "    }\n",
       "\n",
       "    .dataframe tbody tr th {\n",
       "        vertical-align: top;\n",
       "    }\n",
       "</style>\n",
       "<table border=\"1\" class=\"dataframe\">\n",
       "  <thead>\n",
       "    <tr style=\"text-align: right;\">\n",
       "      <th></th>\n",
       "      <th>County</th>\n",
       "      <th>2011</th>\n",
       "      <th>2012</th>\n",
       "      <th>2013</th>\n",
       "      <th>Quints_2011</th>\n",
       "    </tr>\n",
       "  </thead>\n",
       "  <tbody>\n",
       "    <tr>\n",
       "      <th>3</th>\n",
       "      <td>Busia</td>\n",
       "      <td>125.397188</td>\n",
       "      <td>170.444758</td>\n",
       "      <td>117.095901</td>\n",
       "      <td>Quint_5</td>\n",
       "    </tr>\n",
       "    <tr>\n",
       "      <th>6</th>\n",
       "      <td>Garissa</td>\n",
       "      <td>213.074499</td>\n",
       "      <td>124.099330</td>\n",
       "      <td>129.735053</td>\n",
       "      <td>Quint_5</td>\n",
       "    </tr>\n",
       "    <tr>\n",
       "      <th>7</th>\n",
       "      <td>Homabay</td>\n",
       "      <td>100.207160</td>\n",
       "      <td>88.578212</td>\n",
       "      <td>80.482947</td>\n",
       "      <td>Quint_5</td>\n",
       "    </tr>\n",
       "    <tr>\n",
       "      <th>17</th>\n",
       "      <td>Kitui</td>\n",
       "      <td>114.050349</td>\n",
       "      <td>70.818274</td>\n",
       "      <td>72.173310</td>\n",
       "      <td>Quint_5</td>\n",
       "    </tr>\n",
       "    <tr>\n",
       "      <th>26</th>\n",
       "      <td>Migori</td>\n",
       "      <td>102.681254</td>\n",
       "      <td>83.091222</td>\n",
       "      <td>80.869055</td>\n",
       "      <td>Quint_5</td>\n",
       "    </tr>\n",
       "  </tbody>\n",
       "</table>\n",
       "</div>"
      ],
      "text/plain": [
       "     County        2011        2012        2013 Quints_2011\n",
       "3     Busia  125.397188  170.444758  117.095901     Quint_5\n",
       "6   Garissa  213.074499  124.099330  129.735053     Quint_5\n",
       "7   Homabay  100.207160   88.578212   80.482947     Quint_5\n",
       "17    Kitui  114.050349   70.818274   72.173310     Quint_5\n",
       "26   Migori  102.681254   83.091222   80.869055     Quint_5"
      ]
     },
     "execution_count": 71,
     "metadata": {},
     "output_type": "execute_result"
    },
    {
     "data": {
      "text/html": [
       "<div>\n",
       "<style>\n",
       "    .dataframe thead tr:only-child th {\n",
       "        text-align: right;\n",
       "    }\n",
       "\n",
       "    .dataframe thead th {\n",
       "        text-align: left;\n",
       "    }\n",
       "\n",
       "    .dataframe tbody tr th {\n",
       "        vertical-align: top;\n",
       "    }\n",
       "</style>\n",
       "<table border=\"1\" class=\"dataframe\">\n",
       "  <thead>\n",
       "    <tr style=\"text-align: right;\">\n",
       "      <th></th>\n",
       "      <th>County</th>\n",
       "      <th>2011</th>\n",
       "      <th>2012</th>\n",
       "      <th>2013</th>\n",
       "      <th>Quints_2011</th>\n",
       "    </tr>\n",
       "  </thead>\n",
       "  <tbody>\n",
       "    <tr>\n",
       "      <th>3</th>\n",
       "      <td>Busia</td>\n",
       "      <td>125.397188</td>\n",
       "      <td>170.444758</td>\n",
       "      <td>117.095901</td>\n",
       "      <td>Quint_5</td>\n",
       "    </tr>\n",
       "    <tr>\n",
       "      <th>6</th>\n",
       "      <td>Garissa</td>\n",
       "      <td>213.074499</td>\n",
       "      <td>124.099330</td>\n",
       "      <td>129.735053</td>\n",
       "      <td>Quint_5</td>\n",
       "    </tr>\n",
       "    <tr>\n",
       "      <th>7</th>\n",
       "      <td>Homabay</td>\n",
       "      <td>100.207160</td>\n",
       "      <td>88.578212</td>\n",
       "      <td>80.482947</td>\n",
       "      <td>Quint_5</td>\n",
       "    </tr>\n",
       "    <tr>\n",
       "      <th>17</th>\n",
       "      <td>Kitui</td>\n",
       "      <td>114.050349</td>\n",
       "      <td>70.818274</td>\n",
       "      <td>72.173310</td>\n",
       "      <td>Quint_5</td>\n",
       "    </tr>\n",
       "    <tr>\n",
       "      <th>26</th>\n",
       "      <td>Migori</td>\n",
       "      <td>102.681254</td>\n",
       "      <td>83.091222</td>\n",
       "      <td>80.869055</td>\n",
       "      <td>Quint_5</td>\n",
       "    </tr>\n",
       "  </tbody>\n",
       "</table>\n",
       "</div>"
      ],
      "text/plain": [
       "     County        2011        2012        2013 Quints_2011\n",
       "3     Busia  125.397188  170.444758  117.095901     Quint_5\n",
       "6   Garissa  213.074499  124.099330  129.735053     Quint_5\n",
       "7   Homabay  100.207160   88.578212   80.482947     Quint_5\n",
       "17    Kitui  114.050349   70.818274   72.173310     Quint_5\n",
       "26   Migori  102.681254   83.091222   80.869055     Quint_5"
      ]
     },
     "execution_count": 71,
     "metadata": {},
     "output_type": "execute_result"
    },
    {
     "name": "stdout",
     "output_type": "stream",
     "text": [
      "\n",
      "5. Updated\n"
     ]
    },
    {
     "data": {
      "text/plain": [
       "<matplotlib.axes._subplots.AxesSubplot at 0x1cb96ff0b38>"
      ]
     },
     "execution_count": 71,
     "metadata": {},
     "output_type": "execute_result"
    },
    {
     "data": {
      "image/png": "[encoded data removed]",
      "text/plain": [
       "<matplotlib.figure.Figure at 0x1cb95f1e550>"
      ]
     },
     "metadata": {},
     "output_type": "display_data"
    }
   ],
   "source": [
    "print(\"\\n\\n5. Replacing values > 1 with group mean of non-outliers\")\n",
    "dataset[ dataset[\"2011\"] <= 100 ].mean()\n",
    "\n",
    "dataset[ dataset[\"2011\"] > 100 ].head()\n",
    "\n",
    "dataset[\"2011\"].replace( dataset[\"2011\"] > 100, dataset[ dataset[\"2011\"] <= 100 ][\"2011\"].mean(), inplace=True)\n",
    "dataset[\"2012\"].replace( dataset[\"2012\"] > 100, dataset[ dataset[\"2012\"] <= 100 ][\"2012\"].mean(), inplace=True)\n",
    "dataset[\"2013\"].replace( dataset[\"2013\"] > 100, dataset[ dataset[\"2013\"] <= 100 ][\"2013\"].mean(), inplace=True)\n",
    "\n",
    "dataset[ dataset[\"2011\"] > 100 ].head()\n",
    "\n",
    "\n",
    "## distribution by 2011 baseline\n",
    "print(\"\\n5. Updated\")\n",
    "sns.distplot( dataset[\"2011\"])"
   ]
  },
  {
   "cell_type": "markdown",
   "metadata": {
    "variables": {
     " np.round(dataset[\"2011\"].mean() )": "85.0",
     " np.round(dataset[\"2013\"].mean()) ": "77.0",
     "np.round(dataset[\"2012\"].mean() )": "84.0",
     "np.round(dataset[\"2013\"].mean() )": "77.0"
    }
   },
   "source": [
    "## Summary Stats\n",
    "    - Latest average country coverage is {{ np.round(dataset[\"2013\"].mean()) }} % in 2013\n",
    "    \n",
    "    - Average coverage has been declining over the years from {{ np.round(dataset[\"2011\"].mean() )}} % in 2011, to {{np.round(dataset[\"2012\"].mean() )}} % in 2012 and then {{np.round(dataset[\"2013\"].mean() )}} % in 2013"
   ]
  },
  {
   "cell_type": "code",
   "execution_count": 37,
   "metadata": {},
   "outputs": [
    {
     "name": "stdout",
     "output_type": "stream",
     "text": [
      "Summarize By Year\n"
     ]
    },
    {
     "data": {
      "text/html": [
       "<div>\n",
       "<style>\n",
       "    .dataframe thead tr:only-child th {\n",
       "        text-align: right;\n",
       "    }\n",
       "\n",
       "    .dataframe thead th {\n",
       "        text-align: left;\n",
       "    }\n",
       "\n",
       "    .dataframe tbody tr th {\n",
       "        vertical-align: top;\n",
       "    }\n",
       "</style>\n",
       "<table border=\"1\" class=\"dataframe\">\n",
       "  <thead>\n",
       "    <tr style=\"text-align: right;\">\n",
       "      <th></th>\n",
       "      <th>2011</th>\n",
       "      <th>2012</th>\n",
       "      <th>2013</th>\n",
       "    </tr>\n",
       "  </thead>\n",
       "  <tbody>\n",
       "    <tr>\n",
       "      <th>count</th>\n",
       "      <td>47.00</td>\n",
       "      <td>47.00</td>\n",
       "      <td>47.00</td>\n",
       "    </tr>\n",
       "    <tr>\n",
       "      <th>mean</th>\n",
       "      <td>84.82</td>\n",
       "      <td>83.61</td>\n",
       "      <td>76.90</td>\n",
       "    </tr>\n",
       "    <tr>\n",
       "      <th>std</th>\n",
       "      <td>28.56</td>\n",
       "      <td>19.76</td>\n",
       "      <td>18.58</td>\n",
       "    </tr>\n",
       "    <tr>\n",
       "      <th>min</th>\n",
       "      <td>47.19</td>\n",
       "      <td>42.02</td>\n",
       "      <td>48.44</td>\n",
       "    </tr>\n",
       "    <tr>\n",
       "      <th>25%</th>\n",
       "      <td>70.38</td>\n",
       "      <td>72.62</td>\n",
       "      <td>65.38</td>\n",
       "    </tr>\n",
       "    <tr>\n",
       "      <th>50%</th>\n",
       "      <td>83.62</td>\n",
       "      <td>82.79</td>\n",
       "      <td>76.65</td>\n",
       "    </tr>\n",
       "    <tr>\n",
       "      <th>75%</th>\n",
       "      <td>94.29</td>\n",
       "      <td>89.56</td>\n",
       "      <td>83.50</td>\n",
       "    </tr>\n",
       "    <tr>\n",
       "      <th>max</th>\n",
       "      <td>213.07</td>\n",
       "      <td>170.44</td>\n",
       "      <td>139.62</td>\n",
       "    </tr>\n",
       "  </tbody>\n",
       "</table>\n",
       "</div>"
      ],
      "text/plain": [
       "         2011    2012    2013\n",
       "count   47.00   47.00   47.00\n",
       "mean    84.82   83.61   76.90\n",
       "std     28.56   19.76   18.58\n",
       "min     47.19   42.02   48.44\n",
       "25%     70.38   72.62   65.38\n",
       "50%     83.62   82.79   76.65\n",
       "75%     94.29   89.56   83.50\n",
       "max    213.07  170.44  139.62"
      ]
     },
     "execution_count": 37,
     "metadata": {},
     "output_type": "execute_result"
    }
   ],
   "source": [
    "print(\"Summarize By Year\")\n",
    "summarizer( dataset)"
   ]
  },
  {
   "cell_type": "code",
   "execution_count": 44,
   "metadata": {},
   "outputs": [
    {
     "data": {
      "text/plain": [
       "<matplotlib.axes._subplots.AxesSubplot at 0x1cb95bd4518>"
      ]
     },
     "execution_count": 44,
     "metadata": {},
     "output_type": "execute_result"
    },
    {
     "data": {
      "image/png": "[encoded data removed]",
      "text/plain": [
       "<matplotlib.figure.Figure at 0x1cb95bc9e10>"
      ]
     },
     "metadata": {},
     "output_type": "display_data"
    }
   ],
   "source": [
    "dataset.mean().plot(kind='line', title =\"Mean % Coverage over the years\", figsize=(10, 5), legend=True, fontsize=12)"
   ]
  },
  {
   "cell_type": "markdown",
   "metadata": {},
   "source": [
    "## By 2011 Quintiles\n",
    "\n"
   ]
  },
  {
   "cell_type": "code",
   "execution_count": 72,
   "metadata": {},
   "outputs": [
    {
     "data": {
      "text/html": [
       "<div>\n",
       "<style>\n",
       "    .dataframe thead tr:only-child th {\n",
       "        text-align: right;\n",
       "    }\n",
       "\n",
       "    .dataframe thead th {\n",
       "        text-align: left;\n",
       "    }\n",
       "\n",
       "    .dataframe tbody tr th {\n",
       "        vertical-align: top;\n",
       "    }\n",
       "</style>\n",
       "<table border=\"1\" class=\"dataframe\">\n",
       "  <thead>\n",
       "    <tr>\n",
       "      <th></th>\n",
       "      <th colspan=\"2\" halign=\"left\">2011</th>\n",
       "      <th colspan=\"2\" halign=\"left\">2012</th>\n",
       "      <th colspan=\"2\" halign=\"left\">2013</th>\n",
       "    </tr>\n",
       "    <tr>\n",
       "      <th></th>\n",
       "      <th>count_nonzero</th>\n",
       "      <th>mean</th>\n",
       "      <th>count_nonzero</th>\n",
       "      <th>mean</th>\n",
       "      <th>count_nonzero</th>\n",
       "      <th>mean</th>\n",
       "    </tr>\n",
       "    <tr>\n",
       "      <th>Quints_2011</th>\n",
       "      <th></th>\n",
       "      <th></th>\n",
       "      <th></th>\n",
       "      <th></th>\n",
       "      <th></th>\n",
       "      <th></th>\n",
       "    </tr>\n",
       "  </thead>\n",
       "  <tbody>\n",
       "    <tr>\n",
       "      <th>Quint_1</th>\n",
       "      <td>10.0</td>\n",
       "      <td>55.3</td>\n",
       "      <td>10.0</td>\n",
       "      <td>66.8</td>\n",
       "      <td>10.0</td>\n",
       "      <td>60.5</td>\n",
       "    </tr>\n",
       "    <tr>\n",
       "      <th>Quint_2</th>\n",
       "      <td>9.0</td>\n",
       "      <td>72.3</td>\n",
       "      <td>9.0</td>\n",
       "      <td>78.8</td>\n",
       "      <td>9.0</td>\n",
       "      <td>74.4</td>\n",
       "    </tr>\n",
       "    <tr>\n",
       "      <th>Quint_3</th>\n",
       "      <td>9.0</td>\n",
       "      <td>83.0</td>\n",
       "      <td>9.0</td>\n",
       "      <td>83.5</td>\n",
       "      <td>9.0</td>\n",
       "      <td>74.3</td>\n",
       "    </tr>\n",
       "    <tr>\n",
       "      <th>Quint_4</th>\n",
       "      <td>9.0</td>\n",
       "      <td>91.7</td>\n",
       "      <td>9.0</td>\n",
       "      <td>90.4</td>\n",
       "      <td>9.0</td>\n",
       "      <td>80.0</td>\n",
       "    </tr>\n",
       "    <tr>\n",
       "      <th>Quint_5</th>\n",
       "      <td>10.0</td>\n",
       "      <td>121.0</td>\n",
       "      <td>10.0</td>\n",
       "      <td>98.7</td>\n",
       "      <td>10.0</td>\n",
       "      <td>95.2</td>\n",
       "    </tr>\n",
       "  </tbody>\n",
       "</table>\n",
       "</div>"
      ],
      "text/plain": [
       "                     2011                 2012                2013      \n",
       "            count_nonzero   mean count_nonzero  mean count_nonzero  mean\n",
       "Quints_2011                                                             \n",
       "Quint_1              10.0   55.3          10.0  66.8          10.0  60.5\n",
       "Quint_2               9.0   72.3           9.0  78.8           9.0  74.4\n",
       "Quint_3               9.0   83.0           9.0  83.5           9.0  74.3\n",
       "Quint_4               9.0   91.7           9.0  90.4           9.0  80.0\n",
       "Quint_5              10.0  121.0          10.0  98.7          10.0  95.2"
      ]
     },
     "execution_count": 72,
     "metadata": {},
     "output_type": "execute_result"
    }
   ],
   "source": [
    "## Quintile the counties by coverage at 2011 baseline\n",
    "quintilize(dataset, \"2011\")\n",
    "dataset.groupby(\"Quints_2011\").agg([np.count_nonzero, np.mean]).round(1)\n"
   ]
  },
  {
   "cell_type": "code",
   "execution_count": 73,
   "metadata": {},
   "outputs": [
    {
     "data": {
      "text/plain": [
       "<matplotlib.axes._subplots.AxesSubplot at 0x1cb97010320>"
      ]
     },
     "execution_count": 73,
     "metadata": {},
     "output_type": "execute_result"
    },
    {
     "data": {
      "image/png": "[encoded data removed]",
      "text/plain": [
       "<matplotlib.figure.Figure at 0x1cb96f38668>"
      ]
     },
     "metadata": {},
     "output_type": "display_data"
    }
   ],
   "source": [
    "dataset.groupby(\"Quints_2011\").mean().plot(kind='line', title =\"Mean % Coverage over the years\", figsize=(10, 5), legend=True, fontsize=12)"
   ]
  },
  {
   "cell_type": "code",
   "execution_count": 88,
   "metadata": {},
   "outputs": [
    {
     "data": {
      "text/plain": [
       "<matplotlib.axes._subplots.AxesSubplot at 0x1cb97c10ef0>"
      ]
     },
     "execution_count": 88,
     "metadata": {},
     "output_type": "execute_result"
    },
    {
     "data": {
      "image/png": "[encoded data removed]",
      "text/plain": [
       "<matplotlib.figure.Figure at 0x1cb972eb630>"
      ]
     },
     "metadata": {},
     "output_type": "display_data"
    }
   ],
   "source": [
    "sns.barplot( y=[\"2011\", \"2012\", \"2013\"], hue=\"Quints_2011\", data=dataset)\n",
    "\n",
    "#from ggplot import * \n",
    "#ggplot(df, aes(x='x', weight='w', fill='cat')) + geom_bar() + theme_bw()"
   ]
  },
  {
   "cell_type": "code",
   "execution_count": 98,
   "metadata": {},
   "outputs": [
    {
     "data": {
      "text/html": [
       "<div>\n",
       "<style>\n",
       "    .dataframe thead tr:only-child th {\n",
       "        text-align: right;\n",
       "    }\n",
       "\n",
       "    .dataframe thead th {\n",
       "        text-align: left;\n",
       "    }\n",
       "\n",
       "    .dataframe tbody tr th {\n",
       "        vertical-align: top;\n",
       "    }\n",
       "</style>\n",
       "<table border=\"1\" class=\"dataframe\">\n",
       "  <thead>\n",
       "    <tr style=\"text-align: right;\">\n",
       "      <th></th>\n",
       "      <th>County</th>\n",
       "      <th>2011</th>\n",
       "      <th>2012</th>\n",
       "      <th>2013</th>\n",
       "      <th>Quints_2011</th>\n",
       "    </tr>\n",
       "  </thead>\n",
       "  <tbody>\n",
       "    <tr>\n",
       "      <th>0</th>\n",
       "      <td>Baringo</td>\n",
       "      <td>62.119093</td>\n",
       "      <td>69.877673</td>\n",
       "      <td>64.835414</td>\n",
       "      <td>Quint_1</td>\n",
       "    </tr>\n",
       "  </tbody>\n",
       "</table>\n",
       "</div>"
      ],
      "text/plain": [
       "    County       2011       2012       2013 Quints_2011\n",
       "0  Baringo  62.119093  69.877673  64.835414     Quint_1"
      ]
     },
     "execution_count": 98,
     "metadata": {},
     "output_type": "execute_result"
    },
    {
     "data": {
      "text/html": [
       "<div>\n",
       "<style>\n",
       "    .dataframe thead tr:only-child th {\n",
       "        text-align: right;\n",
       "    }\n",
       "\n",
       "    .dataframe thead th {\n",
       "        text-align: left;\n",
       "    }\n",
       "\n",
       "    .dataframe tbody tr th {\n",
       "        vertical-align: top;\n",
       "    }\n",
       "</style>\n",
       "<table border=\"1\" class=\"dataframe\">\n",
       "  <thead>\n",
       "    <tr style=\"text-align: right;\">\n",
       "      <th></th>\n",
       "      <th>County</th>\n",
       "      <th>Year</th>\n",
       "      <th>Pct_Coverage</th>\n",
       "      <th>Quints_2011</th>\n",
       "    </tr>\n",
       "  </thead>\n",
       "  <tbody>\n",
       "    <tr>\n",
       "      <th>0</th>\n",
       "      <td>Baringo</td>\n",
       "      <td>2011</td>\n",
       "      <td>62.119093</td>\n",
       "      <td>Quint_1</td>\n",
       "    </tr>\n",
       "    <tr>\n",
       "      <th>1</th>\n",
       "      <td>Baringo</td>\n",
       "      <td>2012</td>\n",
       "      <td>69.877673</td>\n",
       "      <td>Quint_1</td>\n",
       "    </tr>\n",
       "    <tr>\n",
       "      <th>2</th>\n",
       "      <td>Baringo</td>\n",
       "      <td>2013</td>\n",
       "      <td>64.835414</td>\n",
       "      <td>Quint_1</td>\n",
       "    </tr>\n",
       "    <tr>\n",
       "      <th>3</th>\n",
       "      <td>Bomet</td>\n",
       "      <td>2011</td>\n",
       "      <td>57.227700</td>\n",
       "      <td>Quint_1</td>\n",
       "    </tr>\n",
       "    <tr>\n",
       "      <th>4</th>\n",
       "      <td>Bomet</td>\n",
       "      <td>2012</td>\n",
       "      <td>42.022997</td>\n",
       "      <td>Quint_1</td>\n",
       "    </tr>\n",
       "  </tbody>\n",
       "</table>\n",
       "</div>"
      ],
      "text/plain": [
       "    County  Year  Pct_Coverage Quints_2011\n",
       "0  Baringo  2011     62.119093     Quint_1\n",
       "1  Baringo  2012     69.877673     Quint_1\n",
       "2  Baringo  2013     64.835414     Quint_1\n",
       "3    Bomet  2011     57.227700     Quint_1\n",
       "4    Bomet  2012     42.022997     Quint_1"
      ]
     },
     "execution_count": 98,
     "metadata": {},
     "output_type": "execute_result"
    }
   ],
   "source": [
    "## Flatten the data structure\n",
    "dataset.query( \"County == 'Baringo'\").head()\n",
    "dataset_2 = pd.merge( pd.melt( dataset, id_vars=\"County\", value_vars=[\"2011\", \"2012\", \"2013\"], var_name=\"Year\", value_name=\"Pct_Coverage\"), \n",
    "                     dataset[[\"County\", \"Quints_2011\"]], on=\"County\") \n",
    "\n",
    "dataset_2.head()"
   ]
  },
  {
   "cell_type": "code",
   "execution_count": 103,
   "metadata": {
    "scrolled": false
   },
   "outputs": [
    {
     "data": {
      "text/plain": [
       "<matplotlib.axes._subplots.AxesSubplot at 0x1cb979e4b00>"
      ]
     },
     "execution_count": 103,
     "metadata": {},
     "output_type": "execute_result"
    },
    {
     "data": {
      "image/png": "[encoded data removed]",
      "text/plain": [
       "<matplotlib.figure.Figure at 0x1cb973ded68>"
      ]
     },
     "metadata": {},
     "output_type": "display_data"
    }
   ],
   "source": [
    "sns.barplot( x=\"Year\", y=\"Pct_Coverage\", hue=\"Quints_2011\", data=dataset_2)"
   ]
  },
  {
   "cell_type": "code",
   "execution_count": 111,
   "metadata": {},
   "outputs": [
    {
     "data": {
      "text/plain": [
       "<matplotlib.axes._subplots.AxesSubplot at 0x1cb97ebb550>"
      ]
     },
     "execution_count": 111,
     "metadata": {},
     "output_type": "execute_result"
    },
    {
     "data": {
      "image/png": "[encoded data removed]",
      "text/plain": [
       "<matplotlib.figure.Figure at 0x1cb97e7dba8>"
      ]
     },
     "metadata": {},
     "output_type": "display_data"
    }
   ],
   "source": [
    "dataset_2.groupby([\"Year\",\"Quints_2011\"]).mean().plot(kind=\"line\")"
   ]
  },
  {
   "cell_type": "code",
   "execution_count": 108,
   "metadata": {
    "collapsed": true
   },
   "outputs": [],
   "source": [
    "#dataset_2.groupby([\"Year\"]).mean().plot(kind='line', title =\"Mean % Coverage over the years\", figsize=(10, 5), legend=True, fontsize=12)"
   ]
  },
  {
   "cell_type": "markdown",
   "metadata": {},
   "source": [
    "## Explore Relationships"
   ]
  },
  {
   "cell_type": "code",
   "execution_count": null,
   "metadata": {
    "collapsed": true
   },
   "outputs": [],
   "source": []
  }
 ],
 "metadata": {
  "kernelspec": {
   "display_name": "Python 3",
   "language": "python",
   "name": "python3"
  },
  "language_info": {
   "codemirror_mode": {
    "name": "ipython",
    "version": 3
   },
   "file_extension": ".py",
   "mimetype": "text/x-python",
   "name": "python",
   "nbconvert_exporter": "python",
   "pygments_lexer": "ipython3",
   "version": "3.6.3"
  },
  "toc": {
   "nav_menu": {},
   "number_sections": true,
   "sideBar": true,
   "skip_h1_title": false,
   "title_cell": "Table of Contents",
   "title_sidebar": "Contents",
   "toc_cell": true,
   "toc_position": {},
   "toc_section_display": true,
   "toc_window_display": false
  }
 },
 "nbformat": 4,
 "nbformat_minor": 2
}
