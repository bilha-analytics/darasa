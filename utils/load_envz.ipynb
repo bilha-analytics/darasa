{
 "cells": [
  {
   "cell_type": "code",
   "execution_count": 3,
   "metadata": {},
   "outputs": [],
   "source": [
    "# %load \"load_libraries_and_datasets.py\"\n",
    "## 1. Load libraries and set env \n",
    "\n",
    "## data structures and manipulation \n",
    "import pandas as pd\n",
    "import numpy as np \n",
    "\n",
    "## visualization \n",
    "import seaborn as sns\n",
    "import matplotlib.pyplot as plt \n",
    "\n",
    "## particular datatypes manipulation \n",
    "from dateutil.parser import parse\n",
    "\n",
    "## statistical analysis - Ho-testing and glm Regression \n",
    "import statsmodels.api as sm\n",
    "import statsmodels.formula.api as smf\n",
    "## patsy is a Python library for describing statistical models and building Design Matrices using R-like formulas.\n",
    "import patsy \n",
    "\n",
    "import scipy.stats as sci \n",
    "import math \n",
    "\n",
    "\n",
    "## Shared Env\n",
    "%matplotlib inline \n",
    "plt.style.use('seaborn-white')\n",
    "sns.set(color_codes=True)\n",
    "\n",
    "\n",
    "## allow multiple outputs per cell\n",
    "from IPython.core.interactiveshell import InteractiveShell\n",
    "InteractiveShell.ast_node_interactivity = \"all\"\n",
    "\n",
    "\n",
    "from IPython.core.interactiveshell import InteractiveShell\n",
    "InteractiveShell.ast_node_interactivity = \"all\"\n",
    "\n",
    "## Getting R in the mix =D  << TODO: put R libs in a seperate Rscript file and load it from here<<< Excited!!!!!\n",
    "# %load_ext rpy2.ipython \n",
    "# %R require(ggplot2); require(tidyr); require(dplyr) "
   ]
  },
  {
   "cell_type": "code",
   "execution_count": 1,
   "metadata": {},
   "outputs": [],
   "source": [
    "# help(patsy)"
   ]
  }
 ],
 "metadata": {
  "kernelspec": {
   "display_name": "Python 3",
   "language": "python",
   "name": "python3"
  },
  "language_info": {
   "codemirror_mode": {
    "name": "ipython",
    "version": 3
   },
   "file_extension": ".py",
   "mimetype": "text/x-python",
   "name": "python",
   "nbconvert_exporter": "python",
   "pygments_lexer": "ipython3",
   "version": "3.6.3"
  }
 },
 "nbformat": 4,
 "nbformat_minor": 2
}
